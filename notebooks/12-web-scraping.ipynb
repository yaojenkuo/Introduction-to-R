{
 "cells": [
  {
   "cell_type": "markdown",
   "metadata": {
    "slideshow": {
     "slide_type": "slide"
    }
   },
   "source": [
    "# 成為初級資料分析師 | R 程式設計與資料科學應用\n",
    "\n",
    "> 網頁爬蟲\n",
    "\n",
    "## 郭耀仁"
   ]
  },
  {
   "cell_type": "markdown",
   "metadata": {
    "slideshow": {
     "slide_type": "subslide"
    }
   },
   "source": [
    "> The world’s most valuable resource is no longer oil, but data.\n",
    ">\n",
    "> The Economist"
   ]
  },
  {
   "cell_type": "markdown",
   "metadata": {
    "slideshow": {
     "slide_type": "subslide"
    }
   },
   "source": [
    "## 大綱\n",
    "\n",
    "- 網站爬蟲的核心任務\n",
    "- JSON 格式資料\n",
    "- HTML 格式資料"
   ]
  },
  {
   "cell_type": "markdown",
   "metadata": {
    "slideshow": {
     "slide_type": "slide"
    }
   },
   "source": [
    "## 網站爬蟲的核心任務"
   ]
  },
  {
   "cell_type": "markdown",
   "metadata": {
    "slideshow": {
     "slide_type": "subslide"
    }
   },
   "source": [
    "## 核心任務可以簡單區分為兩個\n",
    "\n",
    "- 請求資料（requesting data）\n",
    "- 解析資料（parsing data）"
   ]
  },
  {
   "cell_type": "markdown",
   "metadata": {
    "slideshow": {
     "slide_type": "subslide"
    }
   },
   "source": [
    "## 請求資料的運作就像在瀏覽器中輸入網址一般，不過送出請求的管道由瀏覽器改變成為 R 語言程式碼"
   ]
  },
  {
   "cell_type": "markdown",
   "metadata": {
    "slideshow": {
     "slide_type": "subslide"
    }
   },
   "source": [
    "## 解析資料的運作則是將請求所得之不同格式資料轉換為 R 資料結構，常見的有\n",
    "\n",
    "- JSON 格式\n",
    "- HTML 格式"
   ]
  },
  {
   "cell_type": "markdown",
   "metadata": {
    "slideshow": {
     "slide_type": "slide"
    }
   },
   "source": [
    "## JSON 格式資料"
   ]
  },
  {
   "cell_type": "markdown",
   "metadata": {
    "slideshow": {
     "slide_type": "subslide"
    }
   },
   "source": [
    "## 使用 `jsonlite` 套件中的 `fromJSON()` 函數\n",
    "\n",
    "`fromJSON()` 函數一次就處理了兩個核心任務：\n",
    "\n",
    "- 對網站發出請求\n",
    "- 將請求的回應解析為\n",
    "    - `data.frame`（Array of JSONs）\n",
    "    - `list`（JSON）"
   ]
  },
  {
   "cell_type": "markdown",
   "metadata": {
    "slideshow": {
     "slide_type": "subslide"
    }
   },
   "source": [
    "## 安裝 `jsonlite` 套件\n",
    "\n",
    "- 透過 RStudio 的 `Packages` 功能頁籤\n",
    "- 透過 `install.packages()` 函數\n",
    "\n",
    "```r\n",
    "install.packages(\"jsonlite\")\n",
    "```"
   ]
  },
  {
   "cell_type": "markdown",
   "metadata": {
    "slideshow": {
     "slide_type": "subslide"
    }
   },
   "source": [
    "## 載入 `jsonlite` 套件\n",
    "\n",
    "- 透過 RStudio 的 `Packages` 功能頁籤\n",
    "- 透過 `library()` 函數\n",
    "\n",
    "```r\n",
    "library(\"jsonlite\")\n",
    "```"
   ]
  },
  {
   "cell_type": "markdown",
   "metadata": {
    "slideshow": {
     "slide_type": "subslide"
    }
   },
   "source": [
    "## 安裝 Chrome 瀏覽器外掛：JSONView\n",
    "\n",
    "- <https://chrome.google.com/webstore/detail/jsonview/chklaanhfefbnpoihckbnefhakgolnmc>\n",
    "- 更漂亮地在瀏覽器上預覽 JSON 格式資料"
   ]
  },
  {
   "cell_type": "markdown",
   "metadata": {
    "slideshow": {
     "slide_type": "subslide"
    }
   },
   "source": [
    "## 安裝好 JSONView 後用瀏覽器預覽 <https://opendata.epa.gov.tw/ws/Data/AQI/?$format=json>"
   ]
  },
  {
   "cell_type": "markdown",
   "metadata": {
    "slideshow": {
     "slide_type": "subslide"
    }
   },
   "source": [
    "## 擷取 <https://opendata.epa.gov.tw/ws/Data/AQI/?$format=json> 資料"
   ]
  },
  {
   "cell_type": "code",
   "execution_count": 1,
   "metadata": {},
   "outputs": [
    {
     "data": {
      "text/html": [
       "'data.frame'"
      ],
      "text/latex": [
       "'data.frame'"
      ],
      "text/markdown": [
       "'data.frame'"
      ],
      "text/plain": [
       "[1] \"data.frame\""
      ]
     },
     "metadata": {},
     "output_type": "display_data"
    }
   ],
   "source": [
    "library(\"jsonlite\")\n",
    "\n",
    "aqi_url <- \"https://opendata.epa.gov.tw/ws/Data/AQI/?$format=json\"\n",
    "aqi <- fromJSON(aqi_url)\n",
    "class(aqi)"
   ]
  },
  {
   "cell_type": "markdown",
   "metadata": {
    "slideshow": {
     "slide_type": "subslide"
    }
   },
   "source": [
    "## 隨堂練習：全台灣有幾個空氣品質測站？"
   ]
  },
  {
   "cell_type": "code",
   "execution_count": 2,
   "metadata": {
    "slideshow": {
     "slide_type": "skip"
    }
   },
   "outputs": [],
   "source": [
    "library(\"jsonlite\")\n",
    "\n",
    "aqi_url <- \"https://opendata.epa.gov.tw/ws/Data/AQI/?$format=json\"\n",
    "aqi <- fromJSON(aqi_url)\n",
    "ans <- nrow(aqi)"
   ]
  },
  {
   "cell_type": "code",
   "execution_count": 3,
   "metadata": {
    "slideshow": {
     "slide_type": "fragment"
    }
   },
   "outputs": [
    {
     "data": {
      "text/html": [
       "84"
      ],
      "text/latex": [
       "84"
      ],
      "text/markdown": [
       "84"
      ],
      "text/plain": [
       "[1] 84"
      ]
     },
     "metadata": {},
     "output_type": "display_data"
    }
   ],
   "source": [
    "ans"
   ]
  },
  {
   "cell_type": "markdown",
   "metadata": {
    "slideshow": {
     "slide_type": "subslide"
    }
   },
   "source": [
    "## 隨堂練習：列出位於臺北市與新北市的空氣品質測站"
   ]
  },
  {
   "cell_type": "code",
   "execution_count": 4,
   "metadata": {
    "slideshow": {
     "slide_type": "skip"
    }
   },
   "outputs": [
    {
     "name": "stderr",
     "output_type": "stream",
     "text": [
      "\n",
      "Attaching package: ‘dplyr’\n",
      "\n",
      "The following objects are masked from ‘package:stats’:\n",
      "\n",
      "    filter, lag\n",
      "\n",
      "The following objects are masked from ‘package:base’:\n",
      "\n",
      "    intersect, setdiff, setequal, union\n",
      "\n"
     ]
    }
   ],
   "source": [
    "library(\"dplyr\")\n",
    "\n",
    "ans <- aqi %>% \n",
    "    filter(County %in% c(\"臺北市\", \"新北市\")) %>% \n",
    "    select(County, SiteName)"
   ]
  },
  {
   "cell_type": "code",
   "execution_count": 5,
   "metadata": {
    "slideshow": {
     "slide_type": "fragment"
    }
   },
   "outputs": [
    {
     "data": {
      "text/html": [
       "<table>\n",
       "<thead><tr><th scope=col>County</th><th scope=col>SiteName</th></tr></thead>\n",
       "<tbody>\n",
       "\t<tr><td>新北市    </td><td>新北(樹林)</td></tr>\n",
       "\t<tr><td>新北市    </td><td>富貴角    </td></tr>\n",
       "\t<tr><td>新北市    </td><td>永和      </td></tr>\n",
       "\t<tr><td>新北市    </td><td>三重      </td></tr>\n",
       "\t<tr><td>臺北市    </td><td>陽明      </td></tr>\n",
       "\t<tr><td>臺北市    </td><td>大同      </td></tr>\n",
       "\t<tr><td>臺北市    </td><td>松山      </td></tr>\n",
       "\t<tr><td>臺北市    </td><td>古亭      </td></tr>\n",
       "\t<tr><td>臺北市    </td><td>萬華      </td></tr>\n",
       "\t<tr><td>臺北市    </td><td>中山      </td></tr>\n",
       "\t<tr><td>臺北市    </td><td>士林      </td></tr>\n",
       "\t<tr><td>新北市    </td><td>淡水      </td></tr>\n",
       "\t<tr><td>新北市    </td><td>林口      </td></tr>\n",
       "\t<tr><td>新北市    </td><td>菜寮      </td></tr>\n",
       "\t<tr><td>新北市    </td><td>新莊      </td></tr>\n",
       "\t<tr><td>新北市    </td><td>板橋      </td></tr>\n",
       "\t<tr><td>新北市    </td><td>土城      </td></tr>\n",
       "\t<tr><td>新北市    </td><td>新店      </td></tr>\n",
       "\t<tr><td>新北市    </td><td>萬里      </td></tr>\n",
       "\t<tr><td>新北市    </td><td>汐止      </td></tr>\n",
       "</tbody>\n",
       "</table>\n"
      ],
      "text/latex": [
       "\\begin{tabular}{r|ll}\n",
       " County & SiteName\\\\\n",
       "\\hline\n",
       "\t 新北市     & 新北(樹林)\\\\\n",
       "\t 新北市     & 富貴角    \\\\\n",
       "\t 新北市     & 永和      \\\\\n",
       "\t 新北市     & 三重      \\\\\n",
       "\t 臺北市     & 陽明      \\\\\n",
       "\t 臺北市     & 大同      \\\\\n",
       "\t 臺北市     & 松山      \\\\\n",
       "\t 臺北市     & 古亭      \\\\\n",
       "\t 臺北市     & 萬華      \\\\\n",
       "\t 臺北市     & 中山      \\\\\n",
       "\t 臺北市     & 士林      \\\\\n",
       "\t 新北市     & 淡水      \\\\\n",
       "\t 新北市     & 林口      \\\\\n",
       "\t 新北市     & 菜寮      \\\\\n",
       "\t 新北市     & 新莊      \\\\\n",
       "\t 新北市     & 板橋      \\\\\n",
       "\t 新北市     & 土城      \\\\\n",
       "\t 新北市     & 新店      \\\\\n",
       "\t 新北市     & 萬里      \\\\\n",
       "\t 新北市     & 汐止      \\\\\n",
       "\\end{tabular}\n"
      ],
      "text/markdown": [
       "\n",
       "| County | SiteName |\n",
       "|---|---|\n",
       "| 新北市     | 新北(樹林) |\n",
       "| 新北市     | 富貴角     |\n",
       "| 新北市     | 永和       |\n",
       "| 新北市     | 三重       |\n",
       "| 臺北市     | 陽明       |\n",
       "| 臺北市     | 大同       |\n",
       "| 臺北市     | 松山       |\n",
       "| 臺北市     | 古亭       |\n",
       "| 臺北市     | 萬華       |\n",
       "| 臺北市     | 中山       |\n",
       "| 臺北市     | 士林       |\n",
       "| 新北市     | 淡水       |\n",
       "| 新北市     | 林口       |\n",
       "| 新北市     | 菜寮       |\n",
       "| 新北市     | 新莊       |\n",
       "| 新北市     | 板橋       |\n",
       "| 新北市     | 土城       |\n",
       "| 新北市     | 新店       |\n",
       "| 新北市     | 萬里       |\n",
       "| 新北市     | 汐止       |\n",
       "\n"
      ],
      "text/plain": [
       "   County SiteName  \n",
       "1  新北市 新北(樹林)\n",
       "2  新北市 富貴角    \n",
       "3  新北市 永和      \n",
       "4  新北市 三重      \n",
       "5  臺北市 陽明      \n",
       "6  臺北市 大同      \n",
       "7  臺北市 松山      \n",
       "8  臺北市 古亭      \n",
       "9  臺北市 萬華      \n",
       "10 臺北市 中山      \n",
       "11 臺北市 士林      \n",
       "12 新北市 淡水      \n",
       "13 新北市 林口      \n",
       "14 新北市 菜寮      \n",
       "15 新北市 新莊      \n",
       "16 新北市 板橋      \n",
       "17 新北市 土城      \n",
       "18 新北市 新店      \n",
       "19 新北市 萬里      \n",
       "20 新北市 汐止      "
      ]
     },
     "metadata": {},
     "output_type": "display_data"
    }
   ],
   "source": [
    "ans"
   ]
  },
  {
   "cell_type": "markdown",
   "metadata": {
    "slideshow": {
     "slide_type": "skip"
    }
   },
   "source": [
    "## XML 格式資料"
   ]
  },
  {
   "cell_type": "markdown",
   "metadata": {
    "slideshow": {
     "slide_type": "skip"
    }
   },
   "source": [
    "## 使用 `xml2` 套件\n",
    "\n",
    "- `read_xml()` 函數請求資料\n",
    "- `xml_find_all()` 與 `xml_text()` 函數解析資料"
   ]
  },
  {
   "cell_type": "markdown",
   "metadata": {
    "slideshow": {
     "slide_type": "skip"
    }
   },
   "source": [
    "## 安裝 `xml2` 套件\n",
    "\n",
    "- 透過 RStudio 的 `Packages` 功能頁籤\n",
    "- 透過 `install.packages()` 函數\n",
    "\n",
    "```r\n",
    "install.packages(\"xml2\")\n",
    "```"
   ]
  },
  {
   "cell_type": "markdown",
   "metadata": {
    "slideshow": {
     "slide_type": "skip"
    }
   },
   "source": [
    "## 載入 `xml2` 套件\n",
    "\n",
    "- 透過 RStudio 的 `Packages` 功能頁籤\n",
    "- 透過 `library()` 函數\n",
    "\n",
    "```r\n",
    "library(\"xml2\")\n",
    "```"
   ]
  },
  {
   "cell_type": "markdown",
   "metadata": {
    "slideshow": {
     "slide_type": "skip"
    }
   },
   "source": [
    "## 請求 <https://opendata.epa.gov.tw/ws/Data/AQI/?$format=xml> 資料"
   ]
  },
  {
   "cell_type": "code",
   "execution_count": 6,
   "metadata": {
    "slideshow": {
     "slide_type": "skip"
    }
   },
   "outputs": [
    {
     "data": {
      "text/html": [
       "<ol class=list-inline>\n",
       "\t<li>'xml_document'</li>\n",
       "\t<li>'xml_node'</li>\n",
       "</ol>\n"
      ],
      "text/latex": [
       "\\begin{enumerate*}\n",
       "\\item 'xml\\_document'\n",
       "\\item 'xml\\_node'\n",
       "\\end{enumerate*}\n"
      ],
      "text/markdown": [
       "1. 'xml_document'\n",
       "2. 'xml_node'\n",
       "\n",
       "\n"
      ],
      "text/plain": [
       "[1] \"xml_document\" \"xml_node\"    "
      ]
     },
     "metadata": {},
     "output_type": "display_data"
    }
   ],
   "source": [
    "# requesting data\n",
    "library(\"xml2\")\n",
    "\n",
    "aqi_url <- \"https://opendata.epa.gov.tw/ws/Data/AQI/?$format=xml\"\n",
    "aqi <- read_xml(aqi_url)\n",
    "class(aqi)"
   ]
  },
  {
   "cell_type": "markdown",
   "metadata": {
    "slideshow": {
     "slide_type": "skip"
    }
   },
   "source": [
    "## 解析 <https://opendata.epa.gov.tw/ws/Data/AQI/?$format=xml> 資料"
   ]
  },
  {
   "cell_type": "code",
   "execution_count": 7,
   "metadata": {
    "slideshow": {
     "slide_type": "skip"
    }
   },
   "outputs": [
    {
     "data": {
      "text/html": [
       "<ol class=list-inline>\n",
       "\t<li>'高雄(左營)'</li>\n",
       "\t<li>'桃園(觀音工業區)'</li>\n",
       "\t<li>'高雄(楠梓)'</li>\n",
       "\t<li>'屏東(琉球)'</li>\n",
       "\t<li>'新北(樹林)'</li>\n",
       "\t<li>'彰化(大城)'</li>\n",
       "\t<li>'臺南(麻豆)'</li>\n",
       "\t<li>'富貴角'</li>\n",
       "\t<li>'麥寮'</li>\n",
       "\t<li>'關山'</li>\n",
       "\t<li>'馬公'</li>\n",
       "\t<li>'金門'</li>\n",
       "\t<li>'馬祖'</li>\n",
       "\t<li>'埔里'</li>\n",
       "\t<li>'復興'</li>\n",
       "\t<li>'永和'</li>\n",
       "\t<li>'竹山'</li>\n",
       "\t<li>'中壢'</li>\n",
       "\t<li>'三重'</li>\n",
       "\t<li>'冬山'</li>\n",
       "\t<li>'宜蘭'</li>\n",
       "\t<li>'陽明'</li>\n",
       "\t<li>'花蓮'</li>\n",
       "\t<li>'臺東'</li>\n",
       "\t<li>'恆春'</li>\n",
       "\t<li>'潮州'</li>\n",
       "\t<li>'屏東'</li>\n",
       "\t<li>'小港'</li>\n",
       "\t<li>'前鎮'</li>\n",
       "\t<li>'前金'</li>\n",
       "\t<li>'左營'</li>\n",
       "\t<li>'楠梓'</li>\n",
       "\t<li>'林園'</li>\n",
       "\t<li>'大寮'</li>\n",
       "\t<li>'鳳山'</li>\n",
       "\t<li>'仁武'</li>\n",
       "\t<li>'橋頭'</li>\n",
       "\t<li>'美濃'</li>\n",
       "\t<li>'臺南'</li>\n",
       "\t<li>'安南'</li>\n",
       "\t<li>'善化'</li>\n",
       "\t<li>'新營'</li>\n",
       "\t<li>'嘉義'</li>\n",
       "\t<li>'臺西'</li>\n",
       "\t<li>'朴子'</li>\n",
       "\t<li>'新港'</li>\n",
       "\t<li>'崙背'</li>\n",
       "\t<li>'斗六'</li>\n",
       "\t<li>'南投'</li>\n",
       "\t<li>'二林'</li>\n",
       "\t<li>'線西'</li>\n",
       "\t<li>'彰化'</li>\n",
       "\t<li>'西屯'</li>\n",
       "\t<li>'忠明'</li>\n",
       "\t<li>'大里'</li>\n",
       "\t<li>'沙鹿'</li>\n",
       "\t<li>'豐原'</li>\n",
       "\t<li>'三義'</li>\n",
       "\t<li>'苗栗'</li>\n",
       "\t<li>'頭份'</li>\n",
       "\t<li>'新竹'</li>\n",
       "\t<li>'竹東'</li>\n",
       "\t<li>'湖口'</li>\n",
       "\t<li>'龍潭'</li>\n",
       "\t<li>'平鎮'</li>\n",
       "\t<li>'觀音'</li>\n",
       "\t<li>'大園'</li>\n",
       "\t<li>'桃園'</li>\n",
       "\t<li>'大同'</li>\n",
       "\t<li>'松山'</li>\n",
       "\t<li>'古亭'</li>\n",
       "\t<li>'萬華'</li>\n",
       "\t<li>'中山'</li>\n",
       "\t<li>'士林'</li>\n",
       "\t<li>'淡水'</li>\n",
       "\t<li>'林口'</li>\n",
       "\t<li>'菜寮'</li>\n",
       "\t<li>'新莊'</li>\n",
       "\t<li>'板橋'</li>\n",
       "\t<li>'土城'</li>\n",
       "\t<li>'新店'</li>\n",
       "\t<li>'萬里'</li>\n",
       "\t<li>'汐止'</li>\n",
       "\t<li>'基隆'</li>\n",
       "</ol>\n"
      ],
      "text/latex": [
       "\\begin{enumerate*}\n",
       "\\item '高雄(左營)'\n",
       "\\item '桃園(觀音工業區)'\n",
       "\\item '高雄(楠梓)'\n",
       "\\item '屏東(琉球)'\n",
       "\\item '新北(樹林)'\n",
       "\\item '彰化(大城)'\n",
       "\\item '臺南(麻豆)'\n",
       "\\item '富貴角'\n",
       "\\item '麥寮'\n",
       "\\item '關山'\n",
       "\\item '馬公'\n",
       "\\item '金門'\n",
       "\\item '馬祖'\n",
       "\\item '埔里'\n",
       "\\item '復興'\n",
       "\\item '永和'\n",
       "\\item '竹山'\n",
       "\\item '中壢'\n",
       "\\item '三重'\n",
       "\\item '冬山'\n",
       "\\item '宜蘭'\n",
       "\\item '陽明'\n",
       "\\item '花蓮'\n",
       "\\item '臺東'\n",
       "\\item '恆春'\n",
       "\\item '潮州'\n",
       "\\item '屏東'\n",
       "\\item '小港'\n",
       "\\item '前鎮'\n",
       "\\item '前金'\n",
       "\\item '左營'\n",
       "\\item '楠梓'\n",
       "\\item '林園'\n",
       "\\item '大寮'\n",
       "\\item '鳳山'\n",
       "\\item '仁武'\n",
       "\\item '橋頭'\n",
       "\\item '美濃'\n",
       "\\item '臺南'\n",
       "\\item '安南'\n",
       "\\item '善化'\n",
       "\\item '新營'\n",
       "\\item '嘉義'\n",
       "\\item '臺西'\n",
       "\\item '朴子'\n",
       "\\item '新港'\n",
       "\\item '崙背'\n",
       "\\item '斗六'\n",
       "\\item '南投'\n",
       "\\item '二林'\n",
       "\\item '線西'\n",
       "\\item '彰化'\n",
       "\\item '西屯'\n",
       "\\item '忠明'\n",
       "\\item '大里'\n",
       "\\item '沙鹿'\n",
       "\\item '豐原'\n",
       "\\item '三義'\n",
       "\\item '苗栗'\n",
       "\\item '頭份'\n",
       "\\item '新竹'\n",
       "\\item '竹東'\n",
       "\\item '湖口'\n",
       "\\item '龍潭'\n",
       "\\item '平鎮'\n",
       "\\item '觀音'\n",
       "\\item '大園'\n",
       "\\item '桃園'\n",
       "\\item '大同'\n",
       "\\item '松山'\n",
       "\\item '古亭'\n",
       "\\item '萬華'\n",
       "\\item '中山'\n",
       "\\item '士林'\n",
       "\\item '淡水'\n",
       "\\item '林口'\n",
       "\\item '菜寮'\n",
       "\\item '新莊'\n",
       "\\item '板橋'\n",
       "\\item '土城'\n",
       "\\item '新店'\n",
       "\\item '萬里'\n",
       "\\item '汐止'\n",
       "\\item '基隆'\n",
       "\\end{enumerate*}\n"
      ],
      "text/markdown": [
       "1. '高雄(左營)'\n",
       "2. '桃園(觀音工業區)'\n",
       "3. '高雄(楠梓)'\n",
       "4. '屏東(琉球)'\n",
       "5. '新北(樹林)'\n",
       "6. '彰化(大城)'\n",
       "7. '臺南(麻豆)'\n",
       "8. '富貴角'\n",
       "9. '麥寮'\n",
       "10. '關山'\n",
       "11. '馬公'\n",
       "12. '金門'\n",
       "13. '馬祖'\n",
       "14. '埔里'\n",
       "15. '復興'\n",
       "16. '永和'\n",
       "17. '竹山'\n",
       "18. '中壢'\n",
       "19. '三重'\n",
       "20. '冬山'\n",
       "21. '宜蘭'\n",
       "22. '陽明'\n",
       "23. '花蓮'\n",
       "24. '臺東'\n",
       "25. '恆春'\n",
       "26. '潮州'\n",
       "27. '屏東'\n",
       "28. '小港'\n",
       "29. '前鎮'\n",
       "30. '前金'\n",
       "31. '左營'\n",
       "32. '楠梓'\n",
       "33. '林園'\n",
       "34. '大寮'\n",
       "35. '鳳山'\n",
       "36. '仁武'\n",
       "37. '橋頭'\n",
       "38. '美濃'\n",
       "39. '臺南'\n",
       "40. '安南'\n",
       "41. '善化'\n",
       "42. '新營'\n",
       "43. '嘉義'\n",
       "44. '臺西'\n",
       "45. '朴子'\n",
       "46. '新港'\n",
       "47. '崙背'\n",
       "48. '斗六'\n",
       "49. '南投'\n",
       "50. '二林'\n",
       "51. '線西'\n",
       "52. '彰化'\n",
       "53. '西屯'\n",
       "54. '忠明'\n",
       "55. '大里'\n",
       "56. '沙鹿'\n",
       "57. '豐原'\n",
       "58. '三義'\n",
       "59. '苗栗'\n",
       "60. '頭份'\n",
       "61. '新竹'\n",
       "62. '竹東'\n",
       "63. '湖口'\n",
       "64. '龍潭'\n",
       "65. '平鎮'\n",
       "66. '觀音'\n",
       "67. '大園'\n",
       "68. '桃園'\n",
       "69. '大同'\n",
       "70. '松山'\n",
       "71. '古亭'\n",
       "72. '萬華'\n",
       "73. '中山'\n",
       "74. '士林'\n",
       "75. '淡水'\n",
       "76. '林口'\n",
       "77. '菜寮'\n",
       "78. '新莊'\n",
       "79. '板橋'\n",
       "80. '土城'\n",
       "81. '新店'\n",
       "82. '萬里'\n",
       "83. '汐止'\n",
       "84. '基隆'\n",
       "\n",
       "\n"
      ],
      "text/plain": [
       " [1] \"高雄(左營)\"       \"桃園(觀音工業區)\" \"高雄(楠梓)\"       \"屏東(琉球)\"      \n",
       " [5] \"新北(樹林)\"       \"彰化(大城)\"       \"臺南(麻豆)\"       \"富貴角\"          \n",
       " [9] \"麥寮\"             \"關山\"             \"馬公\"             \"金門\"            \n",
       "[13] \"馬祖\"             \"埔里\"             \"復興\"             \"永和\"            \n",
       "[17] \"竹山\"             \"中壢\"             \"三重\"             \"冬山\"            \n",
       "[21] \"宜蘭\"             \"陽明\"             \"花蓮\"             \"臺東\"            \n",
       "[25] \"恆春\"             \"潮州\"             \"屏東\"             \"小港\"            \n",
       "[29] \"前鎮\"             \"前金\"             \"左營\"             \"楠梓\"            \n",
       "[33] \"林園\"             \"大寮\"             \"鳳山\"             \"仁武\"            \n",
       "[37] \"橋頭\"             \"美濃\"             \"臺南\"             \"安南\"            \n",
       "[41] \"善化\"             \"新營\"             \"嘉義\"             \"臺西\"            \n",
       "[45] \"朴子\"             \"新港\"             \"崙背\"             \"斗六\"            \n",
       "[49] \"南投\"             \"二林\"             \"線西\"             \"彰化\"            \n",
       "[53] \"西屯\"             \"忠明\"             \"大里\"             \"沙鹿\"            \n",
       "[57] \"豐原\"             \"三義\"             \"苗栗\"             \"頭份\"            \n",
       "[61] \"新竹\"             \"竹東\"             \"湖口\"             \"龍潭\"            \n",
       "[65] \"平鎮\"             \"觀音\"             \"大園\"             \"桃園\"            \n",
       "[69] \"大同\"             \"松山\"             \"古亭\"             \"萬華\"            \n",
       "[73] \"中山\"             \"士林\"             \"淡水\"             \"林口\"            \n",
       "[77] \"菜寮\"             \"新莊\"             \"板橋\"             \"土城\"            \n",
       "[81] \"新店\"             \"萬里\"             \"汐止\"             \"基隆\"            "
      ]
     },
     "metadata": {},
     "output_type": "display_data"
    }
   ],
   "source": [
    "# parsing data\n",
    "library(\"dplyr\")\n",
    "\n",
    "site_names <- aqi %>%\n",
    "  xml_find_all(xpath = \"//SiteName\") %>%\n",
    "  xml_text()\n",
    "site_names"
   ]
  },
  {
   "cell_type": "code",
   "execution_count": 8,
   "metadata": {
    "slideshow": {
     "slide_type": "skip"
    }
   },
   "outputs": [
    {
     "data": {
      "text/html": [
       "<ol class=list-inline>\n",
       "\t<li>'高雄市'</li>\n",
       "\t<li>'桃園市'</li>\n",
       "\t<li>'高雄市'</li>\n",
       "\t<li>'屏東縣'</li>\n",
       "\t<li>'新北市'</li>\n",
       "\t<li>'彰化縣'</li>\n",
       "\t<li>'臺南市'</li>\n",
       "\t<li>'新北市'</li>\n",
       "\t<li>'雲林縣'</li>\n",
       "\t<li>'臺東縣'</li>\n",
       "\t<li>'澎湖縣'</li>\n",
       "\t<li>'金門縣'</li>\n",
       "\t<li>'連江縣'</li>\n",
       "\t<li>'南投縣'</li>\n",
       "\t<li>'高雄市'</li>\n",
       "\t<li>'新北市'</li>\n",
       "\t<li>'南投縣'</li>\n",
       "\t<li>'桃園市'</li>\n",
       "\t<li>'新北市'</li>\n",
       "\t<li>'宜蘭縣'</li>\n",
       "\t<li>'宜蘭縣'</li>\n",
       "\t<li>'臺北市'</li>\n",
       "\t<li>'花蓮縣'</li>\n",
       "\t<li>'臺東縣'</li>\n",
       "\t<li>'屏東縣'</li>\n",
       "\t<li>'屏東縣'</li>\n",
       "\t<li>'屏東縣'</li>\n",
       "\t<li>'高雄市'</li>\n",
       "\t<li>'高雄市'</li>\n",
       "\t<li>'高雄市'</li>\n",
       "\t<li>'高雄市'</li>\n",
       "\t<li>'高雄市'</li>\n",
       "\t<li>'高雄市'</li>\n",
       "\t<li>'高雄市'</li>\n",
       "\t<li>'高雄市'</li>\n",
       "\t<li>'高雄市'</li>\n",
       "\t<li>'高雄市'</li>\n",
       "\t<li>'高雄市'</li>\n",
       "\t<li>'臺南市'</li>\n",
       "\t<li>'臺南市'</li>\n",
       "\t<li>'臺南市'</li>\n",
       "\t<li>'臺南市'</li>\n",
       "\t<li>'嘉義市'</li>\n",
       "\t<li>'雲林縣'</li>\n",
       "\t<li>'嘉義縣'</li>\n",
       "\t<li>'嘉義縣'</li>\n",
       "\t<li>'雲林縣'</li>\n",
       "\t<li>'雲林縣'</li>\n",
       "\t<li>'南投縣'</li>\n",
       "\t<li>'彰化縣'</li>\n",
       "\t<li>'彰化縣'</li>\n",
       "\t<li>'彰化縣'</li>\n",
       "\t<li>'臺中市'</li>\n",
       "\t<li>'臺中市'</li>\n",
       "\t<li>'臺中市'</li>\n",
       "\t<li>'臺中市'</li>\n",
       "\t<li>'臺中市'</li>\n",
       "\t<li>'苗栗縣'</li>\n",
       "\t<li>'苗栗縣'</li>\n",
       "\t<li>'苗栗縣'</li>\n",
       "\t<li>'新竹市'</li>\n",
       "\t<li>'新竹縣'</li>\n",
       "\t<li>'新竹縣'</li>\n",
       "\t<li>'桃園市'</li>\n",
       "\t<li>'桃園市'</li>\n",
       "\t<li>'桃園市'</li>\n",
       "\t<li>'桃園市'</li>\n",
       "\t<li>'桃園市'</li>\n",
       "\t<li>'臺北市'</li>\n",
       "\t<li>'臺北市'</li>\n",
       "\t<li>'臺北市'</li>\n",
       "\t<li>'臺北市'</li>\n",
       "\t<li>'臺北市'</li>\n",
       "\t<li>'臺北市'</li>\n",
       "\t<li>'新北市'</li>\n",
       "\t<li>'新北市'</li>\n",
       "\t<li>'新北市'</li>\n",
       "\t<li>'新北市'</li>\n",
       "\t<li>'新北市'</li>\n",
       "\t<li>'新北市'</li>\n",
       "\t<li>'新北市'</li>\n",
       "\t<li>'新北市'</li>\n",
       "\t<li>'新北市'</li>\n",
       "\t<li>'基隆市'</li>\n",
       "</ol>\n"
      ],
      "text/latex": [
       "\\begin{enumerate*}\n",
       "\\item '高雄市'\n",
       "\\item '桃園市'\n",
       "\\item '高雄市'\n",
       "\\item '屏東縣'\n",
       "\\item '新北市'\n",
       "\\item '彰化縣'\n",
       "\\item '臺南市'\n",
       "\\item '新北市'\n",
       "\\item '雲林縣'\n",
       "\\item '臺東縣'\n",
       "\\item '澎湖縣'\n",
       "\\item '金門縣'\n",
       "\\item '連江縣'\n",
       "\\item '南投縣'\n",
       "\\item '高雄市'\n",
       "\\item '新北市'\n",
       "\\item '南投縣'\n",
       "\\item '桃園市'\n",
       "\\item '新北市'\n",
       "\\item '宜蘭縣'\n",
       "\\item '宜蘭縣'\n",
       "\\item '臺北市'\n",
       "\\item '花蓮縣'\n",
       "\\item '臺東縣'\n",
       "\\item '屏東縣'\n",
       "\\item '屏東縣'\n",
       "\\item '屏東縣'\n",
       "\\item '高雄市'\n",
       "\\item '高雄市'\n",
       "\\item '高雄市'\n",
       "\\item '高雄市'\n",
       "\\item '高雄市'\n",
       "\\item '高雄市'\n",
       "\\item '高雄市'\n",
       "\\item '高雄市'\n",
       "\\item '高雄市'\n",
       "\\item '高雄市'\n",
       "\\item '高雄市'\n",
       "\\item '臺南市'\n",
       "\\item '臺南市'\n",
       "\\item '臺南市'\n",
       "\\item '臺南市'\n",
       "\\item '嘉義市'\n",
       "\\item '雲林縣'\n",
       "\\item '嘉義縣'\n",
       "\\item '嘉義縣'\n",
       "\\item '雲林縣'\n",
       "\\item '雲林縣'\n",
       "\\item '南投縣'\n",
       "\\item '彰化縣'\n",
       "\\item '彰化縣'\n",
       "\\item '彰化縣'\n",
       "\\item '臺中市'\n",
       "\\item '臺中市'\n",
       "\\item '臺中市'\n",
       "\\item '臺中市'\n",
       "\\item '臺中市'\n",
       "\\item '苗栗縣'\n",
       "\\item '苗栗縣'\n",
       "\\item '苗栗縣'\n",
       "\\item '新竹市'\n",
       "\\item '新竹縣'\n",
       "\\item '新竹縣'\n",
       "\\item '桃園市'\n",
       "\\item '桃園市'\n",
       "\\item '桃園市'\n",
       "\\item '桃園市'\n",
       "\\item '桃園市'\n",
       "\\item '臺北市'\n",
       "\\item '臺北市'\n",
       "\\item '臺北市'\n",
       "\\item '臺北市'\n",
       "\\item '臺北市'\n",
       "\\item '臺北市'\n",
       "\\item '新北市'\n",
       "\\item '新北市'\n",
       "\\item '新北市'\n",
       "\\item '新北市'\n",
       "\\item '新北市'\n",
       "\\item '新北市'\n",
       "\\item '新北市'\n",
       "\\item '新北市'\n",
       "\\item '新北市'\n",
       "\\item '基隆市'\n",
       "\\end{enumerate*}\n"
      ],
      "text/markdown": [
       "1. '高雄市'\n",
       "2. '桃園市'\n",
       "3. '高雄市'\n",
       "4. '屏東縣'\n",
       "5. '新北市'\n",
       "6. '彰化縣'\n",
       "7. '臺南市'\n",
       "8. '新北市'\n",
       "9. '雲林縣'\n",
       "10. '臺東縣'\n",
       "11. '澎湖縣'\n",
       "12. '金門縣'\n",
       "13. '連江縣'\n",
       "14. '南投縣'\n",
       "15. '高雄市'\n",
       "16. '新北市'\n",
       "17. '南投縣'\n",
       "18. '桃園市'\n",
       "19. '新北市'\n",
       "20. '宜蘭縣'\n",
       "21. '宜蘭縣'\n",
       "22. '臺北市'\n",
       "23. '花蓮縣'\n",
       "24. '臺東縣'\n",
       "25. '屏東縣'\n",
       "26. '屏東縣'\n",
       "27. '屏東縣'\n",
       "28. '高雄市'\n",
       "29. '高雄市'\n",
       "30. '高雄市'\n",
       "31. '高雄市'\n",
       "32. '高雄市'\n",
       "33. '高雄市'\n",
       "34. '高雄市'\n",
       "35. '高雄市'\n",
       "36. '高雄市'\n",
       "37. '高雄市'\n",
       "38. '高雄市'\n",
       "39. '臺南市'\n",
       "40. '臺南市'\n",
       "41. '臺南市'\n",
       "42. '臺南市'\n",
       "43. '嘉義市'\n",
       "44. '雲林縣'\n",
       "45. '嘉義縣'\n",
       "46. '嘉義縣'\n",
       "47. '雲林縣'\n",
       "48. '雲林縣'\n",
       "49. '南投縣'\n",
       "50. '彰化縣'\n",
       "51. '彰化縣'\n",
       "52. '彰化縣'\n",
       "53. '臺中市'\n",
       "54. '臺中市'\n",
       "55. '臺中市'\n",
       "56. '臺中市'\n",
       "57. '臺中市'\n",
       "58. '苗栗縣'\n",
       "59. '苗栗縣'\n",
       "60. '苗栗縣'\n",
       "61. '新竹市'\n",
       "62. '新竹縣'\n",
       "63. '新竹縣'\n",
       "64. '桃園市'\n",
       "65. '桃園市'\n",
       "66. '桃園市'\n",
       "67. '桃園市'\n",
       "68. '桃園市'\n",
       "69. '臺北市'\n",
       "70. '臺北市'\n",
       "71. '臺北市'\n",
       "72. '臺北市'\n",
       "73. '臺北市'\n",
       "74. '臺北市'\n",
       "75. '新北市'\n",
       "76. '新北市'\n",
       "77. '新北市'\n",
       "78. '新北市'\n",
       "79. '新北市'\n",
       "80. '新北市'\n",
       "81. '新北市'\n",
       "82. '新北市'\n",
       "83. '新北市'\n",
       "84. '基隆市'\n",
       "\n",
       "\n"
      ],
      "text/plain": [
       " [1] \"高雄市\" \"桃園市\" \"高雄市\" \"屏東縣\" \"新北市\" \"彰化縣\" \"臺南市\" \"新北市\"\n",
       " [9] \"雲林縣\" \"臺東縣\" \"澎湖縣\" \"金門縣\" \"連江縣\" \"南投縣\" \"高雄市\" \"新北市\"\n",
       "[17] \"南投縣\" \"桃園市\" \"新北市\" \"宜蘭縣\" \"宜蘭縣\" \"臺北市\" \"花蓮縣\" \"臺東縣\"\n",
       "[25] \"屏東縣\" \"屏東縣\" \"屏東縣\" \"高雄市\" \"高雄市\" \"高雄市\" \"高雄市\" \"高雄市\"\n",
       "[33] \"高雄市\" \"高雄市\" \"高雄市\" \"高雄市\" \"高雄市\" \"高雄市\" \"臺南市\" \"臺南市\"\n",
       "[41] \"臺南市\" \"臺南市\" \"嘉義市\" \"雲林縣\" \"嘉義縣\" \"嘉義縣\" \"雲林縣\" \"雲林縣\"\n",
       "[49] \"南投縣\" \"彰化縣\" \"彰化縣\" \"彰化縣\" \"臺中市\" \"臺中市\" \"臺中市\" \"臺中市\"\n",
       "[57] \"臺中市\" \"苗栗縣\" \"苗栗縣\" \"苗栗縣\" \"新竹市\" \"新竹縣\" \"新竹縣\" \"桃園市\"\n",
       "[65] \"桃園市\" \"桃園市\" \"桃園市\" \"桃園市\" \"臺北市\" \"臺北市\" \"臺北市\" \"臺北市\"\n",
       "[73] \"臺北市\" \"臺北市\" \"新北市\" \"新北市\" \"新北市\" \"新北市\" \"新北市\" \"新北市\"\n",
       "[81] \"新北市\" \"新北市\" \"新北市\" \"基隆市\""
      ]
     },
     "metadata": {},
     "output_type": "display_data"
    }
   ],
   "source": [
    "# parsing data\n",
    "counties <- aqi %>%\n",
    "  xml_find_all(xpath = \"//County\") %>% \n",
    "  xml_text()\n",
    "counties"
   ]
  },
  {
   "cell_type": "markdown",
   "metadata": {
    "slideshow": {
     "slide_type": "slide"
    }
   },
   "source": [
    "## HTML 格式資料"
   ]
  },
  {
   "cell_type": "markdown",
   "metadata": {
    "slideshow": {
     "slide_type": "subslide"
    }
   },
   "source": [
    "## 使用 `rvest` 套件中的\n",
    "\n",
    "- `read_html()` 函數對網站發出請求\n",
    "- `html_nodes(CSS = )` 定位 HTML 中指定的標記\n",
    "- `html_text()` 解析標記中的文字\n",
    "- `html_attr(ATTR)` 解析標記中的屬性"
   ]
  },
  {
   "cell_type": "markdown",
   "metadata": {
    "slideshow": {
     "slide_type": "subslide"
    }
   },
   "source": [
    "## 安裝 `rvest` 套件\n",
    "\n",
    "- 透過 RStudio 的 `Packages` 功能頁籤\n",
    "- 透過 `install.packages()` 函數\n",
    "\n",
    "```r\n",
    "install.packages(\"rvest\")\n",
    "```"
   ]
  },
  {
   "cell_type": "markdown",
   "metadata": {
    "slideshow": {
     "slide_type": "subslide"
    }
   },
   "source": [
    "## 載入 `rvest` 套件\n",
    "\n",
    "- 透過 RStudio 的 `Packages` 功能頁籤\n",
    "- 透過 `library()` 函數\n",
    "\n",
    "```r\n",
    "library(\"rvest\")\n",
    "```"
   ]
  },
  {
   "cell_type": "markdown",
   "metadata": {
    "slideshow": {
     "slide_type": "subslide"
    }
   },
   "source": [
    "## 以 `read_html()` 請求 <https://www.imdb.com/title/tt4154796> 資料"
   ]
  },
  {
   "cell_type": "code",
   "execution_count": 9,
   "metadata": {
    "slideshow": {
     "slide_type": "-"
    }
   },
   "outputs": [
    {
     "data": {
      "text/html": [
       "<ol class=list-inline>\n",
       "\t<li>'xml_document'</li>\n",
       "\t<li>'xml_node'</li>\n",
       "</ol>\n"
      ],
      "text/latex": [
       "\\begin{enumerate*}\n",
       "\\item 'xml\\_document'\n",
       "\\item 'xml\\_node'\n",
       "\\end{enumerate*}\n"
      ],
      "text/markdown": [
       "1. 'xml_document'\n",
       "2. 'xml_node'\n",
       "\n",
       "\n"
      ],
      "text/plain": [
       "[1] \"xml_document\" \"xml_node\"    "
      ]
     },
     "metadata": {},
     "output_type": "display_data"
    }
   ],
   "source": [
    "library(\"rvest\")\n",
    "\n",
    "html_doc <- read_html(\"https://www.imdb.com/title/tt4154796\")\n",
    "class(html_doc)"
   ]
  },
  {
   "cell_type": "markdown",
   "metadata": {
    "slideshow": {
     "slide_type": "subslide"
    }
   },
   "source": [
    "## 安裝 Chrome 瀏覽器外掛：Selector Gadget\n",
    "\n",
    "- <https://chrome.google.com/webstore/detail/selectorgadget/mhjhnkcfbdhnjickkkdbjoemdmbfginb>\n",
    "- 查詢 HTML 標記的 CSS Selector"
   ]
  },
  {
   "cell_type": "markdown",
   "metadata": {
    "slideshow": {
     "slide_type": "subslide"
    }
   },
   "source": [
    "## 以 `html_nodes()` 解析 `html_doc`"
   ]
  },
  {
   "cell_type": "code",
   "execution_count": 10,
   "metadata": {},
   "outputs": [
    {
     "data": {
      "text/plain": [
       "{xml_nodeset (1)}\n",
       "[1] <span itemprop=\"ratingValue\">8.5</span>"
      ]
     },
     "metadata": {},
     "output_type": "display_data"
    }
   ],
   "source": [
    "# rating\n",
    "html_doc %>%\n",
    "  html_nodes(css = \"strong span\")"
   ]
  },
  {
   "cell_type": "markdown",
   "metadata": {
    "slideshow": {
     "slide_type": "subslide"
    }
   },
   "source": [
    "## 以 `html_text()` 解析標記中的文字"
   ]
  },
  {
   "cell_type": "code",
   "execution_count": 11,
   "metadata": {},
   "outputs": [
    {
     "data": {
      "text/html": [
       "8.5"
      ],
      "text/latex": [
       "8.5"
      ],
      "text/markdown": [
       "8.5"
      ],
      "text/plain": [
       "[1] 8.5"
      ]
     },
     "metadata": {},
     "output_type": "display_data"
    }
   ],
   "source": [
    "# rating\n",
    "html_doc %>%\n",
    "  html_nodes(css = \"strong span\") %>% \n",
    "  html_text() %>% \n",
    "  as.numeric()"
   ]
  },
  {
   "cell_type": "markdown",
   "metadata": {
    "slideshow": {
     "slide_type": "subslide"
    }
   },
   "source": [
    "## 以 `html_attr(ATTR)` 解析標記中的屬性"
   ]
  },
  {
   "cell_type": "code",
   "execution_count": 12,
   "metadata": {},
   "outputs": [
    {
     "data": {
      "text/html": [
       "'https://m.media-amazon.com/images/M/MV5BMTc5MDE2ODcwNV5BMl5BanBnXkFtZTgwMzI2NzQ2NzM@._V1_UX182_CR0,0,182,268_AL_.jpg'"
      ],
      "text/latex": [
       "'https://m.media-amazon.com/images/M/MV5BMTc5MDE2ODcwNV5BMl5BanBnXkFtZTgwMzI2NzQ2NzM@.\\_V1\\_UX182\\_CR0,0,182,268\\_AL\\_.jpg'"
      ],
      "text/markdown": [
       "'https://m.media-amazon.com/images/M/MV5BMTc5MDE2ODcwNV5BMl5BanBnXkFtZTgwMzI2NzQ2NzM@._V1_UX182_CR0,0,182,268_AL_.jpg'"
      ],
      "text/plain": [
       "[1] \"https://m.media-amazon.com/images/M/MV5BMTc5MDE2ODcwNV5BMl5BanBnXkFtZTgwMzI2NzQ2NzM@._V1_UX182_CR0,0,182,268_AL_.jpg\""
      ]
     },
     "metadata": {},
     "output_type": "display_data"
    }
   ],
   "source": [
    "# poster image link\n",
    "html_doc %>%\n",
    "  html_nodes(css = \".poster img\") %>% \n",
    "  html_attr(\"src\")"
   ]
  },
  {
   "cell_type": "markdown",
   "metadata": {
    "slideshow": {
     "slide_type": "subslide"
    }
   },
   "source": [
    "## 隨堂練習：寫作一個函數 `get_movie_info()`"
   ]
  },
  {
   "cell_type": "code",
   "execution_count": 13,
   "metadata": {
    "slideshow": {
     "slide_type": "skip"
    }
   },
   "outputs": [],
   "source": [
    "# install.packages(c(\"rvest\", \"magrittr\"))\n",
    "library(rvest)\n",
    "library(magrittr) # 使用 %>% 運算子\n",
    "\n",
    "get_movie_info <- function(movie_url) {\n",
    "  # 指定電影資訊的 CSS 選擇器\n",
    "  rating_css <- \"strong span\"\n",
    "  genre_css <- \".subtext a\"\n",
    "  poster_css <- \".poster img\"\n",
    "  cast_css <- \".primary_photo+ td a\"\n",
    "  title_css <- \"h1\"\n",
    "  \n",
    "  movie_doc <- movie_url %>% \n",
    "    read_html()\n",
    "  # 擷取資訊\n",
    "  movie_rating <- movie_doc %>% \n",
    "    html_nodes(css = rating_css) %>%\n",
    "    html_text() %>%\n",
    "    as.numeric()\n",
    "  movie_genre <- movie_doc %>% \n",
    "    html_nodes(css = genre_css) %>% \n",
    "    html_text() %>% \n",
    "    trimws() %>% \n",
    "    gsub(pattern = \"\\n\", replacement = \"\")\n",
    "  movie_genre_len <- length(movie_genre)\n",
    "  movie_genre <- movie_genre[-movie_genre_len]\n",
    "  movie_poster <- movie_doc %>% \n",
    "    html_nodes(css = poster_css) %>% \n",
    "    html_attr(\"src\")\n",
    "  movie_cast <- movie_doc %>% \n",
    "    html_nodes(css = cast_css) %>% \n",
    "    html_text() %>% \n",
    "    trimws() %>% \n",
    "    gsub(pattern = \"\\n\", replacement = \"\")\n",
    "  movie_title <- movie_doc %>% \n",
    "    html_nodes(css = title_css) %>% \n",
    "    html_text() %>% \n",
    "    trimws()\n",
    "  \n",
    "  # 回傳資訊\n",
    "  movie_info <- list(\n",
    "    title = movie_title,\n",
    "    rating = movie_rating,\n",
    "    genre = movie_genre,\n",
    "    posterLink = movie_poster,\n",
    "    cast = movie_cast\n",
    "  )\n",
    "  return(movie_info)\n",
    "}"
   ]
  },
  {
   "cell_type": "code",
   "execution_count": 14,
   "metadata": {
    "slideshow": {
     "slide_type": "fragment"
    }
   },
   "outputs": [
    {
     "name": "stdout",
     "output_type": "stream",
     "text": [
      "[1] \"小丑 (2019)\"\n",
      "[1] 8.6\n",
      "[1] \"Crime\"    \"Drama\"    \"Thriller\"\n",
      "[1] \"https://m.media-amazon.com/images/M/MV5BNGVjNWI4ZGUtNzE0MS00YTJmLWE0ZDctN2ZiYTk2YmI3NTYyXkEyXkFqcGdeQXVyMTkxNjUyNQ@@._V1_UX182_CR0,0,182,268_AL_.jpg\"\n",
      " [1] \"Joaquin Phoenix\" \"Robert De Niro\"  \"Zazie Beetz\"     \"Frances Conroy\" \n",
      " [5] \"Brett Cullen\"    \"Shea Whigham\"    \"Bill Camp\"       \"Glenn Fleshler\" \n",
      " [9] \"Leigh Gill\"      \"Josh Pais\"       \"Rocco Luna\"      \"Marc Maron\"     \n",
      "[13] \"Sondra James\"    \"Murphy Guyer\"    \"Douglas Hodge\"  \n"
     ]
    }
   ],
   "source": [
    "movie_url <- \"https://www.imdb.com/title/tt7286456\"\n",
    "joker_movie_info <- get_movie_info(movie_url)\n",
    "print(joker_movie_info$title)\n",
    "print(joker_movie_info$rating)\n",
    "print(joker_movie_info$genre)\n",
    "print(joker_movie_info$posterLink)\n",
    "print(joker_movie_info$cast)"
   ]
  }
 ],
 "metadata": {
  "celltoolbar": "Slideshow",
  "kernelspec": {
   "display_name": "R",
   "language": "R",
   "name": "ir"
  },
  "language_info": {
   "codemirror_mode": "r",
   "file_extension": ".r",
   "mimetype": "text/x-r-source",
   "name": "R",
   "pygments_lexer": "r",
   "version": "3.5.2"
  }
 },
 "nbformat": 4,
 "nbformat_minor": 2
}
