{
 "cells": [
  {
   "cell_type": "markdown",
   "metadata": {
    "slideshow": {
     "slide_type": "slide"
    }
   },
   "source": [
    "# 成為初級資料分析師 | R 程式設計與資料科學應用\n",
    "\n",
    "> 流程控制：條件判斷\n",
    "\n",
    "## 郭耀仁"
   ]
  },
  {
   "cell_type": "markdown",
   "metadata": {
    "slideshow": {
     "slide_type": "subslide"
    }
   },
   "source": [
    "> Write a program that prints the numbers from 1 to 100. But for multiples of three print “Fizz” instead of the number and for the multiples of five print “Buzz”. For numbers which are multiples of both three and five print “FizzBuzz”.\n",
    ">\n",
    "> Fizz-Buzz Test"
   ]
  },
  {
   "cell_type": "markdown",
   "metadata": {
    "slideshow": {
     "slide_type": "subslide"
    }
   },
   "source": [
    "## 大綱\n",
    "\n",
    "- 邏輯值的應用場景\n",
    "- `if` 條件判斷\n",
    "- `if else` 條件判斷\n",
    "- `if-else if-else` 條件判斷"
   ]
  },
  {
   "cell_type": "markdown",
   "metadata": {
    "slideshow": {
     "slide_type": "slide"
    }
   },
   "source": [
    "## 邏輯值的應用場景"
   ]
  },
  {
   "cell_type": "markdown",
   "metadata": {
    "slideshow": {
     "slide_type": "subslide"
    }
   },
   "source": [
    "## 邏輯值會出現在\n",
    "\n",
    "- **條件判斷**\n",
    "- `while` 迴圈\n",
    "- 資料篩選"
   ]
  },
  {
   "cell_type": "markdown",
   "metadata": {
    "slideshow": {
     "slide_type": "slide"
    }
   },
   "source": [
    "## `if` 條件判斷"
   ]
  },
  {
   "cell_type": "markdown",
   "metadata": {
    "slideshow": {
     "slide_type": "subslide"
    }
   },
   "source": [
    "## `if` 做單一程式分支的區塊\n",
    "\n",
    "- `if` 保留字\n",
    "- `EXPR` 一段能產生 `logical` 的敘述"
   ]
  },
  {
   "cell_type": "markdown",
   "metadata": {
    "slideshow": {
     "slide_type": "-"
    }
   },
   "source": [
    "```r\n",
    "# single branch\n",
    "if (EXPR) {\n",
    "  # do something when EXPR is evaluated as TRUE\n",
    "}\n",
    "```"
   ]
  },
  {
   "cell_type": "markdown",
   "metadata": {
    "slideshow": {
     "slide_type": "subslide"
    }
   },
   "source": [
    "## 電影評等超過 8.0 就去電影院看"
   ]
  },
  {
   "cell_type": "code",
   "execution_count": 1,
   "metadata": {
    "slideshow": {
     "slide_type": "subslide"
    }
   },
   "outputs": [
    {
     "data": {
      "text/html": [
       "'Avengers: Endgame 的評等是 8.7，推薦去電影院看'"
      ],
      "text/latex": [
       "'Avengers: Endgame 的評等是 8.7，推薦去電影院看'"
      ],
      "text/markdown": [
       "'Avengers: Endgame 的評等是 8.7，推薦去電影院看'"
      ],
      "text/plain": [
       "[1] \"Avengers: Endgame 的評等是 8.7，推薦去電影院看\""
      ]
     },
     "metadata": {},
     "output_type": "display_data"
    }
   ],
   "source": [
    "movie_title <- \"Avengers: Endgame\"\n",
    "movie_rating <- 8.7\n",
    "\n",
    "if (movie_rating > 8) {\n",
    "    sprintf(\"%s 的評等是 %s，推薦去電影院看\", movie_title, movie_rating)\n",
    "}"
   ]
  },
  {
   "cell_type": "markdown",
   "metadata": {
    "slideshow": {
     "slide_type": "subslide"
    }
   },
   "source": [
    "## 隨堂練習：月薪超過 4 萬或存款超過 50 萬就發信用卡"
   ]
  },
  {
   "cell_type": "code",
   "execution_count": 2,
   "metadata": {},
   "outputs": [],
   "source": [
    "monthly_income <- 42000\n",
    "saving_account <- 300000"
   ]
  },
  {
   "cell_type": "code",
   "execution_count": 3,
   "metadata": {
    "slideshow": {
     "slide_type": "skip"
    }
   },
   "outputs": [],
   "source": [
    "if (monthly_income > 40000 | saving_account > 500000) {\n",
    "    ans <- \"發信用卡\"\n",
    "}"
   ]
  },
  {
   "cell_type": "code",
   "execution_count": 4,
   "metadata": {
    "slideshow": {
     "slide_type": "fragment"
    }
   },
   "outputs": [
    {
     "data": {
      "text/html": [
       "'發信用卡'"
      ],
      "text/latex": [
       "'發信用卡'"
      ],
      "text/markdown": [
       "'發信用卡'"
      ],
      "text/plain": [
       "[1] \"發信用卡\""
      ]
     },
     "metadata": {},
     "output_type": "display_data"
    }
   ],
   "source": [
    "ans"
   ]
  },
  {
   "cell_type": "code",
   "execution_count": 5,
   "metadata": {
    "slideshow": {
     "slide_type": "fragment"
    }
   },
   "outputs": [],
   "source": [
    "monthly_income <- 38000\n",
    "saving_account <- 510000"
   ]
  },
  {
   "cell_type": "code",
   "execution_count": 6,
   "metadata": {
    "slideshow": {
     "slide_type": "skip"
    }
   },
   "outputs": [],
   "source": [
    "if (monthly_income > 40000 | saving_account > 500000) {\n",
    "    ans <- \"發信用卡\"\n",
    "}"
   ]
  },
  {
   "cell_type": "code",
   "execution_count": 7,
   "metadata": {
    "slideshow": {
     "slide_type": "fragment"
    }
   },
   "outputs": [
    {
     "data": {
      "text/html": [
       "'發信用卡'"
      ],
      "text/latex": [
       "'發信用卡'"
      ],
      "text/markdown": [
       "'發信用卡'"
      ],
      "text/plain": [
       "[1] \"發信用卡\""
      ]
     },
     "metadata": {},
     "output_type": "display_data"
    }
   ],
   "source": [
    "ans"
   ]
  },
  {
   "cell_type": "markdown",
   "metadata": {
    "slideshow": {
     "slide_type": "subslide"
    }
   },
   "source": [
    "## `if else` 做兩個程式分支的區塊\n",
    "\n",
    "- `if`, `else` 保留字\n",
    "- `EXPR` 一段能產生 `logical` 的敘述"
   ]
  },
  {
   "cell_type": "markdown",
   "metadata": {
    "slideshow": {
     "slide_type": "-"
    }
   },
   "source": [
    "```r\n",
    "# 2 branches\n",
    "if (EXPR) {\n",
    "  # do something when EXPR is evaluated as TRUE\n",
    "} else {\n",
    "  # do something when EXPR is evaluated as FALSE\n",
    "}\n",
    "```"
   ]
  },
  {
   "cell_type": "markdown",
   "metadata": {
    "slideshow": {
     "slide_type": "subslide"
    }
   },
   "source": [
    "## 電影評等超過 8.0 就去電影院看，否則租 DVD 看"
   ]
  },
  {
   "cell_type": "code",
   "execution_count": 8,
   "metadata": {},
   "outputs": [
    {
     "data": {
      "text/html": [
       "'Avengers: Age of Ultron 的評等是 7.3，租 DVD 在家看'"
      ],
      "text/latex": [
       "'Avengers: Age of Ultron 的評等是 7.3，租 DVD 在家看'"
      ],
      "text/markdown": [
       "'Avengers: Age of Ultron 的評等是 7.3，租 DVD 在家看'"
      ],
      "text/plain": [
       "[1] \"Avengers: Age of Ultron 的評等是 7.3，租 DVD 在家看\""
      ]
     },
     "metadata": {},
     "output_type": "display_data"
    }
   ],
   "source": [
    "movie_title <- \"Avengers: Age of Ultron\"\n",
    "movie_rating <- 7.3\n",
    "\n",
    "if (movie_rating > 8) {\n",
    "    sprintf(\"%s 的評等是 %s，推薦去電影院看\", movie_title, movie_rating)\n",
    "} else {\n",
    "    sprintf(\"%s 的評等是 %s，租 DVD 在家看\", movie_title, movie_rating)\n",
    "}"
   ]
  },
  {
   "cell_type": "markdown",
   "metadata": {
    "slideshow": {
     "slide_type": "subslide"
    }
   },
   "source": [
    "## 隨堂練習：判斷奇偶數"
   ]
  },
  {
   "cell_type": "code",
   "execution_count": 9,
   "metadata": {
    "slideshow": {
     "slide_type": "-"
    }
   },
   "outputs": [],
   "source": [
    "int <- 3\n",
    "# ans"
   ]
  },
  {
   "cell_type": "code",
   "execution_count": 10,
   "metadata": {
    "slideshow": {
     "slide_type": "skip"
    }
   },
   "outputs": [],
   "source": [
    "if (int %% 2 == 0) {\n",
    "    ans <- sprintf(\"%s 是偶數\", int)\n",
    "} else {\n",
    "    ans <- sprintf(\"%s 是奇數\", int)\n",
    "}"
   ]
  },
  {
   "cell_type": "code",
   "execution_count": 11,
   "metadata": {
    "slideshow": {
     "slide_type": "fragment"
    }
   },
   "outputs": [
    {
     "data": {
      "text/html": [
       "'3 是奇數'"
      ],
      "text/latex": [
       "'3 是奇數'"
      ],
      "text/markdown": [
       "'3 是奇數'"
      ],
      "text/plain": [
       "[1] \"3 是奇數\""
      ]
     },
     "metadata": {},
     "output_type": "display_data"
    }
   ],
   "source": [
    "ans"
   ]
  },
  {
   "cell_type": "code",
   "execution_count": 12,
   "metadata": {
    "slideshow": {
     "slide_type": "fragment"
    }
   },
   "outputs": [],
   "source": [
    "int <- 4\n",
    "# ans"
   ]
  },
  {
   "cell_type": "code",
   "execution_count": 13,
   "metadata": {
    "slideshow": {
     "slide_type": "skip"
    }
   },
   "outputs": [],
   "source": [
    "if (int %% 2 == 0) {\n",
    "    ans <- sprintf(\"%s 是偶數\", int)\n",
    "} else {\n",
    "    ans <- sprintf(\"%s 是奇數\", int)\n",
    "}"
   ]
  },
  {
   "cell_type": "code",
   "execution_count": 14,
   "metadata": {
    "slideshow": {
     "slide_type": "fragment"
    }
   },
   "outputs": [
    {
     "data": {
      "text/html": [
       "'4 是偶數'"
      ],
      "text/latex": [
       "'4 是偶數'"
      ],
      "text/markdown": [
       "'4 是偶數'"
      ],
      "text/plain": [
       "[1] \"4 是偶數\""
      ]
     },
     "metadata": {},
     "output_type": "display_data"
    }
   ],
   "source": [
    "ans"
   ]
  },
  {
   "cell_type": "markdown",
   "metadata": {
    "slideshow": {
     "slide_type": "subslide"
    }
   },
   "source": [
    "## `if-else if-else` 做三個以上程式分支的區塊\n",
    "\n",
    "- `if`, `else if`, `else` 保留字\n",
    "- `EXPR` 一段能產生 logical 的敘述"
   ]
  },
  {
   "cell_type": "markdown",
   "metadata": {
    "slideshow": {
     "slide_type": "-"
    }
   },
   "source": [
    "```r\n",
    "# 3 branches\n",
    "if (EXPR_1) {\n",
    "  # do something when EXPR_1 is evaluated as TRUE\n",
    "} else if (EXPR_2) {\n",
    "  # do something when EXPR_2 is evaluated as TRUE\n",
    "} else {\n",
    "  # do something when EXPR_1 & EXPR_2 is evaluated as FALSE\n",
    "}\n",
    "```"
   ]
  },
  {
   "cell_type": "markdown",
   "metadata": {
    "slideshow": {
     "slide_type": "subslide"
    }
   },
   "source": [
    "## 電影評等超過 8.0 就去電影院看，超過 7.0 租 DVD 看，否則不去看"
   ]
  },
  {
   "cell_type": "code",
   "execution_count": 15,
   "metadata": {},
   "outputs": [
    {
     "data": {
      "text/html": [
       "'The Meg 的評等是 5.7，不要去看'"
      ],
      "text/latex": [
       "'The Meg 的評等是 5.7，不要去看'"
      ],
      "text/markdown": [
       "'The Meg 的評等是 5.7，不要去看'"
      ],
      "text/plain": [
       "[1] \"The Meg 的評等是 5.7，不要去看\""
      ]
     },
     "metadata": {},
     "output_type": "display_data"
    }
   ],
   "source": [
    "movie_title <- \"The Meg\"\n",
    "movie_rating <- 5.7\n",
    "\n",
    "if (movie_rating > 8) {\n",
    "    sprintf(\"%s 的評等是 %s，推薦去電影院看\", movie_title, movie_rating)\n",
    "} else if (movie_rating > 7) {\n",
    "    sprintf(\"%s 的評等是 %s，租 DVD 在家看\", movie_title, movie_rating)\n",
    "} else {\n",
    "    sprintf(\"%s 的評等是 %s，不要去看\", movie_title, movie_rating)\n",
    "}"
   ]
  },
  {
   "cell_type": "markdown",
   "metadata": {
    "slideshow": {
     "slide_type": "subslide"
    }
   },
   "source": [
    "## 隨堂練習：籃球員的 BMI 分類\n",
    "\n",
    "<https://en.wikipedia.org/wiki/Body_mass_index>"
   ]
  },
  {
   "cell_type": "code",
   "execution_count": 16,
   "metadata": {
    "slideshow": {
     "slide_type": "-"
    }
   },
   "outputs": [],
   "source": [
    "player_name <- \"Jeremy Lin\"\n",
    "player_height <- 1.91\n",
    "player_weight <- 91\n",
    "player_bmi <- player_weight / player_height**2\n",
    "# bmi_label"
   ]
  },
  {
   "cell_type": "code",
   "execution_count": 17,
   "metadata": {
    "slideshow": {
     "slide_type": "skip"
    }
   },
   "outputs": [],
   "source": [
    "if (player_bmi > 30) {\n",
    "  bmi_label <- \"Obese\"\n",
    "} else if (player_bmi < 18.5) {\n",
    "  bmi_label <- \"Underweight\"\n",
    "} else if ((player_bmi >= 18.5) & (player_bmi < 25)) {\n",
    "  bmi_label <- \"Normal weight\"\n",
    "} else {\n",
    "  bmi_label <- \"Overweight\"\n",
    "}"
   ]
  },
  {
   "cell_type": "code",
   "execution_count": 18,
   "metadata": {
    "slideshow": {
     "slide_type": "fragment"
    }
   },
   "outputs": [
    {
     "data": {
      "text/html": [
       "'Jeremy Lin 的 BMI 為 24.94，分類為 Normal weight'"
      ],
      "text/latex": [
       "'Jeremy Lin 的 BMI 為 24.94，分類為 Normal weight'"
      ],
      "text/markdown": [
       "'Jeremy Lin 的 BMI 為 24.94，分類為 Normal weight'"
      ],
      "text/plain": [
       "[1] \"Jeremy Lin 的 BMI 為 24.94，分類為 Normal weight\""
      ]
     },
     "metadata": {},
     "output_type": "display_data"
    }
   ],
   "source": [
    "sprintf(\"%s 的 BMI 為 %.2f，分類為 %s\", player_name, player_bmi, bmi_label)"
   ]
  },
  {
   "cell_type": "markdown",
   "metadata": {
    "slideshow": {
     "slide_type": "subslide"
    }
   },
   "source": [
    "## 隨堂練習：fizz-buzz\n",
    "\n",
    "- 任意宣告一個整數 `int`\n",
    "- 如果 `int` 可以被 3 整除，印出 `\"Fizz\"`\n",
    "- 如果 `int` 可以被 5 整除，印出 `\"Buzz\"`\n",
    "- 如果 `int` 可以被 15 整除，印出 `\"Fizz Buzz\"`\n",
    "- 其餘狀況印出 `int`"
   ]
  },
  {
   "cell_type": "code",
   "execution_count": 19,
   "metadata": {
    "slideshow": {
     "slide_type": "subslide"
    }
   },
   "outputs": [],
   "source": [
    "int <- 3\n",
    "# ans"
   ]
  },
  {
   "cell_type": "code",
   "execution_count": 20,
   "metadata": {
    "slideshow": {
     "slide_type": "skip"
    }
   },
   "outputs": [],
   "source": [
    "if (int %% 15 == 0) {\n",
    "    ans <- \"Fizz Buzz\"\n",
    "} else if (int %% 3 == 0) {\n",
    "    ans <- \"Fizz\"\n",
    "} else if (int %% 5 == 0) {\n",
    "    ans <- \"Buzz\"\n",
    "} else {\n",
    "    ans <- int\n",
    "}"
   ]
  },
  {
   "cell_type": "code",
   "execution_count": 21,
   "metadata": {
    "slideshow": {
     "slide_type": "fragment"
    }
   },
   "outputs": [
    {
     "data": {
      "text/html": [
       "'Fizz'"
      ],
      "text/latex": [
       "'Fizz'"
      ],
      "text/markdown": [
       "'Fizz'"
      ],
      "text/plain": [
       "[1] \"Fizz\""
      ]
     },
     "metadata": {},
     "output_type": "display_data"
    }
   ],
   "source": [
    "ans"
   ]
  },
  {
   "cell_type": "code",
   "execution_count": 22,
   "metadata": {
    "slideshow": {
     "slide_type": "fragment"
    }
   },
   "outputs": [],
   "source": [
    "int <- 5\n",
    "# ans"
   ]
  },
  {
   "cell_type": "code",
   "execution_count": 23,
   "metadata": {
    "slideshow": {
     "slide_type": "skip"
    }
   },
   "outputs": [],
   "source": [
    "if (int %% 15 == 0) {\n",
    "    ans <- \"Fizz Buzz\"\n",
    "} else if (int %% 3 == 0) {\n",
    "    ans <- \"Fizz\"\n",
    "} else if (int %% 5 == 0) {\n",
    "    ans <- \"Buzz\"\n",
    "} else {\n",
    "    ans <- int\n",
    "}"
   ]
  },
  {
   "cell_type": "code",
   "execution_count": 24,
   "metadata": {
    "slideshow": {
     "slide_type": "fragment"
    }
   },
   "outputs": [
    {
     "data": {
      "text/html": [
       "'Buzz'"
      ],
      "text/latex": [
       "'Buzz'"
      ],
      "text/markdown": [
       "'Buzz'"
      ],
      "text/plain": [
       "[1] \"Buzz\""
      ]
     },
     "metadata": {},
     "output_type": "display_data"
    }
   ],
   "source": [
    "ans"
   ]
  },
  {
   "cell_type": "code",
   "execution_count": 25,
   "metadata": {
    "slideshow": {
     "slide_type": "fragment"
    }
   },
   "outputs": [],
   "source": [
    "int <- 15\n",
    "# ans"
   ]
  },
  {
   "cell_type": "code",
   "execution_count": 26,
   "metadata": {
    "slideshow": {
     "slide_type": "skip"
    }
   },
   "outputs": [],
   "source": [
    "if (int %% 15 == 0) {\n",
    "    ans <- \"Fizz Buzz\"\n",
    "} else if (int %% 3 == 0) {\n",
    "    ans <- \"Fizz\"\n",
    "} else if (int %% 5 == 0) {\n",
    "    ans <- \"Buzz\"\n",
    "} else {\n",
    "    ans <- int\n",
    "}"
   ]
  },
  {
   "cell_type": "code",
   "execution_count": 27,
   "metadata": {
    "slideshow": {
     "slide_type": "fragment"
    }
   },
   "outputs": [
    {
     "data": {
      "text/html": [
       "'Fizz Buzz'"
      ],
      "text/latex": [
       "'Fizz Buzz'"
      ],
      "text/markdown": [
       "'Fizz Buzz'"
      ],
      "text/plain": [
       "[1] \"Fizz Buzz\""
      ]
     },
     "metadata": {},
     "output_type": "display_data"
    }
   ],
   "source": [
    "ans"
   ]
  },
  {
   "cell_type": "code",
   "execution_count": 28,
   "metadata": {
    "slideshow": {
     "slide_type": "fragment"
    }
   },
   "outputs": [],
   "source": [
    "int <- 16\n",
    "# ans"
   ]
  },
  {
   "cell_type": "code",
   "execution_count": 29,
   "metadata": {
    "slideshow": {
     "slide_type": "skip"
    }
   },
   "outputs": [],
   "source": [
    "if (int %% 15 == 0) {\n",
    "    ans <- \"Fizz Buzz\"\n",
    "} else if (int %% 3 == 0) {\n",
    "    ans <- \"Fizz\"\n",
    "} else if (int %% 5 == 0) {\n",
    "    ans <- \"Buzz\"\n",
    "} else {\n",
    "    ans <- int\n",
    "}"
   ]
  },
  {
   "cell_type": "code",
   "execution_count": 30,
   "metadata": {
    "slideshow": {
     "slide_type": "fragment"
    }
   },
   "outputs": [
    {
     "data": {
      "text/html": [
       "16"
      ],
      "text/latex": [
       "16"
      ],
      "text/markdown": [
       "16"
      ],
      "text/plain": [
       "[1] 16"
      ]
     },
     "metadata": {},
     "output_type": "display_data"
    }
   ],
   "source": [
    "ans"
   ]
  }
 ],
 "metadata": {
  "celltoolbar": "Slideshow",
  "kernelspec": {
   "display_name": "R",
   "language": "R",
   "name": "ir"
  },
  "language_info": {
   "codemirror_mode": "r",
   "file_extension": ".r",
   "mimetype": "text/x-r-source",
   "name": "R",
   "pygments_lexer": "r",
   "version": "3.5.2"
  }
 },
 "nbformat": 4,
 "nbformat_minor": 2
}
