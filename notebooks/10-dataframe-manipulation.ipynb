{
 "cells": [
  {
   "cell_type": "markdown",
   "metadata": {
    "slideshow": {
     "slide_type": "slide"
    }
   },
   "source": [
    "# 成為初級資料分析師 | R 程式設計與資料科學應用\n",
    "\n",
    "> 資料框處理\n",
    "\n",
    "## 郭耀仁"
   ]
  },
  {
   "cell_type": "markdown",
   "metadata": {
    "slideshow": {
     "slide_type": "subslide"
    }
   },
   "source": [
    "> Tidy datasets are all alike, but every messy dataset is messy in its own way.\n",
    ">\n",
    "> Hadley Wickham"
   ]
  },
  {
   "cell_type": "markdown",
   "metadata": {
    "slideshow": {
     "slide_type": "subslide"
    }
   },
   "source": [
    "## 大綱\n",
    "\n",
    "- 常用檢視資料框的函數\n",
    "- 基礎資料框處理\n",
    "- 使用 `dplyr` 處理資料框"
   ]
  },
  {
   "cell_type": "markdown",
   "metadata": {
    "slideshow": {
     "slide_type": "slide"
    }
   },
   "source": [
    "## 常用檢視資料框的函數"
   ]
  },
  {
   "cell_type": "markdown",
   "metadata": {
    "slideshow": {
     "slide_type": "subslide"
    }
   },
   "source": [
    "## 常見檢視資料框的函數一覽\n",
    "\n",
    "- `dim()`、`nrow()` 與 `ncol()` 檢視外觀\n",
    "- `summary()` 描述性統計\n",
    "- `str()` 詳細資訊\n",
    "- `View()`、`head()` 與 `tail()` 顯示資料框"
   ]
  },
  {
   "cell_type": "code",
   "execution_count": 1,
   "metadata": {},
   "outputs": [],
   "source": [
    "csv_url <- \"https://s3-ap-northeast-1.amazonaws.com/r-essentials/chicago_bulls_1995_1996.csv\"\n",
    "chicago_bulls <- read.csv(csv_url, stringsAsFactors = FALSE)"
   ]
  },
  {
   "cell_type": "code",
   "execution_count": 2,
   "metadata": {
    "slideshow": {
     "slide_type": "subslide"
    }
   },
   "outputs": [
    {
     "data": {
      "text/html": [
       "15"
      ],
      "text/latex": [
       "15"
      ],
      "text/markdown": [
       "15"
      ],
      "text/plain": [
       "[1] 15"
      ]
     },
     "metadata": {},
     "output_type": "display_data"
    },
    {
     "data": {
      "text/html": [
       "7"
      ],
      "text/latex": [
       "7"
      ],
      "text/markdown": [
       "7"
      ],
      "text/plain": [
       "[1] 7"
      ]
     },
     "metadata": {},
     "output_type": "display_data"
    },
    {
     "data": {
      "text/html": [
       "<ol class=list-inline>\n",
       "\t<li>15</li>\n",
       "\t<li>7</li>\n",
       "</ol>\n"
      ],
      "text/latex": [
       "\\begin{enumerate*}\n",
       "\\item 15\n",
       "\\item 7\n",
       "\\end{enumerate*}\n"
      ],
      "text/markdown": [
       "1. 15\n",
       "2. 7\n",
       "\n",
       "\n"
      ],
      "text/plain": [
       "[1] 15  7"
      ]
     },
     "metadata": {},
     "output_type": "display_data"
    },
    {
     "data": {
      "text/plain": [
       "      No.           Player              Pos                 Ht           \n",
       " Min.   : 0.00   Length:15          Length:15          Length:15         \n",
       " 1st Qu.:11.00   Class :character   Class :character   Class :character  \n",
       " Median :25.00   Mode  :character   Mode  :character   Mode  :character  \n",
       " Mean   :29.13                                                           \n",
       " 3rd Qu.:34.50                                                           \n",
       " Max.   :91.00                                                           \n",
       "       Wt         Birth.Date          College         \n",
       " Min.   :175.0   Length:15          Length:15         \n",
       " 1st Qu.:193.5   Class :character   Class :character  \n",
       " Median :220.0   Mode  :character   Mode  :character  \n",
       " Mean   :219.0                                        \n",
       " 3rd Qu.:242.5                                        \n",
       " Max.   :265.0                                        "
      ]
     },
     "metadata": {},
     "output_type": "display_data"
    },
    {
     "name": "stdout",
     "output_type": "stream",
     "text": [
      "'data.frame':\t15 obs. of  7 variables:\n",
      " $ No.       : int  0 30 35 53 54 9 23 25 7 13 ...\n",
      " $ Player    : chr  \"Randy Brown\" \"Jud Buechler\" \"Jason Caffey\" \"James Edwards\" ...\n",
      " $ Pos       : chr  \"PG\" \"SF\" \"PF\" \"C\" ...\n",
      " $ Ht        : chr  \"6-2\" \"6-6\" \"6-8\" \"7-0\" ...\n",
      " $ Wt        : int  190 220 255 225 240 185 195 175 192 265 ...\n",
      " $ Birth.Date: chr  \"May 22, 1968\" \"June 19, 1968\" \"June 12, 1973\" \"November 22, 1955\" ...\n",
      " $ College   : chr  \"University of Houston, New Mexico State University\" \"University of Arizona\" \"University of Alabama\" \"University of Washington\" ...\n"
     ]
    },
    {
     "data": {
      "text/html": [
       "<table>\n",
       "<thead><tr><th scope=col>No.</th><th scope=col>Player</th><th scope=col>Pos</th><th scope=col>Ht</th><th scope=col>Wt</th><th scope=col>Birth.Date</th><th scope=col>College</th></tr></thead>\n",
       "<tbody>\n",
       "\t<tr><td> 0                                                </td><td>Randy Brown                                       </td><td>PG                                                </td><td>6-2                                               </td><td>190                                               </td><td>May 22, 1968                                      </td><td>University of Houston, New Mexico State University</td></tr>\n",
       "\t<tr><td>30                                                </td><td>Jud Buechler                                      </td><td>SF                                                </td><td>6-6                                               </td><td>220                                               </td><td>June 19, 1968                                     </td><td>University of Arizona                             </td></tr>\n",
       "\t<tr><td>35                                                </td><td>Jason Caffey                                      </td><td>PF                                                </td><td>6-8                                               </td><td>255                                               </td><td>June 12, 1973                                     </td><td>University of Alabama                             </td></tr>\n",
       "\t<tr><td>53                                                </td><td>James Edwards                                     </td><td>C                                                 </td><td>7-0                                               </td><td>225                                               </td><td>November 22, 1955                                 </td><td>University of Washington                          </td></tr>\n",
       "\t<tr><td>54                                                </td><td>Jack Haley                                        </td><td>C                                                 </td><td>6-10                                              </td><td>240                                               </td><td>January 27, 1964                                  </td><td>University of California, Los Angeles             </td></tr>\n",
       "\t<tr><td> 9                                                </td><td>Ron Harper                                        </td><td>PG                                                </td><td>6-6                                               </td><td>185                                               </td><td>January 20, 1964                                  </td><td>Miami University                                  </td></tr>\n",
       "</tbody>\n",
       "</table>\n"
      ],
      "text/latex": [
       "\\begin{tabular}{r|lllllll}\n",
       " No. & Player & Pos & Ht & Wt & Birth.Date & College\\\\\n",
       "\\hline\n",
       "\t  0                                                 & Randy Brown                                        & PG                                                 & 6-2                                                & 190                                                & May 22, 1968                                       & University of Houston, New Mexico State University\\\\\n",
       "\t 30                                                 & Jud Buechler                                       & SF                                                 & 6-6                                                & 220                                                & June 19, 1968                                      & University of Arizona                             \\\\\n",
       "\t 35                                                 & Jason Caffey                                       & PF                                                 & 6-8                                                & 255                                                & June 12, 1973                                      & University of Alabama                             \\\\\n",
       "\t 53                                                 & James Edwards                                      & C                                                  & 7-0                                                & 225                                                & November 22, 1955                                  & University of Washington                          \\\\\n",
       "\t 54                                                 & Jack Haley                                         & C                                                  & 6-10                                               & 240                                                & January 27, 1964                                   & University of California, Los Angeles             \\\\\n",
       "\t  9                                                 & Ron Harper                                         & PG                                                 & 6-6                                                & 185                                                & January 20, 1964                                   & Miami University                                  \\\\\n",
       "\\end{tabular}\n"
      ],
      "text/markdown": [
       "\n",
       "| No. | Player | Pos | Ht | Wt | Birth.Date | College |\n",
       "|---|---|---|---|---|---|---|\n",
       "|  0                                                 | Randy Brown                                        | PG                                                 | 6-2                                                | 190                                                | May 22, 1968                                       | University of Houston, New Mexico State University |\n",
       "| 30                                                 | Jud Buechler                                       | SF                                                 | 6-6                                                | 220                                                | June 19, 1968                                      | University of Arizona                              |\n",
       "| 35                                                 | Jason Caffey                                       | PF                                                 | 6-8                                                | 255                                                | June 12, 1973                                      | University of Alabama                              |\n",
       "| 53                                                 | James Edwards                                      | C                                                  | 7-0                                                | 225                                                | November 22, 1955                                  | University of Washington                           |\n",
       "| 54                                                 | Jack Haley                                         | C                                                  | 6-10                                               | 240                                                | January 27, 1964                                   | University of California, Los Angeles              |\n",
       "|  9                                                 | Ron Harper                                         | PG                                                 | 6-6                                                | 185                                                | January 20, 1964                                   | Miami University                                   |\n",
       "\n"
      ],
      "text/plain": [
       "  No. Player        Pos Ht   Wt  Birth.Date       \n",
       "1  0  Randy Brown   PG  6-2  190 May 22, 1968     \n",
       "2 30  Jud Buechler  SF  6-6  220 June 19, 1968    \n",
       "3 35  Jason Caffey  PF  6-8  255 June 12, 1973    \n",
       "4 53  James Edwards C   7-0  225 November 22, 1955\n",
       "5 54  Jack Haley    C   6-10 240 January 27, 1964 \n",
       "6  9  Ron Harper    PG  6-6  185 January 20, 1964 \n",
       "  College                                           \n",
       "1 University of Houston, New Mexico State University\n",
       "2 University of Arizona                             \n",
       "3 University of Alabama                             \n",
       "4 University of Washington                          \n",
       "5 University of California, Los Angeles             \n",
       "6 Miami University                                  "
      ]
     },
     "metadata": {},
     "output_type": "display_data"
    },
    {
     "data": {
      "text/html": [
       "<table>\n",
       "<thead><tr><th></th><th scope=col>No.</th><th scope=col>Player</th><th scope=col>Pos</th><th scope=col>Ht</th><th scope=col>Wt</th><th scope=col>Birth.Date</th><th scope=col>College</th></tr></thead>\n",
       "<tbody>\n",
       "\t<tr><th scope=row>10</th><td>13                                    </td><td>Luc Longley                           </td><td>C                                     </td><td>7-2                                   </td><td>265                                   </td><td>January 19, 1969                      </td><td>University of New Mexico              </td></tr>\n",
       "\t<tr><th scope=row>11</th><td>33                                    </td><td>Scottie Pippen                        </td><td>SF                                    </td><td>6-8                                   </td><td>210                                   </td><td>September 25, 1965                    </td><td>University of Central Arkansas        </td></tr>\n",
       "\t<tr><th scope=row>12</th><td>91                                    </td><td>Dennis Rodman                         </td><td>PF                                    </td><td>6-7                                   </td><td>210                                   </td><td>May 13, 1961                          </td><td>Southeastern Oklahoma State University</td></tr>\n",
       "\t<tr><th scope=row>13</th><td>22                                    </td><td>John Salley                           </td><td>PF                                    </td><td>6-11                                  </td><td>230                                   </td><td>May 16, 1964                          </td><td>Georgia Institute of Technology       </td></tr>\n",
       "\t<tr><th scope=row>14</th><td> 8                                    </td><td>Dickey Simpkins                       </td><td>PF                                    </td><td>6-9                                   </td><td>248                                   </td><td>April 6, 1972                         </td><td>Providence College                    </td></tr>\n",
       "\t<tr><th scope=row>15</th><td>34                                    </td><td>Bill Wennington                       </td><td>C                                     </td><td>7-0                                   </td><td>245                                   </td><td>April 26, 1963                        </td><td>St. John's University                 </td></tr>\n",
       "</tbody>\n",
       "</table>\n"
      ],
      "text/latex": [
       "\\begin{tabular}{r|lllllll}\n",
       "  & No. & Player & Pos & Ht & Wt & Birth.Date & College\\\\\n",
       "\\hline\n",
       "\t10 & 13                                     & Luc Longley                            & C                                      & 7-2                                    & 265                                    & January 19, 1969                       & University of New Mexico              \\\\\n",
       "\t11 & 33                                     & Scottie Pippen                         & SF                                     & 6-8                                    & 210                                    & September 25, 1965                     & University of Central Arkansas        \\\\\n",
       "\t12 & 91                                     & Dennis Rodman                          & PF                                     & 6-7                                    & 210                                    & May 13, 1961                           & Southeastern Oklahoma State University\\\\\n",
       "\t13 & 22                                     & John Salley                            & PF                                     & 6-11                                   & 230                                    & May 16, 1964                           & Georgia Institute of Technology       \\\\\n",
       "\t14 &  8                                     & Dickey Simpkins                        & PF                                     & 6-9                                    & 248                                    & April 6, 1972                          & Providence College                    \\\\\n",
       "\t15 & 34                                     & Bill Wennington                        & C                                      & 7-0                                    & 245                                    & April 26, 1963                         & St. John's University                 \\\\\n",
       "\\end{tabular}\n"
      ],
      "text/markdown": [
       "\n",
       "| <!--/--> | No. | Player | Pos | Ht | Wt | Birth.Date | College |\n",
       "|---|---|---|---|---|---|---|---|\n",
       "| 10 | 13                                     | Luc Longley                            | C                                      | 7-2                                    | 265                                    | January 19, 1969                       | University of New Mexico               |\n",
       "| 11 | 33                                     | Scottie Pippen                         | SF                                     | 6-8                                    | 210                                    | September 25, 1965                     | University of Central Arkansas         |\n",
       "| 12 | 91                                     | Dennis Rodman                          | PF                                     | 6-7                                    | 210                                    | May 13, 1961                           | Southeastern Oklahoma State University |\n",
       "| 13 | 22                                     | John Salley                            | PF                                     | 6-11                                   | 230                                    | May 16, 1964                           | Georgia Institute of Technology        |\n",
       "| 14 |  8                                     | Dickey Simpkins                        | PF                                     | 6-9                                    | 248                                    | April 6, 1972                          | Providence College                     |\n",
       "| 15 | 34                                     | Bill Wennington                        | C                                      | 7-0                                    | 245                                    | April 26, 1963                         | St. John's University                  |\n",
       "\n"
      ],
      "text/plain": [
       "   No. Player          Pos Ht   Wt  Birth.Date        \n",
       "10 13  Luc Longley     C   7-2  265 January 19, 1969  \n",
       "11 33  Scottie Pippen  SF  6-8  210 September 25, 1965\n",
       "12 91  Dennis Rodman   PF  6-7  210 May 13, 1961      \n",
       "13 22  John Salley     PF  6-11 230 May 16, 1964      \n",
       "14  8  Dickey Simpkins PF  6-9  248 April 6, 1972     \n",
       "15 34  Bill Wennington C   7-0  245 April 26, 1963    \n",
       "   College                               \n",
       "10 University of New Mexico              \n",
       "11 University of Central Arkansas        \n",
       "12 Southeastern Oklahoma State University\n",
       "13 Georgia Institute of Technology       \n",
       "14 Providence College                    \n",
       "15 St. John's University                 "
      ]
     },
     "metadata": {},
     "output_type": "display_data"
    }
   ],
   "source": [
    "nrow(chicago_bulls)\n",
    "ncol(chicago_bulls)\n",
    "dim(chicago_bulls)\n",
    "summary(chicago_bulls)\n",
    "str(chicago_bulls)\n",
    "head(chicago_bulls)\n",
    "tail(chicago_bulls)\n",
    "#View(chicago_bulls)"
   ]
  },
  {
   "cell_type": "markdown",
   "metadata": {
    "slideshow": {
     "slide_type": "slide"
    }
   },
   "source": [
    "## 基礎資料框處理"
   ]
  },
  {
   "cell_type": "markdown",
   "metadata": {
    "slideshow": {
     "slide_type": "subslide"
    }
   },
   "source": [
    "## 基礎資料框處理的技巧\n",
    "\n",
    "- 解構資料框\n",
    "    - 選擇\n",
    "    - 篩選\n",
    "    - 選擇與篩選\n",
    "- 排序資料框\n",
    "- 新增變數\n",
    "- 摘要\n",
    "- 分組摘要"
   ]
  },
  {
   "cell_type": "markdown",
   "metadata": {
    "slideshow": {
     "slide_type": "subslide"
    }
   },
   "source": [
    "## 解構資料框：選擇\n",
    "\n",
    "使用 `df[, COLUMN_NAME]` 或 `df$COLUMN_NAME`"
   ]
  },
  {
   "cell_type": "code",
   "execution_count": 3,
   "metadata": {},
   "outputs": [
    {
     "data": {
      "text/html": [
       "<ol class=list-inline>\n",
       "\t<li>'Randy Brown'</li>\n",
       "\t<li>'Jud Buechler'</li>\n",
       "\t<li>'Jason Caffey'</li>\n",
       "\t<li>'James Edwards'</li>\n",
       "\t<li>'Jack Haley'</li>\n",
       "\t<li>'Ron Harper'</li>\n",
       "\t<li>'Michael Jordan'</li>\n",
       "\t<li>'Steve Kerr'</li>\n",
       "\t<li>'Toni Kukoc'</li>\n",
       "\t<li>'Luc Longley'</li>\n",
       "\t<li>'Scottie Pippen'</li>\n",
       "\t<li>'Dennis Rodman'</li>\n",
       "\t<li>'John Salley'</li>\n",
       "\t<li>'Dickey Simpkins'</li>\n",
       "\t<li>'Bill Wennington'</li>\n",
       "</ol>\n"
      ],
      "text/latex": [
       "\\begin{enumerate*}\n",
       "\\item 'Randy Brown'\n",
       "\\item 'Jud Buechler'\n",
       "\\item 'Jason Caffey'\n",
       "\\item 'James Edwards'\n",
       "\\item 'Jack Haley'\n",
       "\\item 'Ron Harper'\n",
       "\\item 'Michael Jordan'\n",
       "\\item 'Steve Kerr'\n",
       "\\item 'Toni Kukoc'\n",
       "\\item 'Luc Longley'\n",
       "\\item 'Scottie Pippen'\n",
       "\\item 'Dennis Rodman'\n",
       "\\item 'John Salley'\n",
       "\\item 'Dickey Simpkins'\n",
       "\\item 'Bill Wennington'\n",
       "\\end{enumerate*}\n"
      ],
      "text/markdown": [
       "1. 'Randy Brown'\n",
       "2. 'Jud Buechler'\n",
       "3. 'Jason Caffey'\n",
       "4. 'James Edwards'\n",
       "5. 'Jack Haley'\n",
       "6. 'Ron Harper'\n",
       "7. 'Michael Jordan'\n",
       "8. 'Steve Kerr'\n",
       "9. 'Toni Kukoc'\n",
       "10. 'Luc Longley'\n",
       "11. 'Scottie Pippen'\n",
       "12. 'Dennis Rodman'\n",
       "13. 'John Salley'\n",
       "14. 'Dickey Simpkins'\n",
       "15. 'Bill Wennington'\n",
       "\n",
       "\n"
      ],
      "text/plain": [
       " [1] \"Randy Brown\"     \"Jud Buechler\"    \"Jason Caffey\"    \"James Edwards\"  \n",
       " [5] \"Jack Haley\"      \"Ron Harper\"      \"Michael Jordan\"  \"Steve Kerr\"     \n",
       " [9] \"Toni Kukoc\"      \"Luc Longley\"     \"Scottie Pippen\"  \"Dennis Rodman\"  \n",
       "[13] \"John Salley\"     \"Dickey Simpkins\" \"Bill Wennington\""
      ]
     },
     "metadata": {},
     "output_type": "display_data"
    },
    {
     "data": {
      "text/html": [
       "<ol class=list-inline>\n",
       "\t<li>'Randy Brown'</li>\n",
       "\t<li>'Jud Buechler'</li>\n",
       "\t<li>'Jason Caffey'</li>\n",
       "\t<li>'James Edwards'</li>\n",
       "\t<li>'Jack Haley'</li>\n",
       "\t<li>'Ron Harper'</li>\n",
       "\t<li>'Michael Jordan'</li>\n",
       "\t<li>'Steve Kerr'</li>\n",
       "\t<li>'Toni Kukoc'</li>\n",
       "\t<li>'Luc Longley'</li>\n",
       "\t<li>'Scottie Pippen'</li>\n",
       "\t<li>'Dennis Rodman'</li>\n",
       "\t<li>'John Salley'</li>\n",
       "\t<li>'Dickey Simpkins'</li>\n",
       "\t<li>'Bill Wennington'</li>\n",
       "</ol>\n"
      ],
      "text/latex": [
       "\\begin{enumerate*}\n",
       "\\item 'Randy Brown'\n",
       "\\item 'Jud Buechler'\n",
       "\\item 'Jason Caffey'\n",
       "\\item 'James Edwards'\n",
       "\\item 'Jack Haley'\n",
       "\\item 'Ron Harper'\n",
       "\\item 'Michael Jordan'\n",
       "\\item 'Steve Kerr'\n",
       "\\item 'Toni Kukoc'\n",
       "\\item 'Luc Longley'\n",
       "\\item 'Scottie Pippen'\n",
       "\\item 'Dennis Rodman'\n",
       "\\item 'John Salley'\n",
       "\\item 'Dickey Simpkins'\n",
       "\\item 'Bill Wennington'\n",
       "\\end{enumerate*}\n"
      ],
      "text/markdown": [
       "1. 'Randy Brown'\n",
       "2. 'Jud Buechler'\n",
       "3. 'Jason Caffey'\n",
       "4. 'James Edwards'\n",
       "5. 'Jack Haley'\n",
       "6. 'Ron Harper'\n",
       "7. 'Michael Jordan'\n",
       "8. 'Steve Kerr'\n",
       "9. 'Toni Kukoc'\n",
       "10. 'Luc Longley'\n",
       "11. 'Scottie Pippen'\n",
       "12. 'Dennis Rodman'\n",
       "13. 'John Salley'\n",
       "14. 'Dickey Simpkins'\n",
       "15. 'Bill Wennington'\n",
       "\n",
       "\n"
      ],
      "text/plain": [
       " [1] \"Randy Brown\"     \"Jud Buechler\"    \"Jason Caffey\"    \"James Edwards\"  \n",
       " [5] \"Jack Haley\"      \"Ron Harper\"      \"Michael Jordan\"  \"Steve Kerr\"     \n",
       " [9] \"Toni Kukoc\"      \"Luc Longley\"     \"Scottie Pippen\"  \"Dennis Rodman\"  \n",
       "[13] \"John Salley\"     \"Dickey Simpkins\" \"Bill Wennington\""
      ]
     },
     "metadata": {},
     "output_type": "display_data"
    }
   ],
   "source": [
    "chicago_bulls[, \"Player\"]\n",
    "chicago_bulls$Player"
   ]
  },
  {
   "cell_type": "markdown",
   "metadata": {
    "slideshow": {
     "slide_type": "subslide"
    }
   },
   "source": [
    "## 解構資料框：篩選\n",
    "\n",
    "使用 `df[EXPR, ]` 或 `df[ROW_INDICES, ]`"
   ]
  },
  {
   "cell_type": "code",
   "execution_count": 4,
   "metadata": {},
   "outputs": [
    {
     "data": {
      "text/html": [
       "<table>\n",
       "<thead><tr><th></th><th scope=col>No.</th><th scope=col>Player</th><th scope=col>Pos</th><th scope=col>Ht</th><th scope=col>Wt</th><th scope=col>Birth.Date</th><th scope=col>College</th></tr></thead>\n",
       "<tbody>\n",
       "\t<tr><th scope=row>7</th><td>23                          </td><td>Michael Jordan              </td><td>SG                          </td><td>6-6                         </td><td>195                         </td><td>February 17, 1963           </td><td>University of North Carolina</td></tr>\n",
       "</tbody>\n",
       "</table>\n"
      ],
      "text/latex": [
       "\\begin{tabular}{r|lllllll}\n",
       "  & No. & Player & Pos & Ht & Wt & Birth.Date & College\\\\\n",
       "\\hline\n",
       "\t7 & 23                           & Michael Jordan               & SG                           & 6-6                          & 195                          & February 17, 1963            & University of North Carolina\\\\\n",
       "\\end{tabular}\n"
      ],
      "text/markdown": [
       "\n",
       "| <!--/--> | No. | Player | Pos | Ht | Wt | Birth.Date | College |\n",
       "|---|---|---|---|---|---|---|---|\n",
       "| 7 | 23                           | Michael Jordan               | SG                           | 6-6                          | 195                          | February 17, 1963            | University of North Carolina |\n",
       "\n"
      ],
      "text/plain": [
       "  No. Player         Pos Ht  Wt  Birth.Date        College                     \n",
       "7 23  Michael Jordan SG  6-6 195 February 17, 1963 University of North Carolina"
      ]
     },
     "metadata": {},
     "output_type": "display_data"
    },
    {
     "data": {
      "text/html": [
       "<table>\n",
       "<thead><tr><th></th><th scope=col>No.</th><th scope=col>Player</th><th scope=col>Pos</th><th scope=col>Ht</th><th scope=col>Wt</th><th scope=col>Birth.Date</th><th scope=col>College</th></tr></thead>\n",
       "<tbody>\n",
       "\t<tr><th scope=row>7</th><td>23                          </td><td>Michael Jordan              </td><td>SG                          </td><td>6-6                         </td><td>195                         </td><td>February 17, 1963           </td><td>University of North Carolina</td></tr>\n",
       "</tbody>\n",
       "</table>\n"
      ],
      "text/latex": [
       "\\begin{tabular}{r|lllllll}\n",
       "  & No. & Player & Pos & Ht & Wt & Birth.Date & College\\\\\n",
       "\\hline\n",
       "\t7 & 23                           & Michael Jordan               & SG                           & 6-6                          & 195                          & February 17, 1963            & University of North Carolina\\\\\n",
       "\\end{tabular}\n"
      ],
      "text/markdown": [
       "\n",
       "| <!--/--> | No. | Player | Pos | Ht | Wt | Birth.Date | College |\n",
       "|---|---|---|---|---|---|---|---|\n",
       "| 7 | 23                           | Michael Jordan               | SG                           | 6-6                          | 195                          | February 17, 1963            | University of North Carolina |\n",
       "\n"
      ],
      "text/plain": [
       "  No. Player         Pos Ht  Wt  Birth.Date        College                     \n",
       "7 23  Michael Jordan SG  6-6 195 February 17, 1963 University of North Carolina"
      ]
     },
     "metadata": {},
     "output_type": "display_data"
    }
   ],
   "source": [
    "chicago_bulls[chicago_bulls$Player == \"Michael Jordan\",]\n",
    "chicago_bulls[7, ]"
   ]
  },
  {
   "cell_type": "markdown",
   "metadata": {
    "slideshow": {
     "slide_type": "subslide"
    }
   },
   "source": [
    "## 解構資料框：選擇與篩選\n",
    "\n",
    "使用 `df[EXPR, COLUMN_NAME]` 或 `df[ROW_INDICES, COLUMN_NAME]`"
   ]
  },
  {
   "cell_type": "code",
   "execution_count": 5,
   "metadata": {},
   "outputs": [
    {
     "data": {
      "text/html": [
       "'Michael Jordan'"
      ],
      "text/latex": [
       "'Michael Jordan'"
      ],
      "text/markdown": [
       "'Michael Jordan'"
      ],
      "text/plain": [
       "[1] \"Michael Jordan\""
      ]
     },
     "metadata": {},
     "output_type": "display_data"
    },
    {
     "data": {
      "text/html": [
       "'Michael Jordan'"
      ],
      "text/latex": [
       "'Michael Jordan'"
      ],
      "text/markdown": [
       "'Michael Jordan'"
      ],
      "text/plain": [
       "[1] \"Michael Jordan\""
      ]
     },
     "metadata": {},
     "output_type": "display_data"
    }
   ],
   "source": [
    "chicago_bulls[chicago_bulls$Player == \"Michael Jordan\", \"Player\"]\n",
    "chicago_bulls[7, \"Player\"]"
   ]
  },
  {
   "cell_type": "markdown",
   "metadata": {
    "slideshow": {
     "slide_type": "subslide"
    }
   },
   "source": [
    "## 隨堂練習：鐵三角 Michael Jordan, Scottie Pippen 與 Dennis Rodman"
   ]
  },
  {
   "cell_type": "code",
   "execution_count": 6,
   "metadata": {
    "slideshow": {
     "slide_type": "skip"
    }
   },
   "outputs": [],
   "source": [
    "csv_url <- \"https://s3-ap-northeast-1.amazonaws.com/r-essentials/chicago_bulls_1995_1996.csv\"\n",
    "chicago_bulls <- read.csv(csv_url, stringsAsFactors = FALSE)\n",
    "is_trio <- chicago_bulls$Player %in% c(\"Michael Jordan\", \"Scottie Pippen\", \"Dennis Rodman\")\n",
    "trio <- chicago_bulls[is_trio, c(\"No.\", \"Player\")]"
   ]
  },
  {
   "cell_type": "code",
   "execution_count": 7,
   "metadata": {
    "slideshow": {
     "slide_type": "fragment"
    }
   },
   "outputs": [
    {
     "data": {
      "text/html": [
       "<table>\n",
       "<thead><tr><th></th><th scope=col>No.</th><th scope=col>Player</th></tr></thead>\n",
       "<tbody>\n",
       "\t<tr><th scope=row>7</th><td>23            </td><td>Michael Jordan</td></tr>\n",
       "\t<tr><th scope=row>11</th><td>33            </td><td>Scottie Pippen</td></tr>\n",
       "\t<tr><th scope=row>12</th><td>91            </td><td>Dennis Rodman </td></tr>\n",
       "</tbody>\n",
       "</table>\n"
      ],
      "text/latex": [
       "\\begin{tabular}{r|ll}\n",
       "  & No. & Player\\\\\n",
       "\\hline\n",
       "\t7 & 23             & Michael Jordan\\\\\n",
       "\t11 & 33             & Scottie Pippen\\\\\n",
       "\t12 & 91             & Dennis Rodman \\\\\n",
       "\\end{tabular}\n"
      ],
      "text/markdown": [
       "\n",
       "| <!--/--> | No. | Player |\n",
       "|---|---|---|\n",
       "| 7 | 23             | Michael Jordan |\n",
       "| 11 | 33             | Scottie Pippen |\n",
       "| 12 | 91             | Dennis Rodman  |\n",
       "\n"
      ],
      "text/plain": [
       "   No. Player        \n",
       "7  23  Michael Jordan\n",
       "11 33  Scottie Pippen\n",
       "12 91  Dennis Rodman "
      ]
     },
     "metadata": {},
     "output_type": "display_data"
    }
   ],
   "source": [
    "trio"
   ]
  },
  {
   "cell_type": "markdown",
   "metadata": {
    "slideshow": {
     "slide_type": "subslide"
    }
   },
   "source": [
    "## 排序資料框\n",
    "\n",
    "利用 `order()` 函數取得排序後的列索引"
   ]
  },
  {
   "cell_type": "code",
   "execution_count": 8,
   "metadata": {},
   "outputs": [
    {
     "data": {
      "text/html": [
       "<table>\n",
       "<thead><tr><th></th><th scope=col>No.</th><th scope=col>Player</th><th scope=col>Pos</th><th scope=col>Ht</th><th scope=col>Wt</th><th scope=col>Birth.Date</th><th scope=col>College</th></tr></thead>\n",
       "<tbody>\n",
       "\t<tr><th scope=row>1</th><td> 0                                                </td><td>Randy Brown                                       </td><td>PG                                                </td><td>6-2                                               </td><td>190                                               </td><td>May 22, 1968                                      </td><td>University of Houston, New Mexico State University</td></tr>\n",
       "\t<tr><th scope=row>9</th><td> 7                                                </td><td>Toni Kukoc                                        </td><td>SF                                                </td><td>6-10                                              </td><td>192                                               </td><td>September 18, 1968                                </td><td>                                                  </td></tr>\n",
       "\t<tr><th scope=row>14</th><td> 8                                                </td><td>Dickey Simpkins                                   </td><td>PF                                                </td><td>6-9                                               </td><td>248                                               </td><td>April 6, 1972                                     </td><td>Providence College                                </td></tr>\n",
       "\t<tr><th scope=row>6</th><td> 9                                                </td><td>Ron Harper                                        </td><td>PG                                                </td><td>6-6                                               </td><td>185                                               </td><td>January 20, 1964                                  </td><td>Miami University                                  </td></tr>\n",
       "\t<tr><th scope=row>10</th><td>13                                                </td><td>Luc Longley                                       </td><td>C                                                 </td><td>7-2                                               </td><td>265                                               </td><td>January 19, 1969                                  </td><td>University of New Mexico                          </td></tr>\n",
       "\t<tr><th scope=row>13</th><td>22                                                </td><td>John Salley                                       </td><td>PF                                                </td><td>6-11                                              </td><td>230                                               </td><td>May 16, 1964                                      </td><td>Georgia Institute of Technology                   </td></tr>\n",
       "\t<tr><th scope=row>7</th><td>23                                                </td><td>Michael Jordan                                    </td><td>SG                                                </td><td>6-6                                               </td><td>195                                               </td><td>February 17, 1963                                 </td><td>University of North Carolina                      </td></tr>\n",
       "\t<tr><th scope=row>8</th><td>25                                                </td><td>Steve Kerr                                        </td><td>PG                                                </td><td>6-3                                               </td><td>175                                               </td><td>September 27, 1965                                </td><td>University of Arizona                             </td></tr>\n",
       "\t<tr><th scope=row>2</th><td>30                                                </td><td>Jud Buechler                                      </td><td>SF                                                </td><td>6-6                                               </td><td>220                                               </td><td>June 19, 1968                                     </td><td>University of Arizona                             </td></tr>\n",
       "\t<tr><th scope=row>11</th><td>33                                                </td><td>Scottie Pippen                                    </td><td>SF                                                </td><td>6-8                                               </td><td>210                                               </td><td>September 25, 1965                                </td><td>University of Central Arkansas                    </td></tr>\n",
       "\t<tr><th scope=row>15</th><td>34                                                </td><td>Bill Wennington                                   </td><td>C                                                 </td><td>7-0                                               </td><td>245                                               </td><td>April 26, 1963                                    </td><td>St. John's University                             </td></tr>\n",
       "\t<tr><th scope=row>3</th><td>35                                                </td><td>Jason Caffey                                      </td><td>PF                                                </td><td>6-8                                               </td><td>255                                               </td><td>June 12, 1973                                     </td><td>University of Alabama                             </td></tr>\n",
       "\t<tr><th scope=row>4</th><td>53                                                </td><td>James Edwards                                     </td><td>C                                                 </td><td>7-0                                               </td><td>225                                               </td><td>November 22, 1955                                 </td><td>University of Washington                          </td></tr>\n",
       "\t<tr><th scope=row>5</th><td>54                                                </td><td>Jack Haley                                        </td><td>C                                                 </td><td>6-10                                              </td><td>240                                               </td><td>January 27, 1964                                  </td><td>University of California, Los Angeles             </td></tr>\n",
       "\t<tr><th scope=row>12</th><td>91                                                </td><td>Dennis Rodman                                     </td><td>PF                                                </td><td>6-7                                               </td><td>210                                               </td><td>May 13, 1961                                      </td><td>Southeastern Oklahoma State University            </td></tr>\n",
       "</tbody>\n",
       "</table>\n"
      ],
      "text/latex": [
       "\\begin{tabular}{r|lllllll}\n",
       "  & No. & Player & Pos & Ht & Wt & Birth.Date & College\\\\\n",
       "\\hline\n",
       "\t1 &  0                                                 & Randy Brown                                        & PG                                                 & 6-2                                                & 190                                                & May 22, 1968                                       & University of Houston, New Mexico State University\\\\\n",
       "\t9 &  7                                                 & Toni Kukoc                                         & SF                                                 & 6-10                                               & 192                                                & September 18, 1968                                 &                                                   \\\\\n",
       "\t14 &  8                                                 & Dickey Simpkins                                    & PF                                                 & 6-9                                                & 248                                                & April 6, 1972                                      & Providence College                                \\\\\n",
       "\t6 &  9                                                 & Ron Harper                                         & PG                                                 & 6-6                                                & 185                                                & January 20, 1964                                   & Miami University                                  \\\\\n",
       "\t10 & 13                                                 & Luc Longley                                        & C                                                  & 7-2                                                & 265                                                & January 19, 1969                                   & University of New Mexico                          \\\\\n",
       "\t13 & 22                                                 & John Salley                                        & PF                                                 & 6-11                                               & 230                                                & May 16, 1964                                       & Georgia Institute of Technology                   \\\\\n",
       "\t7 & 23                                                 & Michael Jordan                                     & SG                                                 & 6-6                                                & 195                                                & February 17, 1963                                  & University of North Carolina                      \\\\\n",
       "\t8 & 25                                                 & Steve Kerr                                         & PG                                                 & 6-3                                                & 175                                                & September 27, 1965                                 & University of Arizona                             \\\\\n",
       "\t2 & 30                                                 & Jud Buechler                                       & SF                                                 & 6-6                                                & 220                                                & June 19, 1968                                      & University of Arizona                             \\\\\n",
       "\t11 & 33                                                 & Scottie Pippen                                     & SF                                                 & 6-8                                                & 210                                                & September 25, 1965                                 & University of Central Arkansas                    \\\\\n",
       "\t15 & 34                                                 & Bill Wennington                                    & C                                                  & 7-0                                                & 245                                                & April 26, 1963                                     & St. John's University                             \\\\\n",
       "\t3 & 35                                                 & Jason Caffey                                       & PF                                                 & 6-8                                                & 255                                                & June 12, 1973                                      & University of Alabama                             \\\\\n",
       "\t4 & 53                                                 & James Edwards                                      & C                                                  & 7-0                                                & 225                                                & November 22, 1955                                  & University of Washington                          \\\\\n",
       "\t5 & 54                                                 & Jack Haley                                         & C                                                  & 6-10                                               & 240                                                & January 27, 1964                                   & University of California, Los Angeles             \\\\\n",
       "\t12 & 91                                                 & Dennis Rodman                                      & PF                                                 & 6-7                                                & 210                                                & May 13, 1961                                       & Southeastern Oklahoma State University            \\\\\n",
       "\\end{tabular}\n"
      ],
      "text/markdown": [
       "\n",
       "| <!--/--> | No. | Player | Pos | Ht | Wt | Birth.Date | College |\n",
       "|---|---|---|---|---|---|---|---|\n",
       "| 1 |  0                                                 | Randy Brown                                        | PG                                                 | 6-2                                                | 190                                                | May 22, 1968                                       | University of Houston, New Mexico State University |\n",
       "| 9 |  7                                                 | Toni Kukoc                                         | SF                                                 | 6-10                                               | 192                                                | September 18, 1968                                 |                                                    |\n",
       "| 14 |  8                                                 | Dickey Simpkins                                    | PF                                                 | 6-9                                                | 248                                                | April 6, 1972                                      | Providence College                                 |\n",
       "| 6 |  9                                                 | Ron Harper                                         | PG                                                 | 6-6                                                | 185                                                | January 20, 1964                                   | Miami University                                   |\n",
       "| 10 | 13                                                 | Luc Longley                                        | C                                                  | 7-2                                                | 265                                                | January 19, 1969                                   | University of New Mexico                           |\n",
       "| 13 | 22                                                 | John Salley                                        | PF                                                 | 6-11                                               | 230                                                | May 16, 1964                                       | Georgia Institute of Technology                    |\n",
       "| 7 | 23                                                 | Michael Jordan                                     | SG                                                 | 6-6                                                | 195                                                | February 17, 1963                                  | University of North Carolina                       |\n",
       "| 8 | 25                                                 | Steve Kerr                                         | PG                                                 | 6-3                                                | 175                                                | September 27, 1965                                 | University of Arizona                              |\n",
       "| 2 | 30                                                 | Jud Buechler                                       | SF                                                 | 6-6                                                | 220                                                | June 19, 1968                                      | University of Arizona                              |\n",
       "| 11 | 33                                                 | Scottie Pippen                                     | SF                                                 | 6-8                                                | 210                                                | September 25, 1965                                 | University of Central Arkansas                     |\n",
       "| 15 | 34                                                 | Bill Wennington                                    | C                                                  | 7-0                                                | 245                                                | April 26, 1963                                     | St. John's University                              |\n",
       "| 3 | 35                                                 | Jason Caffey                                       | PF                                                 | 6-8                                                | 255                                                | June 12, 1973                                      | University of Alabama                              |\n",
       "| 4 | 53                                                 | James Edwards                                      | C                                                  | 7-0                                                | 225                                                | November 22, 1955                                  | University of Washington                           |\n",
       "| 5 | 54                                                 | Jack Haley                                         | C                                                  | 6-10                                               | 240                                                | January 27, 1964                                   | University of California, Los Angeles              |\n",
       "| 12 | 91                                                 | Dennis Rodman                                      | PF                                                 | 6-7                                                | 210                                                | May 13, 1961                                       | Southeastern Oklahoma State University             |\n",
       "\n"
      ],
      "text/plain": [
       "   No. Player          Pos Ht   Wt  Birth.Date        \n",
       "1   0  Randy Brown     PG  6-2  190 May 22, 1968      \n",
       "9   7  Toni Kukoc      SF  6-10 192 September 18, 1968\n",
       "14  8  Dickey Simpkins PF  6-9  248 April 6, 1972     \n",
       "6   9  Ron Harper      PG  6-6  185 January 20, 1964  \n",
       "10 13  Luc Longley     C   7-2  265 January 19, 1969  \n",
       "13 22  John Salley     PF  6-11 230 May 16, 1964      \n",
       "7  23  Michael Jordan  SG  6-6  195 February 17, 1963 \n",
       "8  25  Steve Kerr      PG  6-3  175 September 27, 1965\n",
       "2  30  Jud Buechler    SF  6-6  220 June 19, 1968     \n",
       "11 33  Scottie Pippen  SF  6-8  210 September 25, 1965\n",
       "15 34  Bill Wennington C   7-0  245 April 26, 1963    \n",
       "3  35  Jason Caffey    PF  6-8  255 June 12, 1973     \n",
       "4  53  James Edwards   C   7-0  225 November 22, 1955 \n",
       "5  54  Jack Haley      C   6-10 240 January 27, 1964  \n",
       "12 91  Dennis Rodman   PF  6-7  210 May 13, 1961      \n",
       "   College                                           \n",
       "1  University of Houston, New Mexico State University\n",
       "9                                                    \n",
       "14 Providence College                                \n",
       "6  Miami University                                  \n",
       "10 University of New Mexico                          \n",
       "13 Georgia Institute of Technology                   \n",
       "7  University of North Carolina                      \n",
       "8  University of Arizona                             \n",
       "2  University of Arizona                             \n",
       "11 University of Central Arkansas                    \n",
       "15 St. John's University                             \n",
       "3  University of Alabama                             \n",
       "4  University of Washington                          \n",
       "5  University of California, Los Angeles             \n",
       "12 Southeastern Oklahoma State University            "
      ]
     },
     "metadata": {},
     "output_type": "display_data"
    }
   ],
   "source": [
    "ordered_indices <- order(chicago_bulls[, \"No.\"])\n",
    "chicago_bulls[ordered_indices, ]"
   ]
  },
  {
   "cell_type": "markdown",
   "metadata": {
    "slideshow": {
     "slide_type": "subslide"
    }
   },
   "source": [
    "## 新增變數"
   ]
  },
  {
   "cell_type": "code",
   "execution_count": 9,
   "metadata": {},
   "outputs": [
    {
     "data": {
      "text/html": [
       "<table>\n",
       "<thead><tr><th scope=col>No.</th><th scope=col>Player</th><th scope=col>Pos</th><th scope=col>Ht</th><th scope=col>Wt</th><th scope=col>Birth.Date</th><th scope=col>College</th><th scope=col>Wt_kg</th></tr></thead>\n",
       "<tbody>\n",
       "\t<tr><td> 0                                                </td><td>Randy Brown                                       </td><td>PG                                                </td><td>6-2                                               </td><td>190                                               </td><td>May 22, 1968                                      </td><td>University of Houston, New Mexico State University</td><td> 86.18210                                         </td></tr>\n",
       "\t<tr><td>30                                                </td><td>Jud Buechler                                      </td><td>SF                                                </td><td>6-6                                               </td><td>220                                               </td><td>June 19, 1968                                     </td><td>University of Arizona                             </td><td> 99.78980                                         </td></tr>\n",
       "\t<tr><td>35                                                </td><td>Jason Caffey                                      </td><td>PF                                                </td><td>6-8                                               </td><td>255                                               </td><td>June 12, 1973                                     </td><td>University of Alabama                             </td><td>115.66545                                         </td></tr>\n",
       "\t<tr><td>53                                                </td><td>James Edwards                                     </td><td>C                                                 </td><td>7-0                                               </td><td>225                                               </td><td>November 22, 1955                                 </td><td>University of Washington                          </td><td>102.05775                                         </td></tr>\n",
       "\t<tr><td>54                                                </td><td>Jack Haley                                        </td><td>C                                                 </td><td>6-10                                              </td><td>240                                               </td><td>January 27, 1964                                  </td><td>University of California, Los Angeles             </td><td>108.86160                                         </td></tr>\n",
       "\t<tr><td> 9                                                </td><td>Ron Harper                                        </td><td>PG                                                </td><td>6-6                                               </td><td>185                                               </td><td>January 20, 1964                                  </td><td>Miami University                                  </td><td> 83.91415                                         </td></tr>\n",
       "</tbody>\n",
       "</table>\n"
      ],
      "text/latex": [
       "\\begin{tabular}{r|llllllll}\n",
       " No. & Player & Pos & Ht & Wt & Birth.Date & College & Wt\\_kg\\\\\n",
       "\\hline\n",
       "\t  0                                                 & Randy Brown                                        & PG                                                 & 6-2                                                & 190                                                & May 22, 1968                                       & University of Houston, New Mexico State University &  86.18210                                         \\\\\n",
       "\t 30                                                 & Jud Buechler                                       & SF                                                 & 6-6                                                & 220                                                & June 19, 1968                                      & University of Arizona                              &  99.78980                                         \\\\\n",
       "\t 35                                                 & Jason Caffey                                       & PF                                                 & 6-8                                                & 255                                                & June 12, 1973                                      & University of Alabama                              & 115.66545                                         \\\\\n",
       "\t 53                                                 & James Edwards                                      & C                                                  & 7-0                                                & 225                                                & November 22, 1955                                  & University of Washington                           & 102.05775                                         \\\\\n",
       "\t 54                                                 & Jack Haley                                         & C                                                  & 6-10                                               & 240                                                & January 27, 1964                                   & University of California, Los Angeles              & 108.86160                                         \\\\\n",
       "\t  9                                                 & Ron Harper                                         & PG                                                 & 6-6                                                & 185                                                & January 20, 1964                                   & Miami University                                   &  83.91415                                         \\\\\n",
       "\\end{tabular}\n"
      ],
      "text/markdown": [
       "\n",
       "| No. | Player | Pos | Ht | Wt | Birth.Date | College | Wt_kg |\n",
       "|---|---|---|---|---|---|---|---|\n",
       "|  0                                                 | Randy Brown                                        | PG                                                 | 6-2                                                | 190                                                | May 22, 1968                                       | University of Houston, New Mexico State University |  86.18210                                          |\n",
       "| 30                                                 | Jud Buechler                                       | SF                                                 | 6-6                                                | 220                                                | June 19, 1968                                      | University of Arizona                              |  99.78980                                          |\n",
       "| 35                                                 | Jason Caffey                                       | PF                                                 | 6-8                                                | 255                                                | June 12, 1973                                      | University of Alabama                              | 115.66545                                          |\n",
       "| 53                                                 | James Edwards                                      | C                                                  | 7-0                                                | 225                                                | November 22, 1955                                  | University of Washington                           | 102.05775                                          |\n",
       "| 54                                                 | Jack Haley                                         | C                                                  | 6-10                                               | 240                                                | January 27, 1964                                   | University of California, Los Angeles              | 108.86160                                          |\n",
       "|  9                                                 | Ron Harper                                         | PG                                                 | 6-6                                                | 185                                                | January 20, 1964                                   | Miami University                                   |  83.91415                                          |\n",
       "\n"
      ],
      "text/plain": [
       "  No. Player        Pos Ht   Wt  Birth.Date       \n",
       "1  0  Randy Brown   PG  6-2  190 May 22, 1968     \n",
       "2 30  Jud Buechler  SF  6-6  220 June 19, 1968    \n",
       "3 35  Jason Caffey  PF  6-8  255 June 12, 1973    \n",
       "4 53  James Edwards C   7-0  225 November 22, 1955\n",
       "5 54  Jack Haley    C   6-10 240 January 27, 1964 \n",
       "6  9  Ron Harper    PG  6-6  185 January 20, 1964 \n",
       "  College                                            Wt_kg    \n",
       "1 University of Houston, New Mexico State University  86.18210\n",
       "2 University of Arizona                               99.78980\n",
       "3 University of Alabama                              115.66545\n",
       "4 University of Washington                           102.05775\n",
       "5 University of California, Los Angeles              108.86160\n",
       "6 Miami University                                    83.91415"
      ]
     },
     "metadata": {},
     "output_type": "display_data"
    }
   ],
   "source": [
    "chicago_bulls$Wt_kg <- chicago_bulls$Wt * 0.45359\n",
    "head(chicago_bulls)"
   ]
  },
  {
   "cell_type": "markdown",
   "metadata": {
    "slideshow": {
     "slide_type": "subslide"
    }
   },
   "source": [
    "## 隨堂練習：新增變數 `Ht_cm`\n",
    "\n",
    "- 1 feet = 30.48 cm\n",
    "- 1 inch = 2.54 cm"
   ]
  },
  {
   "cell_type": "code",
   "execution_count": 10,
   "metadata": {
    "slideshow": {
     "slide_type": "skip"
    }
   },
   "outputs": [],
   "source": [
    "get_cm <- function(x) {\n",
    "    splitted <- strsplit(x, split = \"-\")\n",
    "    feet <- as.numeric(splitted[[1]][1])\n",
    "    inch <- as.numeric(splitted[[1]][2])\n",
    "    cm <- feet * 30.48 + inch * 2.54\n",
    "    return(cm)\n",
    "}\n",
    "chicago_bulls$Ht_cm <- sapply(chicago_bulls$Ht, FUN = get_cm, USE.NAMES = FALSE)"
   ]
  },
  {
   "cell_type": "code",
   "execution_count": 11,
   "metadata": {
    "slideshow": {
     "slide_type": "fragment"
    }
   },
   "outputs": [
    {
     "data": {
      "text/html": [
       "<table>\n",
       "<thead><tr><th scope=col>No.</th><th scope=col>Player</th><th scope=col>Pos</th><th scope=col>Ht</th><th scope=col>Wt</th><th scope=col>Birth.Date</th><th scope=col>College</th><th scope=col>Wt_kg</th><th scope=col>Ht_cm</th></tr></thead>\n",
       "<tbody>\n",
       "\t<tr><td> 0                                                </td><td>Randy Brown                                       </td><td>PG                                                </td><td>6-2                                               </td><td>190                                               </td><td>May 22, 1968                                      </td><td>University of Houston, New Mexico State University</td><td> 86.18210                                         </td><td>187.96                                            </td></tr>\n",
       "\t<tr><td>30                                                </td><td>Jud Buechler                                      </td><td>SF                                                </td><td>6-6                                               </td><td>220                                               </td><td>June 19, 1968                                     </td><td>University of Arizona                             </td><td> 99.78980                                         </td><td>198.12                                            </td></tr>\n",
       "\t<tr><td>35                                                </td><td>Jason Caffey                                      </td><td>PF                                                </td><td>6-8                                               </td><td>255                                               </td><td>June 12, 1973                                     </td><td>University of Alabama                             </td><td>115.66545                                         </td><td>203.20                                            </td></tr>\n",
       "\t<tr><td>53                                                </td><td>James Edwards                                     </td><td>C                                                 </td><td>7-0                                               </td><td>225                                               </td><td>November 22, 1955                                 </td><td>University of Washington                          </td><td>102.05775                                         </td><td>213.36                                            </td></tr>\n",
       "\t<tr><td>54                                                </td><td>Jack Haley                                        </td><td>C                                                 </td><td>6-10                                              </td><td>240                                               </td><td>January 27, 1964                                  </td><td>University of California, Los Angeles             </td><td>108.86160                                         </td><td>208.28                                            </td></tr>\n",
       "\t<tr><td> 9                                                </td><td>Ron Harper                                        </td><td>PG                                                </td><td>6-6                                               </td><td>185                                               </td><td>January 20, 1964                                  </td><td>Miami University                                  </td><td> 83.91415                                         </td><td>198.12                                            </td></tr>\n",
       "</tbody>\n",
       "</table>\n"
      ],
      "text/latex": [
       "\\begin{tabular}{r|lllllllll}\n",
       " No. & Player & Pos & Ht & Wt & Birth.Date & College & Wt\\_kg & Ht\\_cm\\\\\n",
       "\\hline\n",
       "\t  0                                                 & Randy Brown                                        & PG                                                 & 6-2                                                & 190                                                & May 22, 1968                                       & University of Houston, New Mexico State University &  86.18210                                          & 187.96                                            \\\\\n",
       "\t 30                                                 & Jud Buechler                                       & SF                                                 & 6-6                                                & 220                                                & June 19, 1968                                      & University of Arizona                              &  99.78980                                          & 198.12                                            \\\\\n",
       "\t 35                                                 & Jason Caffey                                       & PF                                                 & 6-8                                                & 255                                                & June 12, 1973                                      & University of Alabama                              & 115.66545                                          & 203.20                                            \\\\\n",
       "\t 53                                                 & James Edwards                                      & C                                                  & 7-0                                                & 225                                                & November 22, 1955                                  & University of Washington                           & 102.05775                                          & 213.36                                            \\\\\n",
       "\t 54                                                 & Jack Haley                                         & C                                                  & 6-10                                               & 240                                                & January 27, 1964                                   & University of California, Los Angeles              & 108.86160                                          & 208.28                                            \\\\\n",
       "\t  9                                                 & Ron Harper                                         & PG                                                 & 6-6                                                & 185                                                & January 20, 1964                                   & Miami University                                   &  83.91415                                          & 198.12                                            \\\\\n",
       "\\end{tabular}\n"
      ],
      "text/markdown": [
       "\n",
       "| No. | Player | Pos | Ht | Wt | Birth.Date | College | Wt_kg | Ht_cm |\n",
       "|---|---|---|---|---|---|---|---|---|\n",
       "|  0                                                 | Randy Brown                                        | PG                                                 | 6-2                                                | 190                                                | May 22, 1968                                       | University of Houston, New Mexico State University |  86.18210                                          | 187.96                                             |\n",
       "| 30                                                 | Jud Buechler                                       | SF                                                 | 6-6                                                | 220                                                | June 19, 1968                                      | University of Arizona                              |  99.78980                                          | 198.12                                             |\n",
       "| 35                                                 | Jason Caffey                                       | PF                                                 | 6-8                                                | 255                                                | June 12, 1973                                      | University of Alabama                              | 115.66545                                          | 203.20                                             |\n",
       "| 53                                                 | James Edwards                                      | C                                                  | 7-0                                                | 225                                                | November 22, 1955                                  | University of Washington                           | 102.05775                                          | 213.36                                             |\n",
       "| 54                                                 | Jack Haley                                         | C                                                  | 6-10                                               | 240                                                | January 27, 1964                                   | University of California, Los Angeles              | 108.86160                                          | 208.28                                             |\n",
       "|  9                                                 | Ron Harper                                         | PG                                                 | 6-6                                                | 185                                                | January 20, 1964                                   | Miami University                                   |  83.91415                                          | 198.12                                             |\n",
       "\n"
      ],
      "text/plain": [
       "  No. Player        Pos Ht   Wt  Birth.Date       \n",
       "1  0  Randy Brown   PG  6-2  190 May 22, 1968     \n",
       "2 30  Jud Buechler  SF  6-6  220 June 19, 1968    \n",
       "3 35  Jason Caffey  PF  6-8  255 June 12, 1973    \n",
       "4 53  James Edwards C   7-0  225 November 22, 1955\n",
       "5 54  Jack Haley    C   6-10 240 January 27, 1964 \n",
       "6  9  Ron Harper    PG  6-6  185 January 20, 1964 \n",
       "  College                                            Wt_kg     Ht_cm \n",
       "1 University of Houston, New Mexico State University  86.18210 187.96\n",
       "2 University of Arizona                               99.78980 198.12\n",
       "3 University of Alabama                              115.66545 203.20\n",
       "4 University of Washington                           102.05775 213.36\n",
       "5 University of California, Los Angeles              108.86160 208.28\n",
       "6 Miami University                                    83.91415 198.12"
      ]
     },
     "metadata": {},
     "output_type": "display_data"
    }
   ],
   "source": [
    "head(chicago_bulls)"
   ]
  },
  {
   "cell_type": "markdown",
   "metadata": {
    "slideshow": {
     "slide_type": "subslide"
    }
   },
   "source": [
    "## 摘要\n",
    "\n",
    "針對欲摘要的變數使用敘述性統計函數"
   ]
  },
  {
   "cell_type": "code",
   "execution_count": 12,
   "metadata": {},
   "outputs": [
    {
     "data": {
      "text/html": [
       "203.877333333333"
      ],
      "text/latex": [
       "203.877333333333"
      ],
      "text/markdown": [
       "203.877333333333"
      ],
      "text/plain": [
       "[1] 203.8773"
      ]
     },
     "metadata": {},
     "output_type": "display_data"
    }
   ],
   "source": [
    "mean(chicago_bulls$Ht_cm)"
   ]
  },
  {
   "cell_type": "markdown",
   "metadata": {
    "slideshow": {
     "slide_type": "slide"
    }
   },
   "source": [
    "## 使用 `dplyr` 處理資料框"
   ]
  },
  {
   "cell_type": "markdown",
   "metadata": {
    "slideshow": {
     "slide_type": "subslide"
    }
   },
   "source": [
    "## 使用 `dplyr` 處理資料框\n",
    "\n",
    "- 安裝 `dplyr` 套件 \n",
    "- 載入 `dplyr` 套件"
   ]
  },
  {
   "cell_type": "markdown",
   "metadata": {
    "slideshow": {
     "slide_type": "subslide"
    }
   },
   "source": [
    "## 安裝 `dplyr` 套件\n",
    "\n",
    "- 透過 RStudio 的 `Packages` 功能頁籤\n",
    "- 透過 `install.packages()` 函數\n",
    "\n",
    "```r\n",
    "install.packages(\"dplyr\")\n",
    "```"
   ]
  },
  {
   "cell_type": "markdown",
   "metadata": {
    "slideshow": {
     "slide_type": "subslide"
    }
   },
   "source": [
    "## 載入 `dplyr` 套件\n",
    "\n",
    "- 透過 RStudio 的 `Packages` 功能頁籤\n",
    "- 透過 `library()` 函數"
   ]
  },
  {
   "cell_type": "code",
   "execution_count": 13,
   "metadata": {},
   "outputs": [
    {
     "name": "stderr",
     "output_type": "stream",
     "text": [
      "\n",
      "Attaching package: ‘dplyr’\n",
      "\n",
      "The following objects are masked from ‘package:stats’:\n",
      "\n",
      "    filter, lag\n",
      "\n",
      "The following objects are masked from ‘package:base’:\n",
      "\n",
      "    intersect, setdiff, setequal, union\n",
      "\n"
     ]
    }
   ],
   "source": [
    "library(\"dplyr\")"
   ]
  },
  {
   "cell_type": "markdown",
   "metadata": {
    "slideshow": {
     "slide_type": "subslide"
    }
   },
   "source": [
    "## 使用 `%>%` 鏈結函數（chaining functions）\n",
    "\n",
    "- `%>%` 運算符來自 `magrittr`，會隨著 `dplyr` 一起被安裝\n",
    "- 讓需要鏈結函數的資料操作可讀性更高\n",
    "- 在 RStudio 中使用 `Ctrl-Shift-M` 快捷鍵可以叫出 `%>%` 運算符"
   ]
  },
  {
   "cell_type": "markdown",
   "metadata": {
    "slideshow": {
     "slide_type": "subslide"
    }
   },
   "source": [
    "## 使用 `dplyr` 進行基礎資料框處理\n",
    "\n",
    "- 解構資料框\n",
    "    - 選擇與篩選\n",
    "- 排序資料框\n",
    "- 新增變數\n",
    "- 摘要\n",
    "- 分組摘要"
   ]
  },
  {
   "cell_type": "markdown",
   "metadata": {
    "slideshow": {
     "slide_type": "subslide"
    }
   },
   "source": [
    "## 解構資料框：選擇與篩選\n",
    "\n",
    "- 使用 `dplyr::select()` 函數選擇\n",
    "- 使用 `dplyr::filter()` 函數篩選"
   ]
  },
  {
   "cell_type": "code",
   "execution_count": 14,
   "metadata": {
    "slideshow": {
     "slide_type": "-"
    }
   },
   "outputs": [
    {
     "data": {
      "text/html": [
       "<table>\n",
       "<thead><tr><th scope=col>Player</th></tr></thead>\n",
       "<tbody>\n",
       "\t<tr><td>Randy Brown    </td></tr>\n",
       "\t<tr><td>Jud Buechler   </td></tr>\n",
       "\t<tr><td>Jason Caffey   </td></tr>\n",
       "\t<tr><td>James Edwards  </td></tr>\n",
       "\t<tr><td>Jack Haley     </td></tr>\n",
       "\t<tr><td>Ron Harper     </td></tr>\n",
       "\t<tr><td>Michael Jordan </td></tr>\n",
       "\t<tr><td>Steve Kerr     </td></tr>\n",
       "\t<tr><td>Toni Kukoc     </td></tr>\n",
       "\t<tr><td>Luc Longley    </td></tr>\n",
       "\t<tr><td>Scottie Pippen </td></tr>\n",
       "\t<tr><td>Dennis Rodman  </td></tr>\n",
       "\t<tr><td>John Salley    </td></tr>\n",
       "\t<tr><td>Dickey Simpkins</td></tr>\n",
       "\t<tr><td>Bill Wennington</td></tr>\n",
       "</tbody>\n",
       "</table>\n"
      ],
      "text/latex": [
       "\\begin{tabular}{r|l}\n",
       " Player\\\\\n",
       "\\hline\n",
       "\t Randy Brown    \\\\\n",
       "\t Jud Buechler   \\\\\n",
       "\t Jason Caffey   \\\\\n",
       "\t James Edwards  \\\\\n",
       "\t Jack Haley     \\\\\n",
       "\t Ron Harper     \\\\\n",
       "\t Michael Jordan \\\\\n",
       "\t Steve Kerr     \\\\\n",
       "\t Toni Kukoc     \\\\\n",
       "\t Luc Longley    \\\\\n",
       "\t Scottie Pippen \\\\\n",
       "\t Dennis Rodman  \\\\\n",
       "\t John Salley    \\\\\n",
       "\t Dickey Simpkins\\\\\n",
       "\t Bill Wennington\\\\\n",
       "\\end{tabular}\n"
      ],
      "text/markdown": [
       "\n",
       "| Player |\n",
       "|---|\n",
       "| Randy Brown     |\n",
       "| Jud Buechler    |\n",
       "| Jason Caffey    |\n",
       "| James Edwards   |\n",
       "| Jack Haley      |\n",
       "| Ron Harper      |\n",
       "| Michael Jordan  |\n",
       "| Steve Kerr      |\n",
       "| Toni Kukoc      |\n",
       "| Luc Longley     |\n",
       "| Scottie Pippen  |\n",
       "| Dennis Rodman   |\n",
       "| John Salley     |\n",
       "| Dickey Simpkins |\n",
       "| Bill Wennington |\n",
       "\n"
      ],
      "text/plain": [
       "   Player         \n",
       "1  Randy Brown    \n",
       "2  Jud Buechler   \n",
       "3  Jason Caffey   \n",
       "4  James Edwards  \n",
       "5  Jack Haley     \n",
       "6  Ron Harper     \n",
       "7  Michael Jordan \n",
       "8  Steve Kerr     \n",
       "9  Toni Kukoc     \n",
       "10 Luc Longley    \n",
       "11 Scottie Pippen \n",
       "12 Dennis Rodman  \n",
       "13 John Salley    \n",
       "14 Dickey Simpkins\n",
       "15 Bill Wennington"
      ]
     },
     "metadata": {},
     "output_type": "display_data"
    },
    {
     "data": {
      "text/html": [
       "<table>\n",
       "<thead><tr><th scope=col>Player</th></tr></thead>\n",
       "<tbody>\n",
       "\t<tr><td>Michael Jordan</td></tr>\n",
       "</tbody>\n",
       "</table>\n"
      ],
      "text/latex": [
       "\\begin{tabular}{r|l}\n",
       " Player\\\\\n",
       "\\hline\n",
       "\t Michael Jordan\\\\\n",
       "\\end{tabular}\n"
      ],
      "text/markdown": [
       "\n",
       "| Player |\n",
       "|---|\n",
       "| Michael Jordan |\n",
       "\n"
      ],
      "text/plain": [
       "  Player        \n",
       "1 Michael Jordan"
      ]
     },
     "metadata": {},
     "output_type": "display_data"
    }
   ],
   "source": [
    "# Without %>%\n",
    "select(chicago_bulls, Player)\n",
    "filter(select(chicago_bulls, Player), Player == \"Michael Jordan\")"
   ]
  },
  {
   "cell_type": "code",
   "execution_count": 15,
   "metadata": {
    "slideshow": {
     "slide_type": "subslide"
    }
   },
   "outputs": [
    {
     "data": {
      "text/html": [
       "<table>\n",
       "<thead><tr><th scope=col>Player</th></tr></thead>\n",
       "<tbody>\n",
       "\t<tr><td>Michael Jordan</td></tr>\n",
       "</tbody>\n",
       "</table>\n"
      ],
      "text/latex": [
       "\\begin{tabular}{r|l}\n",
       " Player\\\\\n",
       "\\hline\n",
       "\t Michael Jordan\\\\\n",
       "\\end{tabular}\n"
      ],
      "text/markdown": [
       "\n",
       "| Player |\n",
       "|---|\n",
       "| Michael Jordan |\n",
       "\n"
      ],
      "text/plain": [
       "  Player        \n",
       "1 Michael Jordan"
      ]
     },
     "metadata": {},
     "output_type": "display_data"
    }
   ],
   "source": [
    "# With %>%\n",
    "chicago_bulls %>% \n",
    "    select(Player) %>% \n",
    "    filter(Player == \"Michael Jordan\")"
   ]
  },
  {
   "cell_type": "markdown",
   "metadata": {
    "slideshow": {
     "slide_type": "subslide"
    }
   },
   "source": [
    "## 排序資料框\n",
    "\n",
    "使用 `dplyr::arrange()` 函數排序"
   ]
  },
  {
   "cell_type": "code",
   "execution_count": 16,
   "metadata": {},
   "outputs": [
    {
     "data": {
      "text/html": [
       "<table>\n",
       "<thead><tr><th scope=col>No.</th><th scope=col>Player</th><th scope=col>Pos</th><th scope=col>Ht</th><th scope=col>Wt</th><th scope=col>Birth.Date</th><th scope=col>College</th><th scope=col>Wt_kg</th><th scope=col>Ht_cm</th></tr></thead>\n",
       "<tbody>\n",
       "\t<tr><td> 0                                                </td><td>Randy Brown                                       </td><td>PG                                                </td><td>6-2                                               </td><td>190                                               </td><td>May 22, 1968                                      </td><td>University of Houston, New Mexico State University</td><td> 86.18210                                         </td><td>187.96                                            </td></tr>\n",
       "\t<tr><td> 7                                                </td><td>Toni Kukoc                                        </td><td>SF                                                </td><td>6-10                                              </td><td>192                                               </td><td>September 18, 1968                                </td><td>                                                  </td><td> 87.08928                                         </td><td>208.28                                            </td></tr>\n",
       "\t<tr><td> 8                                                </td><td>Dickey Simpkins                                   </td><td>PF                                                </td><td>6-9                                               </td><td>248                                               </td><td>April 6, 1972                                     </td><td>Providence College                                </td><td>112.49032                                         </td><td>205.74                                            </td></tr>\n",
       "\t<tr><td> 9                                                </td><td>Ron Harper                                        </td><td>PG                                                </td><td>6-6                                               </td><td>185                                               </td><td>January 20, 1964                                  </td><td>Miami University                                  </td><td> 83.91415                                         </td><td>198.12                                            </td></tr>\n",
       "\t<tr><td>13                                                </td><td>Luc Longley                                       </td><td>C                                                 </td><td>7-2                                               </td><td>265                                               </td><td>January 19, 1969                                  </td><td>University of New Mexico                          </td><td>120.20135                                         </td><td>218.44                                            </td></tr>\n",
       "\t<tr><td>22                                                </td><td>John Salley                                       </td><td>PF                                                </td><td>6-11                                              </td><td>230                                               </td><td>May 16, 1964                                      </td><td>Georgia Institute of Technology                   </td><td>104.32570                                         </td><td>210.82                                            </td></tr>\n",
       "\t<tr><td>23                                                </td><td>Michael Jordan                                    </td><td>SG                                                </td><td>6-6                                               </td><td>195                                               </td><td>February 17, 1963                                 </td><td>University of North Carolina                      </td><td> 88.45005                                         </td><td>198.12                                            </td></tr>\n",
       "\t<tr><td>25                                                </td><td>Steve Kerr                                        </td><td>PG                                                </td><td>6-3                                               </td><td>175                                               </td><td>September 27, 1965                                </td><td>University of Arizona                             </td><td> 79.37825                                         </td><td>190.50                                            </td></tr>\n",
       "\t<tr><td>30                                                </td><td>Jud Buechler                                      </td><td>SF                                                </td><td>6-6                                               </td><td>220                                               </td><td>June 19, 1968                                     </td><td>University of Arizona                             </td><td> 99.78980                                         </td><td>198.12                                            </td></tr>\n",
       "\t<tr><td>33                                                </td><td>Scottie Pippen                                    </td><td>SF                                                </td><td>6-8                                               </td><td>210                                               </td><td>September 25, 1965                                </td><td>University of Central Arkansas                    </td><td> 95.25390                                         </td><td>203.20                                            </td></tr>\n",
       "\t<tr><td>34                                                </td><td>Bill Wennington                                   </td><td>C                                                 </td><td>7-0                                               </td><td>245                                               </td><td>April 26, 1963                                    </td><td>St. John's University                             </td><td>111.12955                                         </td><td>213.36                                            </td></tr>\n",
       "\t<tr><td>35                                                </td><td>Jason Caffey                                      </td><td>PF                                                </td><td>6-8                                               </td><td>255                                               </td><td>June 12, 1973                                     </td><td>University of Alabama                             </td><td>115.66545                                         </td><td>203.20                                            </td></tr>\n",
       "\t<tr><td>53                                                </td><td>James Edwards                                     </td><td>C                                                 </td><td>7-0                                               </td><td>225                                               </td><td>November 22, 1955                                 </td><td>University of Washington                          </td><td>102.05775                                         </td><td>213.36                                            </td></tr>\n",
       "\t<tr><td>54                                                </td><td>Jack Haley                                        </td><td>C                                                 </td><td>6-10                                              </td><td>240                                               </td><td>January 27, 1964                                  </td><td>University of California, Los Angeles             </td><td>108.86160                                         </td><td>208.28                                            </td></tr>\n",
       "\t<tr><td>91                                                </td><td>Dennis Rodman                                     </td><td>PF                                                </td><td>6-7                                               </td><td>210                                               </td><td>May 13, 1961                                      </td><td>Southeastern Oklahoma State University            </td><td> 95.25390                                         </td><td>200.66                                            </td></tr>\n",
       "</tbody>\n",
       "</table>\n"
      ],
      "text/latex": [
       "\\begin{tabular}{r|lllllllll}\n",
       " No. & Player & Pos & Ht & Wt & Birth.Date & College & Wt\\_kg & Ht\\_cm\\\\\n",
       "\\hline\n",
       "\t  0                                                 & Randy Brown                                        & PG                                                 & 6-2                                                & 190                                                & May 22, 1968                                       & University of Houston, New Mexico State University &  86.18210                                          & 187.96                                            \\\\\n",
       "\t  7                                                 & Toni Kukoc                                         & SF                                                 & 6-10                                               & 192                                                & September 18, 1968                                 &                                                    &  87.08928                                          & 208.28                                            \\\\\n",
       "\t  8                                                 & Dickey Simpkins                                    & PF                                                 & 6-9                                                & 248                                                & April 6, 1972                                      & Providence College                                 & 112.49032                                          & 205.74                                            \\\\\n",
       "\t  9                                                 & Ron Harper                                         & PG                                                 & 6-6                                                & 185                                                & January 20, 1964                                   & Miami University                                   &  83.91415                                          & 198.12                                            \\\\\n",
       "\t 13                                                 & Luc Longley                                        & C                                                  & 7-2                                                & 265                                                & January 19, 1969                                   & University of New Mexico                           & 120.20135                                          & 218.44                                            \\\\\n",
       "\t 22                                                 & John Salley                                        & PF                                                 & 6-11                                               & 230                                                & May 16, 1964                                       & Georgia Institute of Technology                    & 104.32570                                          & 210.82                                            \\\\\n",
       "\t 23                                                 & Michael Jordan                                     & SG                                                 & 6-6                                                & 195                                                & February 17, 1963                                  & University of North Carolina                       &  88.45005                                          & 198.12                                            \\\\\n",
       "\t 25                                                 & Steve Kerr                                         & PG                                                 & 6-3                                                & 175                                                & September 27, 1965                                 & University of Arizona                              &  79.37825                                          & 190.50                                            \\\\\n",
       "\t 30                                                 & Jud Buechler                                       & SF                                                 & 6-6                                                & 220                                                & June 19, 1968                                      & University of Arizona                              &  99.78980                                          & 198.12                                            \\\\\n",
       "\t 33                                                 & Scottie Pippen                                     & SF                                                 & 6-8                                                & 210                                                & September 25, 1965                                 & University of Central Arkansas                     &  95.25390                                          & 203.20                                            \\\\\n",
       "\t 34                                                 & Bill Wennington                                    & C                                                  & 7-0                                                & 245                                                & April 26, 1963                                     & St. John's University                              & 111.12955                                          & 213.36                                            \\\\\n",
       "\t 35                                                 & Jason Caffey                                       & PF                                                 & 6-8                                                & 255                                                & June 12, 1973                                      & University of Alabama                              & 115.66545                                          & 203.20                                            \\\\\n",
       "\t 53                                                 & James Edwards                                      & C                                                  & 7-0                                                & 225                                                & November 22, 1955                                  & University of Washington                           & 102.05775                                          & 213.36                                            \\\\\n",
       "\t 54                                                 & Jack Haley                                         & C                                                  & 6-10                                               & 240                                                & January 27, 1964                                   & University of California, Los Angeles              & 108.86160                                          & 208.28                                            \\\\\n",
       "\t 91                                                 & Dennis Rodman                                      & PF                                                 & 6-7                                                & 210                                                & May 13, 1961                                       & Southeastern Oklahoma State University             &  95.25390                                          & 200.66                                            \\\\\n",
       "\\end{tabular}\n"
      ],
      "text/markdown": [
       "\n",
       "| No. | Player | Pos | Ht | Wt | Birth.Date | College | Wt_kg | Ht_cm |\n",
       "|---|---|---|---|---|---|---|---|---|\n",
       "|  0                                                 | Randy Brown                                        | PG                                                 | 6-2                                                | 190                                                | May 22, 1968                                       | University of Houston, New Mexico State University |  86.18210                                          | 187.96                                             |\n",
       "|  7                                                 | Toni Kukoc                                         | SF                                                 | 6-10                                               | 192                                                | September 18, 1968                                 |                                                    |  87.08928                                          | 208.28                                             |\n",
       "|  8                                                 | Dickey Simpkins                                    | PF                                                 | 6-9                                                | 248                                                | April 6, 1972                                      | Providence College                                 | 112.49032                                          | 205.74                                             |\n",
       "|  9                                                 | Ron Harper                                         | PG                                                 | 6-6                                                | 185                                                | January 20, 1964                                   | Miami University                                   |  83.91415                                          | 198.12                                             |\n",
       "| 13                                                 | Luc Longley                                        | C                                                  | 7-2                                                | 265                                                | January 19, 1969                                   | University of New Mexico                           | 120.20135                                          | 218.44                                             |\n",
       "| 22                                                 | John Salley                                        | PF                                                 | 6-11                                               | 230                                                | May 16, 1964                                       | Georgia Institute of Technology                    | 104.32570                                          | 210.82                                             |\n",
       "| 23                                                 | Michael Jordan                                     | SG                                                 | 6-6                                                | 195                                                | February 17, 1963                                  | University of North Carolina                       |  88.45005                                          | 198.12                                             |\n",
       "| 25                                                 | Steve Kerr                                         | PG                                                 | 6-3                                                | 175                                                | September 27, 1965                                 | University of Arizona                              |  79.37825                                          | 190.50                                             |\n",
       "| 30                                                 | Jud Buechler                                       | SF                                                 | 6-6                                                | 220                                                | June 19, 1968                                      | University of Arizona                              |  99.78980                                          | 198.12                                             |\n",
       "| 33                                                 | Scottie Pippen                                     | SF                                                 | 6-8                                                | 210                                                | September 25, 1965                                 | University of Central Arkansas                     |  95.25390                                          | 203.20                                             |\n",
       "| 34                                                 | Bill Wennington                                    | C                                                  | 7-0                                                | 245                                                | April 26, 1963                                     | St. John's University                              | 111.12955                                          | 213.36                                             |\n",
       "| 35                                                 | Jason Caffey                                       | PF                                                 | 6-8                                                | 255                                                | June 12, 1973                                      | University of Alabama                              | 115.66545                                          | 203.20                                             |\n",
       "| 53                                                 | James Edwards                                      | C                                                  | 7-0                                                | 225                                                | November 22, 1955                                  | University of Washington                           | 102.05775                                          | 213.36                                             |\n",
       "| 54                                                 | Jack Haley                                         | C                                                  | 6-10                                               | 240                                                | January 27, 1964                                   | University of California, Los Angeles              | 108.86160                                          | 208.28                                             |\n",
       "| 91                                                 | Dennis Rodman                                      | PF                                                 | 6-7                                                | 210                                                | May 13, 1961                                       | Southeastern Oklahoma State University             |  95.25390                                          | 200.66                                             |\n",
       "\n"
      ],
      "text/plain": [
       "   No. Player          Pos Ht   Wt  Birth.Date        \n",
       "1   0  Randy Brown     PG  6-2  190 May 22, 1968      \n",
       "2   7  Toni Kukoc      SF  6-10 192 September 18, 1968\n",
       "3   8  Dickey Simpkins PF  6-9  248 April 6, 1972     \n",
       "4   9  Ron Harper      PG  6-6  185 January 20, 1964  \n",
       "5  13  Luc Longley     C   7-2  265 January 19, 1969  \n",
       "6  22  John Salley     PF  6-11 230 May 16, 1964      \n",
       "7  23  Michael Jordan  SG  6-6  195 February 17, 1963 \n",
       "8  25  Steve Kerr      PG  6-3  175 September 27, 1965\n",
       "9  30  Jud Buechler    SF  6-6  220 June 19, 1968     \n",
       "10 33  Scottie Pippen  SF  6-8  210 September 25, 1965\n",
       "11 34  Bill Wennington C   7-0  245 April 26, 1963    \n",
       "12 35  Jason Caffey    PF  6-8  255 June 12, 1973     \n",
       "13 53  James Edwards   C   7-0  225 November 22, 1955 \n",
       "14 54  Jack Haley      C   6-10 240 January 27, 1964  \n",
       "15 91  Dennis Rodman   PF  6-7  210 May 13, 1961      \n",
       "   College                                            Wt_kg     Ht_cm \n",
       "1  University of Houston, New Mexico State University  86.18210 187.96\n",
       "2                                                      87.08928 208.28\n",
       "3  Providence College                                 112.49032 205.74\n",
       "4  Miami University                                    83.91415 198.12\n",
       "5  University of New Mexico                           120.20135 218.44\n",
       "6  Georgia Institute of Technology                    104.32570 210.82\n",
       "7  University of North Carolina                        88.45005 198.12\n",
       "8  University of Arizona                               79.37825 190.50\n",
       "9  University of Arizona                               99.78980 198.12\n",
       "10 University of Central Arkansas                      95.25390 203.20\n",
       "11 St. John's University                              111.12955 213.36\n",
       "12 University of Alabama                              115.66545 203.20\n",
       "13 University of Washington                           102.05775 213.36\n",
       "14 University of California, Los Angeles              108.86160 208.28\n",
       "15 Southeastern Oklahoma State University              95.25390 200.66"
      ]
     },
     "metadata": {},
     "output_type": "display_data"
    }
   ],
   "source": [
    "chicago_bulls %>% \n",
    "    arrange(`No.`)"
   ]
  },
  {
   "cell_type": "markdown",
   "metadata": {
    "slideshow": {
     "slide_type": "subslide"
    }
   },
   "source": [
    "## 新增變數\n",
    "\n",
    "使用 `dplyr::mutate()` 函數新增變數"
   ]
  },
  {
   "cell_type": "code",
   "execution_count": 17,
   "metadata": {},
   "outputs": [
    {
     "data": {
      "text/html": [
       "<table>\n",
       "<thead><tr><th scope=col>No.</th><th scope=col>Player</th><th scope=col>Pos</th><th scope=col>Ht</th><th scope=col>Wt</th><th scope=col>Birth.Date</th><th scope=col>College</th><th scope=col>Wt_kg</th><th scope=col>Ht_cm</th></tr></thead>\n",
       "<tbody>\n",
       "\t<tr><td> 0                                                </td><td>Randy Brown                                       </td><td>PG                                                </td><td>6-2                                               </td><td>190                                               </td><td>May 22, 1968                                      </td><td>University of Houston, New Mexico State University</td><td> 86.18210                                         </td><td>187.96                                            </td></tr>\n",
       "\t<tr><td>30                                                </td><td>Jud Buechler                                      </td><td>SF                                                </td><td>6-6                                               </td><td>220                                               </td><td>June 19, 1968                                     </td><td>University of Arizona                             </td><td> 99.78980                                         </td><td>198.12                                            </td></tr>\n",
       "\t<tr><td>35                                                </td><td>Jason Caffey                                      </td><td>PF                                                </td><td>6-8                                               </td><td>255                                               </td><td>June 12, 1973                                     </td><td>University of Alabama                             </td><td>115.66545                                         </td><td>203.20                                            </td></tr>\n",
       "\t<tr><td>53                                                </td><td>James Edwards                                     </td><td>C                                                 </td><td>7-0                                               </td><td>225                                               </td><td>November 22, 1955                                 </td><td>University of Washington                          </td><td>102.05775                                         </td><td>213.36                                            </td></tr>\n",
       "\t<tr><td>54                                                </td><td>Jack Haley                                        </td><td>C                                                 </td><td>6-10                                              </td><td>240                                               </td><td>January 27, 1964                                  </td><td>University of California, Los Angeles             </td><td>108.86160                                         </td><td>208.28                                            </td></tr>\n",
       "\t<tr><td> 9                                                </td><td>Ron Harper                                        </td><td>PG                                                </td><td>6-6                                               </td><td>185                                               </td><td>January 20, 1964                                  </td><td>Miami University                                  </td><td> 83.91415                                         </td><td>198.12                                            </td></tr>\n",
       "\t<tr><td>23                                                </td><td>Michael Jordan                                    </td><td>SG                                                </td><td>6-6                                               </td><td>195                                               </td><td>February 17, 1963                                 </td><td>University of North Carolina                      </td><td> 88.45005                                         </td><td>198.12                                            </td></tr>\n",
       "\t<tr><td>25                                                </td><td>Steve Kerr                                        </td><td>PG                                                </td><td>6-3                                               </td><td>175                                               </td><td>September 27, 1965                                </td><td>University of Arizona                             </td><td> 79.37825                                         </td><td>190.50                                            </td></tr>\n",
       "\t<tr><td> 7                                                </td><td>Toni Kukoc                                        </td><td>SF                                                </td><td>6-10                                              </td><td>192                                               </td><td>September 18, 1968                                </td><td>                                                  </td><td> 87.08928                                         </td><td>208.28                                            </td></tr>\n",
       "\t<tr><td>13                                                </td><td>Luc Longley                                       </td><td>C                                                 </td><td>7-2                                               </td><td>265                                               </td><td>January 19, 1969                                  </td><td>University of New Mexico                          </td><td>120.20135                                         </td><td>218.44                                            </td></tr>\n",
       "\t<tr><td>33                                                </td><td>Scottie Pippen                                    </td><td>SF                                                </td><td>6-8                                               </td><td>210                                               </td><td>September 25, 1965                                </td><td>University of Central Arkansas                    </td><td> 95.25390                                         </td><td>203.20                                            </td></tr>\n",
       "\t<tr><td>91                                                </td><td>Dennis Rodman                                     </td><td>PF                                                </td><td>6-7                                               </td><td>210                                               </td><td>May 13, 1961                                      </td><td>Southeastern Oklahoma State University            </td><td> 95.25390                                         </td><td>200.66                                            </td></tr>\n",
       "\t<tr><td>22                                                </td><td>John Salley                                       </td><td>PF                                                </td><td>6-11                                              </td><td>230                                               </td><td>May 16, 1964                                      </td><td>Georgia Institute of Technology                   </td><td>104.32570                                         </td><td>210.82                                            </td></tr>\n",
       "\t<tr><td> 8                                                </td><td>Dickey Simpkins                                   </td><td>PF                                                </td><td>6-9                                               </td><td>248                                               </td><td>April 6, 1972                                     </td><td>Providence College                                </td><td>112.49032                                         </td><td>205.74                                            </td></tr>\n",
       "\t<tr><td>34                                                </td><td>Bill Wennington                                   </td><td>C                                                 </td><td>7-0                                               </td><td>245                                               </td><td>April 26, 1963                                    </td><td>St. John's University                             </td><td>111.12955                                         </td><td>213.36                                            </td></tr>\n",
       "</tbody>\n",
       "</table>\n"
      ],
      "text/latex": [
       "\\begin{tabular}{r|lllllllll}\n",
       " No. & Player & Pos & Ht & Wt & Birth.Date & College & Wt\\_kg & Ht\\_cm\\\\\n",
       "\\hline\n",
       "\t  0                                                 & Randy Brown                                        & PG                                                 & 6-2                                                & 190                                                & May 22, 1968                                       & University of Houston, New Mexico State University &  86.18210                                          & 187.96                                            \\\\\n",
       "\t 30                                                 & Jud Buechler                                       & SF                                                 & 6-6                                                & 220                                                & June 19, 1968                                      & University of Arizona                              &  99.78980                                          & 198.12                                            \\\\\n",
       "\t 35                                                 & Jason Caffey                                       & PF                                                 & 6-8                                                & 255                                                & June 12, 1973                                      & University of Alabama                              & 115.66545                                          & 203.20                                            \\\\\n",
       "\t 53                                                 & James Edwards                                      & C                                                  & 7-0                                                & 225                                                & November 22, 1955                                  & University of Washington                           & 102.05775                                          & 213.36                                            \\\\\n",
       "\t 54                                                 & Jack Haley                                         & C                                                  & 6-10                                               & 240                                                & January 27, 1964                                   & University of California, Los Angeles              & 108.86160                                          & 208.28                                            \\\\\n",
       "\t  9                                                 & Ron Harper                                         & PG                                                 & 6-6                                                & 185                                                & January 20, 1964                                   & Miami University                                   &  83.91415                                          & 198.12                                            \\\\\n",
       "\t 23                                                 & Michael Jordan                                     & SG                                                 & 6-6                                                & 195                                                & February 17, 1963                                  & University of North Carolina                       &  88.45005                                          & 198.12                                            \\\\\n",
       "\t 25                                                 & Steve Kerr                                         & PG                                                 & 6-3                                                & 175                                                & September 27, 1965                                 & University of Arizona                              &  79.37825                                          & 190.50                                            \\\\\n",
       "\t  7                                                 & Toni Kukoc                                         & SF                                                 & 6-10                                               & 192                                                & September 18, 1968                                 &                                                    &  87.08928                                          & 208.28                                            \\\\\n",
       "\t 13                                                 & Luc Longley                                        & C                                                  & 7-2                                                & 265                                                & January 19, 1969                                   & University of New Mexico                           & 120.20135                                          & 218.44                                            \\\\\n",
       "\t 33                                                 & Scottie Pippen                                     & SF                                                 & 6-8                                                & 210                                                & September 25, 1965                                 & University of Central Arkansas                     &  95.25390                                          & 203.20                                            \\\\\n",
       "\t 91                                                 & Dennis Rodman                                      & PF                                                 & 6-7                                                & 210                                                & May 13, 1961                                       & Southeastern Oklahoma State University             &  95.25390                                          & 200.66                                            \\\\\n",
       "\t 22                                                 & John Salley                                        & PF                                                 & 6-11                                               & 230                                                & May 16, 1964                                       & Georgia Institute of Technology                    & 104.32570                                          & 210.82                                            \\\\\n",
       "\t  8                                                 & Dickey Simpkins                                    & PF                                                 & 6-9                                                & 248                                                & April 6, 1972                                      & Providence College                                 & 112.49032                                          & 205.74                                            \\\\\n",
       "\t 34                                                 & Bill Wennington                                    & C                                                  & 7-0                                                & 245                                                & April 26, 1963                                     & St. John's University                              & 111.12955                                          & 213.36                                            \\\\\n",
       "\\end{tabular}\n"
      ],
      "text/markdown": [
       "\n",
       "| No. | Player | Pos | Ht | Wt | Birth.Date | College | Wt_kg | Ht_cm |\n",
       "|---|---|---|---|---|---|---|---|---|\n",
       "|  0                                                 | Randy Brown                                        | PG                                                 | 6-2                                                | 190                                                | May 22, 1968                                       | University of Houston, New Mexico State University |  86.18210                                          | 187.96                                             |\n",
       "| 30                                                 | Jud Buechler                                       | SF                                                 | 6-6                                                | 220                                                | June 19, 1968                                      | University of Arizona                              |  99.78980                                          | 198.12                                             |\n",
       "| 35                                                 | Jason Caffey                                       | PF                                                 | 6-8                                                | 255                                                | June 12, 1973                                      | University of Alabama                              | 115.66545                                          | 203.20                                             |\n",
       "| 53                                                 | James Edwards                                      | C                                                  | 7-0                                                | 225                                                | November 22, 1955                                  | University of Washington                           | 102.05775                                          | 213.36                                             |\n",
       "| 54                                                 | Jack Haley                                         | C                                                  | 6-10                                               | 240                                                | January 27, 1964                                   | University of California, Los Angeles              | 108.86160                                          | 208.28                                             |\n",
       "|  9                                                 | Ron Harper                                         | PG                                                 | 6-6                                                | 185                                                | January 20, 1964                                   | Miami University                                   |  83.91415                                          | 198.12                                             |\n",
       "| 23                                                 | Michael Jordan                                     | SG                                                 | 6-6                                                | 195                                                | February 17, 1963                                  | University of North Carolina                       |  88.45005                                          | 198.12                                             |\n",
       "| 25                                                 | Steve Kerr                                         | PG                                                 | 6-3                                                | 175                                                | September 27, 1965                                 | University of Arizona                              |  79.37825                                          | 190.50                                             |\n",
       "|  7                                                 | Toni Kukoc                                         | SF                                                 | 6-10                                               | 192                                                | September 18, 1968                                 |                                                    |  87.08928                                          | 208.28                                             |\n",
       "| 13                                                 | Luc Longley                                        | C                                                  | 7-2                                                | 265                                                | January 19, 1969                                   | University of New Mexico                           | 120.20135                                          | 218.44                                             |\n",
       "| 33                                                 | Scottie Pippen                                     | SF                                                 | 6-8                                                | 210                                                | September 25, 1965                                 | University of Central Arkansas                     |  95.25390                                          | 203.20                                             |\n",
       "| 91                                                 | Dennis Rodman                                      | PF                                                 | 6-7                                                | 210                                                | May 13, 1961                                       | Southeastern Oklahoma State University             |  95.25390                                          | 200.66                                             |\n",
       "| 22                                                 | John Salley                                        | PF                                                 | 6-11                                               | 230                                                | May 16, 1964                                       | Georgia Institute of Technology                    | 104.32570                                          | 210.82                                             |\n",
       "|  8                                                 | Dickey Simpkins                                    | PF                                                 | 6-9                                                | 248                                                | April 6, 1972                                      | Providence College                                 | 112.49032                                          | 205.74                                             |\n",
       "| 34                                                 | Bill Wennington                                    | C                                                  | 7-0                                                | 245                                                | April 26, 1963                                     | St. John's University                              | 111.12955                                          | 213.36                                             |\n",
       "\n"
      ],
      "text/plain": [
       "   No. Player          Pos Ht   Wt  Birth.Date        \n",
       "1   0  Randy Brown     PG  6-2  190 May 22, 1968      \n",
       "2  30  Jud Buechler    SF  6-6  220 June 19, 1968     \n",
       "3  35  Jason Caffey    PF  6-8  255 June 12, 1973     \n",
       "4  53  James Edwards   C   7-0  225 November 22, 1955 \n",
       "5  54  Jack Haley      C   6-10 240 January 27, 1964  \n",
       "6   9  Ron Harper      PG  6-6  185 January 20, 1964  \n",
       "7  23  Michael Jordan  SG  6-6  195 February 17, 1963 \n",
       "8  25  Steve Kerr      PG  6-3  175 September 27, 1965\n",
       "9   7  Toni Kukoc      SF  6-10 192 September 18, 1968\n",
       "10 13  Luc Longley     C   7-2  265 January 19, 1969  \n",
       "11 33  Scottie Pippen  SF  6-8  210 September 25, 1965\n",
       "12 91  Dennis Rodman   PF  6-7  210 May 13, 1961      \n",
       "13 22  John Salley     PF  6-11 230 May 16, 1964      \n",
       "14  8  Dickey Simpkins PF  6-9  248 April 6, 1972     \n",
       "15 34  Bill Wennington C   7-0  245 April 26, 1963    \n",
       "   College                                            Wt_kg     Ht_cm \n",
       "1  University of Houston, New Mexico State University  86.18210 187.96\n",
       "2  University of Arizona                               99.78980 198.12\n",
       "3  University of Alabama                              115.66545 203.20\n",
       "4  University of Washington                           102.05775 213.36\n",
       "5  University of California, Los Angeles              108.86160 208.28\n",
       "6  Miami University                                    83.91415 198.12\n",
       "7  University of North Carolina                        88.45005 198.12\n",
       "8  University of Arizona                               79.37825 190.50\n",
       "9                                                      87.08928 208.28\n",
       "10 University of New Mexico                           120.20135 218.44\n",
       "11 University of Central Arkansas                      95.25390 203.20\n",
       "12 Southeastern Oklahoma State University              95.25390 200.66\n",
       "13 Georgia Institute of Technology                    104.32570 210.82\n",
       "14 Providence College                                 112.49032 205.74\n",
       "15 St. John's University                              111.12955 213.36"
      ]
     },
     "metadata": {},
     "output_type": "display_data"
    }
   ],
   "source": [
    "chicago_bulls %>% \n",
    "    mutate(Wt_kg = Wt * 0.45359)"
   ]
  },
  {
   "cell_type": "markdown",
   "metadata": {
    "slideshow": {
     "slide_type": "subslide"
    }
   },
   "source": [
    "## 摘要\n",
    "\n",
    "使用 `dplyr::summarise()` 函數摘要"
   ]
  },
  {
   "cell_type": "code",
   "execution_count": 18,
   "metadata": {},
   "outputs": [
    {
     "data": {
      "text/html": [
       "<table>\n",
       "<thead><tr><th scope=col>Avg_Wt_kg</th></tr></thead>\n",
       "<tbody>\n",
       "\t<tr><td>99.33621</td></tr>\n",
       "</tbody>\n",
       "</table>\n"
      ],
      "text/latex": [
       "\\begin{tabular}{r|l}\n",
       " Avg\\_Wt\\_kg\\\\\n",
       "\\hline\n",
       "\t 99.33621\\\\\n",
       "\\end{tabular}\n"
      ],
      "text/markdown": [
       "\n",
       "| Avg_Wt_kg |\n",
       "|---|\n",
       "| 99.33621 |\n",
       "\n"
      ],
      "text/plain": [
       "  Avg_Wt_kg\n",
       "1 99.33621 "
      ]
     },
     "metadata": {},
     "output_type": "display_data"
    }
   ],
   "source": [
    "chicago_bulls %>% \n",
    "    mutate(Wt_kg = Wt * 0.45359) %>% \n",
    "    summarise(Avg_Wt_kg = mean(Wt_kg))"
   ]
  },
  {
   "cell_type": "markdown",
   "metadata": {
    "slideshow": {
     "slide_type": "subslide"
    }
   },
   "source": [
    "## 分組摘要\n",
    "\n",
    "使用 `dplyr::group_by()` 搭配 `dplyr::summarise()` 函數分組摘要"
   ]
  },
  {
   "cell_type": "code",
   "execution_count": 19,
   "metadata": {},
   "outputs": [
    {
     "data": {
      "text/html": [
       "<table>\n",
       "<thead><tr><th scope=col>Pos</th><th scope=col>Avg_Wt_kg</th></tr></thead>\n",
       "<tbody>\n",
       "\t<tr><td>C        </td><td>110.56256</td></tr>\n",
       "\t<tr><td>PF       </td><td>106.93384</td></tr>\n",
       "\t<tr><td>PG       </td><td> 83.15817</td></tr>\n",
       "\t<tr><td>SF       </td><td> 94.04433</td></tr>\n",
       "\t<tr><td>SG       </td><td> 88.45005</td></tr>\n",
       "</tbody>\n",
       "</table>\n"
      ],
      "text/latex": [
       "\\begin{tabular}{r|ll}\n",
       " Pos & Avg\\_Wt\\_kg\\\\\n",
       "\\hline\n",
       "\t C         & 110.56256\\\\\n",
       "\t PF        & 106.93384\\\\\n",
       "\t PG        &  83.15817\\\\\n",
       "\t SF        &  94.04433\\\\\n",
       "\t SG        &  88.45005\\\\\n",
       "\\end{tabular}\n"
      ],
      "text/markdown": [
       "\n",
       "| Pos | Avg_Wt_kg |\n",
       "|---|---|\n",
       "| C         | 110.56256 |\n",
       "| PF        | 106.93384 |\n",
       "| PG        |  83.15817 |\n",
       "| SF        |  94.04433 |\n",
       "| SG        |  88.45005 |\n",
       "\n"
      ],
      "text/plain": [
       "  Pos Avg_Wt_kg\n",
       "1 C   110.56256\n",
       "2 PF  106.93384\n",
       "3 PG   83.15817\n",
       "4 SF   94.04433\n",
       "5 SG   88.45005"
      ]
     },
     "metadata": {},
     "output_type": "display_data"
    }
   ],
   "source": [
    "chicago_bulls %>% \n",
    "    mutate(Wt_kg = Wt * 0.45359) %>% \n",
    "    group_by(Pos) %>% \n",
    "    summarise(Avg_Wt_kg = mean(Wt_kg))"
   ]
  },
  {
   "cell_type": "markdown",
   "metadata": {
    "slideshow": {
     "slide_type": "subslide"
    }
   },
   "source": [
    "## 隨堂練習：摘要每個鋒衛位置的最高身高"
   ]
  },
  {
   "cell_type": "code",
   "execution_count": 20,
   "metadata": {
    "slideshow": {
     "slide_type": "skip"
    }
   },
   "outputs": [],
   "source": [
    "get_cm <- function(x) {\n",
    "    splitted <- strsplit(x, split = \"-\")\n",
    "    feet <- as.numeric(splitted[[1]][1])\n",
    "    inch <- as.numeric(splitted[[1]][2])\n",
    "    cm <- feet * 30.48 + inch * 2.54\n",
    "    return(cm)\n",
    "}\n",
    "\n",
    "chicago_bulls$Ht_cm <- sapply(chicago_bulls$Ht, FUN = get_cm, USE.NAMES = FALSE)\n",
    "ans <- chicago_bulls %>%\n",
    "    group_by(Pos) %>% \n",
    "    summarise(max_Ht_cm = mean(Ht_cm))"
   ]
  },
  {
   "cell_type": "code",
   "execution_count": 21,
   "metadata": {
    "slideshow": {
     "slide_type": "fragment"
    }
   },
   "outputs": [
    {
     "data": {
      "text/html": [
       "<table>\n",
       "<thead><tr><th scope=col>Pos</th><th scope=col>max_Ht_cm</th></tr></thead>\n",
       "<tbody>\n",
       "\t<tr><td>C       </td><td>213.3600</td></tr>\n",
       "\t<tr><td>PF      </td><td>205.1050</td></tr>\n",
       "\t<tr><td>PG      </td><td>192.1933</td></tr>\n",
       "\t<tr><td>SF      </td><td>203.2000</td></tr>\n",
       "\t<tr><td>SG      </td><td>198.1200</td></tr>\n",
       "</tbody>\n",
       "</table>\n"
      ],
      "text/latex": [
       "\\begin{tabular}{r|ll}\n",
       " Pos & max\\_Ht\\_cm\\\\\n",
       "\\hline\n",
       "\t C        & 213.3600\\\\\n",
       "\t PF       & 205.1050\\\\\n",
       "\t PG       & 192.1933\\\\\n",
       "\t SF       & 203.2000\\\\\n",
       "\t SG       & 198.1200\\\\\n",
       "\\end{tabular}\n"
      ],
      "text/markdown": [
       "\n",
       "| Pos | max_Ht_cm |\n",
       "|---|---|\n",
       "| C        | 213.3600 |\n",
       "| PF       | 205.1050 |\n",
       "| PG       | 192.1933 |\n",
       "| SF       | 203.2000 |\n",
       "| SG       | 198.1200 |\n",
       "\n"
      ],
      "text/plain": [
       "  Pos max_Ht_cm\n",
       "1 C   213.3600 \n",
       "2 PF  205.1050 \n",
       "3 PG  192.1933 \n",
       "4 SF  203.2000 \n",
       "5 SG  198.1200 "
      ]
     },
     "metadata": {},
     "output_type": "display_data"
    }
   ],
   "source": [
    "ans"
   ]
  }
 ],
 "metadata": {
  "celltoolbar": "Slideshow",
  "kernelspec": {
   "display_name": "R",
   "language": "R",
   "name": "ir"
  },
  "language_info": {
   "codemirror_mode": "r",
   "file_extension": ".r",
   "mimetype": "text/x-r-source",
   "name": "R",
   "pygments_lexer": "r",
   "version": "3.5.2"
  }
 },
 "nbformat": 4,
 "nbformat_minor": 2
}
