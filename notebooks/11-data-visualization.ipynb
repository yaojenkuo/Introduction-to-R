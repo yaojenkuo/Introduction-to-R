{
 "cells": [
  {
   "cell_type": "markdown",
   "metadata": {
    "slideshow": {
     "slide_type": "slide"
    }
   },
   "source": [
    "# 成為初級資料分析師 | R 程式設計與資料科學應用\n",
    "\n",
    "> 資料視覺化\n",
    "\n",
    "## 郭耀仁"
   ]
  },
  {
   "cell_type": "markdown",
   "metadata": {
    "slideshow": {
     "slide_type": "subslide"
    }
   },
   "source": [
    "> The simple graph has brought more information to the data analyst’s mind than any other device.\n",
    ">\n",
    "> John Tukey"
   ]
  },
  {
   "cell_type": "markdown",
   "metadata": {
    "slideshow": {
     "slide_type": "subslide"
    }
   },
   "source": [
    "## 大綱\n",
    "\n",
    "- 認識範例資料集：`gapminder`\n",
    "- `ggplot2` 基礎\n",
    "- `ggplot2` 技巧\n",
    "- 使用 `plotly` 做一個 `gapminder` replica"
   ]
  },
  {
   "cell_type": "markdown",
   "metadata": {
    "slideshow": {
     "slide_type": "slide"
    }
   },
   "source": [
    "## 認識範例資料集：`gapminder`"
   ]
  },
  {
   "cell_type": "markdown",
   "metadata": {
    "slideshow": {
     "slide_type": "subslide"
    }
   },
   "source": [
    "## 資料視覺化經典案例\n",
    "\n",
    "- [Napoleon's Russian campaign by Charles Minard](https://en.wikipedia.org/wiki/Charles_Joseph_Minard#/media/File:Minard.png)\n",
    "- [Gapminder by Hans Rosling](https://youtu.be/jbkSRLYSojo)"
   ]
  },
  {
   "cell_type": "markdown",
   "metadata": {
    "slideshow": {
     "slide_type": "subslide"
    }
   },
   "source": [
    "## 關於 Gapminder, Hans Rosling 與 Factfulness\n",
    "\n",
    "- [Gapminder](https://www.gapminder.org/)\n",
    "- [Hans Rosling](https://en.wikipedia.org/wiki/Hans_Rosling)\n",
    "- [Factfulness](https://www.youtube.com/watch?v=5uooRe07mYM)"
   ]
  },
  {
   "cell_type": "markdown",
   "metadata": {
    "slideshow": {
     "slide_type": "subslide"
    }
   },
   "source": [
    "## 獲得 `gapminder` 範例資料集\n",
    "\n",
    "- 安裝 `gapminder` 套件 \n",
    "- 載入 `gapminder` 套件"
   ]
  },
  {
   "cell_type": "markdown",
   "metadata": {
    "slideshow": {
     "slide_type": "subslide"
    }
   },
   "source": [
    "## 安裝 `gapminder` 套件\n",
    "\n",
    "- 透過 RStudio 的 `Packages` 功能頁籤\n",
    "- 透過 `install.pacakges()` 函數\n",
    "\n",
    "```r\n",
    "install.packages(\"gapminder\")\n",
    "```"
   ]
  },
  {
   "cell_type": "markdown",
   "metadata": {
    "slideshow": {
     "slide_type": "subslide"
    }
   },
   "source": [
    "## 載入 `gapminder` 套件\n",
    "\n",
    "- 透過 RStudio 的 `Packages` 功能頁籤\n",
    "- 透過 `library()` 函數\n",
    "\n",
    "```r\n",
    "library(\"gapminder\")\n",
    "```"
   ]
  },
  {
   "cell_type": "markdown",
   "metadata": {
    "slideshow": {
     "slide_type": "subslide"
    }
   },
   "source": [
    "## 隨堂練習：gapminder 範例資料集有 `m` 列，`n` 欄，請問 `m` =?, `n` =?"
   ]
  },
  {
   "cell_type": "code",
   "execution_count": null,
   "metadata": {},
   "outputs": [],
   "source": [
    "library(\"gapminder\")"
   ]
  },
  {
   "cell_type": "code",
   "execution_count": null,
   "metadata": {
    "slideshow": {
     "slide_type": "skip"
    }
   },
   "outputs": [],
   "source": [
    "m <- nrow(gapminder)\n",
    "n <- ncol(gapminder)\n",
    "ans <- sprintf(\"gapminder 範例資料集有 %s 列，%s 欄\", m, n)"
   ]
  },
  {
   "cell_type": "code",
   "execution_count": null,
   "metadata": {
    "slideshow": {
     "slide_type": "fragment"
    }
   },
   "outputs": [],
   "source": [
    "ans"
   ]
  },
  {
   "cell_type": "markdown",
   "metadata": {
    "slideshow": {
     "slide_type": "subslide"
    }
   },
   "source": [
    "## 隨堂練習：請顯示 `gapminder` 範例資料集前三列與後三列"
   ]
  },
  {
   "cell_type": "code",
   "execution_count": null,
   "metadata": {
    "slideshow": {
     "slide_type": "skip"
    }
   },
   "outputs": [],
   "source": [
    "first_three <- head(gapminder, 3)\n",
    "last_three <- tail(gapminder, 3)"
   ]
  },
  {
   "cell_type": "code",
   "execution_count": null,
   "metadata": {
    "slideshow": {
     "slide_type": "fragment"
    }
   },
   "outputs": [],
   "source": [
    "first_three"
   ]
  },
  {
   "cell_type": "code",
   "execution_count": null,
   "metadata": {
    "slideshow": {
     "slide_type": "fragment"
    }
   },
   "outputs": [],
   "source": [
    "last_three"
   ]
  },
  {
   "cell_type": "markdown",
   "metadata": {
    "slideshow": {
     "slide_type": "subslide"
    }
   },
   "source": [
    "## 隨堂練習：`gapminder` 範例資料集有幾個國家？幾個洲別？"
   ]
  },
  {
   "cell_type": "code",
   "execution_count": null,
   "metadata": {
    "slideshow": {
     "slide_type": "skip"
    }
   },
   "outputs": [],
   "source": [
    "n_countries <- length(unique(gapminder$country))\n",
    "n_continents <- length(unique(gapminder$continent))\n",
    "ans <- sprintf(\"`gapminder` 範例資料集有 %s 個國家、%s 個洲別\", n_countries, n_continents)"
   ]
  },
  {
   "cell_type": "code",
   "execution_count": null,
   "metadata": {
    "slideshow": {
     "slide_type": "fragment"
    }
   },
   "outputs": [],
   "source": [
    "ans"
   ]
  },
  {
   "cell_type": "markdown",
   "metadata": {
    "slideshow": {
     "slide_type": "subslide"
    }
   },
   "source": [
    "## 隨堂練習：`gapminder` 範例資料集有哪些年份？"
   ]
  },
  {
   "cell_type": "code",
   "execution_count": null,
   "metadata": {
    "slideshow": {
     "slide_type": "skip"
    }
   },
   "outputs": [],
   "source": [
    "ans <- unique(gapminder$year)"
   ]
  },
  {
   "cell_type": "code",
   "execution_count": null,
   "metadata": {
    "slideshow": {
     "slide_type": "fragment"
    }
   },
   "outputs": [],
   "source": [
    "ans"
   ]
  },
  {
   "cell_type": "markdown",
   "metadata": {
    "slideshow": {
     "slide_type": "subslide"
    }
   },
   "source": [
    "## 其他檢視 `gapminder` 範例資料集的函數：`summary()` 與 `str()`"
   ]
  },
  {
   "cell_type": "code",
   "execution_count": null,
   "metadata": {},
   "outputs": [],
   "source": [
    "summary(gapminder)\n",
    "str(gapminder)"
   ]
  },
  {
   "cell_type": "markdown",
   "metadata": {
    "slideshow": {
     "slide_type": "subslide"
    }
   },
   "source": [
    "## `ggplot2` 基礎"
   ]
  },
  {
   "cell_type": "markdown",
   "metadata": {
    "slideshow": {
     "slide_type": "subslide"
    }
   },
   "source": [
    "## 什麼是 `ggplot2`？\n",
    "\n",
    "> ggplot2 is a system for declaratively creating graphics, based on The Grammar of Graphics. You provide the data, tell ggplot2 how to map variables to aesthetics, what graphical primitives to use, and it takes care of the details."
   ]
  },
  {
   "cell_type": "markdown",
   "metadata": {
    "slideshow": {
     "slide_type": "subslide"
    }
   },
   "source": [
    "## `gg` as in Grammer of Graphics"
   ]
  },
  {
   "cell_type": "markdown",
   "metadata": {
    "slideshow": {
     "slide_type": "subslide"
    }
   },
   "source": [
    "## 安裝 `ggplot2` 套件\n",
    "\n",
    "- 透過 RStudio 的 `Packages` 功能頁籤\n",
    "- 透過 `install.packages()` 函數\n",
    "\n",
    "```r\n",
    "install.packages(\"ggplot2\")\n",
    "```"
   ]
  },
  {
   "cell_type": "markdown",
   "metadata": {
    "slideshow": {
     "slide_type": "subslide"
    }
   },
   "source": [
    "## 載入 `ggplot2` 套件\n",
    "\n",
    "- 透過 RStudio 的 `Packages` 功能頁籤\n",
    "- 透過 `library()` 函數\n",
    "\n",
    "```r\n",
    "library(\"ggplot2\")\n",
    "```"
   ]
  },
  {
   "cell_type": "markdown",
   "metadata": {
    "slideshow": {
     "slide_type": "subslide"
    }
   },
   "source": [
    "## 基礎視覺化圖形\n",
    "\n",
    "- 觀察資料相關性的散佈圖（Scatter Plot）\n",
    "- 觀察類別型資料的長條圖（Bar Plot）\n",
    "- 觀察資料散佈的直方圖（Histogram）\n",
    "- 觀察數值變化趨勢的線圖（Line Plot）\n",
    "- 觀察不同類別資料散佈的盒鬚圖（Boxplot）"
   ]
  },
  {
   "cell_type": "markdown",
   "metadata": {
    "slideshow": {
     "slide_type": "subslide"
    }
   },
   "source": [
    "## 如何創建一個 `ggplot2` 圖形\n",
    "\n",
    "- 使用 `ggplot()` 函數做資料映射\n",
    "- 使用 `geom_()` 函數調整圖形種類\n",
    "- 使用 `+` 連結不同的函數，堆疊圖層"
   ]
  },
  {
   "cell_type": "code",
   "execution_count": null,
   "metadata": {
    "slideshow": {
     "slide_type": "-"
    }
   },
   "outputs": [],
   "source": [
    "library(\"gapminder\") # data\n",
    "library(\"ggplot2\")   # plotting\n",
    "library(\"dplyr\")     # data manipulations"
   ]
  },
  {
   "cell_type": "markdown",
   "metadata": {
    "slideshow": {
     "slide_type": "subslide"
    }
   },
   "source": [
    "## 觀察資料相關性的散佈圖（Scatter Plot）\n",
    "\n",
    "使用 `ggplot(aes(x, y)) + geom_point()`"
   ]
  },
  {
   "cell_type": "code",
   "execution_count": null,
   "metadata": {},
   "outputs": [],
   "source": [
    "gapminder %>% \n",
    "  ggplot(aes(x = gdpPercap, y = lifeExp)) +\n",
    "    geom_point()"
   ]
  },
  {
   "cell_type": "markdown",
   "metadata": {
    "slideshow": {
     "slide_type": "subslide"
    }
   },
   "source": [
    "## 觀察類別型資料的長條圖（Bar Plot）：長條高度為觀測值個數\n",
    "\n",
    "使用 `ggplot(aes(x)) + geom_bar()`"
   ]
  },
  {
   "cell_type": "code",
   "execution_count": null,
   "metadata": {},
   "outputs": [],
   "source": [
    "gapminder %>% \n",
    "  filter(year == 2007) %>%\n",
    "  ggplot(aes(x = continent)) +\n",
    "    geom_bar()"
   ]
  },
  {
   "cell_type": "markdown",
   "metadata": {
    "slideshow": {
     "slide_type": "subslide"
    }
   },
   "source": [
    "## 觀察類別型資料的長條圖（Bar Plot）：長條高度為摘要數值\n",
    "\n",
    "使用 `ggplot(aes(x, y)) + geom_bar(stat = \"identity\")`"
   ]
  },
  {
   "cell_type": "code",
   "execution_count": null,
   "metadata": {},
   "outputs": [],
   "source": [
    "gapminder %>% \n",
    "  filter(year == 2007) %>% \n",
    "  mutate(pop_numeric = as.numeric(pop)) %>%\n",
    "  group_by(continent) %>% \n",
    "  summarise(ttl_pop = sum(pop_numeric)) %>% \n",
    "  ggplot(aes(x = continent, y = ttl_pop)) +\n",
    "    geom_bar(stat = \"identity\")"
   ]
  },
  {
   "cell_type": "markdown",
   "metadata": {
    "slideshow": {
     "slide_type": "subslide"
    }
   },
   "source": [
    "## 觀察資料散佈的直方圖（Histogram）\n",
    "\n",
    "使用 `ggplot(aes(x)) + geom_histogram()`"
   ]
  },
  {
   "cell_type": "code",
   "execution_count": null,
   "metadata": {},
   "outputs": [],
   "source": [
    "gapminder %>% \n",
    "  ggplot(aes(x = gdpPercap)) +\n",
    "    geom_histogram(bins = 40)"
   ]
  },
  {
   "cell_type": "markdown",
   "metadata": {
    "slideshow": {
     "slide_type": "subslide"
    }
   },
   "source": [
    "## 觀察數值變化趨勢的線圖（Line Plot）\n",
    "\n",
    "使用 `ggplot(aes(x, y)) + geom_line()`"
   ]
  },
  {
   "cell_type": "code",
   "execution_count": null,
   "metadata": {},
   "outputs": [],
   "source": [
    "gapminder %>% \n",
    "  filter(country %in% c(\"Taiwan\", \"Japan\", \"China\")) %>% \n",
    "  ggplot(aes(x = year, y = gdpPercap, color = country)) +\n",
    "    geom_line()"
   ]
  },
  {
   "cell_type": "markdown",
   "metadata": {
    "slideshow": {
     "slide_type": "subslide"
    }
   },
   "source": [
    "## 觀察不同類別資料散佈的盒鬚圖（Boxplot）\n",
    "\n",
    "使用 `ggplot(aes(x, y)) + geom_boxplot()`"
   ]
  },
  {
   "cell_type": "code",
   "execution_count": null,
   "metadata": {},
   "outputs": [],
   "source": [
    "gapminder %>% \n",
    "  ggplot(aes(x = continent, y = gdpPercap, color = continent)) +\n",
    "    geom_boxplot()"
   ]
  },
  {
   "cell_type": "markdown",
   "metadata": {
    "slideshow": {
     "slide_type": "slide"
    }
   },
   "source": [
    "## `ggplot2` 技巧"
   ]
  },
  {
   "cell_type": "markdown",
   "metadata": {
    "slideshow": {
     "slide_type": "subslide"
    }
   },
   "source": [
    "## 常用的 ggplot2 技巧\n",
    "\n",
    "- 加入圖標題與軸標籤\n",
    "- 加入註釋\n",
    "- 加入中文字（macOS 使用者會遭遇的問題）\n",
    "- 調整座標軸\n",
    "- 在一個畫布上繪製多個子圖形"
   ]
  },
  {
   "cell_type": "markdown",
   "metadata": {
    "slideshow": {
     "slide_type": "subslide"
    }
   },
   "source": [
    "## 加入圖標題與軸標籤\n",
    "\n",
    "使用 `ggtitle() + xlab() + ylab()`"
   ]
  },
  {
   "cell_type": "code",
   "execution_count": null,
   "metadata": {},
   "outputs": [],
   "source": [
    "gapminder %>% \n",
    "  ggplot(aes(x = gdpPercap, y = lifeExp)) +\n",
    "    geom_point() +\n",
    "    ggtitle(\"Wealth vs. Health\") +\n",
    "    xlab(\"GDP Per Capita\") +\n",
    "    ylab(\"Life Expectancy\")"
   ]
  },
  {
   "cell_type": "markdown",
   "metadata": {
    "slideshow": {
     "slide_type": "subslide"
    }
   },
   "source": [
    "## 加入註釋\n",
    "\n",
    "使用 `geom_text()`"
   ]
  },
  {
   "cell_type": "code",
   "execution_count": null,
   "metadata": {},
   "outputs": [],
   "source": [
    "n_obs <- gapminder %>% \n",
    "  group_by(continent) %>% \n",
    "  summarise(nrows = n())\n",
    "\n",
    "n_obs %>% \n",
    "  ggplot(aes(x = continent, y = nrows)) +\n",
    "  geom_bar(stat = \"identity\") +\n",
    "  geom_text(aes(label = n_obs$nrows, y = n_obs$nrows), vjust = -1)"
   ]
  },
  {
   "cell_type": "markdown",
   "metadata": {
    "slideshow": {
     "slide_type": "subslide"
    }
   },
   "source": [
    "## 加入中文字（macOS 使用者會遭遇的問題）\n",
    "\n",
    "使用 `theme(text = element_text(family = FONTS_SUPPORT_TC))`"
   ]
  },
  {
   "cell_type": "code",
   "execution_count": null,
   "metadata": {},
   "outputs": [],
   "source": [
    "gapminder %>% \n",
    "  ggplot(aes(x = gdpPercap, y = lifeExp)) +\n",
    "    geom_point() +\n",
    "    ggtitle(\"財富與健康\") +\n",
    "    xlab(\"人均 GDP\") +\n",
    "    ylab(\"預期壽命\") +\n",
    "    theme(text = element_text(family = \"Heiti TC Light\"))"
   ]
  },
  {
   "cell_type": "markdown",
   "metadata": {
    "slideshow": {
     "slide_type": "subslide"
    }
   },
   "source": [
    "## 調整座標軸\n",
    "\n",
    "使用 `scale_x_continuous()` 與 `scale_y_continuous()` 調整座標軸上下界與量尺"
   ]
  },
  {
   "cell_type": "code",
   "execution_count": null,
   "metadata": {},
   "outputs": [],
   "source": [
    "gapminder %>% \n",
    "  ggplot(aes(x = gdpPercap, y = lifeExp)) +\n",
    "    geom_point() +\n",
    "    scale_x_continuous(limits = c(0, 50000))"
   ]
  },
  {
   "cell_type": "code",
   "execution_count": null,
   "metadata": {
    "slideshow": {
     "slide_type": "-"
    }
   },
   "outputs": [],
   "source": [
    "gapminder %>% \n",
    "  ggplot(aes(x = gdpPercap, y = lifeExp)) +\n",
    "    geom_point() +\n",
    "    scale_x_continuous(trans = \"log10\")"
   ]
  },
  {
   "cell_type": "markdown",
   "metadata": {
    "slideshow": {
     "slide_type": "subslide"
    }
   },
   "source": [
    "## 在一個畫布上繪製多個子圖形\n",
    "\n",
    "使用 `facet_wrap(vars(CATEGORICAL_COLUMN))`"
   ]
  },
  {
   "cell_type": "code",
   "execution_count": null,
   "metadata": {},
   "outputs": [],
   "source": [
    "gapminder %>% \n",
    "  ggplot(aes(x = gdpPercap, y = lifeExp, color = continent)) +\n",
    "    geom_point() +\n",
    "    facet_wrap(vars(continent))"
   ]
  },
  {
   "cell_type": "markdown",
   "metadata": {
    "slideshow": {
     "slide_type": "slide"
    }
   },
   "source": [
    "## 使用 `plotly` 做一個 `gapminder` replica"
   ]
  },
  {
   "cell_type": "markdown",
   "metadata": {
    "slideshow": {
     "slide_type": "subslide"
    }
   },
   "source": [
    "## 關於 `plotly` 套件\n",
    "\n",
    "幫助 R 語言使用者不需要額外去學習 JavaScript 就能夠建立出互動性、具備 D3.js 及 WebGL 特性的圖表"
   ]
  },
  {
   "cell_type": "markdown",
   "metadata": {
    "slideshow": {
     "slide_type": "subslide"
    }
   },
   "source": [
    "## 安裝 `plotly` 套件\n",
    "\n",
    "- 透過 RStudio 的 `Packages` 功能頁籤\n",
    "- 透過 `install.packages()` 函數\n",
    "\n",
    "```r\n",
    "install.packages(\"plotly\")\n",
    "```"
   ]
  },
  {
   "cell_type": "markdown",
   "metadata": {
    "slideshow": {
     "slide_type": "subslide"
    }
   },
   "source": [
    "## 載入 `plotly` 套件\n",
    "\n",
    "- 透過 RStudio 的 `Packages` 功能頁籤\n",
    "- 透過 `library()` 函數\n",
    "\n",
    "```r\n",
    "library(\"plotly\")\n",
    "```"
   ]
  },
  {
   "cell_type": "code",
   "execution_count": null,
   "metadata": {
    "slideshow": {
     "slide_type": "subslide"
    }
   },
   "outputs": [],
   "source": [
    "library(\"plotly\")\n",
    "library(\"gapminder\")\n",
    "radius <- sqrt((gapminder$pop)/pi)\n",
    "\n",
    "p <- gapminder %>%\n",
    "  plot_ly(\n",
    "    x = ~gdpPercap, \n",
    "    y = ~lifeExp, \n",
    "    size = ~pop, \n",
    "    color = ~continent, \n",
    "    frame = ~year, \n",
    "    text = ~country, \n",
    "    hoverinfo = \"text\",\n",
    "    type = 'scatter',\n",
    "    mode = 'markers',\n",
    "    sizes = c(min(radius), max(radius))\n",
    "  ) %>%\n",
    "  layout(\n",
    "    xaxis = list(\n",
    "      type = \"log\"\n",
    "    )\n",
    "  )"
   ]
  },
  {
   "cell_type": "code",
   "execution_count": null,
   "metadata": {
    "slideshow": {
     "slide_type": "subslide"
    }
   },
   "outputs": [],
   "source": [
    "p"
   ]
  },
  {
   "cell_type": "markdown",
   "metadata": {
    "slideshow": {
     "slide_type": "slide"
    }
   },
   "source": [
    "## 延伸閱讀\n",
    "\n",
    "- <https://ggplot2.tidyverse.org>\n",
    "- <https://plot.ly/r/>"
   ]
  }
 ],
 "metadata": {
  "celltoolbar": "Slideshow",
  "kernelspec": {
   "display_name": "R",
   "language": "R",
   "name": "ir"
  },
  "language_info": {
   "codemirror_mode": "r",
   "file_extension": ".r",
   "mimetype": "text/x-r-source",
   "name": "R",
   "pygments_lexer": "r",
   "version": "3.5.2"
  }
 },
 "nbformat": 4,
 "nbformat_minor": 2
}
