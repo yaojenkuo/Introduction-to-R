{
 "cells": [
  {
   "cell_type": "markdown",
   "metadata": {
    "slideshow": {
     "slide_type": "slide"
    }
   },
   "source": [
    "# 成為初級資料分析師 | R 程式設計與資料科學應用\n",
    "\n",
    "> 起步走\n",
    "\n",
    "## 郭耀仁"
   ]
  },
  {
   "cell_type": "markdown",
   "metadata": {
    "slideshow": {
     "slide_type": "subslide"
    }
   },
   "source": [
    "> The way R works is pretty straightforward, you apply functions to objects.\n",
    ">\n",
    "> Greg Martain"
   ]
  },
  {
   "cell_type": "markdown",
   "metadata": {
    "slideshow": {
     "slide_type": "subslide"
    }
   },
   "source": [
    "## 大綱\n",
    "\n",
    "- 關於 R\n",
    "- 開發環境\n",
    "- 執行第一個 R 程式\n",
    "- RStudio 的介面"
   ]
  },
  {
   "cell_type": "markdown",
   "metadata": {
    "slideshow": {
     "slide_type": "slide"
    }
   },
   "source": [
    "## 關於 R"
   ]
  },
  {
   "cell_type": "markdown",
   "metadata": {
    "slideshow": {
     "slide_type": "subslide"
    }
   },
   "source": [
    "## 科學計算的程式語言\n",
    "\n",
    "- 由紐西蘭奧克蘭大學的 Ross Ihaka 和 Robert Gentleman 所設計\n",
    "- 由 [R 核心團隊](https://www.r-project.org/)維護\n",
    "- 與 Matlab, SAS 相較: 開源授權\n",
    "- 與 Julia 相較: 廣大開發者、使用者社群"
   ]
  },
  {
   "cell_type": "markdown",
   "metadata": {
    "slideshow": {
     "slide_type": "subslide"
    }
   },
   "source": [
    "## R 與其他科學計算程式語言的相對位置\n",
    "\n",
    "- [IEEE](https://spectrum.ieee.org/static/interactive-the-top-programming-languages-2018)\n",
    "- [StackOverflow Trends](https://insights.stackoverflow.com/trends?tags=r%2Cmatlab%2Csas%2Cjulia)"
   ]
  },
  {
   "cell_type": "markdown",
   "metadata": {
    "slideshow": {
     "slide_type": "slide"
    }
   },
   "source": [
    "## 開發環境"
   ]
  },
  {
   "cell_type": "markdown",
   "metadata": {
    "slideshow": {
     "slide_type": "subslide"
    }
   },
   "source": [
    "## 根據使用者狀態決定\n",
    "\n",
    "- Naive Users\n",
    "    - 在本機端使用 R + RStudio\n",
    "- Power Users\n",
    "    - R 直譯器 + 文字編輯器"
   ]
  },
  {
   "cell_type": "markdown",
   "metadata": {
    "slideshow": {
     "slide_type": "subslide"
    }
   },
   "source": [
    "## 這門課受眾是友善的使用者\n",
    "\n",
    "在本機端使用 R + RStudio"
   ]
  },
  {
   "cell_type": "markdown",
   "metadata": {
    "slideshow": {
     "slide_type": "subslide"
    }
   },
   "source": [
    "## 安裝\n",
    "\n",
    "- 直譯器\n",
    "- 整合開發環境（Integrated Development Environment, IDE）"
   ]
  },
  {
   "cell_type": "markdown",
   "metadata": {
    "slideshow": {
     "slide_type": "subslide"
    }
   },
   "source": [
    "## 直譯器由 <https://cran.r-project.org/> 下載"
   ]
  },
  {
   "cell_type": "markdown",
   "metadata": {
    "slideshow": {
     "slide_type": "subslide"
    }
   },
   "source": [
    "## 安裝過程可以勾選不要安裝 32 位元檔案\n",
    "\n",
    "![](https://i.imgur.com/A5OwsnX.png)"
   ]
  },
  {
   "cell_type": "markdown",
   "metadata": {
    "slideshow": {
     "slide_type": "subslide"
    }
   },
   "source": [
    "## 整合開發環境由 <https://www.rstudio.com/products/rstudio/download> 下載"
   ]
  },
  {
   "cell_type": "markdown",
   "metadata": {
    "slideshow": {
     "slide_type": "slide"
    }
   },
   "source": [
    "## 執行第一個 R 程式"
   ]
  },
  {
   "cell_type": "markdown",
   "metadata": {
    "slideshow": {
     "slide_type": "subslide"
    }
   },
   "source": [
    "## 印出哈囉世界"
   ]
  },
  {
   "cell_type": "code",
   "execution_count": 1,
   "metadata": {},
   "outputs": [
    {
     "data": {
      "text/html": [
       "'Hello World!'"
      ],
      "text/latex": [
       "'Hello World!'"
      ],
      "text/markdown": [
       "'Hello World!'"
      ],
      "text/plain": [
       "[1] \"Hello World!\""
      ]
     },
     "metadata": {},
     "output_type": "display_data"
    }
   ],
   "source": [
    "\"Hello World!\""
   ]
  },
  {
   "cell_type": "markdown",
   "metadata": {
    "slideshow": {
     "slide_type": "subslide"
    }
   },
   "source": [
    "## RStudio Way\n",
    "\n",
    "- 開啟「RStudio」\n",
    "- 預設會以「我的文件」作為工作目錄（Working Directory）\n",
    "- 新增「R Script」檔案\n",
    "- 將程式碼反白並且點選執行（Run）"
   ]
  },
  {
   "cell_type": "markdown",
   "metadata": {
    "slideshow": {
     "slide_type": "subslide"
    }
   },
   "source": [
    "## Conventional Way\n",
    "\n",
    "- 在桌面建立一個檔案叫做 `hello.R`\n",
    "- 在 `hello.R` 寫入 `\"Hello World!\"`\n",
    "- 將 `Rscript` 應用程式加入路徑變數\n",
    "- 在桌面開啟「命令提示字元」，輸入 `Rscript hello.R`"
   ]
  },
  {
   "cell_type": "markdown",
   "metadata": {
    "slideshow": {
     "slide_type": "subslide"
    }
   },
   "source": [
    "## 隨堂練習：在自己的電腦執行第一個 R 程式"
   ]
  },
  {
   "cell_type": "markdown",
   "metadata": {
    "slideshow": {
     "slide_type": "slide"
    }
   },
   "source": [
    "## RStudio 的介面"
   ]
  },
  {
   "cell_type": "markdown",
   "metadata": {
    "slideshow": {
     "slide_type": "subslide"
    }
   },
   "source": [
    "## 四個區塊\n",
    "\n",
    "- Script：程式編輯區\n",
    "- Console：R 互動命令列\n",
    "- Environment：顯示物件、資料與函數\n",
    "- 多功能頁籤"
   ]
  },
  {
   "cell_type": "markdown",
   "metadata": {
    "slideshow": {
     "slide_type": "subslide"
    }
   },
   "source": [
    "## R 互動命令列技巧\n",
    "\n",
    "- 使用 `Ctrl + L` 清空畫面\n",
    "- 使用上與下顯示執行過的指令"
   ]
  },
  {
   "cell_type": "markdown",
   "metadata": {
    "slideshow": {
     "slide_type": "subslide"
    }
   },
   "source": [
    "## 使用 `Alt + Shift + K` 列出快捷鍵清單"
   ]
  },
  {
   "cell_type": "markdown",
   "metadata": {
    "slideshow": {
     "slide_type": "subslide"
    }
   },
   "source": [
    "## 當 Console 一直出現 `+` 該怎麼辦？\n",
    "\n",
    "- 因為 R 還在期待未完的輸入，e.g. **應該**成雙出現的 `\"\"`, `''`, `()`, `[]` 或 `{}` ...etc.\n",
    "- 按 `esc` 跳出來！"
   ]
  },
  {
   "cell_type": "markdown",
   "metadata": {
    "slideshow": {
     "slide_type": "subslide"
    }
   },
   "source": [
    "## 隨堂練習：更換一個喜歡的 RStudio 佈景主題\n",
    "\n",
    "- 點選「Tools」\n",
    "- 點選「Global Options」\n",
    "- 點選「Appearance」\n",
    "- 挑選「Editor theme」"
   ]
  }
 ],
 "metadata": {
  "celltoolbar": "Slideshow",
  "kernelspec": {
   "display_name": "R",
   "language": "R",
   "name": "ir"
  },
  "language_info": {
   "codemirror_mode": "r",
   "file_extension": ".r",
   "mimetype": "text/x-r-source",
   "name": "R",
   "pygments_lexer": "r",
   "version": "3.5.2"
  }
 },
 "nbformat": 4,
 "nbformat_minor": 2
}
