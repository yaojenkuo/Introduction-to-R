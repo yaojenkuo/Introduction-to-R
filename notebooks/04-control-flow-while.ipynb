{
 "cells": [
  {
   "cell_type": "markdown",
   "metadata": {
    "slideshow": {
     "slide_type": "slide"
    }
   },
   "source": [
    "# 成為初級資料分析師 | R 程式設計與資料科學應用\n",
    "\n",
    "> 流程控制：`while` 迴圈\n",
    "\n",
    "## 郭耀仁"
   ]
  },
  {
   "cell_type": "markdown",
   "metadata": {
    "slideshow": {
     "slide_type": "subslide"
    }
   },
   "source": [
    "> When you’ve given the same in-person advice 3 times, write a blog post.\n",
    ">\n",
    "> David Robinson"
   ]
  },
  {
   "cell_type": "markdown",
   "metadata": {
    "slideshow": {
     "slide_type": "subslide"
    }
   },
   "source": [
    "## 大綱\n",
    "\n",
    "- 邏輯值的應用場景\n",
    "- `while` 迴圈"
   ]
  },
  {
   "cell_type": "markdown",
   "metadata": {
    "slideshow": {
     "slide_type": "slide"
    }
   },
   "source": [
    "## 邏輯值的應用場景"
   ]
  },
  {
   "cell_type": "markdown",
   "metadata": {
    "slideshow": {
     "slide_type": "subslide"
    }
   },
   "source": [
    "## 邏輯值會出現在\n",
    "\n",
    "- 條件判斷\n",
    "- **`while` 迴圈**\n",
    "- 資料篩選"
   ]
  },
  {
   "cell_type": "markdown",
   "metadata": {
    "slideshow": {
     "slide_type": "subslide"
    }
   },
   "source": [
    "## 迴圈是用來解決需要反覆執行、大量手動複製貼上程式碼的任務"
   ]
  },
  {
   "cell_type": "markdown",
   "metadata": {
    "slideshow": {
     "slide_type": "subslide"
    }
   },
   "source": [
    "## 將介於 1 至 100 的偶數印出\n",
    "\n",
    "```r\n",
    "2\n",
    "4\n",
    "# ...\n",
    "100\n",
    "```"
   ]
  },
  {
   "cell_type": "markdown",
   "metadata": {
    "slideshow": {
     "slide_type": "slide"
    }
   },
   "source": [
    "## `while` 迴圈"
   ]
  },
  {
   "cell_type": "markdown",
   "metadata": {
    "slideshow": {
     "slide_type": "subslide"
    }
   },
   "source": [
    "## `while` 迴圈的 Code Block\n",
    "\n",
    "- 保留字 `while`\n",
    "- 起始值（start）\n",
    "- 終止值（stop）：被評估為 `logical` 的 `EXPR`\n",
    "- 間隔（step）"
   ]
  },
  {
   "cell_type": "markdown",
   "metadata": {
    "slideshow": {
     "slide_type": "subslide"
    }
   },
   "source": [
    "```r\n",
    "i <- 1 # start\n",
    "while (EXPR) {  # stop\n",
    "  # do something iteratively until EXPR is evaluated as FALSE\n",
    "  i <- i + 1 # step\n",
    "}\n",
    "```"
   ]
  },
  {
   "cell_type": "code",
   "execution_count": 1,
   "metadata": {
    "slideshow": {
     "slide_type": "subslide"
    }
   },
   "outputs": [
    {
     "name": "stdout",
     "output_type": "stream",
     "text": [
      "[1] 2\n",
      "[1] 4\n",
      "[1] 6\n",
      "[1] 8\n",
      "[1] 10\n",
      "[1] 12\n",
      "[1] 14\n",
      "[1] 16\n",
      "[1] 18\n",
      "[1] 20\n",
      "[1] 22\n",
      "[1] 24\n",
      "[1] 26\n",
      "[1] 28\n",
      "[1] 30\n",
      "[1] 32\n",
      "[1] 34\n",
      "[1] 36\n",
      "[1] 38\n",
      "[1] 40\n",
      "[1] 42\n",
      "[1] 44\n",
      "[1] 46\n",
      "[1] 48\n",
      "[1] 50\n",
      "[1] 52\n",
      "[1] 54\n",
      "[1] 56\n",
      "[1] 58\n",
      "[1] 60\n",
      "[1] 62\n",
      "[1] 64\n",
      "[1] 66\n",
      "[1] 68\n",
      "[1] 70\n",
      "[1] 72\n",
      "[1] 74\n",
      "[1] 76\n",
      "[1] 78\n",
      "[1] 80\n",
      "[1] 82\n",
      "[1] 84\n",
      "[1] 86\n",
      "[1] 88\n",
      "[1] 90\n",
      "[1] 92\n",
      "[1] 94\n",
      "[1] 96\n",
      "[1] 98\n",
      "[1] 100\n"
     ]
    }
   ],
   "source": [
    "i <- 2\n",
    "while (i <= 100) {\n",
    "    print(i)\n",
    "    i <- i + 2\n",
    "}"
   ]
  },
  {
   "cell_type": "markdown",
   "metadata": {
    "slideshow": {
     "slide_type": "subslide"
    }
   },
   "source": [
    "## 常見的迴圈任務\n",
    "\n",
    "- `print()`\n",
    "- 加總（Summation）\n",
    "- 計數（Counter）\n",
    "- 合併（Combine）：在後面章節討論"
   ]
  },
  {
   "cell_type": "markdown",
   "metadata": {
    "slideshow": {
     "slide_type": "subslide"
    }
   },
   "source": [
    "## 計算 1 到 100 之間的偶數總和：[The Story of Gauss](https://www.nctm.org/Publications/Teaching-Children-Mathematics/Blog/The-Story-of-Gauss/)"
   ]
  },
  {
   "cell_type": "code",
   "execution_count": 2,
   "metadata": {},
   "outputs": [
    {
     "data": {
      "text/html": [
       "2550"
      ],
      "text/latex": [
       "2550"
      ],
      "text/markdown": [
       "2550"
      ],
      "text/plain": [
       "[1] 2550"
      ]
     },
     "metadata": {},
     "output_type": "display_data"
    }
   ],
   "source": [
    "i <- 2\n",
    "even_summation <- 0\n",
    "\n",
    "while (i <= 100) {\n",
    "    even_summation <- even_summation + i\n",
    "    i <- i + 2\n",
    "}\n",
    "even_summation"
   ]
  },
  {
   "cell_type": "markdown",
   "metadata": {
    "slideshow": {
     "slide_type": "subslide"
    }
   },
   "source": [
    "## 計算 x 到 y 之間的偶數個數（包含 x 或 y 如果它們為偶數）"
   ]
  },
  {
   "cell_type": "code",
   "execution_count": 3,
   "metadata": {},
   "outputs": [
    {
     "data": {
      "text/html": [
       "6"
      ],
      "text/latex": [
       "6"
      ],
      "text/markdown": [
       "6"
      ],
      "text/plain": [
       "[1] 6"
      ]
     },
     "metadata": {},
     "output_type": "display_data"
    }
   ],
   "source": [
    "x <- 55\n",
    "y <- 66\n",
    "i <- x\n",
    "even_counter <- 0\n",
    "\n",
    "while (i <= y) {\n",
    "    if (i %% 2 == 0) {\n",
    "        even_counter <- even_counter + 1\n",
    "    }\n",
    "    i <- i + 1\n",
    "}\n",
    "even_counter"
   ]
  },
  {
   "cell_type": "markdown",
   "metadata": {
    "slideshow": {
     "slide_type": "subslide"
    }
   },
   "source": [
    "## 隨堂練習：判斷質數\n",
    "\n",
    "在大於 1 的正整數中，除了 1 和該數自身外，無法被其他正整數整除的數字"
   ]
  },
  {
   "cell_type": "code",
   "execution_count": 4,
   "metadata": {
    "slideshow": {
     "slide_type": "subslide"
    }
   },
   "outputs": [],
   "source": [
    "x <- 89"
   ]
  },
  {
   "cell_type": "code",
   "execution_count": 5,
   "metadata": {
    "slideshow": {
     "slide_type": "skip"
    }
   },
   "outputs": [],
   "source": [
    "i <- 1\n",
    "divisor_counter <- 0\n",
    "while (i <= x**0.5) {\n",
    "    if (x %% i == 0) {\n",
    "        divisor_counter <- divisor_counter + 1\n",
    "    }\n",
    "    i <- i + 1\n",
    "}\n",
    "if (x == 1) {\n",
    "    ans <- sprintf(\"%s 不是質數\", x)\n",
    "} else if (divisor_counter == 1) {\n",
    "    ans <- sprintf(\"%s 是質數\", x)\n",
    "} else {\n",
    "    ans <- sprintf(\"%s 不是質數\", x)\n",
    "}"
   ]
  },
  {
   "cell_type": "code",
   "execution_count": 6,
   "metadata": {
    "slideshow": {
     "slide_type": "fragment"
    }
   },
   "outputs": [
    {
     "data": {
      "text/html": [
       "'89 是質數'"
      ],
      "text/latex": [
       "'89 是質數'"
      ],
      "text/markdown": [
       "'89 是質數'"
      ],
      "text/plain": [
       "[1] \"89 是質數\""
      ]
     },
     "metadata": {},
     "output_type": "display_data"
    }
   ],
   "source": [
    "ans"
   ]
  },
  {
   "cell_type": "code",
   "execution_count": 7,
   "metadata": {
    "slideshow": {
     "slide_type": "subslide"
    }
   },
   "outputs": [],
   "source": [
    "x <- 56"
   ]
  },
  {
   "cell_type": "code",
   "execution_count": 8,
   "metadata": {
    "slideshow": {
     "slide_type": "skip"
    }
   },
   "outputs": [],
   "source": [
    "i <- 1\n",
    "divisor_counter <- 0\n",
    "while (i <= x**0.5) {\n",
    "    if (x %% i == 0) {\n",
    "        divisor_counter <- divisor_counter + 1\n",
    "    }\n",
    "    i <- i + 1\n",
    "}\n",
    "if (x == 1) {\n",
    "    ans <- sprintf(\"%s 不是質數\", x)\n",
    "} else if (divisor_counter == 1) {\n",
    "    ans <- sprintf(\"%s 是質數\", x)\n",
    "} else {\n",
    "    ans <- sprintf(\"%s 不是質數\", x)\n",
    "}"
   ]
  },
  {
   "cell_type": "code",
   "execution_count": 9,
   "metadata": {
    "slideshow": {
     "slide_type": "fragment"
    }
   },
   "outputs": [
    {
     "data": {
      "text/html": [
       "'56 不是質數'"
      ],
      "text/latex": [
       "'56 不是質數'"
      ],
      "text/markdown": [
       "'56 不是質數'"
      ],
      "text/plain": [
       "[1] \"56 不是質數\""
      ]
     },
     "metadata": {},
     "output_type": "display_data"
    }
   ],
   "source": [
    "ans"
   ]
  },
  {
   "cell_type": "markdown",
   "metadata": {
    "slideshow": {
     "slide_type": "subslide"
    }
   },
   "source": [
    "## 可搭配使用的保留字\n",
    "\n",
    "- `break`\n",
    "- `next`"
   ]
  },
  {
   "cell_type": "markdown",
   "metadata": {
    "slideshow": {
     "slide_type": "subslide"
    }
   },
   "source": [
    "## 更快地判斷質數"
   ]
  },
  {
   "cell_type": "code",
   "execution_count": 10,
   "metadata": {
    "slideshow": {
     "slide_type": "subslide"
    }
   },
   "outputs": [
    {
     "name": "stdout",
     "output_type": "stream",
     "text": [
      "[1] \"第 1 次檢查因數\"\n",
      "[1] \"第 2 次檢查因數\"\n",
      "[1] \"第 3 次檢查因數\"\n",
      "[1] \"第 4 次檢查因數\"\n",
      "[1] \"第 5 次檢查因數\"\n",
      "[1] \"第 6 次檢查因數\"\n",
      "[1] \"第 7 次檢查因數\"\n"
     ]
    },
    {
     "data": {
      "text/html": [
       "'56 不是質數'"
      ],
      "text/latex": [
       "'56 不是質數'"
      ],
      "text/markdown": [
       "'56 不是質數'"
      ],
      "text/plain": [
       "[1] \"56 不是質數\""
      ]
     },
     "metadata": {},
     "output_type": "display_data"
    }
   ],
   "source": [
    "x <- 56\n",
    "i <- 1\n",
    "divisor_counter <- 0\n",
    "while (i <= x**0.5) {\n",
    "    print(sprintf(\"第 %s 次檢查因數\", i))\n",
    "    if (x %% i == 0) {\n",
    "        divisor_counter <- divisor_counter + 1\n",
    "    }\n",
    "    i <- i + 1\n",
    "}\n",
    "if (x == 1) {\n",
    "    ans <- sprintf(\"%s 不是質數\", x)\n",
    "} else if (divisor_counter == 1) {\n",
    "    ans <- sprintf(\"%s 是質數\", x)\n",
    "} else {\n",
    "    ans <- sprintf(\"%s 不是質數\", x)\n",
    "}\n",
    "ans"
   ]
  },
  {
   "cell_type": "code",
   "execution_count": 11,
   "metadata": {
    "slideshow": {
     "slide_type": "subslide"
    }
   },
   "outputs": [
    {
     "name": "stdout",
     "output_type": "stream",
     "text": [
      "[1] \"第 1 次檢查因數\"\n",
      "[1] \"第 2 次檢查因數\"\n"
     ]
    },
    {
     "data": {
      "text/html": [
       "'56 不是質數'"
      ],
      "text/latex": [
       "'56 不是質數'"
      ],
      "text/markdown": [
       "'56 不是質數'"
      ],
      "text/plain": [
       "[1] \"56 不是質數\""
      ]
     },
     "metadata": {},
     "output_type": "display_data"
    }
   ],
   "source": [
    "x <- 56\n",
    "i <- 1\n",
    "divisor_counter <- 0\n",
    "while (i <= x**0.5) {\n",
    "    print(sprintf(\"第 %s 次檢查因數\", i))\n",
    "    if (x %% i == 0) {\n",
    "        divisor_counter <- divisor_counter + 1\n",
    "    }\n",
    "    i <- i + 1\n",
    "    if (divisor_counter > 1) {\n",
    "        break\n",
    "    }\n",
    "}\n",
    "if (x == 1) {\n",
    "    ans <- sprintf(\"%s 不是質數\", x)\n",
    "} else if (divisor_counter == 1) {\n",
    "    ans <- sprintf(\"%s 是質數\", x)\n",
    "} else {\n",
    "    ans <- sprintf(\"%s 不是質數\", x)\n",
    "}\n",
    "ans"
   ]
  },
  {
   "cell_type": "markdown",
   "metadata": {
    "slideshow": {
     "slide_type": "subslide"
    }
   },
   "source": [
    "## 樓層的忌諱"
   ]
  },
  {
   "cell_type": "code",
   "execution_count": 12,
   "metadata": {},
   "outputs": [
    {
     "name": "stdout",
     "output_type": "stream",
     "text": [
      "[1] \"1 樓\"\n",
      "[1] \"2 樓\"\n",
      "[1] \"3 樓\"\n",
      "[1] \"5 樓\"\n",
      "[1] \"6 樓\"\n",
      "[1] \"7 樓\"\n",
      "[1] \"8 樓\"\n",
      "[1] \"9 樓\"\n",
      "[1] \"10 樓\"\n"
     ]
    }
   ],
   "source": [
    "i <- 1\n",
    "n_floors <- 10\n",
    "\n",
    "while (i <= n_floors) {\n",
    "    if (i == 4) {\n",
    "        i <- i + 1\n",
    "        next\n",
    "    }\n",
    "    print(sprintf(\"%s 樓\", i))\n",
    "    i <- i + 1\n",
    "}"
   ]
  },
  {
   "cell_type": "markdown",
   "metadata": {
    "slideshow": {
     "slide_type": "subslide"
    }
   },
   "source": [
    "## 隨堂練習：判斷介於 x 與 y 之間的質數個數（包含 x 與 y 如果他們也是質數）"
   ]
  },
  {
   "cell_type": "code",
   "execution_count": 13,
   "metadata": {
    "slideshow": {
     "slide_type": "subslide"
    }
   },
   "outputs": [],
   "source": [
    "x <- 1\n",
    "y <- 5"
   ]
  },
  {
   "cell_type": "code",
   "execution_count": 14,
   "metadata": {
    "slideshow": {
     "slide_type": "skip"
    }
   },
   "outputs": [],
   "source": [
    "primes_counter <- 0\n",
    "i <- x\n",
    "while (i <= y) {\n",
    "    if (i == 1) {\n",
    "        i <- i + 1\n",
    "        next\n",
    "    }\n",
    "    j <- 1\n",
    "    divisors_counter <- 0\n",
    "    while (j <= i**0.5) {\n",
    "        if (i %% j == 0) {\n",
    "            divisors_counter <- divisors_counter + 1\n",
    "        }\n",
    "        j <- j + 1\n",
    "        if (divisors_counter > 1) {\n",
    "            break\n",
    "        }\n",
    "    }\n",
    "    if (divisors_counter == 1) {\n",
    "        primes_counter <- primes_counter + 1\n",
    "    }\n",
    "    i <- i + 1\n",
    "}\n",
    "msg <- sprintf(\"介於 %s 與 %s 之間的質數有 %s 個\", x, y, primes_counter)"
   ]
  },
  {
   "cell_type": "code",
   "execution_count": 15,
   "metadata": {
    "slideshow": {
     "slide_type": "fragment"
    }
   },
   "outputs": [
    {
     "data": {
      "text/html": [
       "'介於 1 與 5 之間的質數有 3 個'"
      ],
      "text/latex": [
       "'介於 1 與 5 之間的質數有 3 個'"
      ],
      "text/markdown": [
       "'介於 1 與 5 之間的質數有 3 個'"
      ],
      "text/plain": [
       "[1] \"介於 1 與 5 之間的質數有 3 個\""
      ]
     },
     "metadata": {},
     "output_type": "display_data"
    }
   ],
   "source": [
    "msg"
   ]
  },
  {
   "cell_type": "code",
   "execution_count": 16,
   "metadata": {
    "slideshow": {
     "slide_type": "subslide"
    }
   },
   "outputs": [],
   "source": [
    "x <- 5\n",
    "y <- 19"
   ]
  },
  {
   "cell_type": "code",
   "execution_count": 17,
   "metadata": {
    "slideshow": {
     "slide_type": "skip"
    }
   },
   "outputs": [],
   "source": [
    "primes_counter <- 0\n",
    "i <- x\n",
    "while (i <= y) {\n",
    "    if (i == 1) {\n",
    "        i <- i + 1\n",
    "        next\n",
    "    }\n",
    "    j <- 1\n",
    "    divisors_counter <- 0\n",
    "    while (j <= i**0.5) {\n",
    "        if (i %% j == 0) {\n",
    "            divisors_counter <- divisors_counter + 1\n",
    "        }\n",
    "        j <- j + 1\n",
    "        if (divisors_counter > 1) {\n",
    "            break\n",
    "        }\n",
    "    }\n",
    "    if (divisors_counter == 1) {\n",
    "        primes_counter <- primes_counter + 1\n",
    "    }\n",
    "    i <- i + 1\n",
    "}\n",
    "msg <- sprintf(\"介於 %s 與 %s 之間的質數有 %s 個\", x, y, primes_counter)"
   ]
  },
  {
   "cell_type": "code",
   "execution_count": 18,
   "metadata": {
    "slideshow": {
     "slide_type": "fragment"
    }
   },
   "outputs": [
    {
     "data": {
      "text/html": [
       "'介於 5 與 19 之間的質數有 6 個'"
      ],
      "text/latex": [
       "'介於 5 與 19 之間的質數有 6 個'"
      ],
      "text/markdown": [
       "'介於 5 與 19 之間的質數有 6 個'"
      ],
      "text/plain": [
       "[1] \"介於 5 與 19 之間的質數有 6 個\""
      ]
     },
     "metadata": {},
     "output_type": "display_data"
    }
   ],
   "source": [
    "msg"
   ]
  }
 ],
 "metadata": {
  "celltoolbar": "Slideshow",
  "kernelspec": {
   "display_name": "R",
   "language": "R",
   "name": "ir"
  },
  "language_info": {
   "codemirror_mode": "r",
   "file_extension": ".r",
   "mimetype": "text/x-r-source",
   "name": "R",
   "pygments_lexer": "r",
   "version": "3.5.2"
  }
 },
 "nbformat": 4,
 "nbformat_minor": 2
}
