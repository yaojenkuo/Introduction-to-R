{
 "cells": [
  {
   "cell_type": "markdown",
   "metadata": {
    "slideshow": {
     "slide_type": "slide"
    }
   },
   "source": [
    "# 成為初級資料分析師 | R 程式設計與資料科學應用\n",
    "\n",
    "> 程式封裝：自訂函數\n",
    "\n",
    "## 郭耀仁"
   ]
  },
  {
   "cell_type": "markdown",
   "metadata": {
    "slideshow": {
     "slide_type": "subslide"
    }
   },
   "source": [
    "> The way R works is pretty straightforward, you apply functions to objects.\n",
    ">\n",
    "> Greg Martain"
   ]
  },
  {
   "cell_type": "markdown",
   "metadata": {
    "slideshow": {
     "slide_type": "subslide"
    }
   },
   "source": [
    "## 大綱\n",
    "\n",
    "- 關於函數\n",
    "- 常用的 R 內建函數\n",
    "- 自訂函數\n",
    "- 全域（Global）與區域（Local）\n",
    "- 向量化函數\n",
    "- 遞迴（Recursion）"
   ]
  },
  {
   "cell_type": "markdown",
   "metadata": {
    "slideshow": {
     "slide_type": "slide"
    }
   },
   "source": [
    "## 關於函數"
   ]
  },
  {
   "cell_type": "markdown",
   "metadata": {
    "slideshow": {
     "slide_type": "subslide"
    }
   },
   "source": [
    "![Imgur](https://i.imgur.com/lF2oqn8.png?2)"
   ]
  },
  {
   "cell_type": "markdown",
   "metadata": {
    "slideshow": {
     "slide_type": "subslide"
    }
   },
   "source": [
    "## 函數由四個元件組合而成\n",
    "\n",
    "- 輸入 INPUTS\n",
    "- 參數 ARGUMENTS\n",
    "- 主體 BODY\n",
    "- 輸出 OUTPUTS"
   ]
  },
  {
   "cell_type": "markdown",
   "metadata": {
    "slideshow": {
     "slide_type": "slide"
    }
   },
   "source": [
    "## 常用的 R 內建函數"
   ]
  },
  {
   "cell_type": "markdown",
   "metadata": {
    "slideshow": {
     "slide_type": "subslide"
    }
   },
   "source": [
    "## 內建數值函數"
   ]
  },
  {
   "cell_type": "markdown",
   "metadata": {
    "slideshow": {
     "slide_type": "subslide"
    }
   },
   "source": [
    "## `abs()`\n",
    "\n",
    "取絕對值"
   ]
  },
  {
   "cell_type": "code",
   "execution_count": 1,
   "metadata": {},
   "outputs": [
    {
     "data": {
      "text/html": [
       "5566"
      ],
      "text/latex": [
       "5566"
      ],
      "text/markdown": [
       "5566"
      ],
      "text/plain": [
       "[1] 5566"
      ]
     },
     "metadata": {},
     "output_type": "display_data"
    },
    {
     "data": {
      "text/html": [
       "5566"
      ],
      "text/latex": [
       "5566"
      ],
      "text/markdown": [
       "5566"
      ],
      "text/plain": [
       "[1] 5566"
      ]
     },
     "metadata": {},
     "output_type": "display_data"
    }
   ],
   "source": [
    "abs(-5566)\n",
    "abs(5566)"
   ]
  },
  {
   "cell_type": "markdown",
   "metadata": {
    "slideshow": {
     "slide_type": "subslide"
    }
   },
   "source": [
    "## `sqrt()`\n",
    "\n",
    "平方根"
   ]
  },
  {
   "cell_type": "code",
   "execution_count": 2,
   "metadata": {},
   "outputs": [
    {
     "data": {
      "text/html": [
       "1.4142135623731"
      ],
      "text/latex": [
       "1.4142135623731"
      ],
      "text/markdown": [
       "1.4142135623731"
      ],
      "text/plain": [
       "[1] 1.414214"
      ]
     },
     "metadata": {},
     "output_type": "display_data"
    },
    {
     "data": {
      "text/html": [
       "1.73205080756888"
      ],
      "text/latex": [
       "1.73205080756888"
      ],
      "text/markdown": [
       "1.73205080756888"
      ],
      "text/plain": [
       "[1] 1.732051"
      ]
     },
     "metadata": {},
     "output_type": "display_data"
    }
   ],
   "source": [
    "sqrt(2)\n",
    "sqrt(3)"
   ]
  },
  {
   "cell_type": "markdown",
   "metadata": {
    "slideshow": {
     "slide_type": "subslide"
    }
   },
   "source": [
    "## `ceiling()`\n",
    "\n",
    "無條件進位"
   ]
  },
  {
   "cell_type": "code",
   "execution_count": 3,
   "metadata": {},
   "outputs": [
    {
     "data": {
      "text/html": [
       "2"
      ],
      "text/latex": [
       "2"
      ],
      "text/markdown": [
       "2"
      ],
      "text/plain": [
       "[1] 2"
      ]
     },
     "metadata": {},
     "output_type": "display_data"
    },
    {
     "data": {
      "text/html": [
       "2"
      ],
      "text/latex": [
       "2"
      ],
      "text/markdown": [
       "2"
      ],
      "text/plain": [
       "[1] 2"
      ]
     },
     "metadata": {},
     "output_type": "display_data"
    }
   ],
   "source": [
    "ceiling(sqrt(2))\n",
    "ceiling(sqrt(3))"
   ]
  },
  {
   "cell_type": "markdown",
   "metadata": {
    "slideshow": {
     "slide_type": "subslide"
    }
   },
   "source": [
    "## `floor()`\n",
    "\n",
    "無條件捨去"
   ]
  },
  {
   "cell_type": "code",
   "execution_count": 4,
   "metadata": {},
   "outputs": [
    {
     "data": {
      "text/html": [
       "1"
      ],
      "text/latex": [
       "1"
      ],
      "text/markdown": [
       "1"
      ],
      "text/plain": [
       "[1] 1"
      ]
     },
     "metadata": {},
     "output_type": "display_data"
    },
    {
     "data": {
      "text/html": [
       "1"
      ],
      "text/latex": [
       "1"
      ],
      "text/markdown": [
       "1"
      ],
      "text/plain": [
       "[1] 1"
      ]
     },
     "metadata": {},
     "output_type": "display_data"
    }
   ],
   "source": [
    "floor(sqrt(2))\n",
    "floor(sqrt(3))"
   ]
  },
  {
   "cell_type": "markdown",
   "metadata": {
    "slideshow": {
     "slide_type": "subslide"
    }
   },
   "source": [
    "## `round()`\n",
    "\n",
    "四捨五入"
   ]
  },
  {
   "cell_type": "code",
   "execution_count": 5,
   "metadata": {},
   "outputs": [
    {
     "data": {
      "text/html": [
       "1"
      ],
      "text/latex": [
       "1"
      ],
      "text/markdown": [
       "1"
      ],
      "text/plain": [
       "[1] 1"
      ]
     },
     "metadata": {},
     "output_type": "display_data"
    },
    {
     "data": {
      "text/html": [
       "2"
      ],
      "text/latex": [
       "2"
      ],
      "text/markdown": [
       "2"
      ],
      "text/plain": [
       "[1] 2"
      ]
     },
     "metadata": {},
     "output_type": "display_data"
    }
   ],
   "source": [
    "round(sqrt(2))\n",
    "round(sqrt(3))"
   ]
  },
  {
   "cell_type": "markdown",
   "metadata": {
    "slideshow": {
     "slide_type": "subslide"
    }
   },
   "source": [
    "## `exp()`\n",
    "\n",
    "指數函數\n",
    "\n",
    "$$exp(x) = e^x \\text{  , where  } e = 2.71828...\n",
    "$$"
   ]
  },
  {
   "cell_type": "code",
   "execution_count": 6,
   "metadata": {},
   "outputs": [
    {
     "data": {
      "text/html": [
       "2.71828182845905"
      ],
      "text/latex": [
       "2.71828182845905"
      ],
      "text/markdown": [
       "2.71828182845905"
      ],
      "text/plain": [
       "[1] 2.718282"
      ]
     },
     "metadata": {},
     "output_type": "display_data"
    },
    {
     "data": {
      "text/html": [
       "7.38905609893065"
      ],
      "text/latex": [
       "7.38905609893065"
      ],
      "text/markdown": [
       "7.38905609893065"
      ],
      "text/plain": [
       "[1] 7.389056"
      ]
     },
     "metadata": {},
     "output_type": "display_data"
    }
   ],
   "source": [
    "exp(1)\n",
    "exp(2)"
   ]
  },
  {
   "cell_type": "markdown",
   "metadata": {
    "slideshow": {
     "slide_type": "subslide"
    }
   },
   "source": [
    "## `log()`\n",
    "\n",
    "以 $e$ 為底的對數函數"
   ]
  },
  {
   "cell_type": "code",
   "execution_count": 7,
   "metadata": {},
   "outputs": [
    {
     "data": {
      "text/html": [
       "1"
      ],
      "text/latex": [
       "1"
      ],
      "text/markdown": [
       "1"
      ],
      "text/plain": [
       "[1] 1"
      ]
     },
     "metadata": {},
     "output_type": "display_data"
    },
    {
     "data": {
      "text/html": [
       "2"
      ],
      "text/latex": [
       "2"
      ],
      "text/markdown": [
       "2"
      ],
      "text/plain": [
       "[1] 2"
      ]
     },
     "metadata": {},
     "output_type": "display_data"
    }
   ],
   "source": [
    "e = exp(1)\n",
    "ee = exp(2)\n",
    "log(e)\n",
    "log(ee)"
   ]
  },
  {
   "cell_type": "markdown",
   "metadata": {
    "slideshow": {
     "slide_type": "subslide"
    }
   },
   "source": [
    "## `log10()`\n",
    "\n",
    "以 10 為底的對數函數"
   ]
  },
  {
   "cell_type": "code",
   "execution_count": 8,
   "metadata": {},
   "outputs": [
    {
     "data": {
      "text/html": [
       "1"
      ],
      "text/latex": [
       "1"
      ],
      "text/markdown": [
       "1"
      ],
      "text/plain": [
       "[1] 1"
      ]
     },
     "metadata": {},
     "output_type": "display_data"
    },
    {
     "data": {
      "text/html": [
       "2"
      ],
      "text/latex": [
       "2"
      ],
      "text/markdown": [
       "2"
      ],
      "text/plain": [
       "[1] 2"
      ]
     },
     "metadata": {},
     "output_type": "display_data"
    }
   ],
   "source": [
    "log10(10)\n",
    "log10(10**2)"
   ]
  },
  {
   "cell_type": "markdown",
   "metadata": {
    "slideshow": {
     "slide_type": "subslide"
    }
   },
   "source": [
    "## 內建描述性統計函數"
   ]
  },
  {
   "cell_type": "markdown",
   "metadata": {
    "slideshow": {
     "slide_type": "subslide"
    }
   },
   "source": [
    "## `mean()`\n",
    "\n",
    "平均數"
   ]
  },
  {
   "cell_type": "code",
   "execution_count": 9,
   "metadata": {},
   "outputs": [
    {
     "data": {
      "text/html": [
       "5.5"
      ],
      "text/latex": [
       "5.5"
      ],
      "text/markdown": [
       "5.5"
      ],
      "text/plain": [
       "[1] 5.5"
      ]
     },
     "metadata": {},
     "output_type": "display_data"
    }
   ],
   "source": [
    "mean(1:10)"
   ]
  },
  {
   "cell_type": "markdown",
   "metadata": {
    "slideshow": {
     "slide_type": "subslide"
    }
   },
   "source": [
    "## `sd()`\n",
    "\n",
    "標準差"
   ]
  },
  {
   "cell_type": "code",
   "execution_count": 10,
   "metadata": {},
   "outputs": [
    {
     "data": {
      "text/html": [
       "3.02765035409749"
      ],
      "text/latex": [
       "3.02765035409749"
      ],
      "text/markdown": [
       "3.02765035409749"
      ],
      "text/plain": [
       "[1] 3.02765"
      ]
     },
     "metadata": {},
     "output_type": "display_data"
    }
   ],
   "source": [
    "sd(1:10)"
   ]
  },
  {
   "cell_type": "markdown",
   "metadata": {
    "slideshow": {
     "slide_type": "subslide"
    }
   },
   "source": [
    "## `median()`\n",
    "\n",
    "中位數"
   ]
  },
  {
   "cell_type": "code",
   "execution_count": 11,
   "metadata": {},
   "outputs": [
    {
     "data": {
      "text/html": [
       "5"
      ],
      "text/latex": [
       "5"
      ],
      "text/markdown": [
       "5"
      ],
      "text/plain": [
       "[1] 5"
      ]
     },
     "metadata": {},
     "output_type": "display_data"
    }
   ],
   "source": [
    "median(1:9)"
   ]
  },
  {
   "cell_type": "markdown",
   "metadata": {
    "slideshow": {
     "slide_type": "subslide"
    }
   },
   "source": [
    "## `range()`\n",
    "\n",
    "最大值與最小值"
   ]
  },
  {
   "cell_type": "code",
   "execution_count": 12,
   "metadata": {},
   "outputs": [
    {
     "data": {
      "text/html": [
       "<ol class=list-inline>\n",
       "\t<li>11</li>\n",
       "\t<li>100</li>\n",
       "</ol>\n"
      ],
      "text/latex": [
       "\\begin{enumerate*}\n",
       "\\item 11\n",
       "\\item 100\n",
       "\\end{enumerate*}\n"
      ],
      "text/markdown": [
       "1. 11\n",
       "2. 100\n",
       "\n",
       "\n"
      ],
      "text/plain": [
       "[1]  11 100"
      ]
     },
     "metadata": {},
     "output_type": "display_data"
    }
   ],
   "source": [
    "range(11:100)"
   ]
  },
  {
   "cell_type": "markdown",
   "metadata": {
    "slideshow": {
     "slide_type": "subslide"
    }
   },
   "source": [
    "## `sum()`\n",
    "\n",
    "加總"
   ]
  },
  {
   "cell_type": "code",
   "execution_count": 13,
   "metadata": {},
   "outputs": [
    {
     "data": {
      "text/html": [
       "5050"
      ],
      "text/latex": [
       "5050"
      ],
      "text/markdown": [
       "5050"
      ],
      "text/plain": [
       "[1] 5050"
      ]
     },
     "metadata": {},
     "output_type": "display_data"
    }
   ],
   "source": [
    "sum(1:100)"
   ]
  },
  {
   "cell_type": "markdown",
   "metadata": {
    "slideshow": {
     "slide_type": "subslide"
    }
   },
   "source": [
    "## `max()`\n",
    "\n",
    "最大值"
   ]
  },
  {
   "cell_type": "code",
   "execution_count": 14,
   "metadata": {},
   "outputs": [
    {
     "data": {
      "text/html": [
       "100"
      ],
      "text/latex": [
       "100"
      ],
      "text/markdown": [
       "100"
      ],
      "text/plain": [
       "[1] 100"
      ]
     },
     "metadata": {},
     "output_type": "display_data"
    }
   ],
   "source": [
    "max(11:100)"
   ]
  },
  {
   "cell_type": "markdown",
   "metadata": {
    "slideshow": {
     "slide_type": "subslide"
    }
   },
   "source": [
    "## `min()`\n",
    "\n",
    "最小值"
   ]
  },
  {
   "cell_type": "code",
   "execution_count": 15,
   "metadata": {},
   "outputs": [
    {
     "data": {
      "text/html": [
       "11"
      ],
      "text/latex": [
       "11"
      ],
      "text/markdown": [
       "11"
      ],
      "text/plain": [
       "[1] 11"
      ]
     },
     "metadata": {},
     "output_type": "display_data"
    }
   ],
   "source": [
    "min(11:100)"
   ]
  },
  {
   "cell_type": "markdown",
   "metadata": {
    "slideshow": {
     "slide_type": "subslide"
    }
   },
   "source": [
    "## 內建文字處理函數"
   ]
  },
  {
   "cell_type": "markdown",
   "metadata": {
    "slideshow": {
     "slide_type": "subslide"
    }
   },
   "source": [
    "## `unique()`\n",
    "\n",
    "取獨一值"
   ]
  },
  {
   "cell_type": "code",
   "execution_count": 16,
   "metadata": {},
   "outputs": [
    {
     "data": {
      "text/html": [
       "<ol class=list-inline>\n",
       "\t<li>'New York'</li>\n",
       "\t<li>'Boston'</li>\n",
       "\t<li>'Tokyo'</li>\n",
       "\t<li>'Kyoto'</li>\n",
       "\t<li>'Taipei'</li>\n",
       "</ol>\n"
      ],
      "text/latex": [
       "\\begin{enumerate*}\n",
       "\\item 'New York'\n",
       "\\item 'Boston'\n",
       "\\item 'Tokyo'\n",
       "\\item 'Kyoto'\n",
       "\\item 'Taipei'\n",
       "\\end{enumerate*}\n"
      ],
      "text/markdown": [
       "1. 'New York'\n",
       "2. 'Boston'\n",
       "3. 'Tokyo'\n",
       "4. 'Kyoto'\n",
       "5. 'Taipei'\n",
       "\n",
       "\n"
      ],
      "text/plain": [
       "[1] \"New York\" \"Boston\"   \"Tokyo\"    \"Kyoto\"    \"Taipei\"  "
      ]
     },
     "metadata": {},
     "output_type": "display_data"
    },
    {
     "data": {
      "text/html": [
       "<ol class=list-inline>\n",
       "\t<li>'United States'</li>\n",
       "\t<li>'Japan'</li>\n",
       "\t<li>'Taiwan'</li>\n",
       "</ol>\n"
      ],
      "text/latex": [
       "\\begin{enumerate*}\n",
       "\\item 'United States'\n",
       "\\item 'Japan'\n",
       "\\item 'Taiwan'\n",
       "\\end{enumerate*}\n"
      ],
      "text/markdown": [
       "1. 'United States'\n",
       "2. 'Japan'\n",
       "3. 'Taiwan'\n",
       "\n",
       "\n"
      ],
      "text/plain": [
       "[1] \"United States\" \"Japan\"         \"Taiwan\"       "
      ]
     },
     "metadata": {},
     "output_type": "display_data"
    }
   ],
   "source": [
    "cities <- c(\"New York\", \"Boston\", \"Tokyo\", \"Kyoto\", \"Taipei\")\n",
    "countries <- c(\"United States\", \"United States\", \"Japan\", \"Japan\", \"Taiwan\")\n",
    "unique(cities)\n",
    "unique(countries)"
   ]
  },
  {
   "cell_type": "markdown",
   "metadata": {
    "slideshow": {
     "slide_type": "subslide"
    }
   },
   "source": [
    "## `toupper()`\n",
    "\n",
    "轉換為大寫"
   ]
  },
  {
   "cell_type": "code",
   "execution_count": 17,
   "metadata": {},
   "outputs": [
    {
     "data": {
      "text/html": [
       "'LUKE, USE THE FORCE!'"
      ],
      "text/latex": [
       "'LUKE, USE THE FORCE!'"
      ],
      "text/markdown": [
       "'LUKE, USE THE FORCE!'"
      ],
      "text/plain": [
       "[1] \"LUKE, USE THE FORCE!\""
      ]
     },
     "metadata": {},
     "output_type": "display_data"
    }
   ],
   "source": [
    "toupper(\"Luke, use the Force!\")"
   ]
  },
  {
   "cell_type": "markdown",
   "metadata": {
    "slideshow": {
     "slide_type": "subslide"
    }
   },
   "source": [
    "## `tolower()`\n",
    "\n",
    "轉換為小寫"
   ]
  },
  {
   "cell_type": "code",
   "execution_count": 18,
   "metadata": {},
   "outputs": [
    {
     "data": {
      "text/html": [
       "'luke, use the force!'"
      ],
      "text/latex": [
       "'luke, use the force!'"
      ],
      "text/markdown": [
       "'luke, use the force!'"
      ],
      "text/plain": [
       "[1] \"luke, use the force!\""
      ]
     },
     "metadata": {},
     "output_type": "display_data"
    }
   ],
   "source": [
    "tolower(\"Luke, use the Force!\")"
   ]
  },
  {
   "cell_type": "markdown",
   "metadata": {
    "slideshow": {
     "slide_type": "subslide"
    }
   },
   "source": [
    "## `substr()`\n",
    "\n",
    "擷取部分字串"
   ]
  },
  {
   "cell_type": "code",
   "execution_count": 19,
   "metadata": {},
   "outputs": [
    {
     "data": {
      "text/html": [
       "'Luke'"
      ],
      "text/latex": [
       "'Luke'"
      ],
      "text/markdown": [
       "'Luke'"
      ],
      "text/plain": [
       "[1] \"Luke\""
      ]
     },
     "metadata": {},
     "output_type": "display_data"
    },
    {
     "data": {
      "text/html": [
       "'the Force!'"
      ],
      "text/latex": [
       "'the Force!'"
      ],
      "text/markdown": [
       "'the Force!'"
      ],
      "text/plain": [
       "[1] \"the Force!\""
      ]
     },
     "metadata": {},
     "output_type": "display_data"
    }
   ],
   "source": [
    "luke <- \"Luke, use the Force!\"\n",
    "substr(luke, start = 1, stop = 4)\n",
    "substr(luke, start = 11, stop = nchar(luke))"
   ]
  },
  {
   "cell_type": "markdown",
   "metadata": {
    "slideshow": {
     "slide_type": "subslide"
    }
   },
   "source": [
    "## `grep()`\n",
    "\n",
    "回傳指定特徵有出現的索引值"
   ]
  },
  {
   "cell_type": "code",
   "execution_count": 20,
   "metadata": {},
   "outputs": [
    {
     "data": {
      "text/html": [
       "<ol class=list-inline>\n",
       "\t<li>1</li>\n",
       "\t<li>2</li>\n",
       "\t<li>3</li>\n",
       "\t<li>4</li>\n",
       "</ol>\n"
      ],
      "text/latex": [
       "\\begin{enumerate*}\n",
       "\\item 1\n",
       "\\item 2\n",
       "\\item 3\n",
       "\\item 4\n",
       "\\end{enumerate*}\n"
      ],
      "text/markdown": [
       "1. 1\n",
       "2. 2\n",
       "3. 3\n",
       "4. 4\n",
       "\n",
       "\n"
      ],
      "text/plain": [
       "[1] 1 2 3 4"
      ]
     },
     "metadata": {},
     "output_type": "display_data"
    },
    {
     "data": {
      "text/html": [
       "4"
      ],
      "text/latex": [
       "4"
      ],
      "text/markdown": [
       "4"
      ],
      "text/plain": [
       "[1] 4"
      ]
     },
     "metadata": {},
     "output_type": "display_data"
    }
   ],
   "source": [
    "avengers <- c(\"The Avengers\", \"Avengers: Age of Ultron\", \"Avengers: Infinity War\", \"Avengers: Endgame\")\n",
    "grep(pattern = \"Avengers\", avengers)\n",
    "grep(pattern = \"Endgame\", avengers)"
   ]
  },
  {
   "cell_type": "markdown",
   "metadata": {
    "slideshow": {
     "slide_type": "subslide"
    }
   },
   "source": [
    "## `sub()`\n",
    "\n",
    "取代指定特徵"
   ]
  },
  {
   "cell_type": "code",
   "execution_count": 21,
   "metadata": {},
   "outputs": [
    {
     "data": {
      "text/html": [
       "'Luke Skywalker'"
      ],
      "text/latex": [
       "'Luke Skywalker'"
      ],
      "text/markdown": [
       "'Luke Skywalker'"
      ],
      "text/plain": [
       "[1] \"Luke Skywalker\""
      ]
     },
     "metadata": {},
     "output_type": "display_data"
    }
   ],
   "source": [
    "skywalker <- \"Anakin Skywalker\"\n",
    "sub(pattern = \"Anakin\", replacement = \"Luke\", skywalker)"
   ]
  },
  {
   "cell_type": "markdown",
   "metadata": {
    "slideshow": {
     "slide_type": "subslide"
    }
   },
   "source": [
    "## `strsplit()`\n",
    "\n",
    "依據指定特徵分割文字"
   ]
  },
  {
   "cell_type": "code",
   "execution_count": 22,
   "metadata": {},
   "outputs": [
    {
     "data": {
      "text/html": [
       "<ol>\n",
       "\t<li><ol class=list-inline>\n",
       "\t<li>'The'</li>\n",
       "\t<li>'Avengers'</li>\n",
       "</ol>\n",
       "</li>\n",
       "\t<li><ol class=list-inline>\n",
       "\t<li>'Avengers:'</li>\n",
       "\t<li>'Age'</li>\n",
       "\t<li>'of'</li>\n",
       "\t<li>'Ultron'</li>\n",
       "</ol>\n",
       "</li>\n",
       "\t<li><ol class=list-inline>\n",
       "\t<li>'Avengers:'</li>\n",
       "\t<li>'Infinity'</li>\n",
       "\t<li>'War'</li>\n",
       "</ol>\n",
       "</li>\n",
       "\t<li><ol class=list-inline>\n",
       "\t<li>'Avengers:'</li>\n",
       "\t<li>'Endgame'</li>\n",
       "</ol>\n",
       "</li>\n",
       "</ol>\n"
      ],
      "text/latex": [
       "\\begin{enumerate}\n",
       "\\item \\begin{enumerate*}\n",
       "\\item 'The'\n",
       "\\item 'Avengers'\n",
       "\\end{enumerate*}\n",
       "\n",
       "\\item \\begin{enumerate*}\n",
       "\\item 'Avengers:'\n",
       "\\item 'Age'\n",
       "\\item 'of'\n",
       "\\item 'Ultron'\n",
       "\\end{enumerate*}\n",
       "\n",
       "\\item \\begin{enumerate*}\n",
       "\\item 'Avengers:'\n",
       "\\item 'Infinity'\n",
       "\\item 'War'\n",
       "\\end{enumerate*}\n",
       "\n",
       "\\item \\begin{enumerate*}\n",
       "\\item 'Avengers:'\n",
       "\\item 'Endgame'\n",
       "\\end{enumerate*}\n",
       "\n",
       "\\end{enumerate}\n"
      ],
      "text/markdown": [
       "1. 1. 'The'\n",
       "2. 'Avengers'\n",
       "\n",
       "\n",
       "\n",
       "2. 1. 'Avengers:'\n",
       "2. 'Age'\n",
       "3. 'of'\n",
       "4. 'Ultron'\n",
       "\n",
       "\n",
       "\n",
       "3. 1. 'Avengers:'\n",
       "2. 'Infinity'\n",
       "3. 'War'\n",
       "\n",
       "\n",
       "\n",
       "4. 1. 'Avengers:'\n",
       "2. 'Endgame'\n",
       "\n",
       "\n",
       "\n",
       "\n",
       "\n"
      ],
      "text/plain": [
       "[[1]]\n",
       "[1] \"The\"      \"Avengers\"\n",
       "\n",
       "[[2]]\n",
       "[1] \"Avengers:\" \"Age\"       \"of\"        \"Ultron\"   \n",
       "\n",
       "[[3]]\n",
       "[1] \"Avengers:\" \"Infinity\"  \"War\"      \n",
       "\n",
       "[[4]]\n",
       "[1] \"Avengers:\" \"Endgame\"  \n"
      ]
     },
     "metadata": {},
     "output_type": "display_data"
    },
    {
     "data": {
      "text/html": [
       "<ol>\n",
       "\t<li>'The Avengers'</li>\n",
       "\t<li><ol class=list-inline>\n",
       "\t<li>'Avengers'</li>\n",
       "\t<li>' Age of Ultron'</li>\n",
       "</ol>\n",
       "</li>\n",
       "\t<li><ol class=list-inline>\n",
       "\t<li>'Avengers'</li>\n",
       "\t<li>' Infinity War'</li>\n",
       "</ol>\n",
       "</li>\n",
       "\t<li><ol class=list-inline>\n",
       "\t<li>'Avengers'</li>\n",
       "\t<li>' Endgame'</li>\n",
       "</ol>\n",
       "</li>\n",
       "</ol>\n"
      ],
      "text/latex": [
       "\\begin{enumerate}\n",
       "\\item 'The Avengers'\n",
       "\\item \\begin{enumerate*}\n",
       "\\item 'Avengers'\n",
       "\\item ' Age of Ultron'\n",
       "\\end{enumerate*}\n",
       "\n",
       "\\item \\begin{enumerate*}\n",
       "\\item 'Avengers'\n",
       "\\item ' Infinity War'\n",
       "\\end{enumerate*}\n",
       "\n",
       "\\item \\begin{enumerate*}\n",
       "\\item 'Avengers'\n",
       "\\item ' Endgame'\n",
       "\\end{enumerate*}\n",
       "\n",
       "\\end{enumerate}\n"
      ],
      "text/markdown": [
       "1. 'The Avengers'\n",
       "2. 1. 'Avengers'\n",
       "2. ' Age of Ultron'\n",
       "\n",
       "\n",
       "\n",
       "3. 1. 'Avengers'\n",
       "2. ' Infinity War'\n",
       "\n",
       "\n",
       "\n",
       "4. 1. 'Avengers'\n",
       "2. ' Endgame'\n",
       "\n",
       "\n",
       "\n",
       "\n",
       "\n"
      ],
      "text/plain": [
       "[[1]]\n",
       "[1] \"The Avengers\"\n",
       "\n",
       "[[2]]\n",
       "[1] \"Avengers\"       \" Age of Ultron\"\n",
       "\n",
       "[[3]]\n",
       "[1] \"Avengers\"      \" Infinity War\"\n",
       "\n",
       "[[4]]\n",
       "[1] \"Avengers\" \" Endgame\"\n"
      ]
     },
     "metadata": {},
     "output_type": "display_data"
    }
   ],
   "source": [
    "avengers <- c(\"The Avengers\", \"Avengers: Age of Ultron\", \"Avengers: Infinity War\", \"Avengers: Endgame\")\n",
    "strsplit(avengers, split = \" \")\n",
    "strsplit(avengers, split = \":\")"
   ]
  },
  {
   "cell_type": "markdown",
   "metadata": {
    "slideshow": {
     "slide_type": "subslide"
    }
   },
   "source": [
    "## `paste()` 與 `paste0()`\n",
    "\n",
    "連接文字"
   ]
  },
  {
   "cell_type": "code",
   "execution_count": 23,
   "metadata": {},
   "outputs": [
    {
     "data": {
      "text/html": [
       "'Avengers: Endgame'"
      ],
      "text/latex": [
       "'Avengers: Endgame'"
      ],
      "text/markdown": [
       "'Avengers: Endgame'"
      ],
      "text/plain": [
       "[1] \"Avengers: Endgame\""
      ]
     },
     "metadata": {},
     "output_type": "display_data"
    },
    {
     "data": {
      "text/html": [
       "'Avengers:Endgame'"
      ],
      "text/latex": [
       "'Avengers:Endgame'"
      ],
      "text/markdown": [
       "'Avengers:Endgame'"
      ],
      "text/plain": [
       "[1] \"Avengers:Endgame\""
      ]
     },
     "metadata": {},
     "output_type": "display_data"
    }
   ],
   "source": [
    "paste(\"Avengers:\", \"Endgame\")\n",
    "paste0(\"Avengers:\", \"Endgame\")"
   ]
  },
  {
   "cell_type": "markdown",
   "metadata": {
    "slideshow": {
     "slide_type": "subslide"
    }
   },
   "source": [
    "## `trimws()`\n",
    "\n",
    "消除前（leading）或後（trailing）的空白"
   ]
  },
  {
   "cell_type": "code",
   "execution_count": 24,
   "metadata": {},
   "outputs": [
    {
     "data": {
      "text/html": [
       "'Luke, use the Force!'"
      ],
      "text/latex": [
       "'Luke, use the Force!'"
      ],
      "text/markdown": [
       "'Luke, use the Force!'"
      ],
      "text/plain": [
       "[1] \"Luke, use the Force!\""
      ]
     },
     "metadata": {},
     "output_type": "display_data"
    },
    {
     "data": {
      "text/html": [
       "<span style=white-space:pre-wrap>'Luke, use the Force!     '</span>"
      ],
      "text/latex": [
       "'Luke, use the Force!     '"
      ],
      "text/markdown": [
       "<span style=white-space:pre-wrap>'Luke, use the Force!     '</span>"
      ],
      "text/plain": [
       "[1] \"Luke, use the Force!     \""
      ]
     },
     "metadata": {},
     "output_type": "display_data"
    },
    {
     "data": {
      "text/html": [
       "<span style=white-space:pre-wrap>'     Luke, use the Force!'</span>"
      ],
      "text/latex": [
       "'     Luke, use the Force!'"
      ],
      "text/markdown": [
       "<span style=white-space:pre-wrap>'     Luke, use the Force!'</span>"
      ],
      "text/plain": [
       "[1] \"     Luke, use the Force!\""
      ]
     },
     "metadata": {},
     "output_type": "display_data"
    }
   ],
   "source": [
    "luke <- \"     Luke, use the Force!     \"\n",
    "trimws(luke)\n",
    "trimws(luke, which = \"left\")\n",
    "trimws(luke, which = \"right\")"
   ]
  },
  {
   "cell_type": "markdown",
   "metadata": {
    "slideshow": {
     "slide_type": "slide"
    }
   },
   "source": [
    "## 自訂函數"
   ]
  },
  {
   "cell_type": "markdown",
   "metadata": {
    "slideshow": {
     "slide_type": "subslide"
    }
   },
   "source": [
    "## 在自訂函數時考慮 6 個元件\n",
    "\n",
    "- 函數名稱（命名風格與物件命名風格相同，儘量使用動詞）\n",
    "- 輸入的命名與設計\n",
    "- 參數的命名、設計與預設值\n",
    "- 函數主體\n",
    "- 輸出的命名與設計\n",
    "- 使用保留字 `function` 與 `return()`"
   ]
  },
  {
   "cell_type": "markdown",
   "metadata": {
    "slideshow": {
     "slide_type": "subslide"
    }
   },
   "source": [
    "## 自訂函數的 Code Block\n",
    "\n",
    "![Imgur](https://i.imgur.com/qmO0x6h.png)"
   ]
  },
  {
   "cell_type": "markdown",
   "metadata": {
    "slideshow": {
     "slide_type": "subslide"
    }
   },
   "source": [
    "```r\n",
    "FUNCTION_NAME <- function(INPUTS, ARGUMENTS, ...) {\n",
    "  # BODY\n",
    "  return(OUTPUTS)\n",
    "}\n",
    "```"
   ]
  },
  {
   "cell_type": "markdown",
   "metadata": {
    "slideshow": {
     "slide_type": "subslide"
    }
   },
   "source": [
    "## 單一輸入的函數\n",
    "\n",
    "將攝氏溫度轉換為華氏溫度的函數 `celsius_to_fahrenheit()`\n",
    "\n",
    "$$Fahrenheit_{(°F)} = Celsius_{(°C)} \\times \\frac{9}{5} + 32$$"
   ]
  },
  {
   "cell_type": "code",
   "execution_count": 25,
   "metadata": {
    "slideshow": {
     "slide_type": "-"
    }
   },
   "outputs": [
    {
     "data": {
      "text/html": [
       "68"
      ],
      "text/latex": [
       "68"
      ],
      "text/markdown": [
       "68"
      ],
      "text/plain": [
       "[1] 68"
      ]
     },
     "metadata": {},
     "output_type": "display_data"
    }
   ],
   "source": [
    "celsius_to_fahrenheit <- function(x) {\n",
    "    return(x*9/5 + 32)\n",
    "}\n",
    "celsius_to_fahrenheit(20)"
   ]
  },
  {
   "cell_type": "markdown",
   "metadata": {
    "slideshow": {
     "slide_type": "subslide"
    }
   },
   "source": [
    "## 隨堂練習：將公里轉換為英里的函數 `km_to_mile()`\n",
    "\n",
    "$$Miles = Kilometers \\times 0.62137$$"
   ]
  },
  {
   "cell_type": "code",
   "execution_count": 26,
   "metadata": {
    "slideshow": {
     "slide_type": "skip"
    }
   },
   "outputs": [],
   "source": [
    "km_to_mile <- function(x) {\n",
    "    return(x*0.62137)\n",
    "}"
   ]
  },
  {
   "cell_type": "code",
   "execution_count": 27,
   "metadata": {
    "slideshow": {
     "slide_type": "fragment"
    }
   },
   "outputs": [
    {
     "data": {
      "text/html": [
       "13.10780015"
      ],
      "text/latex": [
       "13.10780015"
      ],
      "text/markdown": [
       "13.10780015"
      ],
      "text/plain": [
       "[1] 13.1078"
      ]
     },
     "metadata": {},
     "output_type": "display_data"
    },
    {
     "data": {
      "text/html": [
       "26.21870715"
      ],
      "text/latex": [
       "26.21870715"
      ],
      "text/markdown": [
       "26.21870715"
      ],
      "text/plain": [
       "[1] 26.21871"
      ]
     },
     "metadata": {},
     "output_type": "display_data"
    }
   ],
   "source": [
    "km_to_mile(21.095)\n",
    "km_to_mile(42.195)"
   ]
  },
  {
   "cell_type": "markdown",
   "metadata": {
    "slideshow": {
     "slide_type": "subslide"
    }
   },
   "source": [
    "## 隨堂練習：判斷輸入 x 是否為質數的函數 `is_prime()`"
   ]
  },
  {
   "cell_type": "code",
   "execution_count": 28,
   "metadata": {
    "slideshow": {
     "slide_type": "skip"
    }
   },
   "outputs": [],
   "source": [
    "is_prime <- function(x) {\n",
    "    divisors_cnt <- 0\n",
    "    for (i in 1:x) {\n",
    "        if (x %% i == 0) {\n",
    "            divisors_cnt <- divisors_cnt + 1\n",
    "        }\n",
    "    }\n",
    "    return(divisors_cnt == 2)\n",
    "}"
   ]
  },
  {
   "cell_type": "code",
   "execution_count": 29,
   "metadata": {
    "slideshow": {
     "slide_type": "fragment"
    }
   },
   "outputs": [
    {
     "data": {
      "text/html": [
       "FALSE"
      ],
      "text/latex": [
       "FALSE"
      ],
      "text/markdown": [
       "FALSE"
      ],
      "text/plain": [
       "[1] FALSE"
      ]
     },
     "metadata": {},
     "output_type": "display_data"
    },
    {
     "data": {
      "text/html": [
       "TRUE"
      ],
      "text/latex": [
       "TRUE"
      ],
      "text/markdown": [
       "TRUE"
      ],
      "text/plain": [
       "[1] TRUE"
      ]
     },
     "metadata": {},
     "output_type": "display_data"
    }
   ],
   "source": [
    "is_prime(1)\n",
    "is_prime(2)"
   ]
  },
  {
   "cell_type": "markdown",
   "metadata": {
    "slideshow": {
     "slide_type": "subslide"
    }
   },
   "source": [
    "## 兩個以上輸入的函數"
   ]
  },
  {
   "cell_type": "code",
   "execution_count": 30,
   "metadata": {
    "slideshow": {
     "slide_type": "-"
    }
   },
   "outputs": [
    {
     "data": {
      "text/html": [
       "24.9444916531893"
      ],
      "text/latex": [
       "24.9444916531893"
      ],
      "text/markdown": [
       "24.9444916531893"
      ],
      "text/plain": [
       "[1] 24.94449"
      ]
     },
     "metadata": {},
     "output_type": "display_data"
    }
   ],
   "source": [
    "get_bmi <- function(height, weight) {\n",
    "    return(weight / (height*0.01)**2)\n",
    "}\n",
    "get_bmi(191, 91)"
   ]
  },
  {
   "cell_type": "markdown",
   "metadata": {
    "slideshow": {
     "slide_type": "subslide"
    }
   },
   "source": [
    "## 隨堂練習：回傳介於 x 與 y 之間的質數個數（包含 x 與 y 如果他們也是質數）的函數 `count_primes()`"
   ]
  },
  {
   "cell_type": "code",
   "execution_count": 31,
   "metadata": {
    "slideshow": {
     "slide_type": "skip"
    }
   },
   "outputs": [],
   "source": [
    "count_primes <- function(x, y) {\n",
    "    primes_cnt <- 0\n",
    "    for (i in x:y) {\n",
    "        if (is_prime(i)) {\n",
    "            primes_cnt <- primes_cnt + 1\n",
    "        }\n",
    "    }\n",
    "    return(primes_cnt)\n",
    "}"
   ]
  },
  {
   "cell_type": "code",
   "execution_count": 32,
   "metadata": {
    "slideshow": {
     "slide_type": "fragment"
    }
   },
   "outputs": [
    {
     "data": {
      "text/html": [
       "3"
      ],
      "text/latex": [
       "3"
      ],
      "text/markdown": [
       "3"
      ],
      "text/plain": [
       "[1] 3"
      ]
     },
     "metadata": {},
     "output_type": "display_data"
    },
    {
     "data": {
      "text/html": [
       "4"
      ],
      "text/latex": [
       "4"
      ],
      "text/markdown": [
       "4"
      ],
      "text/plain": [
       "[1] 4"
      ]
     },
     "metadata": {},
     "output_type": "display_data"
    }
   ],
   "source": [
    "count_primes(1, 5)\n",
    "count_primes(9, 19)"
   ]
  },
  {
   "cell_type": "markdown",
   "metadata": {
    "slideshow": {
     "slide_type": "subslide"
    }
   },
   "source": [
    "## 參數有預設值的函數"
   ]
  },
  {
   "cell_type": "code",
   "execution_count": 33,
   "metadata": {
    "slideshow": {
     "slide_type": "-"
    }
   },
   "outputs": [
    {
     "data": {
      "text/html": [
       "68"
      ],
      "text/latex": [
       "68"
      ],
      "text/markdown": [
       "68"
      ],
      "text/plain": [
       "[1] 68"
      ]
     },
     "metadata": {},
     "output_type": "display_data"
    },
    {
     "data": {
      "text/html": [
       "20"
      ],
      "text/latex": [
       "20"
      ],
      "text/markdown": [
       "20"
      ],
      "text/plain": [
       "[1] 20"
      ]
     },
     "metadata": {},
     "output_type": "display_data"
    }
   ],
   "source": [
    "temperature_converter <- function(x, to_fahrenheit = TRUE) {\n",
    "    if (to_fahrenheit) {\n",
    "        return(x*9/5 + 32)\n",
    "    } else {\n",
    "        return((x - 32)*5/9)\n",
    "    }\n",
    "}\n",
    "temperature_converter(20)\n",
    "temperature_converter(68, to_fahrenheit = FALSE)"
   ]
  },
  {
   "cell_type": "markdown",
   "metadata": {
    "slideshow": {
     "slide_type": "subslide"
    }
   },
   "source": [
    "## 隨堂練習：計算圓面積或圓周長的函數 `circle_calculator()`（預設計算圓面積）"
   ]
  },
  {
   "cell_type": "code",
   "execution_count": 34,
   "metadata": {
    "slideshow": {
     "slide_type": "skip"
    }
   },
   "outputs": [],
   "source": [
    "circle_calculator <- function(r, is_area = TRUE) {\n",
    "    if (is_area) {\n",
    "        return(pi*r**2)\n",
    "    } else {\n",
    "        return(2*pi*r)\n",
    "    }\n",
    "}"
   ]
  },
  {
   "cell_type": "code",
   "execution_count": 35,
   "metadata": {
    "slideshow": {
     "slide_type": "fragment"
    }
   },
   "outputs": [
    {
     "data": {
      "text/html": [
       "28.2743338823081"
      ],
      "text/latex": [
       "28.2743338823081"
      ],
      "text/markdown": [
       "28.2743338823081"
      ],
      "text/plain": [
       "[1] 28.27433"
      ]
     },
     "metadata": {},
     "output_type": "display_data"
    },
    {
     "data": {
      "text/html": [
       "18.8495559215388"
      ],
      "text/latex": [
       "18.8495559215388"
      ],
      "text/markdown": [
       "18.8495559215388"
      ],
      "text/plain": [
       "[1] 18.84956"
      ]
     },
     "metadata": {},
     "output_type": "display_data"
    }
   ],
   "source": [
    "circle_calculator(3)\n",
    "circle_calculator(3, is_area = FALSE)"
   ]
  },
  {
   "cell_type": "markdown",
   "metadata": {
    "slideshow": {
     "slide_type": "subslide"
    }
   },
   "source": [
    "## 多個輸出的函數"
   ]
  },
  {
   "cell_type": "code",
   "execution_count": 36,
   "metadata": {
    "slideshow": {
     "slide_type": "-"
    }
   },
   "outputs": [],
   "source": [
    "get_bmi_and_label <- function(height, weight) {\n",
    "    bmi <- weight / (height/100)**2\n",
    "    if (bmi > 30) {\n",
    "        label <- \"Obese\"\n",
    "    } else if (bmi < 18.5) {\n",
    "        label <- \"Underweight\"\n",
    "    } else if (bmi > 25) {\n",
    "        label <- \"Overweight\"\n",
    "    } else {\n",
    "        label <- \"Normal weight\"\n",
    "    }\n",
    "    bmi_and_label <- list(\n",
    "        bmi = bmi,\n",
    "        bmi_label = label\n",
    "    )\n",
    "    return(bmi_and_label)\n",
    "}"
   ]
  },
  {
   "cell_type": "code",
   "execution_count": 37,
   "metadata": {},
   "outputs": [
    {
     "data": {
      "text/html": [
       "<dl>\n",
       "\t<dt>$bmi</dt>\n",
       "\t\t<dd>31.5072016460905</dd>\n",
       "\t<dt>$bmi_label</dt>\n",
       "\t\t<dd>'Obese'</dd>\n",
       "</dl>\n"
      ],
      "text/latex": [
       "\\begin{description}\n",
       "\\item[\\$bmi] 31.5072016460905\n",
       "\\item[\\$bmi\\_label] 'Obese'\n",
       "\\end{description}\n"
      ],
      "text/markdown": [
       "$bmi\n",
       ":   31.5072016460905\n",
       "$bmi_label\n",
       ":   'Obese'\n",
       "\n",
       "\n"
      ],
      "text/plain": [
       "$bmi\n",
       "[1] 31.5072\n",
       "\n",
       "$bmi_label\n",
       "[1] \"Obese\"\n"
      ]
     },
     "metadata": {},
     "output_type": "display_data"
    },
    {
     "data": {
      "text/html": [
       "<dl>\n",
       "\t<dt>$bmi</dt>\n",
       "\t\t<dd>27.4211943992817</dd>\n",
       "\t<dt>$bmi_label</dt>\n",
       "\t\t<dd>'Overweight'</dd>\n",
       "</dl>\n"
      ],
      "text/latex": [
       "\\begin{description}\n",
       "\\item[\\$bmi] 27.4211943992817\n",
       "\\item[\\$bmi\\_label] 'Overweight'\n",
       "\\end{description}\n"
      ],
      "text/markdown": [
       "$bmi\n",
       ":   27.4211943992817\n",
       "$bmi_label\n",
       ":   'Overweight'\n",
       "\n",
       "\n"
      ],
      "text/plain": [
       "$bmi\n",
       "[1] 27.42119\n",
       "\n",
       "$bmi_label\n",
       "[1] \"Overweight\"\n"
      ]
     },
     "metadata": {},
     "output_type": "display_data"
    },
    {
     "data": {
      "text/html": [
       "<dl>\n",
       "\t<dt>$bmi</dt>\n",
       "\t\t<dd>22.4774540171596</dd>\n",
       "\t<dt>$bmi_label</dt>\n",
       "\t\t<dd>'Normal weight'</dd>\n",
       "</dl>\n"
      ],
      "text/latex": [
       "\\begin{description}\n",
       "\\item[\\$bmi] 22.4774540171596\n",
       "\\item[\\$bmi\\_label] 'Normal weight'\n",
       "\\end{description}\n"
      ],
      "text/markdown": [
       "$bmi\n",
       ":   22.4774540171596\n",
       "$bmi_label\n",
       ":   'Normal weight'\n",
       "\n",
       "\n"
      ],
      "text/plain": [
       "$bmi\n",
       "[1] 22.47745\n",
       "\n",
       "$bmi_label\n",
       "[1] \"Normal weight\"\n"
      ]
     },
     "metadata": {},
     "output_type": "display_data"
    },
    {
     "data": {
      "text/html": [
       "<dl>\n",
       "\t<dt>$bmi</dt>\n",
       "\t\t<dd>17.0536534172898</dd>\n",
       "\t<dt>$bmi_label</dt>\n",
       "\t\t<dd>'Underweight'</dd>\n",
       "</dl>\n"
      ],
      "text/latex": [
       "\\begin{description}\n",
       "\\item[\\$bmi] 17.0536534172898\n",
       "\\item[\\$bmi\\_label] 'Underweight'\n",
       "\\end{description}\n"
      ],
      "text/markdown": [
       "$bmi\n",
       ":   17.0536534172898\n",
       "$bmi_label\n",
       ":   'Underweight'\n",
       "\n",
       "\n"
      ],
      "text/plain": [
       "$bmi\n",
       "[1] 17.05365\n",
       "\n",
       "$bmi_label\n",
       "[1] \"Underweight\"\n"
      ]
     },
     "metadata": {},
     "output_type": "display_data"
    }
   ],
   "source": [
    "get_bmi_and_label(216, 147) # Shaquille O'Neal\n",
    "get_bmi_and_label(203, 113) # LeBron James\n",
    "get_bmi_and_label(191, 82) # Steve Nash\n",
    "get_bmi_and_label(231, 91) # Manute Bol"
   ]
  },
  {
   "cell_type": "markdown",
   "metadata": {
    "slideshow": {
     "slide_type": "subslide"
    }
   },
   "source": [
    "## 隨堂練習：回傳介於 x 與 y 之間的質數個數（包含 x 與 y 如果他們也是質數）以及質數明細的函數 `get_primes_and_counts()`"
   ]
  },
  {
   "cell_type": "code",
   "execution_count": 38,
   "metadata": {
    "slideshow": {
     "slide_type": "skip"
    }
   },
   "outputs": [],
   "source": [
    "get_primes_and_counts <- function(x, y) {\n",
    "    primes <- c()\n",
    "    for (i in x:y) {\n",
    "        if (is_prime(i)) {\n",
    "            primes <- c(primes,  i)\n",
    "        }\n",
    "    }\n",
    "    primes_and_counts <- list(\n",
    "        primes = primes,\n",
    "        prime_counts = length(primes)\n",
    "    )\n",
    "    return(primes_and_counts)\n",
    "}"
   ]
  },
  {
   "cell_type": "code",
   "execution_count": 39,
   "metadata": {
    "slideshow": {
     "slide_type": "fragment"
    }
   },
   "outputs": [
    {
     "data": {
      "text/html": [
       "<dl>\n",
       "\t<dt>$primes</dt>\n",
       "\t\t<dd><ol class=list-inline>\n",
       "\t<li>2</li>\n",
       "\t<li>3</li>\n",
       "\t<li>5</li>\n",
       "</ol>\n",
       "</dd>\n",
       "\t<dt>$prime_counts</dt>\n",
       "\t\t<dd>3</dd>\n",
       "</dl>\n"
      ],
      "text/latex": [
       "\\begin{description}\n",
       "\\item[\\$primes] \\begin{enumerate*}\n",
       "\\item 2\n",
       "\\item 3\n",
       "\\item 5\n",
       "\\end{enumerate*}\n",
       "\n",
       "\\item[\\$prime\\_counts] 3\n",
       "\\end{description}\n"
      ],
      "text/markdown": [
       "$primes\n",
       ":   1. 2\n",
       "2. 3\n",
       "3. 5\n",
       "\n",
       "\n",
       "\n",
       "$prime_counts\n",
       ":   3\n",
       "\n",
       "\n"
      ],
      "text/plain": [
       "$primes\n",
       "[1] 2 3 5\n",
       "\n",
       "$prime_counts\n",
       "[1] 3\n"
      ]
     },
     "metadata": {},
     "output_type": "display_data"
    },
    {
     "data": {
      "text/html": [
       "<dl>\n",
       "\t<dt>$primes</dt>\n",
       "\t\t<dd><ol class=list-inline>\n",
       "\t<li>11</li>\n",
       "\t<li>13</li>\n",
       "\t<li>17</li>\n",
       "\t<li>19</li>\n",
       "</ol>\n",
       "</dd>\n",
       "\t<dt>$prime_counts</dt>\n",
       "\t\t<dd>4</dd>\n",
       "</dl>\n"
      ],
      "text/latex": [
       "\\begin{description}\n",
       "\\item[\\$primes] \\begin{enumerate*}\n",
       "\\item 11\n",
       "\\item 13\n",
       "\\item 17\n",
       "\\item 19\n",
       "\\end{enumerate*}\n",
       "\n",
       "\\item[\\$prime\\_counts] 4\n",
       "\\end{description}\n"
      ],
      "text/markdown": [
       "$primes\n",
       ":   1. 11\n",
       "2. 13\n",
       "3. 17\n",
       "4. 19\n",
       "\n",
       "\n",
       "\n",
       "$prime_counts\n",
       ":   4\n",
       "\n",
       "\n"
      ],
      "text/plain": [
       "$primes\n",
       "[1] 11 13 17 19\n",
       "\n",
       "$prime_counts\n",
       "[1] 4\n"
      ]
     },
     "metadata": {},
     "output_type": "display_data"
    }
   ],
   "source": [
    "get_primes_and_counts(1, 5)\n",
    "get_primes_and_counts(9, 19)"
   ]
  },
  {
   "cell_type": "markdown",
   "metadata": {
    "slideshow": {
     "slide_type": "slide"
    }
   },
   "source": [
    "## 全域（Global）與區域（Local）"
   ]
  },
  {
   "cell_type": "markdown",
   "metadata": {
    "slideshow": {
     "slide_type": "subslide"
    }
   },
   "source": [
    "## 什麼是全域與區域？\n",
    "\n",
    "- 在函數的 Code Block 以外所建立的物件屬於全域\n",
    "- 在函數的 Code Block 中建立的物件屬於區域"
   ]
  },
  {
   "cell_type": "markdown",
   "metadata": {
    "slideshow": {
     "slide_type": "subslide"
    }
   },
   "source": [
    "## 全域物件與區域物件的差別？\n",
    "\n",
    "- 區域物件**僅可**在區域中使用\n",
    "- 全域物件可以在全域以及區域中使用"
   ]
  },
  {
   "cell_type": "code",
   "execution_count": 40,
   "metadata": {
    "slideshow": {
     "slide_type": "subslide"
    }
   },
   "outputs": [
    {
     "data": {
      "text/html": [
       "1.4142135623731"
      ],
      "text/latex": [
       "1.4142135623731"
      ],
      "text/markdown": [
       "1.4142135623731"
      ],
      "text/plain": [
       "[1] 1.414214"
      ]
     },
     "metadata": {},
     "output_type": "display_data"
    },
    {
     "ename": "ERROR",
     "evalue": "Error in eval(expr, envir, enclos): object 'sqrt_x' not found\n",
     "output_type": "error",
     "traceback": [
      "Error in eval(expr, envir, enclos): object 'sqrt_x' not found\nTraceback:\n"
     ]
    }
   ],
   "source": [
    "# 區域物件僅可在區域中使用\n",
    "get_sqrt <- function(x) {\n",
    "    sqrt_x <- x**0.5\n",
    "    return(sqrt_x)\n",
    "}\n",
    "\n",
    "get_sqrt(2)\n",
    "sqrt_x # Local object cannot be accessed in global"
   ]
  },
  {
   "cell_type": "code",
   "execution_count": 41,
   "metadata": {
    "slideshow": {
     "slide_type": "subslide"
    }
   },
   "outputs": [
    {
     "data": {
      "text/html": [
       "1.4142135623731"
      ],
      "text/latex": [
       "1.4142135623731"
      ],
      "text/markdown": [
       "1.4142135623731"
      ],
      "text/plain": [
       "[1] 1.414214"
      ]
     },
     "metadata": {},
     "output_type": "display_data"
    }
   ],
   "source": [
    "# 全域物件可以在全域以及區域中使用\n",
    "x <- 2\n",
    "sqrt_x <- x**0.5\n",
    "sqrt_x # Global object can be accessed in global, of course"
   ]
  },
  {
   "cell_type": "code",
   "execution_count": 42,
   "metadata": {
    "slideshow": {
     "slide_type": "subslide"
    }
   },
   "outputs": [
    {
     "data": {
      "text/html": [
       "1.4142135623731"
      ],
      "text/latex": [
       "1.4142135623731"
      ],
      "text/markdown": [
       "1.4142135623731"
      ],
      "text/plain": [
       "[1] 1.414214"
      ]
     },
     "metadata": {},
     "output_type": "display_data"
    }
   ],
   "source": [
    "# 全域物件可以在全域以及區域中使用\n",
    "x <- 2\n",
    "sqrt_x <- x**0.5\n",
    "\n",
    "get_sqrt <- function() {\n",
    "    return(sqrt_x) # Global object can be accessed in local\n",
    "}\n",
    "get_sqrt()"
   ]
  },
  {
   "cell_type": "markdown",
   "metadata": {
    "slideshow": {
     "slide_type": "slide"
    }
   },
   "source": [
    "## 向量化函數"
   ]
  },
  {
   "cell_type": "markdown",
   "metadata": {
    "slideshow": {
     "slide_type": "subslide"
    }
   },
   "source": [
    "## 什麼是向量化函數？\n",
    "\n",
    "利用 A 函數將 B 函數**向量化**至某個資料結構的方法，其中 A 函數是特定的函數型函數（Functional Functions）"
   ]
  },
  {
   "cell_type": "code",
   "execution_count": 43,
   "metadata": {
    "slideshow": {
     "slide_type": "subslide"
    }
   },
   "outputs": [
    {
     "data": {
      "text/html": [
       "<ol>\n",
       "\t<li>11</li>\n",
       "\t<li>12</li>\n",
       "\t<li>13</li>\n",
       "\t<li>14</li>\n",
       "\t<li>15</li>\n",
       "</ol>\n"
      ],
      "text/latex": [
       "\\begin{enumerate}\n",
       "\\item 11\n",
       "\\item 12\n",
       "\\item 13\n",
       "\\item 14\n",
       "\\item 15\n",
       "\\end{enumerate}\n"
      ],
      "text/markdown": [
       "1. 11\n",
       "2. 12\n",
       "3. 13\n",
       "4. 14\n",
       "5. 15\n",
       "\n",
       "\n"
      ],
      "text/plain": [
       "[[1]]\n",
       "[1] 11\n",
       "\n",
       "[[2]]\n",
       "[1] 12\n",
       "\n",
       "[[3]]\n",
       "[1] 13\n",
       "\n",
       "[[4]]\n",
       "[1] 14\n",
       "\n",
       "[[5]]\n",
       "[1] 15\n"
      ]
     },
     "metadata": {},
     "output_type": "display_data"
    }
   ],
   "source": [
    "# 將一個 list 中的每個數字都平方\n",
    "my_list <- list(\n",
    "    11,\n",
    "    12,\n",
    "    13,\n",
    "    14,\n",
    "    15\n",
    ")\n",
    "my_list"
   ]
  },
  {
   "cell_type": "markdown",
   "metadata": {
    "slideshow": {
     "slide_type": "subslide"
    }
   },
   "source": [
    "## 老實說，我們會有個衝動這樣寫"
   ]
  },
  {
   "cell_type": "code",
   "execution_count": 44,
   "metadata": {},
   "outputs": [
    {
     "ename": "ERROR",
     "evalue": "Error in my_list^2: non-numeric argument to binary operator\n",
     "output_type": "error",
     "traceback": [
      "Error in my_list^2: non-numeric argument to binary operator\nTraceback:\n"
     ]
    }
   ],
   "source": [
    "my_list**2"
   ]
  },
  {
   "cell_type": "markdown",
   "metadata": {
    "slideshow": {
     "slide_type": "subslide"
    }
   },
   "source": [
    "## 注意這是一個 `list` 而不是向量"
   ]
  },
  {
   "cell_type": "code",
   "execution_count": 45,
   "metadata": {},
   "outputs": [
    {
     "name": "stdout",
     "output_type": "stream",
     "text": [
      "[1] 121\n",
      "[1] 144\n",
      "[1] 169\n",
      "[1] 196\n",
      "[1] 225\n"
     ]
    }
   ],
   "source": [
    "for (i in my_list) {\n",
    "    print(i**2)\n",
    "}"
   ]
  },
  {
   "cell_type": "markdown",
   "metadata": {
    "slideshow": {
     "slide_type": "subslide"
    }
   },
   "source": [
    "## 使用 `lapply()` 函數將 `get_squared()` 函數向量化至 `my_list` 之上"
   ]
  },
  {
   "cell_type": "code",
   "execution_count": 46,
   "metadata": {},
   "outputs": [
    {
     "data": {
      "text/html": [
       "<ol>\n",
       "\t<li>121</li>\n",
       "\t<li>144</li>\n",
       "\t<li>169</li>\n",
       "\t<li>196</li>\n",
       "\t<li>225</li>\n",
       "</ol>\n"
      ],
      "text/latex": [
       "\\begin{enumerate}\n",
       "\\item 121\n",
       "\\item 144\n",
       "\\item 169\n",
       "\\item 196\n",
       "\\item 225\n",
       "\\end{enumerate}\n"
      ],
      "text/markdown": [
       "1. 121\n",
       "2. 144\n",
       "3. 169\n",
       "4. 196\n",
       "5. 225\n",
       "\n",
       "\n"
      ],
      "text/plain": [
       "[[1]]\n",
       "[1] 121\n",
       "\n",
       "[[2]]\n",
       "[1] 144\n",
       "\n",
       "[[3]]\n",
       "[1] 169\n",
       "\n",
       "[[4]]\n",
       "[1] 196\n",
       "\n",
       "[[5]]\n",
       "[1] 225\n"
      ]
     },
     "metadata": {},
     "output_type": "display_data"
    }
   ],
   "source": [
    "get_squared <- function(x) {\n",
    "    return(x**2)\n",
    "}\n",
    "\n",
    "lapply(my_list, FUN = get_squared)"
   ]
  },
  {
   "cell_type": "markdown",
   "metadata": {
    "slideshow": {
     "slide_type": "subslide"
    }
   },
   "source": [
    "## 搭配匿名函數（Anonymous Function）將平方運算向量化至 `my_list` 之上"
   ]
  },
  {
   "cell_type": "code",
   "execution_count": 47,
   "metadata": {},
   "outputs": [
    {
     "data": {
      "text/html": [
       "<ol>\n",
       "\t<li>121</li>\n",
       "\t<li>144</li>\n",
       "\t<li>169</li>\n",
       "\t<li>196</li>\n",
       "\t<li>225</li>\n",
       "</ol>\n"
      ],
      "text/latex": [
       "\\begin{enumerate}\n",
       "\\item 121\n",
       "\\item 144\n",
       "\\item 169\n",
       "\\item 196\n",
       "\\item 225\n",
       "\\end{enumerate}\n"
      ],
      "text/markdown": [
       "1. 121\n",
       "2. 144\n",
       "3. 169\n",
       "4. 196\n",
       "5. 225\n",
       "\n",
       "\n"
      ],
      "text/plain": [
       "[[1]]\n",
       "[1] 121\n",
       "\n",
       "[[2]]\n",
       "[1] 144\n",
       "\n",
       "[[3]]\n",
       "[1] 169\n",
       "\n",
       "[[4]]\n",
       "[1] 196\n",
       "\n",
       "[[5]]\n",
       "[1] 225\n"
      ]
     },
     "metadata": {},
     "output_type": "display_data"
    }
   ],
   "source": [
    "lapply(my_list, FUN = function(x) return(x**2))"
   ]
  },
  {
   "cell_type": "markdown",
   "metadata": {
    "slideshow": {
     "slide_type": "subslide"
    }
   },
   "source": [
    "## R 常用的函數型函數（functional functions）\n",
    "\n",
    "- `lapply()`\n",
    "- `sapply()`\n",
    "- `apply()`\n",
    "- `mapply()`"
   ]
  },
  {
   "cell_type": "markdown",
   "metadata": {
    "slideshow": {
     "slide_type": "subslide"
    }
   },
   "source": [
    "## `sapply()`\n",
    "\n",
    "- Simplified apply\n",
    "- 回傳向量而非 `list`"
   ]
  },
  {
   "cell_type": "code",
   "execution_count": 48,
   "metadata": {
    "slideshow": {
     "slide_type": "-"
    }
   },
   "outputs": [
    {
     "data": {
      "text/html": [
       "<ol class=list-inline>\n",
       "\t<li>121</li>\n",
       "\t<li>144</li>\n",
       "\t<li>169</li>\n",
       "\t<li>196</li>\n",
       "\t<li>225</li>\n",
       "</ol>\n"
      ],
      "text/latex": [
       "\\begin{enumerate*}\n",
       "\\item 121\n",
       "\\item 144\n",
       "\\item 169\n",
       "\\item 196\n",
       "\\item 225\n",
       "\\end{enumerate*}\n"
      ],
      "text/markdown": [
       "1. 121\n",
       "2. 144\n",
       "3. 169\n",
       "4. 196\n",
       "5. 225\n",
       "\n",
       "\n"
      ],
      "text/plain": [
       "[1] 121 144 169 196 225"
      ]
     },
     "metadata": {},
     "output_type": "display_data"
    }
   ],
   "source": [
    "sapply(my_list, FUN = function(x) return(x**2))"
   ]
  },
  {
   "cell_type": "markdown",
   "metadata": {
    "slideshow": {
     "slide_type": "subslide"
    }
   },
   "source": [
    "## `apply()`\n",
    "\n",
    "將函數向量化至二維的資料結構（`matrix` 與 `data.frame`）"
   ]
  },
  {
   "cell_type": "code",
   "execution_count": 49,
   "metadata": {},
   "outputs": [
    {
     "data": {
      "text/html": [
       "<table>\n",
       "<tbody>\n",
       "\t<tr><td>1 </td><td>3 </td><td>5 </td><td>7 </td><td> 9</td><td>11</td></tr>\n",
       "\t<tr><td>2 </td><td>4 </td><td>6 </td><td>8 </td><td>10</td><td>12</td></tr>\n",
       "</tbody>\n",
       "</table>\n"
      ],
      "text/latex": [
       "\\begin{tabular}{llllll}\n",
       "\t 1  & 3  & 5  & 7  &  9 & 11\\\\\n",
       "\t 2  & 4  & 6  & 8  & 10 & 12\\\\\n",
       "\\end{tabular}\n"
      ],
      "text/markdown": [
       "\n",
       "| 1  | 3  | 5  | 7  |  9 | 11 |\n",
       "| 2  | 4  | 6  | 8  | 10 | 12 |\n",
       "\n"
      ],
      "text/plain": [
       "     [,1] [,2] [,3] [,4] [,5] [,6]\n",
       "[1,] 1    3    5    7     9   11  \n",
       "[2,] 2    4    6    8    10   12  "
      ]
     },
     "metadata": {},
     "output_type": "display_data"
    },
    {
     "data": {
      "text/html": [
       "<ol class=list-inline>\n",
       "\t<li>36</li>\n",
       "\t<li>42</li>\n",
       "</ol>\n"
      ],
      "text/latex": [
       "\\begin{enumerate*}\n",
       "\\item 36\n",
       "\\item 42\n",
       "\\end{enumerate*}\n"
      ],
      "text/markdown": [
       "1. 36\n",
       "2. 42\n",
       "\n",
       "\n"
      ],
      "text/plain": [
       "[1] 36 42"
      ]
     },
     "metadata": {},
     "output_type": "display_data"
    },
    {
     "data": {
      "text/html": [
       "<ol class=list-inline>\n",
       "\t<li>3</li>\n",
       "\t<li>7</li>\n",
       "\t<li>11</li>\n",
       "\t<li>15</li>\n",
       "\t<li>19</li>\n",
       "\t<li>23</li>\n",
       "</ol>\n"
      ],
      "text/latex": [
       "\\begin{enumerate*}\n",
       "\\item 3\n",
       "\\item 7\n",
       "\\item 11\n",
       "\\item 15\n",
       "\\item 19\n",
       "\\item 23\n",
       "\\end{enumerate*}\n"
      ],
      "text/markdown": [
       "1. 3\n",
       "2. 7\n",
       "3. 11\n",
       "4. 15\n",
       "5. 19\n",
       "6. 23\n",
       "\n",
       "\n"
      ],
      "text/plain": [
       "[1]  3  7 11 15 19 23"
      ]
     },
     "metadata": {},
     "output_type": "display_data"
    }
   ],
   "source": [
    "my_matrix <- matrix(1:12, nrow = 2)\n",
    "my_matrix\n",
    "apply(my_matrix, MARGIN = 1, FUN = sum)\n",
    "apply(my_matrix, MARGIN = 2, FUN = sum)"
   ]
  },
  {
   "cell_type": "markdown",
   "metadata": {
    "slideshow": {
     "slide_type": "subslide"
    }
   },
   "source": [
    "## `mapply()`\n",
    "\n",
    "將具有多個輸入的函數向量化"
   ]
  },
  {
   "cell_type": "code",
   "execution_count": 50,
   "metadata": {},
   "outputs": [
    {
     "data": {
      "text/html": [
       "<ol class=list-inline>\n",
       "\t<li>17.0536534172898</li>\n",
       "\t<li>22.4774540171596</li>\n",
       "\t<li>27.4211943992817</li>\n",
       "\t<li>31.5072016460905</li>\n",
       "</ol>\n"
      ],
      "text/latex": [
       "\\begin{enumerate*}\n",
       "\\item 17.0536534172898\n",
       "\\item 22.4774540171596\n",
       "\\item 27.4211943992817\n",
       "\\item 31.5072016460905\n",
       "\\end{enumerate*}\n"
      ],
      "text/markdown": [
       "1. 17.0536534172898\n",
       "2. 22.4774540171596\n",
       "3. 27.4211943992817\n",
       "4. 31.5072016460905\n",
       "\n",
       "\n"
      ],
      "text/plain": [
       "[1] 17.05365 22.47745 27.42119 31.50720"
      ]
     },
     "metadata": {},
     "output_type": "display_data"
    }
   ],
   "source": [
    "weights <- list(91, 82, 113, 147)\n",
    "heights <- list(231, 191, 203, 216)\n",
    "bmis <- mapply(FUN = function(h, w) return(w/(h*0.01)**2), heights, weights)\n",
    "bmis"
   ]
  },
  {
   "cell_type": "markdown",
   "metadata": {
    "slideshow": {
     "slide_type": "subslide"
    }
   },
   "source": [
    "## 隨堂練習：使用向量化函數將 5 個球員的姓氏（last name）擷取出來並轉換成大寫"
   ]
  },
  {
   "cell_type": "code",
   "execution_count": 51,
   "metadata": {},
   "outputs": [],
   "source": [
    "fav_players <- list(\"Steve Nash\", \"Paul Pierce\", \"Dirk Nowitzki\", \"Kevin Garnett\", \"Hakeem Olajuwon\")"
   ]
  },
  {
   "cell_type": "code",
   "execution_count": 52,
   "metadata": {
    "slideshow": {
     "slide_type": "skip"
    }
   },
   "outputs": [],
   "source": [
    "get_uppercased_lastname <- function(x) {\n",
    "    last_name <- strsplit(x, split = \" \")[[1]][2]\n",
    "    return(toupper(last_name))\n",
    "}\n",
    "ans <- lapply(fav_players, FUN = get_uppercased_lastname)"
   ]
  },
  {
   "cell_type": "code",
   "execution_count": 53,
   "metadata": {
    "slideshow": {
     "slide_type": "fragment"
    }
   },
   "outputs": [
    {
     "data": {
      "text/html": [
       "<ol>\n",
       "\t<li>'NASH'</li>\n",
       "\t<li>'PIERCE'</li>\n",
       "\t<li>'NOWITZKI'</li>\n",
       "\t<li>'GARNETT'</li>\n",
       "\t<li>'OLAJUWON'</li>\n",
       "</ol>\n"
      ],
      "text/latex": [
       "\\begin{enumerate}\n",
       "\\item 'NASH'\n",
       "\\item 'PIERCE'\n",
       "\\item 'NOWITZKI'\n",
       "\\item 'GARNETT'\n",
       "\\item 'OLAJUWON'\n",
       "\\end{enumerate}\n"
      ],
      "text/markdown": [
       "1. 'NASH'\n",
       "2. 'PIERCE'\n",
       "3. 'NOWITZKI'\n",
       "4. 'GARNETT'\n",
       "5. 'OLAJUWON'\n",
       "\n",
       "\n"
      ],
      "text/plain": [
       "[[1]]\n",
       "[1] \"NASH\"\n",
       "\n",
       "[[2]]\n",
       "[1] \"PIERCE\"\n",
       "\n",
       "[[3]]\n",
       "[1] \"NOWITZKI\"\n",
       "\n",
       "[[4]]\n",
       "[1] \"GARNETT\"\n",
       "\n",
       "[[5]]\n",
       "[1] \"OLAJUWON\"\n"
      ]
     },
     "metadata": {},
     "output_type": "display_data"
    }
   ],
   "source": [
    "ans"
   ]
  },
  {
   "cell_type": "markdown",
   "metadata": {
    "slideshow": {
     "slide_type": "slide"
    }
   },
   "source": [
    "## 遞迴（Recursion）"
   ]
  },
  {
   "cell_type": "markdown",
   "metadata": {
    "slideshow": {
     "slide_type": "subslide"
    }
   },
   "source": [
    "## 什麼是遞迴（Recursion）？\n",
    "\n",
    "在一個函數中呼叫函數本身的技法"
   ]
  },
  {
   "cell_type": "markdown",
   "metadata": {
    "slideshow": {
     "slide_type": "subslide"
    }
   },
   "source": [
    "![Imgur](https://i.imgur.com/AU19SYx.png)\n",
    "\n",
    "Source: <https://twitter.com/ProgrammersMeme/status/1147050956821008384>"
   ]
  },
  {
   "cell_type": "markdown",
   "metadata": {
    "slideshow": {
     "slide_type": "subslide"
    }
   },
   "source": [
    "## 階乘（factorial）的計算\n",
    "\n",
    "$$n! = 1 \\times 2 \\times 3 \\times ... \\times n$$"
   ]
  },
  {
   "cell_type": "code",
   "execution_count": 54,
   "metadata": {},
   "outputs": [
    {
     "data": {
      "text/html": [
       "1"
      ],
      "text/latex": [
       "1"
      ],
      "text/markdown": [
       "1"
      ],
      "text/plain": [
       "[1] 1"
      ]
     },
     "metadata": {},
     "output_type": "display_data"
    },
    {
     "data": {
      "text/html": [
       "2"
      ],
      "text/latex": [
       "2"
      ],
      "text/markdown": [
       "2"
      ],
      "text/plain": [
       "[1] 2"
      ]
     },
     "metadata": {},
     "output_type": "display_data"
    },
    {
     "data": {
      "text/html": [
       "6"
      ],
      "text/latex": [
       "6"
      ],
      "text/markdown": [
       "6"
      ],
      "text/plain": [
       "[1] 6"
      ]
     },
     "metadata": {},
     "output_type": "display_data"
    }
   ],
   "source": [
    "factorial <- function(n) {\n",
    "    if (n == 1) {\n",
    "        return(n)\n",
    "    } else {\n",
    "        return(n * factorial(n-1))\n",
    "    }\n",
    "}\n",
    "factorial(1)\n",
    "factorial(2)\n",
    "factorial(3)"
   ]
  },
  {
   "cell_type": "markdown",
   "metadata": {
    "slideshow": {
     "slide_type": "subslide"
    }
   },
   "source": [
    "## 隨堂練習：建立 fibonacci 數列\n",
    "\n",
    "$$\n",
    "F_0 = 0, F_1 = 1 \\\\\n",
    "F_n = F_{n-1} + F_{n-2} \\text{ , For } n > 1\n",
    "$$"
   ]
  },
  {
   "cell_type": "code",
   "execution_count": 55,
   "metadata": {
    "slideshow": {
     "slide_type": "skip"
    }
   },
   "outputs": [],
   "source": [
    "fib <- function(n) {\n",
    "    if (n == 1) {\n",
    "        return(0)\n",
    "    } else if (n == 2) {\n",
    "        return(1)\n",
    "    } else {\n",
    "        return(fib(n-1) + fib(n-2))\n",
    "    }\n",
    "}\n",
    "fibonacci <- function(N) {\n",
    "    fib_seq <- c()\n",
    "    for (i in 1:N) {\n",
    "        fib_seq <- c(fib_seq, fib(i))\n",
    "    }\n",
    "    return(fib_seq)\n",
    "}"
   ]
  },
  {
   "cell_type": "code",
   "execution_count": 56,
   "metadata": {
    "slideshow": {
     "slide_type": "fragment"
    }
   },
   "outputs": [
    {
     "data": {
      "text/html": [
       "0"
      ],
      "text/latex": [
       "0"
      ],
      "text/markdown": [
       "0"
      ],
      "text/plain": [
       "[1] 0"
      ]
     },
     "metadata": {},
     "output_type": "display_data"
    },
    {
     "data": {
      "text/html": [
       "<ol class=list-inline>\n",
       "\t<li>0</li>\n",
       "\t<li>1</li>\n",
       "</ol>\n"
      ],
      "text/latex": [
       "\\begin{enumerate*}\n",
       "\\item 0\n",
       "\\item 1\n",
       "\\end{enumerate*}\n"
      ],
      "text/markdown": [
       "1. 0\n",
       "2. 1\n",
       "\n",
       "\n"
      ],
      "text/plain": [
       "[1] 0 1"
      ]
     },
     "metadata": {},
     "output_type": "display_data"
    },
    {
     "data": {
      "text/html": [
       "<ol class=list-inline>\n",
       "\t<li>0</li>\n",
       "\t<li>1</li>\n",
       "\t<li>1</li>\n",
       "\t<li>2</li>\n",
       "\t<li>3</li>\n",
       "\t<li>5</li>\n",
       "\t<li>8</li>\n",
       "\t<li>13</li>\n",
       "\t<li>21</li>\n",
       "\t<li>34</li>\n",
       "\t<li>55</li>\n",
       "\t<li>89</li>\n",
       "\t<li>144</li>\n",
       "\t<li>233</li>\n",
       "\t<li>377</li>\n",
       "\t<li>610</li>\n",
       "\t<li>987</li>\n",
       "\t<li>1597</li>\n",
       "\t<li>2584</li>\n",
       "\t<li>4181</li>\n",
       "</ol>\n"
      ],
      "text/latex": [
       "\\begin{enumerate*}\n",
       "\\item 0\n",
       "\\item 1\n",
       "\\item 1\n",
       "\\item 2\n",
       "\\item 3\n",
       "\\item 5\n",
       "\\item 8\n",
       "\\item 13\n",
       "\\item 21\n",
       "\\item 34\n",
       "\\item 55\n",
       "\\item 89\n",
       "\\item 144\n",
       "\\item 233\n",
       "\\item 377\n",
       "\\item 610\n",
       "\\item 987\n",
       "\\item 1597\n",
       "\\item 2584\n",
       "\\item 4181\n",
       "\\end{enumerate*}\n"
      ],
      "text/markdown": [
       "1. 0\n",
       "2. 1\n",
       "3. 1\n",
       "4. 2\n",
       "5. 3\n",
       "6. 5\n",
       "7. 8\n",
       "8. 13\n",
       "9. 21\n",
       "10. 34\n",
       "11. 55\n",
       "12. 89\n",
       "13. 144\n",
       "14. 233\n",
       "15. 377\n",
       "16. 610\n",
       "17. 987\n",
       "18. 1597\n",
       "19. 2584\n",
       "20. 4181\n",
       "\n",
       "\n"
      ],
      "text/plain": [
       " [1]    0    1    1    2    3    5    8   13   21   34   55   89  144  233  377\n",
       "[16]  610  987 1597 2584 4181"
      ]
     },
     "metadata": {},
     "output_type": "display_data"
    }
   ],
   "source": [
    "fibonacci(1)\n",
    "fibonacci(2)\n",
    "fibonacci(20)"
   ]
  }
 ],
 "metadata": {
  "celltoolbar": "Slideshow",
  "kernelspec": {
   "display_name": "R",
   "language": "R",
   "name": "ir"
  },
  "language_info": {
   "codemirror_mode": "r",
   "file_extension": ".r",
   "mimetype": "text/x-r-source",
   "name": "R",
   "pygments_lexer": "r",
   "version": "3.5.2"
  }
 },
 "nbformat": 4,
 "nbformat_minor": 2
}
