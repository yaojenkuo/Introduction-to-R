{
 "cells": [
  {
   "cell_type": "markdown",
   "metadata": {
    "slideshow": {
     "slide_type": "slide"
    }
   },
   "source": [
    "# 成為初級資料分析師 | R 程式設計與資料科學應用\n",
    "\n",
    "> 其他資料結構\n",
    "\n",
    "## 郭耀仁"
   ]
  },
  {
   "cell_type": "markdown",
   "metadata": {
    "slideshow": {
     "slide_type": "subslide"
    }
   },
   "source": [
    "> R’s base data structures can be organized by their dimensionality and whether they’re homogeneous or heterogeneous.\n",
    ">\n",
    "> Hadley Wickham"
   ]
  },
  {
   "cell_type": "markdown",
   "metadata": {
    "slideshow": {
     "slide_type": "subslide"
    }
   },
   "source": [
    "## 大綱\n",
    "\n",
    "- 其他資料結構一覽\n",
    "- `list`\n",
    "- `factor`\n",
    "- `data.frame`\n",
    "- `matrix` 與 `array`"
   ]
  },
  {
   "cell_type": "markdown",
   "metadata": {
    "slideshow": {
     "slide_type": "slide"
    }
   },
   "source": [
    "## 其他資料結構一覽"
   ]
  },
  {
   "cell_type": "markdown",
   "metadata": {
    "slideshow": {
     "slide_type": "subslide"
    }
   },
   "source": [
    "## 除了向量以外的資料結構\n",
    "\n",
    "- 必修\n",
    "    - `list`\n",
    "    - `factor`\n",
    "    - `data.frame`\n",
    "- 選修\n",
    "    - `matrix` 與 `array`"
   ]
  },
  {
   "cell_type": "markdown",
   "metadata": {
    "slideshow": {
     "slide_type": "subslide"
    }
   },
   "source": [
    "## 其他資料結構的特性\n",
    "\n",
    "- 皆是 `ITERABLE` 可迭代的\n",
    "- `list` 用來儲存 `KEY-VALUE` 組\n",
    "- `factor` 用來記錄文字向量的等級\n",
    "- `data.frame` 用來儲存表格資料\n",
    "- `matrix` 用來處理矩陣運算\n",
    "- `array` 用來處理高維矩陣"
   ]
  },
  {
   "cell_type": "markdown",
   "metadata": {
    "slideshow": {
     "slide_type": "slide"
    }
   },
   "source": [
    "# `list`"
   ]
  },
  {
   "cell_type": "markdown",
   "metadata": {
    "slideshow": {
     "slide_type": "subslide"
    }
   },
   "source": [
    "## `list` 在 R 中的定位\n",
    "\n",
    "- 用來儲存不同類型的向量\n",
    "- 未命名的 `list`（unnamed list）與 Python 的 `list` 呼應\n",
    "- 命名的 `list`（named list）用來儲存 `KEY-VALUE` 組合的資料，與 Python 的 `dict` 呼應\n",
    "- 支援 `$` 作為索引"
   ]
  },
  {
   "cell_type": "markdown",
   "metadata": {
    "slideshow": {
     "slide_type": "subslide"
    }
   },
   "source": [
    "## 使用 `list()` 函數創建 `list`"
   ]
  },
  {
   "cell_type": "code",
   "execution_count": 1,
   "metadata": {
    "slideshow": {
     "slide_type": "-"
    }
   },
   "outputs": [
    {
     "data": {
      "text/html": [
       "'list'"
      ],
      "text/latex": [
       "'list'"
      ],
      "text/markdown": [
       "'list'"
      ],
      "text/plain": [
       "[1] \"list\""
      ]
     },
     "metadata": {},
     "output_type": "display_data"
    }
   ],
   "source": [
    "endgame <- list(\n",
    "  \"Avengers: Endgame\",\n",
    "  2019,\n",
    "  8.7,\n",
    "  c(\"Action\", \"Adventure\", \"Sci-Fi\")\n",
    ")\n",
    "class(endgame)"
   ]
  },
  {
   "cell_type": "markdown",
   "metadata": {
    "slideshow": {
     "slide_type": "subslide"
    }
   },
   "source": [
    "## 檢視外觀"
   ]
  },
  {
   "cell_type": "code",
   "execution_count": 2,
   "metadata": {},
   "outputs": [
    {
     "data": {
      "text/html": [
       "<ol>\n",
       "\t<li>'Avengers: Endgame'</li>\n",
       "\t<li>2019</li>\n",
       "\t<li>8.7</li>\n",
       "\t<li><ol class=list-inline>\n",
       "\t<li>'Action'</li>\n",
       "\t<li>'Adventure'</li>\n",
       "\t<li>'Sci-Fi'</li>\n",
       "</ol>\n",
       "</li>\n",
       "</ol>\n"
      ],
      "text/latex": [
       "\\begin{enumerate}\n",
       "\\item 'Avengers: Endgame'\n",
       "\\item 2019\n",
       "\\item 8.7\n",
       "\\item \\begin{enumerate*}\n",
       "\\item 'Action'\n",
       "\\item 'Adventure'\n",
       "\\item 'Sci-Fi'\n",
       "\\end{enumerate*}\n",
       "\n",
       "\\end{enumerate}\n"
      ],
      "text/markdown": [
       "1. 'Avengers: Endgame'\n",
       "2. 2019\n",
       "3. 8.7\n",
       "4. 1. 'Action'\n",
       "2. 'Adventure'\n",
       "3. 'Sci-Fi'\n",
       "\n",
       "\n",
       "\n",
       "\n",
       "\n"
      ],
      "text/plain": [
       "[[1]]\n",
       "[1] \"Avengers: Endgame\"\n",
       "\n",
       "[[2]]\n",
       "[1] 2019\n",
       "\n",
       "[[3]]\n",
       "[1] 8.7\n",
       "\n",
       "[[4]]\n",
       "[1] \"Action\"    \"Adventure\" \"Sci-Fi\"   \n"
      ]
     },
     "metadata": {},
     "output_type": "display_data"
    }
   ],
   "source": [
    "endgame"
   ]
  },
  {
   "cell_type": "markdown",
   "metadata": {
    "slideshow": {
     "slide_type": "subslide"
    }
   },
   "source": [
    "## 使用 `[[INDEX]]` 索引 `list`"
   ]
  },
  {
   "cell_type": "code",
   "execution_count": 3,
   "metadata": {},
   "outputs": [
    {
     "data": {
      "text/html": [
       "'Avengers: Endgame'"
      ],
      "text/latex": [
       "'Avengers: Endgame'"
      ],
      "text/markdown": [
       "'Avengers: Endgame'"
      ],
      "text/plain": [
       "[1] \"Avengers: Endgame\""
      ]
     },
     "metadata": {},
     "output_type": "display_data"
    },
    {
     "data": {
      "text/html": [
       "2019"
      ],
      "text/latex": [
       "2019"
      ],
      "text/markdown": [
       "2019"
      ],
      "text/plain": [
       "[1] 2019"
      ]
     },
     "metadata": {},
     "output_type": "display_data"
    },
    {
     "data": {
      "text/html": [
       "8.7"
      ],
      "text/latex": [
       "8.7"
      ],
      "text/markdown": [
       "8.7"
      ],
      "text/plain": [
       "[1] 8.7"
      ]
     },
     "metadata": {},
     "output_type": "display_data"
    },
    {
     "data": {
      "text/html": [
       "<ol class=list-inline>\n",
       "\t<li>'Action'</li>\n",
       "\t<li>'Adventure'</li>\n",
       "\t<li>'Sci-Fi'</li>\n",
       "</ol>\n"
      ],
      "text/latex": [
       "\\begin{enumerate*}\n",
       "\\item 'Action'\n",
       "\\item 'Adventure'\n",
       "\\item 'Sci-Fi'\n",
       "\\end{enumerate*}\n"
      ],
      "text/markdown": [
       "1. 'Action'\n",
       "2. 'Adventure'\n",
       "3. 'Sci-Fi'\n",
       "\n",
       "\n"
      ],
      "text/plain": [
       "[1] \"Action\"    \"Adventure\" \"Sci-Fi\"   "
      ]
     },
     "metadata": {},
     "output_type": "display_data"
    }
   ],
   "source": [
    "endgame[[1]]\n",
    "endgame[[2]]\n",
    "endgame[[3]]\n",
    "endgame[[4]]"
   ]
  },
  {
   "cell_type": "markdown",
   "metadata": {
    "slideshow": {
     "slide_type": "subslide"
    }
   },
   "source": [
    "## `list` 是可迭代的"
   ]
  },
  {
   "cell_type": "code",
   "execution_count": 4,
   "metadata": {},
   "outputs": [
    {
     "name": "stdout",
     "output_type": "stream",
     "text": [
      "[1] \"Avengers: Endgame\"\n",
      "[1] 2019\n",
      "[1] 8.7\n",
      "[1] \"Action\"    \"Adventure\" \"Sci-Fi\"   \n"
     ]
    }
   ],
   "source": [
    "for (i in endgame) {\n",
    "    print(i)\n",
    "}"
   ]
  },
  {
   "cell_type": "markdown",
   "metadata": {
    "slideshow": {
     "slide_type": "subslide"
    }
   },
   "source": [
    "## 命名的 `list`（named list）"
   ]
  },
  {
   "cell_type": "code",
   "execution_count": 5,
   "metadata": {},
   "outputs": [
    {
     "data": {
      "text/html": [
       "'list'"
      ],
      "text/latex": [
       "'list'"
      ],
      "text/markdown": [
       "'list'"
      ],
      "text/plain": [
       "[1] \"list\""
      ]
     },
     "metadata": {},
     "output_type": "display_data"
    },
    {
     "data": {
      "text/html": [
       "<dl>\n",
       "\t<dt>$movieTitle</dt>\n",
       "\t\t<dd>'Avengers: Endgame'</dd>\n",
       "\t<dt>$releaseYear</dt>\n",
       "\t\t<dd>2019</dd>\n",
       "\t<dt>$rating</dt>\n",
       "\t\t<dd>8.7</dd>\n",
       "\t<dt>$genre</dt>\n",
       "\t\t<dd><ol class=list-inline>\n",
       "\t<li>'Action'</li>\n",
       "\t<li>'Adventure'</li>\n",
       "\t<li>'Sci-Fi'</li>\n",
       "</ol>\n",
       "</dd>\n",
       "</dl>\n"
      ],
      "text/latex": [
       "\\begin{description}\n",
       "\\item[\\$movieTitle] 'Avengers: Endgame'\n",
       "\\item[\\$releaseYear] 2019\n",
       "\\item[\\$rating] 8.7\n",
       "\\item[\\$genre] \\begin{enumerate*}\n",
       "\\item 'Action'\n",
       "\\item 'Adventure'\n",
       "\\item 'Sci-Fi'\n",
       "\\end{enumerate*}\n",
       "\n",
       "\\end{description}\n"
      ],
      "text/markdown": [
       "$movieTitle\n",
       ":   'Avengers: Endgame'\n",
       "$releaseYear\n",
       ":   2019\n",
       "$rating\n",
       ":   8.7\n",
       "$genre\n",
       ":   1. 'Action'\n",
       "2. 'Adventure'\n",
       "3. 'Sci-Fi'\n",
       "\n",
       "\n",
       "\n",
       "\n",
       "\n"
      ],
      "text/plain": [
       "$movieTitle\n",
       "[1] \"Avengers: Endgame\"\n",
       "\n",
       "$releaseYear\n",
       "[1] 2019\n",
       "\n",
       "$rating\n",
       "[1] 8.7\n",
       "\n",
       "$genre\n",
       "[1] \"Action\"    \"Adventure\" \"Sci-Fi\"   \n"
      ]
     },
     "metadata": {},
     "output_type": "display_data"
    }
   ],
   "source": [
    "endgame <- list(\n",
    "  movieTitle = \"Avengers: Endgame\",\n",
    "  releaseYear = 2019,\n",
    "  rating = 8.7,\n",
    "  genre = c(\"Action\", \"Adventure\", \"Sci-Fi\")\n",
    ")\n",
    "class(endgame)\n",
    "endgame"
   ]
  },
  {
   "cell_type": "markdown",
   "metadata": {
    "slideshow": {
     "slide_type": "subslide"
    }
   },
   "source": [
    "## 使用 [[\"KEY\"]] 來索引 `list`"
   ]
  },
  {
   "cell_type": "code",
   "execution_count": 6,
   "metadata": {},
   "outputs": [
    {
     "data": {
      "text/html": [
       "'Avengers: Endgame'"
      ],
      "text/latex": [
       "'Avengers: Endgame'"
      ],
      "text/markdown": [
       "'Avengers: Endgame'"
      ],
      "text/plain": [
       "[1] \"Avengers: Endgame\""
      ]
     },
     "metadata": {},
     "output_type": "display_data"
    },
    {
     "data": {
      "text/html": [
       "2019"
      ],
      "text/latex": [
       "2019"
      ],
      "text/markdown": [
       "2019"
      ],
      "text/plain": [
       "[1] 2019"
      ]
     },
     "metadata": {},
     "output_type": "display_data"
    },
    {
     "data": {
      "text/html": [
       "8.7"
      ],
      "text/latex": [
       "8.7"
      ],
      "text/markdown": [
       "8.7"
      ],
      "text/plain": [
       "[1] 8.7"
      ]
     },
     "metadata": {},
     "output_type": "display_data"
    },
    {
     "data": {
      "text/html": [
       "<ol class=list-inline>\n",
       "\t<li>'Action'</li>\n",
       "\t<li>'Adventure'</li>\n",
       "\t<li>'Sci-Fi'</li>\n",
       "</ol>\n"
      ],
      "text/latex": [
       "\\begin{enumerate*}\n",
       "\\item 'Action'\n",
       "\\item 'Adventure'\n",
       "\\item 'Sci-Fi'\n",
       "\\end{enumerate*}\n"
      ],
      "text/markdown": [
       "1. 'Action'\n",
       "2. 'Adventure'\n",
       "3. 'Sci-Fi'\n",
       "\n",
       "\n"
      ],
      "text/plain": [
       "[1] \"Action\"    \"Adventure\" \"Sci-Fi\"   "
      ]
     },
     "metadata": {},
     "output_type": "display_data"
    }
   ],
   "source": [
    "endgame[[\"movieTitle\"]]\n",
    "endgame[[\"releaseYear\"]]\n",
    "endgame[[\"rating\"]]\n",
    "endgame[[\"genre\"]]"
   ]
  },
  {
   "cell_type": "markdown",
   "metadata": {
    "slideshow": {
     "slide_type": "subslide"
    }
   },
   "source": [
    "## 亦可以使用 `$KEY` 來索引 `list`"
   ]
  },
  {
   "cell_type": "code",
   "execution_count": 7,
   "metadata": {},
   "outputs": [
    {
     "data": {
      "text/html": [
       "'Avengers: Endgame'"
      ],
      "text/latex": [
       "'Avengers: Endgame'"
      ],
      "text/markdown": [
       "'Avengers: Endgame'"
      ],
      "text/plain": [
       "[1] \"Avengers: Endgame\""
      ]
     },
     "metadata": {},
     "output_type": "display_data"
    },
    {
     "data": {
      "text/html": [
       "2019"
      ],
      "text/latex": [
       "2019"
      ],
      "text/markdown": [
       "2019"
      ],
      "text/plain": [
       "[1] 2019"
      ]
     },
     "metadata": {},
     "output_type": "display_data"
    },
    {
     "data": {
      "text/html": [
       "8.7"
      ],
      "text/latex": [
       "8.7"
      ],
      "text/markdown": [
       "8.7"
      ],
      "text/plain": [
       "[1] 8.7"
      ]
     },
     "metadata": {},
     "output_type": "display_data"
    },
    {
     "data": {
      "text/html": [
       "<ol class=list-inline>\n",
       "\t<li>'Action'</li>\n",
       "\t<li>'Adventure'</li>\n",
       "\t<li>'Sci-Fi'</li>\n",
       "</ol>\n"
      ],
      "text/latex": [
       "\\begin{enumerate*}\n",
       "\\item 'Action'\n",
       "\\item 'Adventure'\n",
       "\\item 'Sci-Fi'\n",
       "\\end{enumerate*}\n"
      ],
      "text/markdown": [
       "1. 'Action'\n",
       "2. 'Adventure'\n",
       "3. 'Sci-Fi'\n",
       "\n",
       "\n"
      ],
      "text/plain": [
       "[1] \"Action\"    \"Adventure\" \"Sci-Fi\"   "
      ]
     },
     "metadata": {},
     "output_type": "display_data"
    }
   ],
   "source": [
    "endgame$movieTitle\n",
    "endgame$releaseYear\n",
    "endgame$rating\n",
    "endgame$genre"
   ]
  },
  {
   "cell_type": "markdown",
   "metadata": {
    "slideshow": {
     "slide_type": "subslide"
    }
   },
   "source": [
    "## 獲取 `list` 中的 `KEYS`"
   ]
  },
  {
   "cell_type": "code",
   "execution_count": 8,
   "metadata": {},
   "outputs": [
    {
     "data": {
      "text/html": [
       "<ol class=list-inline>\n",
       "\t<li>'movieTitle'</li>\n",
       "\t<li>'releaseYear'</li>\n",
       "\t<li>'rating'</li>\n",
       "\t<li>'genre'</li>\n",
       "</ol>\n"
      ],
      "text/latex": [
       "\\begin{enumerate*}\n",
       "\\item 'movieTitle'\n",
       "\\item 'releaseYear'\n",
       "\\item 'rating'\n",
       "\\item 'genre'\n",
       "\\end{enumerate*}\n"
      ],
      "text/markdown": [
       "1. 'movieTitle'\n",
       "2. 'releaseYear'\n",
       "3. 'rating'\n",
       "4. 'genre'\n",
       "\n",
       "\n"
      ],
      "text/plain": [
       "[1] \"movieTitle\"  \"releaseYear\" \"rating\"      \"genre\"      "
      ]
     },
     "metadata": {},
     "output_type": "display_data"
    }
   ],
   "source": [
    "names(endgame)"
   ]
  },
  {
   "cell_type": "markdown",
   "metadata": {
    "slideshow": {
     "slide_type": "subslide"
    }
   },
   "source": [
    "## `list` 中的每個向量都維持本來的 class"
   ]
  },
  {
   "cell_type": "code",
   "execution_count": 9,
   "metadata": {},
   "outputs": [
    {
     "name": "stdout",
     "output_type": "stream",
     "text": [
      "[1] \"character\"\n",
      "[1] \"numeric\"\n",
      "[1] \"numeric\"\n",
      "[1] \"character\"\n"
     ]
    }
   ],
   "source": [
    "for (i in endgame) {\n",
    "  print(class(i))\n",
    "}"
   ]
  },
  {
   "cell_type": "markdown",
   "metadata": {
    "slideshow": {
     "slide_type": "subslide"
    }
   },
   "source": [
    "## 加入 `list` 中 `KEY-VALUE`"
   ]
  },
  {
   "cell_type": "code",
   "execution_count": 10,
   "metadata": {},
   "outputs": [
    {
     "data": {
      "text/html": [
       "<dl>\n",
       "\t<dt>$movieTitle</dt>\n",
       "\t\t<dd>'Avengers: Endgame'</dd>\n",
       "\t<dt>$releaseYear</dt>\n",
       "\t\t<dd>2019</dd>\n",
       "\t<dt>$rating</dt>\n",
       "\t\t<dd>8.7</dd>\n",
       "\t<dt>$genre</dt>\n",
       "\t\t<dd><ol class=list-inline>\n",
       "\t<li>'Action'</li>\n",
       "\t<li>'Adventure'</li>\n",
       "\t<li>'Sci-Fi'</li>\n",
       "</ol>\n",
       "</dd>\n",
       "\t<dt>$movieTime</dt>\n",
       "\t\t<dd>181</dd>\n",
       "</dl>\n"
      ],
      "text/latex": [
       "\\begin{description}\n",
       "\\item[\\$movieTitle] 'Avengers: Endgame'\n",
       "\\item[\\$releaseYear] 2019\n",
       "\\item[\\$rating] 8.7\n",
       "\\item[\\$genre] \\begin{enumerate*}\n",
       "\\item 'Action'\n",
       "\\item 'Adventure'\n",
       "\\item 'Sci-Fi'\n",
       "\\end{enumerate*}\n",
       "\n",
       "\\item[\\$movieTime] 181\n",
       "\\end{description}\n"
      ],
      "text/markdown": [
       "$movieTitle\n",
       ":   'Avengers: Endgame'\n",
       "$releaseYear\n",
       ":   2019\n",
       "$rating\n",
       ":   8.7\n",
       "$genre\n",
       ":   1. 'Action'\n",
       "2. 'Adventure'\n",
       "3. 'Sci-Fi'\n",
       "\n",
       "\n",
       "\n",
       "$movieTime\n",
       ":   181\n",
       "\n",
       "\n"
      ],
      "text/plain": [
       "$movieTitle\n",
       "[1] \"Avengers: Endgame\"\n",
       "\n",
       "$releaseYear\n",
       "[1] 2019\n",
       "\n",
       "$rating\n",
       "[1] 8.7\n",
       "\n",
       "$genre\n",
       "[1] \"Action\"    \"Adventure\" \"Sci-Fi\"   \n",
       "\n",
       "$movieTime\n",
       "[1] 181\n"
      ]
     },
     "metadata": {},
     "output_type": "display_data"
    }
   ],
   "source": [
    "endgame[[\"movieTime\"]] <- 181\n",
    "endgame"
   ]
  },
  {
   "cell_type": "markdown",
   "metadata": {
    "slideshow": {
     "slide_type": "subslide"
    }
   },
   "source": [
    "## 更新 `list` 中 `VALUE`"
   ]
  },
  {
   "cell_type": "code",
   "execution_count": 11,
   "metadata": {},
   "outputs": [
    {
     "data": {
      "text/html": [
       "<dl>\n",
       "\t<dt>$movieTitle</dt>\n",
       "\t\t<dd>'Avengers: Endgame'</dd>\n",
       "\t<dt>$releaseYear</dt>\n",
       "\t\t<dd>2019</dd>\n",
       "\t<dt>$rating</dt>\n",
       "\t\t<dd>8.7</dd>\n",
       "\t<dt>$genre</dt>\n",
       "\t\t<dd><ol class=list-inline>\n",
       "\t<li>'Action'</li>\n",
       "\t<li>'Adventure'</li>\n",
       "\t<li>'Sci-Fi'</li>\n",
       "</ol>\n",
       "</dd>\n",
       "\t<dt>$movieTime</dt>\n",
       "\t\t<dd>'3h 1min'</dd>\n",
       "</dl>\n"
      ],
      "text/latex": [
       "\\begin{description}\n",
       "\\item[\\$movieTitle] 'Avengers: Endgame'\n",
       "\\item[\\$releaseYear] 2019\n",
       "\\item[\\$rating] 8.7\n",
       "\\item[\\$genre] \\begin{enumerate*}\n",
       "\\item 'Action'\n",
       "\\item 'Adventure'\n",
       "\\item 'Sci-Fi'\n",
       "\\end{enumerate*}\n",
       "\n",
       "\\item[\\$movieTime] '3h 1min'\n",
       "\\end{description}\n"
      ],
      "text/markdown": [
       "$movieTitle\n",
       ":   'Avengers: Endgame'\n",
       "$releaseYear\n",
       ":   2019\n",
       "$rating\n",
       ":   8.7\n",
       "$genre\n",
       ":   1. 'Action'\n",
       "2. 'Adventure'\n",
       "3. 'Sci-Fi'\n",
       "\n",
       "\n",
       "\n",
       "$movieTime\n",
       ":   '3h 1min'\n",
       "\n",
       "\n"
      ],
      "text/plain": [
       "$movieTitle\n",
       "[1] \"Avengers: Endgame\"\n",
       "\n",
       "$releaseYear\n",
       "[1] 2019\n",
       "\n",
       "$rating\n",
       "[1] 8.7\n",
       "\n",
       "$genre\n",
       "[1] \"Action\"    \"Adventure\" \"Sci-Fi\"   \n",
       "\n",
       "$movieTime\n",
       "[1] \"3h 1min\"\n"
      ]
     },
     "metadata": {},
     "output_type": "display_data"
    }
   ],
   "source": [
    "endgame[[\"movieTime\"]] <- \"3h 1min\"\n",
    "endgame"
   ]
  },
  {
   "cell_type": "markdown",
   "metadata": {
    "slideshow": {
     "slide_type": "subslide"
    }
   },
   "source": [
    "## 刪除 `list` 中 `KEY-VALUE`"
   ]
  },
  {
   "cell_type": "code",
   "execution_count": 12,
   "metadata": {},
   "outputs": [
    {
     "data": {
      "text/html": [
       "<dl>\n",
       "\t<dt>$movieTitle</dt>\n",
       "\t\t<dd>'Avengers: Endgame'</dd>\n",
       "\t<dt>$releaseYear</dt>\n",
       "\t\t<dd>2019</dd>\n",
       "\t<dt>$rating</dt>\n",
       "\t\t<dd>8.7</dd>\n",
       "\t<dt>$genre</dt>\n",
       "\t\t<dd><ol class=list-inline>\n",
       "\t<li>'Action'</li>\n",
       "\t<li>'Adventure'</li>\n",
       "\t<li>'Sci-Fi'</li>\n",
       "</ol>\n",
       "</dd>\n",
       "</dl>\n"
      ],
      "text/latex": [
       "\\begin{description}\n",
       "\\item[\\$movieTitle] 'Avengers: Endgame'\n",
       "\\item[\\$releaseYear] 2019\n",
       "\\item[\\$rating] 8.7\n",
       "\\item[\\$genre] \\begin{enumerate*}\n",
       "\\item 'Action'\n",
       "\\item 'Adventure'\n",
       "\\item 'Sci-Fi'\n",
       "\\end{enumerate*}\n",
       "\n",
       "\\end{description}\n"
      ],
      "text/markdown": [
       "$movieTitle\n",
       ":   'Avengers: Endgame'\n",
       "$releaseYear\n",
       ":   2019\n",
       "$rating\n",
       ":   8.7\n",
       "$genre\n",
       ":   1. 'Action'\n",
       "2. 'Adventure'\n",
       "3. 'Sci-Fi'\n",
       "\n",
       "\n",
       "\n",
       "\n",
       "\n"
      ],
      "text/plain": [
       "$movieTitle\n",
       "[1] \"Avengers: Endgame\"\n",
       "\n",
       "$releaseYear\n",
       "[1] 2019\n",
       "\n",
       "$rating\n",
       "[1] 8.7\n",
       "\n",
       "$genre\n",
       "[1] \"Action\"    \"Adventure\" \"Sci-Fi\"   \n"
      ]
     },
     "metadata": {},
     "output_type": "display_data"
    }
   ],
   "source": [
    "endgame[[\"movieTime\"]] <- NULL\n",
    "endgame"
   ]
  },
  {
   "cell_type": "markdown",
   "metadata": {
    "slideshow": {
     "slide_type": "subslide"
    }
   },
   "source": [
    "## 隨堂練習：將 5 個球員的姓氏（last name）擷取出來並轉換成大寫"
   ]
  },
  {
   "cell_type": "code",
   "execution_count": 13,
   "metadata": {
    "slideshow": {
     "slide_type": "-"
    }
   },
   "outputs": [],
   "source": [
    "fav_players <- c(\"Steve Nash\", \"Paul Pierce\", \"Dirk Nowitzki\", \"Kevin Garnett\", \"Hakeem Olajuwon\")\n",
    "# ?strsplit\n",
    "# ?toupper"
   ]
  },
  {
   "cell_type": "code",
   "execution_count": 14,
   "metadata": {
    "slideshow": {
     "slide_type": "skip"
    }
   },
   "outputs": [],
   "source": [
    "ans <- c()\n",
    "for (i in strsplit(fav_players, split = \" \")) {\n",
    "    ans <- c(ans, toupper(i[2]))\n",
    "}"
   ]
  },
  {
   "cell_type": "code",
   "execution_count": 15,
   "metadata": {
    "slideshow": {
     "slide_type": "fragment"
    }
   },
   "outputs": [
    {
     "data": {
      "text/html": [
       "<ol class=list-inline>\n",
       "\t<li>'NASH'</li>\n",
       "\t<li>'PIERCE'</li>\n",
       "\t<li>'NOWITZKI'</li>\n",
       "\t<li>'GARNETT'</li>\n",
       "\t<li>'OLAJUWON'</li>\n",
       "</ol>\n"
      ],
      "text/latex": [
       "\\begin{enumerate*}\n",
       "\\item 'NASH'\n",
       "\\item 'PIERCE'\n",
       "\\item 'NOWITZKI'\n",
       "\\item 'GARNETT'\n",
       "\\item 'OLAJUWON'\n",
       "\\end{enumerate*}\n"
      ],
      "text/markdown": [
       "1. 'NASH'\n",
       "2. 'PIERCE'\n",
       "3. 'NOWITZKI'\n",
       "4. 'GARNETT'\n",
       "5. 'OLAJUWON'\n",
       "\n",
       "\n"
      ],
      "text/plain": [
       "[1] \"NASH\"     \"PIERCE\"   \"NOWITZKI\" \"GARNETT\"  \"OLAJUWON\""
      ]
     },
     "metadata": {},
     "output_type": "display_data"
    }
   ],
   "source": [
    "ans"
   ]
  },
  {
   "cell_type": "markdown",
   "metadata": {
    "slideshow": {
     "slide_type": "slide"
    }
   },
   "source": [
    "# `factor`"
   ]
  },
  {
   "cell_type": "markdown",
   "metadata": {
    "slideshow": {
     "slide_type": "subslide"
    }
   },
   "source": [
    "## `factor` 在 R 中的定位\n",
    "\n",
    "- 特殊的文字向量\n",
    "- 獨一的文字值會以 **Levels** 紀錄\n",
    "- 每個獨一的文字值會以一個整數編碼，支援有序文字\n",
    "- 預設的文字變數類型"
   ]
  },
  {
   "cell_type": "markdown",
   "metadata": {
    "slideshow": {
     "slide_type": "subslide"
    }
   },
   "source": [
    "## 使用 `factor()` 函數創建"
   ]
  },
  {
   "cell_type": "code",
   "execution_count": 16,
   "metadata": {},
   "outputs": [
    {
     "data": {
      "text/html": [
       "'character'"
      ],
      "text/latex": [
       "'character'"
      ],
      "text/markdown": [
       "'character'"
      ],
      "text/plain": [
       "[1] \"character\""
      ]
     },
     "metadata": {},
     "output_type": "display_data"
    },
    {
     "data": {
      "text/html": [
       "'factor'"
      ],
      "text/latex": [
       "'factor'"
      ],
      "text/markdown": [
       "'factor'"
      ],
      "text/plain": [
       "[1] \"factor\""
      ]
     },
     "metadata": {},
     "output_type": "display_data"
    }
   ],
   "source": [
    "avengers <- c(\"The Avengers\", \"Avengers: Age of Ultron\", \"Avengers: Infinity War\", \"Avengers: Endgame\")\n",
    "class(avengers)\n",
    "avengers <- factor(avengers)\n",
    "class(avengers)"
   ]
  },
  {
   "cell_type": "markdown",
   "metadata": {
    "slideshow": {
     "slide_type": "subslide"
    }
   },
   "source": [
    "## 獨一的文字值以 Levels 編碼"
   ]
  },
  {
   "cell_type": "code",
   "execution_count": 17,
   "metadata": {},
   "outputs": [
    {
     "data": {
      "text/html": [
       "<ol class=list-inline>\n",
       "\t<li>red</li>\n",
       "\t<li>green</li>\n",
       "\t<li>blue</li>\n",
       "\t<li>blue</li>\n",
       "\t<li>green</li>\n",
       "\t<li>green</li>\n",
       "</ol>\n",
       "\n",
       "<details>\n",
       "\t<summary style=display:list-item;cursor:pointer>\n",
       "\t\t<strong>Levels</strong>:\n",
       "\t</summary>\n",
       "\t<ol class=list-inline>\n",
       "\t\t<li>'blue'</li>\n",
       "\t\t<li>'green'</li>\n",
       "\t\t<li>'red'</li>\n",
       "\t</ol>\n",
       "</details>"
      ],
      "text/latex": [
       "\\begin{enumerate*}\n",
       "\\item red\n",
       "\\item green\n",
       "\\item blue\n",
       "\\item blue\n",
       "\\item green\n",
       "\\item green\n",
       "\\end{enumerate*}\n",
       "\n",
       "\\emph{Levels}: \\begin{enumerate*}\n",
       "\\item 'blue'\n",
       "\\item 'green'\n",
       "\\item 'red'\n",
       "\\end{enumerate*}\n"
      ],
      "text/markdown": [
       "1. red\n",
       "2. green\n",
       "3. blue\n",
       "4. blue\n",
       "5. green\n",
       "6. green\n",
       "\n",
       "\n",
       "\n",
       "**Levels**: 1. 'blue'\n",
       "2. 'green'\n",
       "3. 'red'\n",
       "\n",
       "\n"
      ],
      "text/plain": [
       "[1] red   green blue  blue  green green\n",
       "Levels: blue green red"
      ]
     },
     "metadata": {},
     "output_type": "display_data"
    }
   ],
   "source": [
    "rgbs <- factor(c(\"red\", \"green\", \"blue\", \"blue\", \"green\", \"green\"))\n",
    "rgbs"
   ]
  },
  {
   "cell_type": "markdown",
   "metadata": {
    "slideshow": {
     "slide_type": "subslide"
    }
   },
   "source": [
    "## `factor` 支援有序文字"
   ]
  },
  {
   "cell_type": "code",
   "execution_count": 18,
   "metadata": {},
   "outputs": [
    {
     "data": {
      "text/html": [
       "<ol class=list-inline>\n",
       "\t<li>freezing</li>\n",
       "\t<li>cold</li>\n",
       "\t<li>cool</li>\n",
       "\t<li>warm</li>\n",
       "\t<li>hot</li>\n",
       "</ol>\n",
       "\n",
       "<details>\n",
       "\t<summary style=display:list-item;cursor:pointer>\n",
       "\t\t<strong>Levels</strong>:\n",
       "\t</summary>\n",
       "\t<ol class=list-inline>\n",
       "\t\t<li>'cold'</li>\n",
       "\t\t<li>'cool'</li>\n",
       "\t\t<li>'freezing'</li>\n",
       "\t\t<li>'hot'</li>\n",
       "\t\t<li>'warm'</li>\n",
       "\t</ol>\n",
       "</details>"
      ],
      "text/latex": [
       "\\begin{enumerate*}\n",
       "\\item freezing\n",
       "\\item cold\n",
       "\\item cool\n",
       "\\item warm\n",
       "\\item hot\n",
       "\\end{enumerate*}\n",
       "\n",
       "\\emph{Levels}: \\begin{enumerate*}\n",
       "\\item 'cold'\n",
       "\\item 'cool'\n",
       "\\item 'freezing'\n",
       "\\item 'hot'\n",
       "\\item 'warm'\n",
       "\\end{enumerate*}\n"
      ],
      "text/markdown": [
       "1. freezing\n",
       "2. cold\n",
       "3. cool\n",
       "4. warm\n",
       "5. hot\n",
       "\n",
       "\n",
       "\n",
       "**Levels**: 1. 'cold'\n",
       "2. 'cool'\n",
       "3. 'freezing'\n",
       "4. 'hot'\n",
       "5. 'warm'\n",
       "\n",
       "\n"
      ],
      "text/plain": [
       "[1] freezing cold     cool     warm     hot     \n",
       "Levels: cold < cool < freezing < hot < warm"
      ]
     },
     "metadata": {},
     "output_type": "display_data"
    },
    {
     "data": {
      "text/html": [
       "TRUE"
      ],
      "text/latex": [
       "TRUE"
      ],
      "text/markdown": [
       "TRUE"
      ],
      "text/plain": [
       "[1] TRUE"
      ]
     },
     "metadata": {},
     "output_type": "display_data"
    }
   ],
   "source": [
    "temperatures <- factor(c(\"freezing\", \"cold\", \"cool\", \"warm\", \"hot\"), ordered = TRUE)\n",
    "temperatures\n",
    "temperatures[1] > temperatures[3]"
   ]
  },
  {
   "cell_type": "markdown",
   "metadata": {
    "slideshow": {
     "slide_type": "subslide"
    }
   },
   "source": [
    "## 調整 `factor` 的順序"
   ]
  },
  {
   "cell_type": "code",
   "execution_count": 19,
   "metadata": {},
   "outputs": [
    {
     "data": {
      "text/html": [
       "<ol class=list-inline>\n",
       "\t<li>freezing</li>\n",
       "\t<li>cold</li>\n",
       "\t<li>cool</li>\n",
       "\t<li>warm</li>\n",
       "\t<li>hot</li>\n",
       "</ol>\n",
       "\n",
       "<details>\n",
       "\t<summary style=display:list-item;cursor:pointer>\n",
       "\t\t<strong>Levels</strong>:\n",
       "\t</summary>\n",
       "\t<ol class=list-inline>\n",
       "\t\t<li>'freezing'</li>\n",
       "\t\t<li>'cold'</li>\n",
       "\t\t<li>'cool'</li>\n",
       "\t\t<li>'warm'</li>\n",
       "\t\t<li>'hot'</li>\n",
       "\t</ol>\n",
       "</details>"
      ],
      "text/latex": [
       "\\begin{enumerate*}\n",
       "\\item freezing\n",
       "\\item cold\n",
       "\\item cool\n",
       "\\item warm\n",
       "\\item hot\n",
       "\\end{enumerate*}\n",
       "\n",
       "\\emph{Levels}: \\begin{enumerate*}\n",
       "\\item 'freezing'\n",
       "\\item 'cold'\n",
       "\\item 'cool'\n",
       "\\item 'warm'\n",
       "\\item 'hot'\n",
       "\\end{enumerate*}\n"
      ],
      "text/markdown": [
       "1. freezing\n",
       "2. cold\n",
       "3. cool\n",
       "4. warm\n",
       "5. hot\n",
       "\n",
       "\n",
       "\n",
       "**Levels**: 1. 'freezing'\n",
       "2. 'cold'\n",
       "3. 'cool'\n",
       "4. 'warm'\n",
       "5. 'hot'\n",
       "\n",
       "\n"
      ],
      "text/plain": [
       "[1] freezing cold     cool     warm     hot     \n",
       "Levels: freezing < cold < cool < warm < hot"
      ]
     },
     "metadata": {},
     "output_type": "display_data"
    }
   ],
   "source": [
    "temperatures <- factor(c(\"freezing\", \"cold\", \"cool\", \"warm\", \"hot\"),\n",
    "                       ordered = TRUE,\n",
    "                       levels = c(\"freezing\", \"cold\", \"cool\", \"warm\", \"hot\"))\n",
    "temperatures"
   ]
  },
  {
   "cell_type": "markdown",
   "metadata": {
    "slideshow": {
     "slide_type": "subslide"
    }
   },
   "source": [
    "## 每個獨一的文字值會以一個整數編碼"
   ]
  },
  {
   "cell_type": "code",
   "execution_count": 20,
   "metadata": {},
   "outputs": [
    {
     "name": "stderr",
     "output_type": "stream",
     "text": [
      "Warning message in eval(expr, envir, enclos):\n",
      "“NAs introduced by coercion”"
     ]
    },
    {
     "data": {
      "text/html": [
       "<ol class=list-inline>\n",
       "\t<li>&lt;NA&gt;</li>\n",
       "\t<li>&lt;NA&gt;</li>\n",
       "\t<li>&lt;NA&gt;</li>\n",
       "\t<li>&lt;NA&gt;</li>\n",
       "\t<li>&lt;NA&gt;</li>\n",
       "</ol>\n"
      ],
      "text/latex": [
       "\\begin{enumerate*}\n",
       "\\item <NA>\n",
       "\\item <NA>\n",
       "\\item <NA>\n",
       "\\item <NA>\n",
       "\\item <NA>\n",
       "\\end{enumerate*}\n"
      ],
      "text/markdown": [
       "1. &lt;NA&gt;\n",
       "2. &lt;NA&gt;\n",
       "3. &lt;NA&gt;\n",
       "4. &lt;NA&gt;\n",
       "5. &lt;NA&gt;\n",
       "\n",
       "\n"
      ],
      "text/plain": [
       "[1] NA NA NA NA NA"
      ]
     },
     "metadata": {},
     "output_type": "display_data"
    },
    {
     "data": {
      "text/html": [
       "<ol class=list-inline>\n",
       "\t<li>3</li>\n",
       "\t<li>1</li>\n",
       "\t<li>2</li>\n",
       "\t<li>5</li>\n",
       "\t<li>4</li>\n",
       "</ol>\n"
      ],
      "text/latex": [
       "\\begin{enumerate*}\n",
       "\\item 3\n",
       "\\item 1\n",
       "\\item 2\n",
       "\\item 5\n",
       "\\item 4\n",
       "\\end{enumerate*}\n"
      ],
      "text/markdown": [
       "1. 3\n",
       "2. 1\n",
       "3. 2\n",
       "4. 5\n",
       "5. 4\n",
       "\n",
       "\n"
      ],
      "text/plain": [
       "[1] 3 1 2 5 4"
      ]
     },
     "metadata": {},
     "output_type": "display_data"
    }
   ],
   "source": [
    "temperatures <- c(\"freezing\", \"cold\", \"cool\", \"warm\", \"hot\")\n",
    "as.numeric(temperatures) # Error\n",
    "temperatures <- factor(c(\"freezing\", \"cold\", \"cool\", \"warm\", \"hot\"))\n",
    "as.numeric(temperatures)"
   ]
  },
  {
   "cell_type": "markdown",
   "metadata": {
    "slideshow": {
     "slide_type": "subslide"
    }
   },
   "source": [
    "## `factor` 有時難以掌控"
   ]
  },
  {
   "cell_type": "code",
   "execution_count": 21,
   "metadata": {},
   "outputs": [
    {
     "data": {
      "text/html": [
       "<ol class=list-inline>\n",
       "\t<li>'3'</li>\n",
       "\t<li>'1'</li>\n",
       "\t<li>'2'</li>\n",
       "\t<li>'Avengers: Endgame'</li>\n",
       "</ol>\n"
      ],
      "text/latex": [
       "\\begin{enumerate*}\n",
       "\\item '3'\n",
       "\\item '1'\n",
       "\\item '2'\n",
       "\\item 'Avengers: Endgame'\n",
       "\\end{enumerate*}\n"
      ],
      "text/markdown": [
       "1. '3'\n",
       "2. '1'\n",
       "3. '2'\n",
       "4. 'Avengers: Endgame'\n",
       "\n",
       "\n"
      ],
      "text/plain": [
       "[1] \"3\"                 \"1\"                 \"2\"                \n",
       "[4] \"Avengers: Endgame\""
      ]
     },
     "metadata": {},
     "output_type": "display_data"
    }
   ],
   "source": [
    "avengers <- factor(c(\"The Avengers\", \"Avengers: Age of Ultron\", \"Avengers: Infinity War\"))\n",
    "avengers <- c(avengers, \"Avengers: Endgame\")\n",
    "avengers"
   ]
  },
  {
   "cell_type": "markdown",
   "metadata": {
    "slideshow": {
     "slide_type": "subslide"
    }
   },
   "source": [
    "## R 為何使用 `factor` 作為預設的文字變數類型\n",
    "\n",
    "- `factor` 具有整數的編碼\n",
    "- 不需要做額外的 One-hot encoding\n",
    "- 讓資料成為 `modeling-ready` 的狀態"
   ]
  },
  {
   "cell_type": "markdown",
   "metadata": {
    "slideshow": {
     "slide_type": "subslide"
    }
   },
   "source": [
    "## 使用建議\n",
    "\n",
    "- 在資料處理階段使用 `character`\n",
    "- 在資料預測階段使用 `factor`"
   ]
  },
  {
   "cell_type": "markdown",
   "metadata": {
    "slideshow": {
     "slide_type": "slide"
    }
   },
   "source": [
    "# `data.frame`"
   ]
  },
  {
   "cell_type": "markdown",
   "metadata": {
    "slideshow": {
     "slide_type": "subslide"
    }
   },
   "source": [
    "## `data.frame` 在 R 中的定位\n",
    "\n",
    "- 處理表格資料的首選\n",
    "- 多數資料科學家處理的資料是表格形式\n",
    "- 具有兩個維度，`m x n`（列 x 欄）\n",
    "- 列常被稱為觀測值、欄常被稱為變數\n",
    "- 每個欄都是一個向量，具有個別的 class\n",
    "- 支援 `$` 作為取出單一欄的索引方式"
   ]
  },
  {
   "cell_type": "markdown",
   "metadata": {
    "slideshow": {
     "slide_type": "subslide"
    }
   },
   "source": [
    "## 使用 `data.frame()` 函數創建資料框"
   ]
  },
  {
   "cell_type": "code",
   "execution_count": 22,
   "metadata": {},
   "outputs": [],
   "source": [
    "avengers <- c(\"The Avengers\", \"Avengers: Age of Ultron\", \"Avengers: Infinity War\", \"Avengers: Endgame\")\n",
    "ratings <- c(8.1, 7.3, 8.5, 8.7)\n",
    "release_year <- c(2012, 2015, 2018, 2019)\n",
    "is_good <- ratings > 8\n",
    "avengers_df <- data.frame(title = avengers, rating = ratings, release_year, is_good)"
   ]
  },
  {
   "cell_type": "code",
   "execution_count": 23,
   "metadata": {
    "slideshow": {
     "slide_type": "subslide"
    }
   },
   "outputs": [
    {
     "data": {
      "text/html": [
       "<table>\n",
       "<thead><tr><th scope=col>title</th><th scope=col>rating</th><th scope=col>release_year</th><th scope=col>is_good</th></tr></thead>\n",
       "<tbody>\n",
       "\t<tr><td>The Avengers           </td><td>8.1                    </td><td>2012                   </td><td> TRUE                  </td></tr>\n",
       "\t<tr><td>Avengers: Age of Ultron</td><td>7.3                    </td><td>2015                   </td><td>FALSE                  </td></tr>\n",
       "\t<tr><td>Avengers: Infinity War </td><td>8.5                    </td><td>2018                   </td><td> TRUE                  </td></tr>\n",
       "\t<tr><td>Avengers: Endgame      </td><td>8.7                    </td><td>2019                   </td><td> TRUE                  </td></tr>\n",
       "</tbody>\n",
       "</table>\n"
      ],
      "text/latex": [
       "\\begin{tabular}{r|llll}\n",
       " title & rating & release\\_year & is\\_good\\\\\n",
       "\\hline\n",
       "\t The Avengers            & 8.1                     & 2012                    &  TRUE                  \\\\\n",
       "\t Avengers: Age of Ultron & 7.3                     & 2015                    & FALSE                  \\\\\n",
       "\t Avengers: Infinity War  & 8.5                     & 2018                    &  TRUE                  \\\\\n",
       "\t Avengers: Endgame       & 8.7                     & 2019                    &  TRUE                  \\\\\n",
       "\\end{tabular}\n"
      ],
      "text/markdown": [
       "\n",
       "| title | rating | release_year | is_good |\n",
       "|---|---|---|---|\n",
       "| The Avengers            | 8.1                     | 2012                    |  TRUE                   |\n",
       "| Avengers: Age of Ultron | 7.3                     | 2015                    | FALSE                   |\n",
       "| Avengers: Infinity War  | 8.5                     | 2018                    |  TRUE                   |\n",
       "| Avengers: Endgame       | 8.7                     | 2019                    |  TRUE                   |\n",
       "\n"
      ],
      "text/plain": [
       "  title                   rating release_year is_good\n",
       "1 The Avengers            8.1    2012          TRUE  \n",
       "2 Avengers: Age of Ultron 7.3    2015         FALSE  \n",
       "3 Avengers: Infinity War  8.5    2018          TRUE  \n",
       "4 Avengers: Endgame       8.7    2019          TRUE  "
      ]
     },
     "metadata": {},
     "output_type": "display_data"
    }
   ],
   "source": [
    "avengers_df"
   ]
  },
  {
   "cell_type": "markdown",
   "metadata": {
    "slideshow": {
     "slide_type": "subslide"
    }
   },
   "source": [
    "## 文字向量預設以 `factor` 型態儲存"
   ]
  },
  {
   "cell_type": "code",
   "execution_count": 24,
   "metadata": {},
   "outputs": [
    {
     "name": "stdout",
     "output_type": "stream",
     "text": [
      "'data.frame':\t4 obs. of  4 variables:\n",
      " $ title       : Factor w/ 4 levels \"Avengers: Age of Ultron\",..: 4 1 3 2\n",
      " $ rating      : num  8.1 7.3 8.5 8.7\n",
      " $ release_year: num  2012 2015 2018 2019\n",
      " $ is_good     : logi  TRUE FALSE TRUE TRUE\n"
     ]
    }
   ],
   "source": [
    "#?str\n",
    "str(avengers_df)"
   ]
  },
  {
   "cell_type": "markdown",
   "metadata": {
    "slideshow": {
     "slide_type": "subslide"
    }
   },
   "source": [
    "## 加入參數 `stringsAsFactors = FALSE` 可以調整為文字向量"
   ]
  },
  {
   "cell_type": "code",
   "execution_count": 25,
   "metadata": {},
   "outputs": [
    {
     "name": "stdout",
     "output_type": "stream",
     "text": [
      "'data.frame':\t4 obs. of  4 variables:\n",
      " $ title       : chr  \"The Avengers\" \"Avengers: Age of Ultron\" \"Avengers: Infinity War\" \"Avengers: Endgame\"\n",
      " $ rating      : num  8.1 7.3 8.5 8.7\n",
      " $ release_year: num  2012 2015 2018 2019\n",
      " $ is_good     : logi  TRUE FALSE TRUE TRUE\n"
     ]
    }
   ],
   "source": [
    "avengers_df <- data.frame(title = avengers, rating = ratings, release_year, is_good, stringsAsFactors = FALSE)\n",
    "str(avengers_df)"
   ]
  },
  {
   "cell_type": "markdown",
   "metadata": {
    "slideshow": {
     "slide_type": "subslide"
    }
   },
   "source": [
    "## 常見用來觀察 `data.frame` 的函數\n",
    "\n",
    "- `View()`：顯示漂亮的資料框外觀\n",
    "- `head(n)`：顯示前 n 列\n",
    "- `tail(n)`：顯示後 n 列\n",
    "- `summary()`：顯示描述性統計\n",
    "- `str()`：顯示結構\n",
    "- `dim()`：顯示維度\n",
    "- `nrow()`：顯示列數\n",
    "- `ncol()`：顯示欄數"
   ]
  },
  {
   "cell_type": "markdown",
   "metadata": {
    "slideshow": {
     "slide_type": "subslide"
    }
   },
   "source": [
    "## 從資料框中選出欄位成為一個向量"
   ]
  },
  {
   "cell_type": "code",
   "execution_count": 26,
   "metadata": {},
   "outputs": [
    {
     "data": {
      "text/html": [
       "<ol class=list-inline>\n",
       "\t<li>'The Avengers'</li>\n",
       "\t<li>'Avengers: Age of Ultron'</li>\n",
       "\t<li>'Avengers: Infinity War'</li>\n",
       "\t<li>'Avengers: Endgame'</li>\n",
       "</ol>\n"
      ],
      "text/latex": [
       "\\begin{enumerate*}\n",
       "\\item 'The Avengers'\n",
       "\\item 'Avengers: Age of Ultron'\n",
       "\\item 'Avengers: Infinity War'\n",
       "\\item 'Avengers: Endgame'\n",
       "\\end{enumerate*}\n"
      ],
      "text/markdown": [
       "1. 'The Avengers'\n",
       "2. 'Avengers: Age of Ultron'\n",
       "3. 'Avengers: Infinity War'\n",
       "4. 'Avengers: Endgame'\n",
       "\n",
       "\n"
      ],
      "text/plain": [
       "[1] \"The Avengers\"            \"Avengers: Age of Ultron\"\n",
       "[3] \"Avengers: Infinity War\"  \"Avengers: Endgame\"      "
      ]
     },
     "metadata": {},
     "output_type": "display_data"
    },
    {
     "data": {
      "text/html": [
       "<ol class=list-inline>\n",
       "\t<li>'The Avengers'</li>\n",
       "\t<li>'Avengers: Age of Ultron'</li>\n",
       "\t<li>'Avengers: Infinity War'</li>\n",
       "\t<li>'Avengers: Endgame'</li>\n",
       "</ol>\n"
      ],
      "text/latex": [
       "\\begin{enumerate*}\n",
       "\\item 'The Avengers'\n",
       "\\item 'Avengers: Age of Ultron'\n",
       "\\item 'Avengers: Infinity War'\n",
       "\\item 'Avengers: Endgame'\n",
       "\\end{enumerate*}\n"
      ],
      "text/markdown": [
       "1. 'The Avengers'\n",
       "2. 'Avengers: Age of Ultron'\n",
       "3. 'Avengers: Infinity War'\n",
       "4. 'Avengers: Endgame'\n",
       "\n",
       "\n"
      ],
      "text/plain": [
       "[1] \"The Avengers\"            \"Avengers: Age of Ultron\"\n",
       "[3] \"Avengers: Infinity War\"  \"Avengers: Endgame\"      "
      ]
     },
     "metadata": {},
     "output_type": "display_data"
    },
    {
     "data": {
      "text/html": [
       "<ol class=list-inline>\n",
       "\t<li>'The Avengers'</li>\n",
       "\t<li>'Avengers: Age of Ultron'</li>\n",
       "\t<li>'Avengers: Infinity War'</li>\n",
       "\t<li>'Avengers: Endgame'</li>\n",
       "</ol>\n"
      ],
      "text/latex": [
       "\\begin{enumerate*}\n",
       "\\item 'The Avengers'\n",
       "\\item 'Avengers: Age of Ultron'\n",
       "\\item 'Avengers: Infinity War'\n",
       "\\item 'Avengers: Endgame'\n",
       "\\end{enumerate*}\n"
      ],
      "text/markdown": [
       "1. 'The Avengers'\n",
       "2. 'Avengers: Age of Ultron'\n",
       "3. 'Avengers: Infinity War'\n",
       "4. 'Avengers: Endgame'\n",
       "\n",
       "\n"
      ],
      "text/plain": [
       "[1] \"The Avengers\"            \"Avengers: Age of Ultron\"\n",
       "[3] \"Avengers: Infinity War\"  \"Avengers: Endgame\"      "
      ]
     },
     "metadata": {},
     "output_type": "display_data"
    }
   ],
   "source": [
    "avengers_df[[\"title\"]]\n",
    "avengers_df[, \"title\"]\n",
    "avengers_df[, 1]"
   ]
  },
  {
   "cell_type": "markdown",
   "metadata": {
    "slideshow": {
     "slide_type": "subslide"
    }
   },
   "source": [
    "## 或者使用 `$`"
   ]
  },
  {
   "cell_type": "code",
   "execution_count": 27,
   "metadata": {},
   "outputs": [
    {
     "data": {
      "text/html": [
       "<ol class=list-inline>\n",
       "\t<li>'The Avengers'</li>\n",
       "\t<li>'Avengers: Age of Ultron'</li>\n",
       "\t<li>'Avengers: Infinity War'</li>\n",
       "\t<li>'Avengers: Endgame'</li>\n",
       "</ol>\n"
      ],
      "text/latex": [
       "\\begin{enumerate*}\n",
       "\\item 'The Avengers'\n",
       "\\item 'Avengers: Age of Ultron'\n",
       "\\item 'Avengers: Infinity War'\n",
       "\\item 'Avengers: Endgame'\n",
       "\\end{enumerate*}\n"
      ],
      "text/markdown": [
       "1. 'The Avengers'\n",
       "2. 'Avengers: Age of Ultron'\n",
       "3. 'Avengers: Infinity War'\n",
       "4. 'Avengers: Endgame'\n",
       "\n",
       "\n"
      ],
      "text/plain": [
       "[1] \"The Avengers\"            \"Avengers: Age of Ultron\"\n",
       "[3] \"Avengers: Infinity War\"  \"Avengers: Endgame\"      "
      ]
     },
     "metadata": {},
     "output_type": "display_data"
    }
   ],
   "source": [
    "avengers_df$title"
   ]
  },
  {
   "cell_type": "markdown",
   "metadata": {
    "slideshow": {
     "slide_type": "subslide"
    }
   },
   "source": [
    "## 篩選觀測值：指定列數"
   ]
  },
  {
   "cell_type": "code",
   "execution_count": 28,
   "metadata": {},
   "outputs": [
    {
     "data": {
      "text/html": [
       "<table>\n",
       "<thead><tr><th></th><th scope=col>title</th><th scope=col>rating</th><th scope=col>release_year</th><th scope=col>is_good</th></tr></thead>\n",
       "<tbody>\n",
       "\t<tr><th scope=row>1</th><td>The Avengers          </td><td>8.1                   </td><td>2012                  </td><td>TRUE                  </td></tr>\n",
       "\t<tr><th scope=row>3</th><td>Avengers: Infinity War</td><td>8.5                   </td><td>2018                  </td><td>TRUE                  </td></tr>\n",
       "\t<tr><th scope=row>4</th><td>Avengers: Endgame     </td><td>8.7                   </td><td>2019                  </td><td>TRUE                  </td></tr>\n",
       "</tbody>\n",
       "</table>\n"
      ],
      "text/latex": [
       "\\begin{tabular}{r|llll}\n",
       "  & title & rating & release\\_year & is\\_good\\\\\n",
       "\\hline\n",
       "\t1 & The Avengers           & 8.1                    & 2012                   & TRUE                  \\\\\n",
       "\t3 & Avengers: Infinity War & 8.5                    & 2018                   & TRUE                  \\\\\n",
       "\t4 & Avengers: Endgame      & 8.7                    & 2019                   & TRUE                  \\\\\n",
       "\\end{tabular}\n"
      ],
      "text/markdown": [
       "\n",
       "| <!--/--> | title | rating | release_year | is_good |\n",
       "|---|---|---|---|---|\n",
       "| 1 | The Avengers           | 8.1                    | 2012                   | TRUE                   |\n",
       "| 3 | Avengers: Infinity War | 8.5                    | 2018                   | TRUE                   |\n",
       "| 4 | Avengers: Endgame      | 8.7                    | 2019                   | TRUE                   |\n",
       "\n"
      ],
      "text/plain": [
       "  title                  rating release_year is_good\n",
       "1 The Avengers           8.1    2012         TRUE   \n",
       "3 Avengers: Infinity War 8.5    2018         TRUE   \n",
       "4 Avengers: Endgame      8.7    2019         TRUE   "
      ]
     },
     "metadata": {},
     "output_type": "display_data"
    }
   ],
   "source": [
    "avengers_df[c(1, 3, 4), ]"
   ]
  },
  {
   "cell_type": "markdown",
   "metadata": {
    "slideshow": {
     "slide_type": "subslide"
    }
   },
   "source": [
    "## 篩選觀測值：使用邏輯值向量"
   ]
  },
  {
   "cell_type": "code",
   "execution_count": 29,
   "metadata": {},
   "outputs": [
    {
     "data": {
      "text/html": [
       "<table>\n",
       "<thead><tr><th></th><th scope=col>title</th><th scope=col>rating</th><th scope=col>release_year</th><th scope=col>is_good</th></tr></thead>\n",
       "<tbody>\n",
       "\t<tr><th scope=row>3</th><td>Avengers: Infinity War</td><td>8.5                   </td><td>2018                  </td><td>TRUE                  </td></tr>\n",
       "\t<tr><th scope=row>4</th><td>Avengers: Endgame     </td><td>8.7                   </td><td>2019                  </td><td>TRUE                  </td></tr>\n",
       "</tbody>\n",
       "</table>\n"
      ],
      "text/latex": [
       "\\begin{tabular}{r|llll}\n",
       "  & title & rating & release\\_year & is\\_good\\\\\n",
       "\\hline\n",
       "\t3 & Avengers: Infinity War & 8.5                    & 2018                   & TRUE                  \\\\\n",
       "\t4 & Avengers: Endgame      & 8.7                    & 2019                   & TRUE                  \\\\\n",
       "\\end{tabular}\n"
      ],
      "text/markdown": [
       "\n",
       "| <!--/--> | title | rating | release_year | is_good |\n",
       "|---|---|---|---|---|\n",
       "| 3 | Avengers: Infinity War | 8.5                    | 2018                   | TRUE                   |\n",
       "| 4 | Avengers: Endgame      | 8.7                    | 2019                   | TRUE                   |\n",
       "\n"
      ],
      "text/plain": [
       "  title                  rating release_year is_good\n",
       "3 Avengers: Infinity War 8.5    2018         TRUE   \n",
       "4 Avengers: Endgame      8.7    2019         TRUE   "
      ]
     },
     "metadata": {},
     "output_type": "display_data"
    }
   ],
   "source": [
    "avengers_df[c(FALSE, FALSE, TRUE, TRUE), ]"
   ]
  },
  {
   "cell_type": "markdown",
   "metadata": {
    "slideshow": {
     "slide_type": "subslide"
    }
   },
   "source": [
    "## 利用邏輯運算符產生邏輯值向量"
   ]
  },
  {
   "cell_type": "code",
   "execution_count": 30,
   "metadata": {},
   "outputs": [
    {
     "data": {
      "text/html": [
       "<ol class=list-inline>\n",
       "\t<li>FALSE</li>\n",
       "\t<li>FALSE</li>\n",
       "\t<li>TRUE</li>\n",
       "\t<li>TRUE</li>\n",
       "</ol>\n"
      ],
      "text/latex": [
       "\\begin{enumerate*}\n",
       "\\item FALSE\n",
       "\\item FALSE\n",
       "\\item TRUE\n",
       "\\item TRUE\n",
       "\\end{enumerate*}\n"
      ],
      "text/markdown": [
       "1. FALSE\n",
       "2. FALSE\n",
       "3. TRUE\n",
       "4. TRUE\n",
       "\n",
       "\n"
      ],
      "text/plain": [
       "[1] FALSE FALSE  TRUE  TRUE"
      ]
     },
     "metadata": {},
     "output_type": "display_data"
    },
    {
     "data": {
      "text/html": [
       "<table>\n",
       "<thead><tr><th></th><th scope=col>title</th><th scope=col>rating</th><th scope=col>release_year</th><th scope=col>is_good</th></tr></thead>\n",
       "<tbody>\n",
       "\t<tr><th scope=row>3</th><td>Avengers: Infinity War</td><td>8.5                   </td><td>2018                  </td><td>TRUE                  </td></tr>\n",
       "\t<tr><th scope=row>4</th><td>Avengers: Endgame     </td><td>8.7                   </td><td>2019                  </td><td>TRUE                  </td></tr>\n",
       "</tbody>\n",
       "</table>\n"
      ],
      "text/latex": [
       "\\begin{tabular}{r|llll}\n",
       "  & title & rating & release\\_year & is\\_good\\\\\n",
       "\\hline\n",
       "\t3 & Avengers: Infinity War & 8.5                    & 2018                   & TRUE                  \\\\\n",
       "\t4 & Avengers: Endgame      & 8.7                    & 2019                   & TRUE                  \\\\\n",
       "\\end{tabular}\n"
      ],
      "text/markdown": [
       "\n",
       "| <!--/--> | title | rating | release_year | is_good |\n",
       "|---|---|---|---|---|\n",
       "| 3 | Avengers: Infinity War | 8.5                    | 2018                   | TRUE                   |\n",
       "| 4 | Avengers: Endgame      | 8.7                    | 2019                   | TRUE                   |\n",
       "\n"
      ],
      "text/plain": [
       "  title                  rating release_year is_good\n",
       "3 Avengers: Infinity War 8.5    2018         TRUE   \n",
       "4 Avengers: Endgame      8.7    2019         TRUE   "
      ]
     },
     "metadata": {},
     "output_type": "display_data"
    }
   ],
   "source": [
    "avengers_df$release_year >= 2018\n",
    "avengers_df[avengers_df$release_year >= 2018, ] # putting logical vector as row index"
   ]
  },
  {
   "cell_type": "markdown",
   "metadata": {
    "slideshow": {
     "slide_type": "subslide"
    }
   },
   "source": [
    "## 隨堂練習：將三巨頭 Michael Jordan, Scottie Pippen 還有 Dennis Rodman 選出來"
   ]
  },
  {
   "cell_type": "code",
   "execution_count": 31,
   "metadata": {},
   "outputs": [],
   "source": [
    "csv_url <- \"https://storage.googleapis.com/ds_data_import/chicago_bulls_1995_1996.csv\"\n",
    "chicago_bulls <- read.csv(csv_url)"
   ]
  },
  {
   "cell_type": "code",
   "execution_count": 32,
   "metadata": {
    "slideshow": {
     "slide_type": "skip"
    }
   },
   "outputs": [],
   "source": [
    "ans <- chicago_bulls[chicago_bulls[, \"No.\"] %in% c(23, 33, 91), ]"
   ]
  },
  {
   "cell_type": "code",
   "execution_count": 33,
   "metadata": {
    "slideshow": {
     "slide_type": "fragment"
    }
   },
   "outputs": [
    {
     "data": {
      "text/html": [
       "<table>\n",
       "<thead><tr><th></th><th scope=col>No.</th><th scope=col>Player</th><th scope=col>Pos</th><th scope=col>Ht</th><th scope=col>Wt</th><th scope=col>Birth.Date</th><th scope=col>College</th></tr></thead>\n",
       "<tbody>\n",
       "\t<tr><th scope=row>7</th><td>23                                    </td><td>Michael Jordan                        </td><td>SG                                    </td><td>6-6                                   </td><td>195                                   </td><td>February 17, 1963                     </td><td>University of North Carolina          </td></tr>\n",
       "\t<tr><th scope=row>11</th><td>33                                    </td><td>Scottie Pippen                        </td><td>SF                                    </td><td>6-8                                   </td><td>210                                   </td><td>September 25, 1965                    </td><td>University of Central Arkansas        </td></tr>\n",
       "\t<tr><th scope=row>12</th><td>91                                    </td><td>Dennis Rodman                         </td><td>PF                                    </td><td>6-7                                   </td><td>210                                   </td><td>May 13, 1961                          </td><td>Southeastern Oklahoma State University</td></tr>\n",
       "</tbody>\n",
       "</table>\n"
      ],
      "text/latex": [
       "\\begin{tabular}{r|lllllll}\n",
       "  & No. & Player & Pos & Ht & Wt & Birth.Date & College\\\\\n",
       "\\hline\n",
       "\t7 & 23                                     & Michael Jordan                         & SG                                     & 6-6                                    & 195                                    & February 17, 1963                      & University of North Carolina          \\\\\n",
       "\t11 & 33                                     & Scottie Pippen                         & SF                                     & 6-8                                    & 210                                    & September 25, 1965                     & University of Central Arkansas        \\\\\n",
       "\t12 & 91                                     & Dennis Rodman                          & PF                                     & 6-7                                    & 210                                    & May 13, 1961                           & Southeastern Oklahoma State University\\\\\n",
       "\\end{tabular}\n"
      ],
      "text/markdown": [
       "\n",
       "| <!--/--> | No. | Player | Pos | Ht | Wt | Birth.Date | College |\n",
       "|---|---|---|---|---|---|---|---|\n",
       "| 7 | 23                                     | Michael Jordan                         | SG                                     | 6-6                                    | 195                                    | February 17, 1963                      | University of North Carolina           |\n",
       "| 11 | 33                                     | Scottie Pippen                         | SF                                     | 6-8                                    | 210                                    | September 25, 1965                     | University of Central Arkansas         |\n",
       "| 12 | 91                                     | Dennis Rodman                          | PF                                     | 6-7                                    | 210                                    | May 13, 1961                           | Southeastern Oklahoma State University |\n",
       "\n"
      ],
      "text/plain": [
       "   No. Player         Pos Ht  Wt  Birth.Date        \n",
       "7  23  Michael Jordan SG  6-6 195 February 17, 1963 \n",
       "11 33  Scottie Pippen SF  6-8 210 September 25, 1965\n",
       "12 91  Dennis Rodman  PF  6-7 210 May 13, 1961      \n",
       "   College                               \n",
       "7  University of North Carolina          \n",
       "11 University of Central Arkansas        \n",
       "12 Southeastern Oklahoma State University"
      ]
     },
     "metadata": {},
     "output_type": "display_data"
    }
   ],
   "source": [
    "ans"
   ]
  },
  {
   "cell_type": "markdown",
   "metadata": {
    "slideshow": {
     "slide_type": "slide"
    }
   },
   "source": [
    "## `matrix` 與 `array`"
   ]
  },
  {
   "cell_type": "markdown",
   "metadata": {
    "slideshow": {
     "slide_type": "subslide"
    }
   },
   "source": [
    "## 使用 `matrix()` 函數創建矩陣"
   ]
  },
  {
   "cell_type": "code",
   "execution_count": 34,
   "metadata": {},
   "outputs": [
    {
     "data": {
      "text/html": [
       "'matrix'"
      ],
      "text/latex": [
       "'matrix'"
      ],
      "text/markdown": [
       "'matrix'"
      ],
      "text/plain": [
       "[1] \"matrix\""
      ]
     },
     "metadata": {},
     "output_type": "display_data"
    }
   ],
   "source": [
    "my_mat <- matrix(1:4, nrow = 2)\n",
    "class(my_mat)"
   ]
  },
  {
   "cell_type": "markdown",
   "metadata": {
    "slideshow": {
     "slide_type": "subslide"
    }
   },
   "source": [
    "## 簡單的矩陣運算符\n",
    "\n",
    "- `*` 用來處理元素級別的乘法\n",
    "- `t` 用來轉置\n",
    "- `%*%` 用來處理矩陣相乘\n",
    "\n",
    "$$AB_{i, j} = \\sum{A_{i, k}B_{k, j}}$$"
   ]
  },
  {
   "cell_type": "code",
   "execution_count": 35,
   "metadata": {},
   "outputs": [
    {
     "data": {
      "text/html": [
       "<table>\n",
       "<tbody>\n",
       "\t<tr><td> 1</td></tr>\n",
       "\t<tr><td> 4</td></tr>\n",
       "\t<tr><td> 9</td></tr>\n",
       "\t<tr><td>16</td></tr>\n",
       "</tbody>\n",
       "</table>\n"
      ],
      "text/latex": [
       "\\begin{tabular}{l}\n",
       "\t  1\\\\\n",
       "\t  4\\\\\n",
       "\t  9\\\\\n",
       "\t 16\\\\\n",
       "\\end{tabular}\n"
      ],
      "text/markdown": [
       "\n",
       "|  1 |\n",
       "|  4 |\n",
       "|  9 |\n",
       "| 16 |\n",
       "\n"
      ],
      "text/plain": [
       "     [,1]\n",
       "[1,]  1  \n",
       "[2,]  4  \n",
       "[3,]  9  \n",
       "[4,] 16  "
      ]
     },
     "metadata": {},
     "output_type": "display_data"
    },
    {
     "data": {
      "text/html": [
       "<table>\n",
       "<tbody>\n",
       "\t<tr><td>30</td></tr>\n",
       "</tbody>\n",
       "</table>\n"
      ],
      "text/latex": [
       "\\begin{tabular}{l}\n",
       "\t 30\\\\\n",
       "\\end{tabular}\n"
      ],
      "text/markdown": [
       "\n",
       "| 30 |\n",
       "\n"
      ],
      "text/plain": [
       "     [,1]\n",
       "[1,] 30  "
      ]
     },
     "metadata": {},
     "output_type": "display_data"
    }
   ],
   "source": [
    "my_mat <- matrix(1:4)\n",
    "my_mat * my_mat\n",
    "t(my_mat) %*% my_mat"
   ]
  },
  {
   "cell_type": "markdown",
   "metadata": {
    "slideshow": {
     "slide_type": "subslide"
    }
   },
   "source": [
    "## 隨堂練習：創建一個九九乘法矩陣"
   ]
  },
  {
   "cell_type": "code",
   "execution_count": 36,
   "metadata": {
    "slideshow": {
     "slide_type": "skip"
    }
   },
   "outputs": [],
   "source": [
    "ans <- matrix(1:9, ncol = 1) %*% matrix(1:9, ncol=9)"
   ]
  },
  {
   "cell_type": "code",
   "execution_count": 37,
   "metadata": {
    "slideshow": {
     "slide_type": "fragment"
    }
   },
   "outputs": [
    {
     "data": {
      "text/html": [
       "<table>\n",
       "<tbody>\n",
       "\t<tr><td>1 </td><td> 2</td><td> 3</td><td> 4</td><td> 5</td><td> 6</td><td> 7</td><td> 8</td><td> 9</td></tr>\n",
       "\t<tr><td>2 </td><td> 4</td><td> 6</td><td> 8</td><td>10</td><td>12</td><td>14</td><td>16</td><td>18</td></tr>\n",
       "\t<tr><td>3 </td><td> 6</td><td> 9</td><td>12</td><td>15</td><td>18</td><td>21</td><td>24</td><td>27</td></tr>\n",
       "\t<tr><td>4 </td><td> 8</td><td>12</td><td>16</td><td>20</td><td>24</td><td>28</td><td>32</td><td>36</td></tr>\n",
       "\t<tr><td>5 </td><td>10</td><td>15</td><td>20</td><td>25</td><td>30</td><td>35</td><td>40</td><td>45</td></tr>\n",
       "\t<tr><td>6 </td><td>12</td><td>18</td><td>24</td><td>30</td><td>36</td><td>42</td><td>48</td><td>54</td></tr>\n",
       "\t<tr><td>7 </td><td>14</td><td>21</td><td>28</td><td>35</td><td>42</td><td>49</td><td>56</td><td>63</td></tr>\n",
       "\t<tr><td>8 </td><td>16</td><td>24</td><td>32</td><td>40</td><td>48</td><td>56</td><td>64</td><td>72</td></tr>\n",
       "\t<tr><td>9 </td><td>18</td><td>27</td><td>36</td><td>45</td><td>54</td><td>63</td><td>72</td><td>81</td></tr>\n",
       "</tbody>\n",
       "</table>\n"
      ],
      "text/latex": [
       "\\begin{tabular}{lllllllll}\n",
       "\t 1  &  2 &  3 &  4 &  5 &  6 &  7 &  8 &  9\\\\\n",
       "\t 2  &  4 &  6 &  8 & 10 & 12 & 14 & 16 & 18\\\\\n",
       "\t 3  &  6 &  9 & 12 & 15 & 18 & 21 & 24 & 27\\\\\n",
       "\t 4  &  8 & 12 & 16 & 20 & 24 & 28 & 32 & 36\\\\\n",
       "\t 5  & 10 & 15 & 20 & 25 & 30 & 35 & 40 & 45\\\\\n",
       "\t 6  & 12 & 18 & 24 & 30 & 36 & 42 & 48 & 54\\\\\n",
       "\t 7  & 14 & 21 & 28 & 35 & 42 & 49 & 56 & 63\\\\\n",
       "\t 8  & 16 & 24 & 32 & 40 & 48 & 56 & 64 & 72\\\\\n",
       "\t 9  & 18 & 27 & 36 & 45 & 54 & 63 & 72 & 81\\\\\n",
       "\\end{tabular}\n"
      ],
      "text/markdown": [
       "\n",
       "| 1  |  2 |  3 |  4 |  5 |  6 |  7 |  8 |  9 |\n",
       "| 2  |  4 |  6 |  8 | 10 | 12 | 14 | 16 | 18 |\n",
       "| 3  |  6 |  9 | 12 | 15 | 18 | 21 | 24 | 27 |\n",
       "| 4  |  8 | 12 | 16 | 20 | 24 | 28 | 32 | 36 |\n",
       "| 5  | 10 | 15 | 20 | 25 | 30 | 35 | 40 | 45 |\n",
       "| 6  | 12 | 18 | 24 | 30 | 36 | 42 | 48 | 54 |\n",
       "| 7  | 14 | 21 | 28 | 35 | 42 | 49 | 56 | 63 |\n",
       "| 8  | 16 | 24 | 32 | 40 | 48 | 56 | 64 | 72 |\n",
       "| 9  | 18 | 27 | 36 | 45 | 54 | 63 | 72 | 81 |\n",
       "\n"
      ],
      "text/plain": [
       "      [,1] [,2] [,3] [,4] [,5] [,6] [,7] [,8] [,9]\n",
       " [1,] 1     2    3    4    5    6    7    8    9  \n",
       " [2,] 2     4    6    8   10   12   14   16   18  \n",
       " [3,] 3     6    9   12   15   18   21   24   27  \n",
       " [4,] 4     8   12   16   20   24   28   32   36  \n",
       " [5,] 5    10   15   20   25   30   35   40   45  \n",
       " [6,] 6    12   18   24   30   36   42   48   54  \n",
       " [7,] 7    14   21   28   35   42   49   56   63  \n",
       " [8,] 8    16   24   32   40   48   56   64   72  \n",
       " [9,] 9    18   27   36   45   54   63   72   81  "
      ]
     },
     "metadata": {},
     "output_type": "display_data"
    }
   ],
   "source": [
    "ans"
   ]
  },
  {
   "cell_type": "markdown",
   "metadata": {
    "slideshow": {
     "slide_type": "subslide"
    }
   },
   "source": [
    "## 使用 `array()` 函數創建 `array`"
   ]
  },
  {
   "cell_type": "code",
   "execution_count": 38,
   "metadata": {
    "slideshow": {
     "slide_type": "subslide"
    }
   },
   "outputs": [
    {
     "data": {
      "text/html": [
       "<ol class=list-inline>\n",
       "\t<li>1</li>\n",
       "\t<li>2</li>\n",
       "\t<li>3</li>\n",
       "\t<li>4</li>\n",
       "\t<li>5</li>\n",
       "\t<li>6</li>\n",
       "\t<li>7</li>\n",
       "\t<li>8</li>\n",
       "\t<li>9</li>\n",
       "\t<li>10</li>\n",
       "\t<li>11</li>\n",
       "\t<li>12</li>\n",
       "\t<li>13</li>\n",
       "\t<li>14</li>\n",
       "\t<li>15</li>\n",
       "\t<li>16</li>\n",
       "\t<li>17</li>\n",
       "\t<li>18</li>\n",
       "\t<li>19</li>\n",
       "\t<li>20</li>\n",
       "\t<li>21</li>\n",
       "\t<li>22</li>\n",
       "\t<li>23</li>\n",
       "\t<li>24</li>\n",
       "</ol>\n"
      ],
      "text/latex": [
       "\\begin{enumerate*}\n",
       "\\item 1\n",
       "\\item 2\n",
       "\\item 3\n",
       "\\item 4\n",
       "\\item 5\n",
       "\\item 6\n",
       "\\item 7\n",
       "\\item 8\n",
       "\\item 9\n",
       "\\item 10\n",
       "\\item 11\n",
       "\\item 12\n",
       "\\item 13\n",
       "\\item 14\n",
       "\\item 15\n",
       "\\item 16\n",
       "\\item 17\n",
       "\\item 18\n",
       "\\item 19\n",
       "\\item 20\n",
       "\\item 21\n",
       "\\item 22\n",
       "\\item 23\n",
       "\\item 24\n",
       "\\end{enumerate*}\n"
      ],
      "text/markdown": [
       "1. 1\n",
       "2. 2\n",
       "3. 3\n",
       "4. 4\n",
       "5. 5\n",
       "6. 6\n",
       "7. 7\n",
       "8. 8\n",
       "9. 9\n",
       "10. 10\n",
       "11. 11\n",
       "12. 12\n",
       "13. 13\n",
       "14. 14\n",
       "15. 15\n",
       "16. 16\n",
       "17. 17\n",
       "18. 18\n",
       "19. 19\n",
       "20. 20\n",
       "21. 21\n",
       "22. 22\n",
       "23. 23\n",
       "24. 24\n",
       "\n",
       "\n"
      ],
      "text/plain": [
       ", , 1\n",
       "\n",
       "     [,1] [,2] [,3]\n",
       "[1,]    1    5    9\n",
       "[2,]    2    6   10\n",
       "[3,]    3    7   11\n",
       "[4,]    4    8   12\n",
       "\n",
       ", , 2\n",
       "\n",
       "     [,1] [,2] [,3]\n",
       "[1,]   13   17   21\n",
       "[2,]   14   18   22\n",
       "[3,]   15   19   23\n",
       "[4,]   16   20   24\n"
      ]
     },
     "metadata": {},
     "output_type": "display_data"
    },
    {
     "data": {
      "text/html": [
       "'array'"
      ],
      "text/latex": [
       "'array'"
      ],
      "text/markdown": [
       "'array'"
      ],
      "text/plain": [
       "[1] \"array\""
      ]
     },
     "metadata": {},
     "output_type": "display_data"
    },
    {
     "data": {
      "text/html": [
       "<ol class=list-inline>\n",
       "\t<li>1</li>\n",
       "\t<li>2</li>\n",
       "\t<li>3</li>\n",
       "\t<li>4</li>\n",
       "\t<li>5</li>\n",
       "\t<li>6</li>\n",
       "\t<li>7</li>\n",
       "\t<li>8</li>\n",
       "\t<li>9</li>\n",
       "\t<li>10</li>\n",
       "\t<li>11</li>\n",
       "\t<li>12</li>\n",
       "\t<li>13</li>\n",
       "\t<li>14</li>\n",
       "\t<li>15</li>\n",
       "\t<li>16</li>\n",
       "\t<li>17</li>\n",
       "\t<li>18</li>\n",
       "\t<li>19</li>\n",
       "\t<li>20</li>\n",
       "\t<li>21</li>\n",
       "\t<li>22</li>\n",
       "\t<li>23</li>\n",
       "\t<li>24</li>\n",
       "</ol>\n"
      ],
      "text/latex": [
       "\\begin{enumerate*}\n",
       "\\item 1\n",
       "\\item 2\n",
       "\\item 3\n",
       "\\item 4\n",
       "\\item 5\n",
       "\\item 6\n",
       "\\item 7\n",
       "\\item 8\n",
       "\\item 9\n",
       "\\item 10\n",
       "\\item 11\n",
       "\\item 12\n",
       "\\item 13\n",
       "\\item 14\n",
       "\\item 15\n",
       "\\item 16\n",
       "\\item 17\n",
       "\\item 18\n",
       "\\item 19\n",
       "\\item 20\n",
       "\\item 21\n",
       "\\item 22\n",
       "\\item 23\n",
       "\\item 24\n",
       "\\end{enumerate*}\n"
      ],
      "text/markdown": [
       "1. 1\n",
       "2. 2\n",
       "3. 3\n",
       "4. 4\n",
       "5. 5\n",
       "6. 6\n",
       "7. 7\n",
       "8. 8\n",
       "9. 9\n",
       "10. 10\n",
       "11. 11\n",
       "12. 12\n",
       "13. 13\n",
       "14. 14\n",
       "15. 15\n",
       "16. 16\n",
       "17. 17\n",
       "18. 18\n",
       "19. 19\n",
       "20. 20\n",
       "21. 21\n",
       "22. 22\n",
       "23. 23\n",
       "24. 24\n",
       "\n",
       "\n"
      ],
      "text/plain": [
       ", , 1\n",
       "\n",
       "     [,1] [,2] [,3]\n",
       "[1,]    1    5    9\n",
       "[2,]    2    6   10\n",
       "[3,]    3    7   11\n",
       "[4,]    4    8   12\n",
       "\n",
       ", , 2\n",
       "\n",
       "     [,1] [,2] [,3]\n",
       "[1,]   13   17   21\n",
       "[2,]   14   18   22\n",
       "[3,]   15   19   23\n",
       "[4,]   16   20   24\n"
      ]
     },
     "metadata": {},
     "output_type": "display_data"
    }
   ],
   "source": [
    "my_arr <- array(1:24, dim = c(4, 3, 2))\n",
    "my_arr\n",
    "class(my_arr)\n",
    "my_arr"
   ]
  }
 ],
 "metadata": {
  "celltoolbar": "Slideshow",
  "kernelspec": {
   "display_name": "R",
   "language": "R",
   "name": "ir"
  },
  "language_info": {
   "codemirror_mode": "r",
   "file_extension": ".r",
   "mimetype": "text/x-r-source",
   "name": "R",
   "pygments_lexer": "r",
   "version": "3.5.2"
  }
 },
 "nbformat": 4,
 "nbformat_minor": 2
}
