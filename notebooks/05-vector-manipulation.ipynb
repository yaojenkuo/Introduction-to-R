{
 "cells": [
  {
   "cell_type": "markdown",
   "metadata": {
    "slideshow": {
     "slide_type": "slide"
    }
   },
   "source": [
    "# 成為初級資料分析師 | R 程式設計與資料科學應用\n",
    "\n",
    "> 向量操作\n",
    "\n",
    "## 郭耀仁"
   ]
  },
  {
   "cell_type": "markdown",
   "metadata": {
    "slideshow": {
     "slide_type": "subslide"
    }
   },
   "source": [
    "## 大綱\n",
    "\n",
    "- 什麼是向量\n",
    "- 創建\n",
    "- 索引與切割\n",
    "- 更新與刪除\n",
    "- 向量特性"
   ]
  },
  {
   "cell_type": "markdown",
   "metadata": {
    "slideshow": {
     "slide_type": "slide"
    }
   },
   "source": [
    "## 什麼是向量"
   ]
  },
  {
   "cell_type": "markdown",
   "metadata": {
    "slideshow": {
     "slide_type": "subslide"
    }
   },
   "source": [
    "## 截至目前為止，我們都在面對長度為 1 的向量\n",
    "\n",
    "為什麼在 Console 印資料前面都會顯示 `[1]`？"
   ]
  },
  {
   "cell_type": "code",
   "execution_count": 1,
   "metadata": {},
   "outputs": [
    {
     "name": "stdout",
     "output_type": "stream",
     "text": [
      "[1] \"Hello world\"\n"
     ]
    }
   ],
   "source": [
    "print(\"Hello world\")"
   ]
  },
  {
   "cell_type": "markdown",
   "metadata": {
    "slideshow": {
     "slide_type": "subslide"
    }
   },
   "source": [
    "## 對於 R 語言來說，最小的資料單位是長度為 1 的向量，而不是純量"
   ]
  },
  {
   "cell_type": "markdown",
   "metadata": {
    "slideshow": {
     "slide_type": "slide"
    }
   },
   "source": [
    "## 創建"
   ]
  },
  {
   "cell_type": "markdown",
   "metadata": {
    "slideshow": {
     "slide_type": "subslide"
    }
   },
   "source": [
    "## 使用 `c()` 函數來創建長度大於 1 的向量"
   ]
  },
  {
   "cell_type": "code",
   "execution_count": 2,
   "metadata": {
    "slideshow": {
     "slide_type": "-"
    }
   },
   "outputs": [
    {
     "data": {
      "text/html": [
       "<ol class=list-inline>\n",
       "\t<li>'The Avengers'</li>\n",
       "\t<li>'Avengers: Age of Ultron'</li>\n",
       "\t<li>'Avengers: Infinity War'</li>\n",
       "\t<li>'Avengers: Endgame'</li>\n",
       "</ol>\n"
      ],
      "text/latex": [
       "\\begin{enumerate*}\n",
       "\\item 'The Avengers'\n",
       "\\item 'Avengers: Age of Ultron'\n",
       "\\item 'Avengers: Infinity War'\n",
       "\\item 'Avengers: Endgame'\n",
       "\\end{enumerate*}\n"
      ],
      "text/markdown": [
       "1. 'The Avengers'\n",
       "2. 'Avengers: Age of Ultron'\n",
       "3. 'Avengers: Infinity War'\n",
       "4. 'Avengers: Endgame'\n",
       "\n",
       "\n"
      ],
      "text/plain": [
       "[1] \"The Avengers\"            \"Avengers: Age of Ultron\"\n",
       "[3] \"Avengers: Infinity War\"  \"Avengers: Endgame\"      "
      ]
     },
     "metadata": {},
     "output_type": "display_data"
    },
    {
     "data": {
      "text/html": [
       "<ol class=list-inline>\n",
       "\t<li>8.1</li>\n",
       "\t<li>7.3</li>\n",
       "\t<li>8.5</li>\n",
       "\t<li>8.7</li>\n",
       "</ol>\n"
      ],
      "text/latex": [
       "\\begin{enumerate*}\n",
       "\\item 8.1\n",
       "\\item 7.3\n",
       "\\item 8.5\n",
       "\\item 8.7\n",
       "\\end{enumerate*}\n"
      ],
      "text/markdown": [
       "1. 8.1\n",
       "2. 7.3\n",
       "3. 8.5\n",
       "4. 8.7\n",
       "\n",
       "\n"
      ],
      "text/plain": [
       "[1] 8.1 7.3 8.5 8.7"
      ]
     },
     "metadata": {},
     "output_type": "display_data"
    }
   ],
   "source": [
    "avengers <- c(\"The Avengers\", \"Avengers: Age of Ultron\", \"Avengers: Infinity War\", \"Avengers: Endgame\")\n",
    "avengers_ratings <- c(8.1, 7.3, 8.5, 8.7)\n",
    "avengers\n",
    "avengers_ratings"
   ]
  },
  {
   "cell_type": "markdown",
   "metadata": {
    "slideshow": {
     "slide_type": "subslide"
    }
   },
   "source": [
    "## 快速創建數值向量的函數\n",
    "\n",
    "- `seq()`\n",
    "- `rep()`"
   ]
  },
  {
   "cell_type": "code",
   "execution_count": 3,
   "metadata": {
    "slideshow": {
     "slide_type": "subslide"
    }
   },
   "outputs": [
    {
     "data": {
      "text/html": [
       "<ol class=list-inline>\n",
       "\t<li>11</li>\n",
       "\t<li>12</li>\n",
       "\t<li>13</li>\n",
       "\t<li>14</li>\n",
       "\t<li>15</li>\n",
       "\t<li>16</li>\n",
       "\t<li>17</li>\n",
       "\t<li>18</li>\n",
       "\t<li>19</li>\n",
       "\t<li>20</li>\n",
       "\t<li>21</li>\n",
       "</ol>\n"
      ],
      "text/latex": [
       "\\begin{enumerate*}\n",
       "\\item 11\n",
       "\\item 12\n",
       "\\item 13\n",
       "\\item 14\n",
       "\\item 15\n",
       "\\item 16\n",
       "\\item 17\n",
       "\\item 18\n",
       "\\item 19\n",
       "\\item 20\n",
       "\\item 21\n",
       "\\end{enumerate*}\n"
      ],
      "text/markdown": [
       "1. 11\n",
       "2. 12\n",
       "3. 13\n",
       "4. 14\n",
       "5. 15\n",
       "6. 16\n",
       "7. 17\n",
       "8. 18\n",
       "9. 19\n",
       "10. 20\n",
       "11. 21\n",
       "\n",
       "\n"
      ],
      "text/plain": [
       " [1] 11 12 13 14 15 16 17 18 19 20 21"
      ]
     },
     "metadata": {},
     "output_type": "display_data"
    },
    {
     "data": {
      "text/html": [
       "<ol class=list-inline>\n",
       "\t<li>11</li>\n",
       "\t<li>13</li>\n",
       "\t<li>15</li>\n",
       "\t<li>17</li>\n",
       "\t<li>19</li>\n",
       "\t<li>21</li>\n",
       "</ol>\n"
      ],
      "text/latex": [
       "\\begin{enumerate*}\n",
       "\\item 11\n",
       "\\item 13\n",
       "\\item 15\n",
       "\\item 17\n",
       "\\item 19\n",
       "\\item 21\n",
       "\\end{enumerate*}\n"
      ],
      "text/markdown": [
       "1. 11\n",
       "2. 13\n",
       "3. 15\n",
       "4. 17\n",
       "5. 19\n",
       "6. 21\n",
       "\n",
       "\n"
      ],
      "text/plain": [
       "[1] 11 13 15 17 19 21"
      ]
     },
     "metadata": {},
     "output_type": "display_data"
    },
    {
     "data": {
      "text/html": [
       "<ol class=list-inline>\n",
       "\t<li>11</li>\n",
       "\t<li>13</li>\n",
       "\t<li>15</li>\n",
       "\t<li>17</li>\n",
       "\t<li>19</li>\n",
       "\t<li>21</li>\n",
       "</ol>\n"
      ],
      "text/latex": [
       "\\begin{enumerate*}\n",
       "\\item 11\n",
       "\\item 13\n",
       "\\item 15\n",
       "\\item 17\n",
       "\\item 19\n",
       "\\item 21\n",
       "\\end{enumerate*}\n"
      ],
      "text/markdown": [
       "1. 11\n",
       "2. 13\n",
       "3. 15\n",
       "4. 17\n",
       "5. 19\n",
       "6. 21\n",
       "\n",
       "\n"
      ],
      "text/plain": [
       "[1] 11 13 15 17 19 21"
      ]
     },
     "metadata": {},
     "output_type": "display_data"
    }
   ],
   "source": [
    "seq(from = 11, to = 21) # same as 11:21\n",
    "seq(from = 11, to = 21, by = 2)\n",
    "seq(from = 11, to = 21, length.out = 6)"
   ]
  },
  {
   "cell_type": "code",
   "execution_count": 4,
   "metadata": {
    "slideshow": {
     "slide_type": "subslide"
    }
   },
   "outputs": [
    {
     "data": {
      "text/html": [
       "<ol class=list-inline>\n",
       "\t<li>5</li>\n",
       "\t<li>5</li>\n",
       "\t<li>5</li>\n",
       "\t<li>5</li>\n",
       "\t<li>5</li>\n",
       "\t<li>5</li>\n",
       "</ol>\n"
      ],
      "text/latex": [
       "\\begin{enumerate*}\n",
       "\\item 5\n",
       "\\item 5\n",
       "\\item 5\n",
       "\\item 5\n",
       "\\item 5\n",
       "\\item 5\n",
       "\\end{enumerate*}\n"
      ],
      "text/markdown": [
       "1. 5\n",
       "2. 5\n",
       "3. 5\n",
       "4. 5\n",
       "5. 5\n",
       "6. 5\n",
       "\n",
       "\n"
      ],
      "text/plain": [
       "[1] 5 5 5 5 5 5"
      ]
     },
     "metadata": {},
     "output_type": "display_data"
    },
    {
     "data": {
      "text/html": [
       "<ol class=list-inline>\n",
       "\t<li>'5566'</li>\n",
       "\t<li>'5566'</li>\n",
       "\t<li>'5566'</li>\n",
       "\t<li>'5566'</li>\n",
       "\t<li>'5566'</li>\n",
       "</ol>\n"
      ],
      "text/latex": [
       "\\begin{enumerate*}\n",
       "\\item '5566'\n",
       "\\item '5566'\n",
       "\\item '5566'\n",
       "\\item '5566'\n",
       "\\item '5566'\n",
       "\\end{enumerate*}\n"
      ],
      "text/markdown": [
       "1. '5566'\n",
       "2. '5566'\n",
       "3. '5566'\n",
       "4. '5566'\n",
       "5. '5566'\n",
       "\n",
       "\n"
      ],
      "text/plain": [
       "[1] \"5566\" \"5566\" \"5566\" \"5566\" \"5566\""
      ]
     },
     "metadata": {},
     "output_type": "display_data"
    },
    {
     "data": {
      "text/html": [
       "<ol class=list-inline>\n",
       "\t<li>TRUE</li>\n",
       "\t<li>TRUE</li>\n",
       "\t<li>TRUE</li>\n",
       "\t<li>TRUE</li>\n",
       "</ol>\n"
      ],
      "text/latex": [
       "\\begin{enumerate*}\n",
       "\\item TRUE\n",
       "\\item TRUE\n",
       "\\item TRUE\n",
       "\\item TRUE\n",
       "\\end{enumerate*}\n"
      ],
      "text/markdown": [
       "1. TRUE\n",
       "2. TRUE\n",
       "3. TRUE\n",
       "4. TRUE\n",
       "\n",
       "\n"
      ],
      "text/plain": [
       "[1] TRUE TRUE TRUE TRUE"
      ]
     },
     "metadata": {},
     "output_type": "display_data"
    }
   ],
   "source": [
    "rep(5, times = 6)\n",
    "rep(\"5566\", times = 5)\n",
    "rep(TRUE, times = 4)"
   ]
  },
  {
   "cell_type": "markdown",
   "metadata": {
    "slideshow": {
     "slide_type": "slide"
    }
   },
   "source": [
    "## 索引與切割"
   ]
  },
  {
   "cell_type": "markdown",
   "metadata": {
    "slideshow": {
     "slide_type": "subslide"
    }
   },
   "source": [
    "## 使用 `length()` 函數得知向量長度"
   ]
  },
  {
   "cell_type": "code",
   "execution_count": 5,
   "metadata": {},
   "outputs": [
    {
     "data": {
      "text/html": [
       "4"
      ],
      "text/latex": [
       "4"
      ],
      "text/markdown": [
       "4"
      ],
      "text/plain": [
       "[1] 4"
      ]
     },
     "metadata": {},
     "output_type": "display_data"
    }
   ],
   "source": [
    "avengers <- c(\"The Avengers\", \"Avengers: Age of Ultron\", \"Avengers: Infinity War\", \"Avengers: Endgame\")\n",
    "length(avengers)"
   ]
  },
  {
   "cell_type": "markdown",
   "metadata": {
    "slideshow": {
     "slide_type": "subslide"
    }
   },
   "source": [
    "## 使用 `[INDEX]` 進行索引"
   ]
  },
  {
   "cell_type": "code",
   "execution_count": 6,
   "metadata": {},
   "outputs": [
    {
     "data": {
      "text/html": [
       "'The Avengers'"
      ],
      "text/latex": [
       "'The Avengers'"
      ],
      "text/markdown": [
       "'The Avengers'"
      ],
      "text/plain": [
       "[1] \"The Avengers\""
      ]
     },
     "metadata": {},
     "output_type": "display_data"
    },
    {
     "data": {
      "text/html": [
       "'Avengers: Age of Ultron'"
      ],
      "text/latex": [
       "'Avengers: Age of Ultron'"
      ],
      "text/markdown": [
       "'Avengers: Age of Ultron'"
      ],
      "text/plain": [
       "[1] \"Avengers: Age of Ultron\""
      ]
     },
     "metadata": {},
     "output_type": "display_data"
    },
    {
     "data": {
      "text/html": [
       "'Avengers: Infinity War'"
      ],
      "text/latex": [
       "'Avengers: Infinity War'"
      ],
      "text/markdown": [
       "'Avengers: Infinity War'"
      ],
      "text/plain": [
       "[1] \"Avengers: Infinity War\""
      ]
     },
     "metadata": {},
     "output_type": "display_data"
    },
    {
     "data": {
      "text/html": [
       "'Avengers: Endgame'"
      ],
      "text/latex": [
       "'Avengers: Endgame'"
      ],
      "text/markdown": [
       "'Avengers: Endgame'"
      ],
      "text/plain": [
       "[1] \"Avengers: Endgame\""
      ]
     },
     "metadata": {},
     "output_type": "display_data"
    }
   ],
   "source": [
    "avengers <- c(\"The Avengers\", \"Avengers: Age of Ultron\", \"Avengers: Infinity War\", \"Avengers: Endgame\")\n",
    "avengers[1]\n",
    "avengers[2]\n",
    "avengers[3]\n",
    "avengers[length(avengers)] # in case we have a long vector"
   ]
  },
  {
   "cell_type": "markdown",
   "metadata": {
    "slideshow": {
     "slide_type": "subslide"
    }
   },
   "source": [
    "## 使用 `[c(INDICES)]` 進行切割"
   ]
  },
  {
   "cell_type": "code",
   "execution_count": 7,
   "metadata": {},
   "outputs": [
    {
     "data": {
      "text/html": [
       "<ol class=list-inline>\n",
       "\t<li>'The Avengers'</li>\n",
       "\t<li>'Avengers: Age of Ultron'</li>\n",
       "\t<li>'Avengers: Infinity War'</li>\n",
       "\t<li>'Avengers: Endgame'</li>\n",
       "</ol>\n"
      ],
      "text/latex": [
       "\\begin{enumerate*}\n",
       "\\item 'The Avengers'\n",
       "\\item 'Avengers: Age of Ultron'\n",
       "\\item 'Avengers: Infinity War'\n",
       "\\item 'Avengers: Endgame'\n",
       "\\end{enumerate*}\n"
      ],
      "text/markdown": [
       "1. 'The Avengers'\n",
       "2. 'Avengers: Age of Ultron'\n",
       "3. 'Avengers: Infinity War'\n",
       "4. 'Avengers: Endgame'\n",
       "\n",
       "\n"
      ],
      "text/plain": [
       "[1] \"The Avengers\"            \"Avengers: Age of Ultron\"\n",
       "[3] \"Avengers: Infinity War\"  \"Avengers: Endgame\"      "
      ]
     },
     "metadata": {},
     "output_type": "display_data"
    },
    {
     "data": {
      "text/html": [
       "<ol class=list-inline>\n",
       "\t<li>'The Avengers'</li>\n",
       "\t<li>'Avengers: Infinity War'</li>\n",
       "\t<li>'Avengers: Endgame'</li>\n",
       "</ol>\n"
      ],
      "text/latex": [
       "\\begin{enumerate*}\n",
       "\\item 'The Avengers'\n",
       "\\item 'Avengers: Infinity War'\n",
       "\\item 'Avengers: Endgame'\n",
       "\\end{enumerate*}\n"
      ],
      "text/markdown": [
       "1. 'The Avengers'\n",
       "2. 'Avengers: Infinity War'\n",
       "3. 'Avengers: Endgame'\n",
       "\n",
       "\n"
      ],
      "text/plain": [
       "[1] \"The Avengers\"           \"Avengers: Infinity War\" \"Avengers: Endgame\"     "
      ]
     },
     "metadata": {},
     "output_type": "display_data"
    }
   ],
   "source": [
    "avengers <- c(\"The Avengers\", \"Avengers: Age of Ultron\", \"Avengers: Infinity War\", \"Avengers: Endgame\")\n",
    "avengers\n",
    "avengers[c(1, 3, 4)]"
   ]
  },
  {
   "cell_type": "markdown",
   "metadata": {
    "slideshow": {
     "slide_type": "subslide"
    }
   },
   "source": [
    "## 隨堂練習：使用負的索引值有什麼效果？"
   ]
  },
  {
   "cell_type": "code",
   "execution_count": 8,
   "metadata": {},
   "outputs": [],
   "source": [
    "# Try it yourself"
   ]
  },
  {
   "cell_type": "markdown",
   "metadata": {
    "slideshow": {
     "slide_type": "slide"
    }
   },
   "source": [
    "## 更新與刪除"
   ]
  },
  {
   "cell_type": "markdown",
   "metadata": {
    "slideshow": {
     "slide_type": "subslide"
    }
   },
   "source": [
    "## 修正向量資料"
   ]
  },
  {
   "cell_type": "code",
   "execution_count": 9,
   "metadata": {},
   "outputs": [
    {
     "data": {
      "text/html": [
       "<ol class=list-inline>\n",
       "\t<li>'the avengers'</li>\n",
       "\t<li>'Avengers: Age of Ultron'</li>\n",
       "\t<li>'Avengers: Infinity War'</li>\n",
       "\t<li>'Avengers: Endgame'</li>\n",
       "</ol>\n"
      ],
      "text/latex": [
       "\\begin{enumerate*}\n",
       "\\item 'the avengers'\n",
       "\\item 'Avengers: Age of Ultron'\n",
       "\\item 'Avengers: Infinity War'\n",
       "\\item 'Avengers: Endgame'\n",
       "\\end{enumerate*}\n"
      ],
      "text/markdown": [
       "1. 'the avengers'\n",
       "2. 'Avengers: Age of Ultron'\n",
       "3. 'Avengers: Infinity War'\n",
       "4. 'Avengers: Endgame'\n",
       "\n",
       "\n"
      ],
      "text/plain": [
       "[1] \"the avengers\"            \"Avengers: Age of Ultron\"\n",
       "[3] \"Avengers: Infinity War\"  \"Avengers: Endgame\"      "
      ]
     },
     "metadata": {},
     "output_type": "display_data"
    },
    {
     "data": {
      "text/html": [
       "<ol class=list-inline>\n",
       "\t<li>'The Avengers'</li>\n",
       "\t<li>'Avengers: Age of Ultron'</li>\n",
       "\t<li>'Avengers: Infinity War'</li>\n",
       "\t<li>'Avengers: Endgame'</li>\n",
       "</ol>\n"
      ],
      "text/latex": [
       "\\begin{enumerate*}\n",
       "\\item 'The Avengers'\n",
       "\\item 'Avengers: Age of Ultron'\n",
       "\\item 'Avengers: Infinity War'\n",
       "\\item 'Avengers: Endgame'\n",
       "\\end{enumerate*}\n"
      ],
      "text/markdown": [
       "1. 'The Avengers'\n",
       "2. 'Avengers: Age of Ultron'\n",
       "3. 'Avengers: Infinity War'\n",
       "4. 'Avengers: Endgame'\n",
       "\n",
       "\n"
      ],
      "text/plain": [
       "[1] \"The Avengers\"            \"Avengers: Age of Ultron\"\n",
       "[3] \"Avengers: Infinity War\"  \"Avengers: Endgame\"      "
      ]
     },
     "metadata": {},
     "output_type": "display_data"
    }
   ],
   "source": [
    "avengers <- c(\"the avengers\", \"Avengers: Age of Ultron\", \"Avengers: Infinity War\", \"Avengers: Endgame\")\n",
    "avengers\n",
    "avengers[1] <- \"The Avengers\"\n",
    "avengers"
   ]
  },
  {
   "cell_type": "markdown",
   "metadata": {
    "slideshow": {
     "slide_type": "subslide"
    }
   },
   "source": [
    "## 新增向量資料"
   ]
  },
  {
   "cell_type": "code",
   "execution_count": 10,
   "metadata": {},
   "outputs": [
    {
     "data": {
      "text/html": [
       "<ol class=list-inline>\n",
       "\t<li>'The Avengers'</li>\n",
       "\t<li>'Avengers: Age of Ultron'</li>\n",
       "\t<li>'Avengers: Infinity War'</li>\n",
       "</ol>\n"
      ],
      "text/latex": [
       "\\begin{enumerate*}\n",
       "\\item 'The Avengers'\n",
       "\\item 'Avengers: Age of Ultron'\n",
       "\\item 'Avengers: Infinity War'\n",
       "\\end{enumerate*}\n"
      ],
      "text/markdown": [
       "1. 'The Avengers'\n",
       "2. 'Avengers: Age of Ultron'\n",
       "3. 'Avengers: Infinity War'\n",
       "\n",
       "\n"
      ],
      "text/plain": [
       "[1] \"The Avengers\"            \"Avengers: Age of Ultron\"\n",
       "[3] \"Avengers: Infinity War\" "
      ]
     },
     "metadata": {},
     "output_type": "display_data"
    },
    {
     "data": {
      "text/html": [
       "<ol class=list-inline>\n",
       "\t<li>'The Avengers'</li>\n",
       "\t<li>'Avengers: Age of Ultron'</li>\n",
       "\t<li>'Avengers: Infinity War'</li>\n",
       "\t<li>'Avengers: Endgame'</li>\n",
       "</ol>\n"
      ],
      "text/latex": [
       "\\begin{enumerate*}\n",
       "\\item 'The Avengers'\n",
       "\\item 'Avengers: Age of Ultron'\n",
       "\\item 'Avengers: Infinity War'\n",
       "\\item 'Avengers: Endgame'\n",
       "\\end{enumerate*}\n"
      ],
      "text/markdown": [
       "1. 'The Avengers'\n",
       "2. 'Avengers: Age of Ultron'\n",
       "3. 'Avengers: Infinity War'\n",
       "4. 'Avengers: Endgame'\n",
       "\n",
       "\n"
      ],
      "text/plain": [
       "[1] \"The Avengers\"            \"Avengers: Age of Ultron\"\n",
       "[3] \"Avengers: Infinity War\"  \"Avengers: Endgame\"      "
      ]
     },
     "metadata": {},
     "output_type": "display_data"
    }
   ],
   "source": [
    "avengers <- c(\"The Avengers\", \"Avengers: Age of Ultron\", \"Avengers: Infinity War\")\n",
    "avengers\n",
    "avengers <- c(avengers, \"Avengers: Endgame\")\n",
    "avengers"
   ]
  },
  {
   "cell_type": "markdown",
   "metadata": {
    "slideshow": {
     "slide_type": "subslide"
    }
   },
   "source": [
    "## 刪除向量資料"
   ]
  },
  {
   "cell_type": "code",
   "execution_count": 11,
   "metadata": {},
   "outputs": [
    {
     "data": {
      "text/html": [
       "<ol class=list-inline>\n",
       "\t<li>'The Avengers'</li>\n",
       "\t<li>'Avengers: Age of Ultron'</li>\n",
       "\t<li>'Avengers: Infinity War'</li>\n",
       "\t<li>'Avengers: Endgame'</li>\n",
       "</ol>\n"
      ],
      "text/latex": [
       "\\begin{enumerate*}\n",
       "\\item 'The Avengers'\n",
       "\\item 'Avengers: Age of Ultron'\n",
       "\\item 'Avengers: Infinity War'\n",
       "\\item 'Avengers: Endgame'\n",
       "\\end{enumerate*}\n"
      ],
      "text/markdown": [
       "1. 'The Avengers'\n",
       "2. 'Avengers: Age of Ultron'\n",
       "3. 'Avengers: Infinity War'\n",
       "4. 'Avengers: Endgame'\n",
       "\n",
       "\n"
      ],
      "text/plain": [
       "[1] \"The Avengers\"            \"Avengers: Age of Ultron\"\n",
       "[3] \"Avengers: Infinity War\"  \"Avengers: Endgame\"      "
      ]
     },
     "metadata": {},
     "output_type": "display_data"
    },
    {
     "data": {
      "text/html": [
       "<ol class=list-inline>\n",
       "\t<li>'The Avengers'</li>\n",
       "\t<li>'Avengers: Infinity War'</li>\n",
       "\t<li>'Avengers: Endgame'</li>\n",
       "</ol>\n"
      ],
      "text/latex": [
       "\\begin{enumerate*}\n",
       "\\item 'The Avengers'\n",
       "\\item 'Avengers: Infinity War'\n",
       "\\item 'Avengers: Endgame'\n",
       "\\end{enumerate*}\n"
      ],
      "text/markdown": [
       "1. 'The Avengers'\n",
       "2. 'Avengers: Infinity War'\n",
       "3. 'Avengers: Endgame'\n",
       "\n",
       "\n"
      ],
      "text/plain": [
       "[1] \"The Avengers\"           \"Avengers: Infinity War\" \"Avengers: Endgame\"     "
      ]
     },
     "metadata": {},
     "output_type": "display_data"
    }
   ],
   "source": [
    "avengers <- c(\"The Avengers\", \"Avengers: Age of Ultron\", \"Avengers: Infinity War\", \"Avengers: Endgame\")\n",
    "avengers\n",
    "avengers <- avengers[-2]\n",
    "avengers"
   ]
  },
  {
   "cell_type": "markdown",
   "metadata": {
    "slideshow": {
     "slide_type": "slide"
    }
   },
   "source": [
    "## 向量特性"
   ]
  },
  {
   "cell_type": "markdown",
   "metadata": {
    "slideshow": {
     "slide_type": "subslide"
    }
   },
   "source": [
    "## 向量有這幾個值得注意的特性\n",
    "\n",
    "- 元素級別（element-wise）的運算\n",
    "- 同樣的 `class`\n",
    "- 支援 `logical` 的資料篩選"
   ]
  },
  {
   "cell_type": "markdown",
   "metadata": {
    "slideshow": {
     "slide_type": "subslide"
    }
   },
   "source": [
    "## 元素級別（element-wise）的運算"
   ]
  },
  {
   "cell_type": "code",
   "execution_count": 12,
   "metadata": {},
   "outputs": [
    {
     "data": {
      "text/html": [
       "<ol class=list-inline>\n",
       "\t<li>TRUE</li>\n",
       "\t<li>FALSE</li>\n",
       "\t<li>TRUE</li>\n",
       "\t<li>TRUE</li>\n",
       "</ol>\n"
      ],
      "text/latex": [
       "\\begin{enumerate*}\n",
       "\\item TRUE\n",
       "\\item FALSE\n",
       "\\item TRUE\n",
       "\\item TRUE\n",
       "\\end{enumerate*}\n"
      ],
      "text/markdown": [
       "1. TRUE\n",
       "2. FALSE\n",
       "3. TRUE\n",
       "4. TRUE\n",
       "\n",
       "\n"
      ],
      "text/plain": [
       "[1]  TRUE FALSE  TRUE  TRUE"
      ]
     },
     "metadata": {},
     "output_type": "display_data"
    }
   ],
   "source": [
    "avengers_ratings <- c(8.1, 7.3, 8.5, 8.7)\n",
    "avengers_ratings > 8"
   ]
  },
  {
   "cell_type": "markdown",
   "metadata": {
    "slideshow": {
     "slide_type": "subslide"
    }
   },
   "source": [
    "## 同樣的 `class`"
   ]
  },
  {
   "cell_type": "code",
   "execution_count": 13,
   "metadata": {},
   "outputs": [
    {
     "data": {
      "text/html": [
       "'character'"
      ],
      "text/latex": [
       "'character'"
      ],
      "text/markdown": [
       "'character'"
      ],
      "text/plain": [
       "[1] \"character\""
      ]
     },
     "metadata": {},
     "output_type": "display_data"
    }
   ],
   "source": [
    "endgame <- c(8.7, \"Avengers: Endgame\")\n",
    "class(endgame)"
   ]
  },
  {
   "cell_type": "markdown",
   "metadata": {
    "slideshow": {
     "slide_type": "subslide"
    }
   },
   "source": [
    "## 支援 `logical` 的資料篩選"
   ]
  },
  {
   "cell_type": "code",
   "execution_count": 14,
   "metadata": {},
   "outputs": [
    {
     "data": {
      "text/html": [
       "<ol class=list-inline>\n",
       "\t<li>TRUE</li>\n",
       "\t<li>FALSE</li>\n",
       "\t<li>TRUE</li>\n",
       "\t<li>TRUE</li>\n",
       "</ol>\n"
      ],
      "text/latex": [
       "\\begin{enumerate*}\n",
       "\\item TRUE\n",
       "\\item FALSE\n",
       "\\item TRUE\n",
       "\\item TRUE\n",
       "\\end{enumerate*}\n"
      ],
      "text/markdown": [
       "1. TRUE\n",
       "2. FALSE\n",
       "3. TRUE\n",
       "4. TRUE\n",
       "\n",
       "\n"
      ],
      "text/plain": [
       "[1]  TRUE FALSE  TRUE  TRUE"
      ]
     },
     "metadata": {},
     "output_type": "display_data"
    },
    {
     "data": {
      "text/html": [
       "<ol class=list-inline>\n",
       "\t<li>'The Avengers'</li>\n",
       "\t<li>'Avengers: Infinity War'</li>\n",
       "\t<li>'Avengers: Endgame'</li>\n",
       "</ol>\n"
      ],
      "text/latex": [
       "\\begin{enumerate*}\n",
       "\\item 'The Avengers'\n",
       "\\item 'Avengers: Infinity War'\n",
       "\\item 'Avengers: Endgame'\n",
       "\\end{enumerate*}\n"
      ],
      "text/markdown": [
       "1. 'The Avengers'\n",
       "2. 'Avengers: Infinity War'\n",
       "3. 'Avengers: Endgame'\n",
       "\n",
       "\n"
      ],
      "text/plain": [
       "[1] \"The Avengers\"           \"Avengers: Infinity War\" \"Avengers: Endgame\"     "
      ]
     },
     "metadata": {},
     "output_type": "display_data"
    }
   ],
   "source": [
    "avengers <- c(\"The Avengers\", \"Avengers: Age of Ultron\", \"Avengers: Infinity War\", \"Avengers: Endgame\")\n",
    "avengers_ratings <- c(8.1, 7.3, 8.5, 8.7)\n",
    "avengers_ratings > 8\n",
    "avengers[avengers_ratings > 8]"
   ]
  },
  {
   "cell_type": "markdown",
   "metadata": {
    "slideshow": {
     "slide_type": "subslide"
    }
   },
   "source": [
    "## 隨堂練習：計算三位球員的 BMI"
   ]
  },
  {
   "cell_type": "code",
   "execution_count": 15,
   "metadata": {},
   "outputs": [],
   "source": [
    "players <- c(\"Jeremy Lin\", \"Michael Jordan\", \"Shaquille O'Neal\")\n",
    "player_heights <- c(191, 198, 216)\n",
    "player_weights <- c(91, 98, 148)\n",
    "# player_bmis"
   ]
  },
  {
   "cell_type": "code",
   "execution_count": 16,
   "metadata": {
    "slideshow": {
     "slide_type": "skip"
    }
   },
   "outputs": [],
   "source": [
    "player_bmis <- player_weights / (player_heights/100)**2"
   ]
  },
  {
   "cell_type": "code",
   "execution_count": 17,
   "metadata": {
    "slideshow": {
     "slide_type": "fragment"
    }
   },
   "outputs": [
    {
     "data": {
      "text/html": [
       "<ol class=list-inline>\n",
       "\t<li>24.9444916531893</li>\n",
       "\t<li>24.9974492398735</li>\n",
       "\t<li>31.721536351166</li>\n",
       "</ol>\n"
      ],
      "text/latex": [
       "\\begin{enumerate*}\n",
       "\\item 24.9444916531893\n",
       "\\item 24.9974492398735\n",
       "\\item 31.721536351166\n",
       "\\end{enumerate*}\n"
      ],
      "text/markdown": [
       "1. 24.9444916531893\n",
       "2. 24.9974492398735\n",
       "3. 31.721536351166\n",
       "\n",
       "\n"
      ],
      "text/plain": [
       "[1] 24.94449 24.99745 31.72154"
      ]
     },
     "metadata": {},
     "output_type": "display_data"
    }
   ],
   "source": [
    "player_bmis"
   ]
  },
  {
   "cell_type": "markdown",
   "metadata": {
    "slideshow": {
     "slide_type": "subslide"
    }
   },
   "source": [
    "## 隨堂練習：哪個球員的 BMI 超過 30"
   ]
  },
  {
   "cell_type": "code",
   "execution_count": 18,
   "metadata": {},
   "outputs": [],
   "source": [
    "players <- c(\"Jeremy Lin\", \"Michael Jordan\", \"Shaquille O'Neal\")\n",
    "player_heights <- c(191, 198, 216)\n",
    "player_weights <- c(91, 98, 148)\n",
    "# overweight_player"
   ]
  },
  {
   "cell_type": "code",
   "execution_count": 19,
   "metadata": {
    "slideshow": {
     "slide_type": "skip"
    }
   },
   "outputs": [],
   "source": [
    "player_bmis <- player_weights / (player_heights/100)**2\n",
    "overweight_player <- players[player_bmis > 30]"
   ]
  },
  {
   "cell_type": "code",
   "execution_count": 20,
   "metadata": {
    "slideshow": {
     "slide_type": "fragment"
    }
   },
   "outputs": [
    {
     "data": {
      "text/html": [
       "'Shaquille O\\'Neal'"
      ],
      "text/latex": [
       "'Shaquille O\\textbackslash{}'Neal'"
      ],
      "text/markdown": [
       "'Shaquille O\\'Neal'"
      ],
      "text/plain": [
       "[1] \"Shaquille O'Neal\""
      ]
     },
     "metadata": {},
     "output_type": "display_data"
    }
   ],
   "source": [
    "overweight_player"
   ]
  },
  {
   "cell_type": "markdown",
   "metadata": {
    "slideshow": {
     "slide_type": "subslide"
    }
   },
   "source": [
    "## 隨堂練習：從 `random_numbers` 中找出奇數"
   ]
  },
  {
   "cell_type": "code",
   "execution_count": 21,
   "metadata": {},
   "outputs": [],
   "source": [
    "set.seed(87)\n",
    "random_numbers <- sample(1:1000, size = 100, replace = FALSE)\n",
    "# odds"
   ]
  },
  {
   "cell_type": "code",
   "execution_count": 22,
   "metadata": {
    "slideshow": {
     "slide_type": "skip"
    }
   },
   "outputs": [],
   "source": [
    "odds <- random_numbers[random_numbers %% 2 == 1]"
   ]
  },
  {
   "cell_type": "code",
   "execution_count": 23,
   "metadata": {
    "slideshow": {
     "slide_type": "fragment"
    }
   },
   "outputs": [
    {
     "data": {
      "text/html": [
       "<ol class=list-inline>\n",
       "\t<li>17</li>\n",
       "\t<li>43</li>\n",
       "\t<li>31</li>\n",
       "\t<li>319</li>\n",
       "\t<li>401</li>\n",
       "\t<li>845</li>\n",
       "\t<li>753</li>\n",
       "\t<li>247</li>\n",
       "\t<li>471</li>\n",
       "\t<li>831</li>\n",
       "\t<li>33</li>\n",
       "\t<li>529</li>\n",
       "\t<li>839</li>\n",
       "\t<li>683</li>\n",
       "\t<li>365</li>\n",
       "\t<li>513</li>\n",
       "\t<li>629</li>\n",
       "\t<li>885</li>\n",
       "\t<li>527</li>\n",
       "\t<li>7</li>\n",
       "\t<li>101</li>\n",
       "\t<li>189</li>\n",
       "\t<li>595</li>\n",
       "\t<li>277</li>\n",
       "\t<li>719</li>\n",
       "\t<li>669</li>\n",
       "\t<li>269</li>\n",
       "\t<li>789</li>\n",
       "\t<li>487</li>\n",
       "\t<li>865</li>\n",
       "\t<li>149</li>\n",
       "\t<li>913</li>\n",
       "\t<li>307</li>\n",
       "\t<li>639</li>\n",
       "\t<li>693</li>\n",
       "\t<li>157</li>\n",
       "\t<li>613</li>\n",
       "\t<li>759</li>\n",
       "\t<li>773</li>\n",
       "\t<li>119</li>\n",
       "\t<li>843</li>\n",
       "\t<li>455</li>\n",
       "\t<li>501</li>\n",
       "\t<li>561</li>\n",
       "\t<li>521</li>\n",
       "\t<li>971</li>\n",
       "\t<li>833</li>\n",
       "\t<li>611</li>\n",
       "\t<li>97</li>\n",
       "\t<li>785</li>\n",
       "</ol>\n"
      ],
      "text/latex": [
       "\\begin{enumerate*}\n",
       "\\item 17\n",
       "\\item 43\n",
       "\\item 31\n",
       "\\item 319\n",
       "\\item 401\n",
       "\\item 845\n",
       "\\item 753\n",
       "\\item 247\n",
       "\\item 471\n",
       "\\item 831\n",
       "\\item 33\n",
       "\\item 529\n",
       "\\item 839\n",
       "\\item 683\n",
       "\\item 365\n",
       "\\item 513\n",
       "\\item 629\n",
       "\\item 885\n",
       "\\item 527\n",
       "\\item 7\n",
       "\\item 101\n",
       "\\item 189\n",
       "\\item 595\n",
       "\\item 277\n",
       "\\item 719\n",
       "\\item 669\n",
       "\\item 269\n",
       "\\item 789\n",
       "\\item 487\n",
       "\\item 865\n",
       "\\item 149\n",
       "\\item 913\n",
       "\\item 307\n",
       "\\item 639\n",
       "\\item 693\n",
       "\\item 157\n",
       "\\item 613\n",
       "\\item 759\n",
       "\\item 773\n",
       "\\item 119\n",
       "\\item 843\n",
       "\\item 455\n",
       "\\item 501\n",
       "\\item 561\n",
       "\\item 521\n",
       "\\item 971\n",
       "\\item 833\n",
       "\\item 611\n",
       "\\item 97\n",
       "\\item 785\n",
       "\\end{enumerate*}\n"
      ],
      "text/markdown": [
       "1. 17\n",
       "2. 43\n",
       "3. 31\n",
       "4. 319\n",
       "5. 401\n",
       "6. 845\n",
       "7. 753\n",
       "8. 247\n",
       "9. 471\n",
       "10. 831\n",
       "11. 33\n",
       "12. 529\n",
       "13. 839\n",
       "14. 683\n",
       "15. 365\n",
       "16. 513\n",
       "17. 629\n",
       "18. 885\n",
       "19. 527\n",
       "20. 7\n",
       "21. 101\n",
       "22. 189\n",
       "23. 595\n",
       "24. 277\n",
       "25. 719\n",
       "26. 669\n",
       "27. 269\n",
       "28. 789\n",
       "29. 487\n",
       "30. 865\n",
       "31. 149\n",
       "32. 913\n",
       "33. 307\n",
       "34. 639\n",
       "35. 693\n",
       "36. 157\n",
       "37. 613\n",
       "38. 759\n",
       "39. 773\n",
       "40. 119\n",
       "41. 843\n",
       "42. 455\n",
       "43. 501\n",
       "44. 561\n",
       "45. 521\n",
       "46. 971\n",
       "47. 833\n",
       "48. 611\n",
       "49. 97\n",
       "50. 785\n",
       "\n",
       "\n"
      ],
      "text/plain": [
       " [1]  17  43  31 319 401 845 753 247 471 831  33 529 839 683 365 513 629 885 527\n",
       "[20]   7 101 189 595 277 719 669 269 789 487 865 149 913 307 639 693 157 613 759\n",
       "[39] 773 119 843 455 501 561 521 971 833 611  97 785"
      ]
     },
     "metadata": {},
     "output_type": "display_data"
    }
   ],
   "source": [
    "odds"
   ]
  }
 ],
 "metadata": {
  "celltoolbar": "Slideshow",
  "kernelspec": {
   "display_name": "R",
   "language": "R",
   "name": "ir"
  },
  "language_info": {
   "codemirror_mode": "r",
   "file_extension": ".r",
   "mimetype": "text/x-r-source",
   "name": "R",
   "pygments_lexer": "r",
   "version": "3.5.2"
  }
 },
 "nbformat": 4,
 "nbformat_minor": 2
}
