{
 "cells": [
  {
   "cell_type": "markdown",
   "metadata": {
    "slideshow": {
     "slide_type": "slide"
    }
   },
   "source": [
    "# 成為初級資料分析師 | R 程式設計與資料科學應用\n",
    "\n",
    "> 資料輸入輸出\n",
    "\n",
    "## 郭耀仁"
   ]
  },
  {
   "cell_type": "markdown",
   "metadata": {
    "slideshow": {
     "slide_type": "subslide"
    }
   },
   "source": [
    "> Working with data provided by R packages is a great way to learn the tools of data science, but at some point you want to stop learning and start working with your own data.\n",
    ">\n",
    "> Hadley Wickham"
   ]
  },
  {
   "cell_type": "markdown",
   "metadata": {
    "slideshow": {
     "slide_type": "subslide"
    }
   },
   "source": [
    "## 大綱\n",
    "\n",
    "- 內建資料\n",
    "- 輸入表格式資料\n",
    "- 輸入非表格式資料\n",
    "- 輸出表格式資料\n",
    "- 輸出非表格式資料"
   ]
  },
  {
   "cell_type": "markdown",
   "metadata": {
    "slideshow": {
     "slide_type": "slide"
    }
   },
   "source": [
    "## 內建資料"
   ]
  },
  {
   "cell_type": "markdown",
   "metadata": {
    "slideshow": {
     "slide_type": "subslide"
    }
   },
   "source": [
    "## 豐富的內建資料\n",
    "\n",
    "以 `data()` 函數觀察"
   ]
  },
  {
   "cell_type": "code",
   "execution_count": 1,
   "metadata": {},
   "outputs": [],
   "source": [
    "data()"
   ]
  },
  {
   "cell_type": "markdown",
   "metadata": {
    "slideshow": {
     "slide_type": "subslide"
    }
   },
   "source": [
    "## 資料也有說明文件可以讀"
   ]
  },
  {
   "cell_type": "code",
   "execution_count": 2,
   "metadata": {},
   "outputs": [],
   "source": [
    "?iris # help(iris) will do\n",
    "?cars # help(cars) will do"
   ]
  },
  {
   "cell_type": "markdown",
   "metadata": {
    "slideshow": {
     "slide_type": "slide"
    }
   },
   "source": [
    "## 輸入表格式資料"
   ]
  },
  {
   "cell_type": "markdown",
   "metadata": {
    "slideshow": {
     "slide_type": "subslide"
    }
   },
   "source": [
    "## 常見的表格式（tabular）資料有哪些？\n",
    "\n",
    "- 以不同符號分隔變數的文字檔\n",
    "    - `.txt`\n",
    "    - `.csv` 以逗號分隔\n",
    "- Excel 試算表（`.xls`, `.xlsx`）\n",
    "- Array of JSONs（`.json`）\n",
    "- 資料庫表格"
   ]
  },
  {
   "cell_type": "markdown",
   "metadata": {
    "slideshow": {
     "slide_type": "subslide"
    }
   },
   "source": [
    "## 以不同符號分隔變數的文字檔：`.txt`\n",
    "\n",
    "`the_avengers.txt`"
   ]
  },
  {
   "cell_type": "markdown",
   "metadata": {},
   "source": [
    "```\n",
    "character;hero\n",
    "Tony Stark;Iron Man\n",
    "Steve Rogers;Captain America\n",
    "Bruce Banner;Hulk\n",
    "Thor;Thor\n",
    "Natasha Romanoff;Black Widow\n",
    "Clint Barton;Hawkeye\n",
    "```"
   ]
  },
  {
   "cell_type": "markdown",
   "metadata": {
    "slideshow": {
     "slide_type": "subslide"
    }
   },
   "source": [
    "## 創建 `the_avengers.txt`"
   ]
  },
  {
   "cell_type": "code",
   "execution_count": 3,
   "metadata": {
    "slideshow": {
     "slide_type": "-"
    }
   },
   "outputs": [],
   "source": [
    "the_avengers <- \"character;hero\n",
    "Tony Stark;Iron Man\n",
    "Steve Rogers;Captain America\n",
    "Bruce Banner;Hulk\n",
    "Thor;Thor\n",
    "Natasha Romanoff;Black Widow\n",
    "Clint Barton;Hawkeye\"\n",
    "writeLines(the_avengers, \"the_avengers.txt\")"
   ]
  },
  {
   "cell_type": "markdown",
   "metadata": {
    "slideshow": {
     "slide_type": "subslide"
    }
   },
   "source": [
    "## 載入 `the_avengers.txt`\n",
    "\n",
    "使用 `read.table()` 函數"
   ]
  },
  {
   "cell_type": "code",
   "execution_count": 4,
   "metadata": {},
   "outputs": [
    {
     "data": {
      "text/html": [
       "<table>\n",
       "<thead><tr><th scope=col>character</th><th scope=col>hero</th></tr></thead>\n",
       "<tbody>\n",
       "\t<tr><td>Tony Stark      </td><td>Iron Man        </td></tr>\n",
       "\t<tr><td>Steve Rogers    </td><td>Captain America </td></tr>\n",
       "\t<tr><td>Bruce Banner    </td><td>Hulk            </td></tr>\n",
       "\t<tr><td>Thor            </td><td>Thor            </td></tr>\n",
       "\t<tr><td>Natasha Romanoff</td><td>Black Widow     </td></tr>\n",
       "\t<tr><td>Clint Barton    </td><td>Hawkeye         </td></tr>\n",
       "</tbody>\n",
       "</table>\n"
      ],
      "text/latex": [
       "\\begin{tabular}{r|ll}\n",
       " character & hero\\\\\n",
       "\\hline\n",
       "\t Tony Stark       & Iron Man        \\\\\n",
       "\t Steve Rogers     & Captain America \\\\\n",
       "\t Bruce Banner     & Hulk            \\\\\n",
       "\t Thor             & Thor            \\\\\n",
       "\t Natasha Romanoff & Black Widow     \\\\\n",
       "\t Clint Barton     & Hawkeye         \\\\\n",
       "\\end{tabular}\n"
      ],
      "text/markdown": [
       "\n",
       "| character | hero |\n",
       "|---|---|\n",
       "| Tony Stark       | Iron Man         |\n",
       "| Steve Rogers     | Captain America  |\n",
       "| Bruce Banner     | Hulk             |\n",
       "| Thor             | Thor             |\n",
       "| Natasha Romanoff | Black Widow      |\n",
       "| Clint Barton     | Hawkeye          |\n",
       "\n"
      ],
      "text/plain": [
       "  character        hero           \n",
       "1 Tony Stark       Iron Man       \n",
       "2 Steve Rogers     Captain America\n",
       "3 Bruce Banner     Hulk           \n",
       "4 Thor             Thor           \n",
       "5 Natasha Romanoff Black Widow    \n",
       "6 Clint Barton     Hawkeye        "
      ]
     },
     "metadata": {},
     "output_type": "display_data"
    }
   ],
   "source": [
    "the_avengers_df <- read.table(\"the_avengers.txt\", sep = \";\", header=TRUE)\n",
    "the_avengers_df"
   ]
  },
  {
   "cell_type": "markdown",
   "metadata": {
    "slideshow": {
     "slide_type": "subslide"
    }
   },
   "source": [
    "## 以逗號分隔變數的文字檔：`.csv`\n",
    "\n",
    "`the_avengers.csv`"
   ]
  },
  {
   "cell_type": "markdown",
   "metadata": {},
   "source": [
    "```\n",
    "character,hero\n",
    "Tony Stark,Iron Man\n",
    "Steve Rogers,Captain America\n",
    "Bruce Banner,Hulk\n",
    "Thor,Thor\n",
    "Natasha Romanoff,Black Widow\n",
    "Clint Barton,Hawkeye\n",
    "```"
   ]
  },
  {
   "cell_type": "markdown",
   "metadata": {
    "slideshow": {
     "slide_type": "subslide"
    }
   },
   "source": [
    "## 創建 `the_avengers.csv`"
   ]
  },
  {
   "cell_type": "code",
   "execution_count": 5,
   "metadata": {},
   "outputs": [],
   "source": [
    "the_avengers <- \"character,hero\n",
    "Tony Stark,Iron Man\n",
    "Steve Rogers,Captain America\n",
    "Bruce Banner,Hulk\n",
    "Thor,Thor\n",
    "Natasha Romanoff,Black Widow\n",
    "Clint Barton,Hawkeye\"\n",
    "writeLines(the_avengers, \"the_avengers.csv\")"
   ]
  },
  {
   "cell_type": "markdown",
   "metadata": {
    "slideshow": {
     "slide_type": "subslide"
    }
   },
   "source": [
    "## 載入 `the_avengers.csv`\n",
    "\n",
    "使用 `read.csv()` 函數"
   ]
  },
  {
   "cell_type": "code",
   "execution_count": 6,
   "metadata": {},
   "outputs": [
    {
     "data": {
      "text/html": [
       "<table>\n",
       "<thead><tr><th scope=col>character</th><th scope=col>hero</th></tr></thead>\n",
       "<tbody>\n",
       "\t<tr><td>Tony Stark      </td><td>Iron Man        </td></tr>\n",
       "\t<tr><td>Steve Rogers    </td><td>Captain America </td></tr>\n",
       "\t<tr><td>Bruce Banner    </td><td>Hulk            </td></tr>\n",
       "\t<tr><td>Thor            </td><td>Thor            </td></tr>\n",
       "\t<tr><td>Natasha Romanoff</td><td>Black Widow     </td></tr>\n",
       "\t<tr><td>Clint Barton    </td><td>Hawkeye         </td></tr>\n",
       "</tbody>\n",
       "</table>\n"
      ],
      "text/latex": [
       "\\begin{tabular}{r|ll}\n",
       " character & hero\\\\\n",
       "\\hline\n",
       "\t Tony Stark       & Iron Man        \\\\\n",
       "\t Steve Rogers     & Captain America \\\\\n",
       "\t Bruce Banner     & Hulk            \\\\\n",
       "\t Thor             & Thor            \\\\\n",
       "\t Natasha Romanoff & Black Widow     \\\\\n",
       "\t Clint Barton     & Hawkeye         \\\\\n",
       "\\end{tabular}\n"
      ],
      "text/markdown": [
       "\n",
       "| character | hero |\n",
       "|---|---|\n",
       "| Tony Stark       | Iron Man         |\n",
       "| Steve Rogers     | Captain America  |\n",
       "| Bruce Banner     | Hulk             |\n",
       "| Thor             | Thor             |\n",
       "| Natasha Romanoff | Black Widow      |\n",
       "| Clint Barton     | Hawkeye          |\n",
       "\n"
      ],
      "text/plain": [
       "  character        hero           \n",
       "1 Tony Stark       Iron Man       \n",
       "2 Steve Rogers     Captain America\n",
       "3 Bruce Banner     Hulk           \n",
       "4 Thor             Thor           \n",
       "5 Natasha Romanoff Black Widow    \n",
       "6 Clint Barton     Hawkeye        "
      ]
     },
     "metadata": {},
     "output_type": "display_data"
    }
   ],
   "source": [
    "the_avengers_df <- read.csv(\"the_avengers.csv\", sep = \",\", header=TRUE)\n",
    "the_avengers_df"
   ]
  },
  {
   "cell_type": "markdown",
   "metadata": {
    "slideshow": {
     "slide_type": "subslide"
    }
   },
   "source": [
    "## Excel 試算表\n",
    "\n",
    "`the_avengers.xlsx`\n",
    "\n",
    "<https://r-essentials.s3-ap-northeast-1.amazonaws.com/the_avengers.xlsx>"
   ]
  },
  {
   "cell_type": "markdown",
   "metadata": {
    "slideshow": {
     "slide_type": "subslide"
    }
   },
   "source": [
    "## 使用 `readxl` 套件中的 `read_excel()` 函數\n",
    "\n",
    "- 安裝 `readxl` 套件\n",
    "- 載入 `readxl` 套件\n",
    "- 使用 `readxl::read_excel()` 函數"
   ]
  },
  {
   "cell_type": "markdown",
   "metadata": {
    "slideshow": {
     "slide_type": "subslide"
    }
   },
   "source": [
    "## 安裝 `readxl` 套件\n",
    "\n",
    "- 透過 RStudio 的 `Packages` 功能頁籤\n",
    "- 透過 `install.packages()` 函數\n",
    "\n",
    "```r\n",
    "install.packages(\"readxl\")\n",
    "```"
   ]
  },
  {
   "cell_type": "markdown",
   "metadata": {
    "slideshow": {
     "slide_type": "subslide"
    }
   },
   "source": [
    "## 載入 `readxl` 套件\n",
    "\n",
    "- 透過 RStudio 的 `Packages` 功能頁籤\n",
    "- 透過 `library()` 函數\n",
    "\n",
    "```r\n",
    "library(\"readxl\")\n",
    "```"
   ]
  },
  {
   "cell_type": "markdown",
   "metadata": {
    "slideshow": {
     "slide_type": "subslide"
    }
   },
   "source": [
    "## 載入 `the_avengers.xlsx`"
   ]
  },
  {
   "cell_type": "code",
   "execution_count": 7,
   "metadata": {},
   "outputs": [
    {
     "data": {
      "text/html": [
       "<table>\n",
       "<thead><tr><th scope=col>character</th><th scope=col>hero</th></tr></thead>\n",
       "<tbody>\n",
       "\t<tr><td>Tony Stark      </td><td>Iron Man        </td></tr>\n",
       "\t<tr><td>Steve Rogers    </td><td>Captain America </td></tr>\n",
       "\t<tr><td>Bruce Banner    </td><td>Hulk            </td></tr>\n",
       "\t<tr><td>Thor            </td><td>Thor            </td></tr>\n",
       "\t<tr><td>Natasha Romanoff</td><td>Black Widow     </td></tr>\n",
       "\t<tr><td>Clint Barton    </td><td>Hawkeye         </td></tr>\n",
       "</tbody>\n",
       "</table>\n"
      ],
      "text/latex": [
       "\\begin{tabular}{r|ll}\n",
       " character & hero\\\\\n",
       "\\hline\n",
       "\t Tony Stark       & Iron Man        \\\\\n",
       "\t Steve Rogers     & Captain America \\\\\n",
       "\t Bruce Banner     & Hulk            \\\\\n",
       "\t Thor             & Thor            \\\\\n",
       "\t Natasha Romanoff & Black Widow     \\\\\n",
       "\t Clint Barton     & Hawkeye         \\\\\n",
       "\\end{tabular}\n"
      ],
      "text/markdown": [
       "\n",
       "| character | hero |\n",
       "|---|---|\n",
       "| Tony Stark       | Iron Man         |\n",
       "| Steve Rogers     | Captain America  |\n",
       "| Bruce Banner     | Hulk             |\n",
       "| Thor             | Thor             |\n",
       "| Natasha Romanoff | Black Widow      |\n",
       "| Clint Barton     | Hawkeye          |\n",
       "\n"
      ],
      "text/plain": [
       "  character        hero           \n",
       "1 Tony Stark       Iron Man       \n",
       "2 Steve Rogers     Captain America\n",
       "3 Bruce Banner     Hulk           \n",
       "4 Thor             Thor           \n",
       "5 Natasha Romanoff Black Widow    \n",
       "6 Clint Barton     Hawkeye        "
      ]
     },
     "metadata": {},
     "output_type": "display_data"
    }
   ],
   "source": [
    "library(readxl)\n",
    "\n",
    "the_avengers_df <- read_excel(\"the_avengers.xlsx\")\n",
    "the_avengers_df"
   ]
  },
  {
   "cell_type": "markdown",
   "metadata": {
    "slideshow": {
     "slide_type": "subslide"
    }
   },
   "source": [
    "## Array of JSONs\n",
    "\n",
    "`the_avengers.json`"
   ]
  },
  {
   "cell_type": "markdown",
   "metadata": {
    "slideshow": {
     "slide_type": "subslide"
    }
   },
   "source": [
    "## 什麼是 JSON\n",
    "\n",
    "- JavaScript Object Notation\n",
    "- 彈性很大且常見於網站資料傳輸的檔案格式\n",
    "- 它的特性是可以容納不同長度、型別並且巢狀式地（nested）包容資料"
   ]
  },
  {
   "cell_type": "markdown",
   "metadata": {},
   "source": [
    "```\n",
    "[\n",
    "    {\"character\": \"Tony Stark\", \"hero\": \"Iron Man\"},\n",
    "    {\"character\": \"Steve Rogers\", \"hero\": \"Captain America\"},\n",
    "    {\"character\": \"Bruce Banner\", \"hero\": \"Hulk\"},\n",
    "    {\"character\": \"Thor\", \"hero\": \"Thor\"},\n",
    "    {\"character\": \"Natasha Romanoff\", \"hero\": \"Black Widow\"},\n",
    "    {\"character\": \"Clint Barto\", \"hero\": \"Hawkeye\"}\n",
    "]\n",
    "```"
   ]
  },
  {
   "cell_type": "markdown",
   "metadata": {
    "slideshow": {
     "slide_type": "subslide"
    }
   },
   "source": [
    "## 創建 `the_avengers.json`"
   ]
  },
  {
   "cell_type": "code",
   "execution_count": 8,
   "metadata": {},
   "outputs": [],
   "source": [
    "the_avengers <- '\n",
    "[\n",
    "    {\"character\": \"Tony Stark\", \"hero\": \"Iron Man\"},\n",
    "    {\"character\": \"Steve Rogers\", \"hero\": \"Captain America\"},\n",
    "    {\"character\": \"Bruce Banner\", \"hero\": \"Hulk\"},\n",
    "    {\"character\": \"Thor\", \"hero\": \"Thor\"},\n",
    "    {\"character\": \"Natasha Romanoff\", \"hero\": \"Black Widow\"},\n",
    "    {\"character\": \"Clint Barto\", \"hero\": \"Hawkeye\"}\n",
    "]\n",
    "'\n",
    "writeLines(the_avengers, \"the_avengers.json\")"
   ]
  },
  {
   "cell_type": "markdown",
   "metadata": {
    "slideshow": {
     "slide_type": "subslide"
    }
   },
   "source": [
    "## 使用 `jsonlite` 套件中的 `fromJSON()` 函數\n",
    "\n",
    "- 安裝 `jsonlite` 套件\n",
    "- 載入 `jsonlite` 套件\n",
    "- 使用 `jsonlite::fromJSON()` 函數"
   ]
  },
  {
   "cell_type": "markdown",
   "metadata": {
    "slideshow": {
     "slide_type": "subslide"
    }
   },
   "source": [
    "## 安裝 `jsonlite` 套件\n",
    "\n",
    "- 透過 RStudio 的 `Packages` 功能頁籤\n",
    "- 透過 `install.packages()` 函數\n",
    "\n",
    "```r\n",
    "install.packages(\"jsonlite\")\n",
    "```"
   ]
  },
  {
   "cell_type": "markdown",
   "metadata": {
    "slideshow": {
     "slide_type": "subslide"
    }
   },
   "source": [
    "## 載入 `jsonlite` 套件\n",
    "\n",
    "- 透過 RStudio 的 `Packages` 功能頁籤\n",
    "- 透過 `library()` 函數\n",
    "\n",
    "```r\n",
    "library(\"jsonlite\")\n",
    "```"
   ]
  },
  {
   "cell_type": "markdown",
   "metadata": {
    "slideshow": {
     "slide_type": "subslide"
    }
   },
   "source": [
    "## 載入 `the_avengers.json`"
   ]
  },
  {
   "cell_type": "code",
   "execution_count": 9,
   "metadata": {},
   "outputs": [
    {
     "data": {
      "text/html": [
       "<table>\n",
       "<thead><tr><th scope=col>character</th><th scope=col>hero</th></tr></thead>\n",
       "<tbody>\n",
       "\t<tr><td>Tony Stark      </td><td>Iron Man        </td></tr>\n",
       "\t<tr><td>Steve Rogers    </td><td>Captain America </td></tr>\n",
       "\t<tr><td>Bruce Banner    </td><td>Hulk            </td></tr>\n",
       "\t<tr><td>Thor            </td><td>Thor            </td></tr>\n",
       "\t<tr><td>Natasha Romanoff</td><td>Black Widow     </td></tr>\n",
       "\t<tr><td>Clint Barto     </td><td>Hawkeye         </td></tr>\n",
       "</tbody>\n",
       "</table>\n"
      ],
      "text/latex": [
       "\\begin{tabular}{r|ll}\n",
       " character & hero\\\\\n",
       "\\hline\n",
       "\t Tony Stark       & Iron Man        \\\\\n",
       "\t Steve Rogers     & Captain America \\\\\n",
       "\t Bruce Banner     & Hulk            \\\\\n",
       "\t Thor             & Thor            \\\\\n",
       "\t Natasha Romanoff & Black Widow     \\\\\n",
       "\t Clint Barto      & Hawkeye         \\\\\n",
       "\\end{tabular}\n"
      ],
      "text/markdown": [
       "\n",
       "| character | hero |\n",
       "|---|---|\n",
       "| Tony Stark       | Iron Man         |\n",
       "| Steve Rogers     | Captain America  |\n",
       "| Bruce Banner     | Hulk             |\n",
       "| Thor             | Thor             |\n",
       "| Natasha Romanoff | Black Widow      |\n",
       "| Clint Barto      | Hawkeye          |\n",
       "\n"
      ],
      "text/plain": [
       "  character        hero           \n",
       "1 Tony Stark       Iron Man       \n",
       "2 Steve Rogers     Captain America\n",
       "3 Bruce Banner     Hulk           \n",
       "4 Thor             Thor           \n",
       "5 Natasha Romanoff Black Widow    \n",
       "6 Clint Barto      Hawkeye        "
      ]
     },
     "metadata": {},
     "output_type": "display_data"
    }
   ],
   "source": [
    "library(jsonlite)\n",
    "\n",
    "the_avengers_df <- fromJSON(\"the_avengers.json\")\n",
    "the_avengers_df"
   ]
  },
  {
   "cell_type": "markdown",
   "metadata": {
    "slideshow": {
     "slide_type": "subslide"
    }
   },
   "source": [
    "## 資料庫表格\n",
    "\n",
    "暫存於記憶體的 `SQLite` 表格 `the_avengers`"
   ]
  },
  {
   "cell_type": "markdown",
   "metadata": {
    "slideshow": {
     "slide_type": "subslide"
    }
   },
   "source": [
    "## 使用 `RSQLite` 套件\n",
    "\n",
    "- 安裝 `RSQLite` 套件\n",
    "- 載入 `RSQLite` 套件\n",
    "- 使用 `DBI::dbWriteTable()` 函數創建表格\n",
    "- 使用 `DBI::dbReadTable()` 函數載入表格\n",
    "- 使用 `DBI::dbSendQuery()` 搭配 `DBI::dbFetch()` 函數查詢表格\n",
    "- 使用 `DBI::dbClearResult()` 函數清除查詢結果\n",
    "- 使用 `DBI::dbDisconnect()` 函數關閉資料庫連線"
   ]
  },
  {
   "cell_type": "markdown",
   "metadata": {
    "slideshow": {
     "slide_type": "subslide"
    }
   },
   "source": [
    "## 安裝 `RSQLite` 套件\n",
    "\n",
    "- 透過 RStudio 的 `Packages` 功能頁籤\n",
    "- 透過 `install.packages()` 函數\n",
    "\n",
    "```r\n",
    "install.packages(\"RSQLite\")\n",
    "```"
   ]
  },
  {
   "cell_type": "markdown",
   "metadata": {
    "slideshow": {
     "slide_type": "subslide"
    }
   },
   "source": [
    "## 載入 `RSQLite` 套件\n",
    "\n",
    "- 透過 RStudio 的 `Packages` 功能頁籤\n",
    "- 透過 `library()` 函數\n",
    "\n",
    "```r\n",
    "library(\"RSQLite\")\n",
    "```"
   ]
  },
  {
   "cell_type": "markdown",
   "metadata": {
    "slideshow": {
     "slide_type": "subslide"
    }
   },
   "source": [
    "## 使用 `DBI::dbWriteTable()` 函數創建表格"
   ]
  },
  {
   "cell_type": "code",
   "execution_count": 10,
   "metadata": {},
   "outputs": [
    {
     "data": {
      "text/html": [],
      "text/latex": [],
      "text/markdown": [],
      "text/plain": [
       "character(0)"
      ]
     },
     "metadata": {},
     "output_type": "display_data"
    },
    {
     "data": {
      "text/html": [
       "'the_avengers'"
      ],
      "text/latex": [
       "'the\\_avengers'"
      ],
      "text/markdown": [
       "'the_avengers'"
      ],
      "text/plain": [
       "[1] \"the_avengers\""
      ]
     },
     "metadata": {},
     "output_type": "display_data"
    }
   ],
   "source": [
    "library(DBI)\n",
    "\n",
    "con <- dbConnect(RSQLite::SQLite(), \":memory:\")\n",
    "dbListTables(con)\n",
    "the_avengers_df <- read.csv(\"the_avengers.csv\", sep = \",\", header=TRUE)\n",
    "dbWriteTable(con, \"the_avengers\", the_avengers_df)\n",
    "dbListTables(con)"
   ]
  },
  {
   "cell_type": "markdown",
   "metadata": {
    "slideshow": {
     "slide_type": "subslide"
    }
   },
   "source": [
    "## 使用 `DBI::dbReadTable()` 函數載入表格"
   ]
  },
  {
   "cell_type": "code",
   "execution_count": 11,
   "metadata": {},
   "outputs": [
    {
     "data": {
      "text/html": [
       "<table>\n",
       "<thead><tr><th scope=col>character</th><th scope=col>hero</th></tr></thead>\n",
       "<tbody>\n",
       "\t<tr><td>Tony Stark      </td><td>Iron Man        </td></tr>\n",
       "\t<tr><td>Steve Rogers    </td><td>Captain America </td></tr>\n",
       "\t<tr><td>Bruce Banner    </td><td>Hulk            </td></tr>\n",
       "\t<tr><td>Thor            </td><td>Thor            </td></tr>\n",
       "\t<tr><td>Natasha Romanoff</td><td>Black Widow     </td></tr>\n",
       "\t<tr><td>Clint Barton    </td><td>Hawkeye         </td></tr>\n",
       "</tbody>\n",
       "</table>\n"
      ],
      "text/latex": [
       "\\begin{tabular}{r|ll}\n",
       " character & hero\\\\\n",
       "\\hline\n",
       "\t Tony Stark       & Iron Man        \\\\\n",
       "\t Steve Rogers     & Captain America \\\\\n",
       "\t Bruce Banner     & Hulk            \\\\\n",
       "\t Thor             & Thor            \\\\\n",
       "\t Natasha Romanoff & Black Widow     \\\\\n",
       "\t Clint Barton     & Hawkeye         \\\\\n",
       "\\end{tabular}\n"
      ],
      "text/markdown": [
       "\n",
       "| character | hero |\n",
       "|---|---|\n",
       "| Tony Stark       | Iron Man         |\n",
       "| Steve Rogers     | Captain America  |\n",
       "| Bruce Banner     | Hulk             |\n",
       "| Thor             | Thor             |\n",
       "| Natasha Romanoff | Black Widow      |\n",
       "| Clint Barton     | Hawkeye          |\n",
       "\n"
      ],
      "text/plain": [
       "  character        hero           \n",
       "1 Tony Stark       Iron Man       \n",
       "2 Steve Rogers     Captain America\n",
       "3 Bruce Banner     Hulk           \n",
       "4 Thor             Thor           \n",
       "5 Natasha Romanoff Black Widow    \n",
       "6 Clint Barton     Hawkeye        "
      ]
     },
     "metadata": {},
     "output_type": "display_data"
    }
   ],
   "source": [
    "the_avengers_from_db <- dbReadTable(con, \"the_avengers\")\n",
    "the_avengers_from_db"
   ]
  },
  {
   "cell_type": "markdown",
   "metadata": {
    "slideshow": {
     "slide_type": "subslide"
    }
   },
   "source": [
    "## 使用 `DBI::dbSendQuery()` 搭配 `DBI::dbFetch()` 函數查詢表格"
   ]
  },
  {
   "cell_type": "code",
   "execution_count": 12,
   "metadata": {},
   "outputs": [
    {
     "data": {
      "text/html": [
       "<table>\n",
       "<thead><tr><th scope=col>character</th><th scope=col>hero</th></tr></thead>\n",
       "<tbody>\n",
       "\t<tr><td>Tony Stark</td><td>Iron Man  </td></tr>\n",
       "</tbody>\n",
       "</table>\n"
      ],
      "text/latex": [
       "\\begin{tabular}{r|ll}\n",
       " character & hero\\\\\n",
       "\\hline\n",
       "\t Tony Stark & Iron Man  \\\\\n",
       "\\end{tabular}\n"
      ],
      "text/markdown": [
       "\n",
       "| character | hero |\n",
       "|---|---|\n",
       "| Tony Stark | Iron Man   |\n",
       "\n"
      ],
      "text/plain": [
       "  character  hero    \n",
       "1 Tony Stark Iron Man"
      ]
     },
     "metadata": {},
     "output_type": "display_data"
    }
   ],
   "source": [
    "sql_query <- \"SELECT * FROM the_avengers WHERE hero = 'Iron Man';\"\n",
    "res <- dbSendQuery(con, sql_query)\n",
    "dbFetch(res)"
   ]
  },
  {
   "cell_type": "markdown",
   "metadata": {
    "slideshow": {
     "slide_type": "subslide"
    }
   },
   "source": [
    "## 完成查詢之後\n",
    "\n",
    "- 使用 `DBI::dbClearResult()` 函數清除查詢結果\n",
    "- 使用 `DBI::dbDisconnect()` 函數關閉資料庫連線"
   ]
  },
  {
   "cell_type": "code",
   "execution_count": 13,
   "metadata": {
    "slideshow": {
     "slide_type": "-"
    }
   },
   "outputs": [],
   "source": [
    "dbClearResult(res)\n",
    "dbDisconnect(con)"
   ]
  },
  {
   "cell_type": "markdown",
   "metadata": {
    "slideshow": {
     "slide_type": "slide"
    }
   },
   "source": [
    "## 輸入非表格式資料"
   ]
  },
  {
   "cell_type": "markdown",
   "metadata": {
    "slideshow": {
     "slide_type": "subslide"
    }
   },
   "source": [
    "## 常見的非表格式資料有哪些？\n",
    "\n",
    "- 非表格式的文字檔\n",
    "- JSON（`.json`）"
   ]
  },
  {
   "cell_type": "markdown",
   "metadata": {
    "slideshow": {
     "slide_type": "subslide"
    }
   },
   "source": [
    "## 非表格式的文字檔\n",
    "\n",
    "`endgame_summaries.txt`"
   ]
  },
  {
   "cell_type": "markdown",
   "metadata": {
    "slideshow": {
     "slide_type": "-"
    }
   },
   "source": [
    "```\n",
    "After the devastating events of Avengers: Infinity War (2018), the universe is in ruins. With the help of remaining allies, the Avengers assemble once more in order to reverse Thanos' actions and restore balance to the universe.\n",
    "\n",
    "After the devastating events of Avengers: Infinity War (2018), the universe is in ruins due to the efforts of the Mad Titan, Thanos. With the help of remaining allies, the Avengers must assemble once more in order to undo Thanos's actions and undo the chaos to the universe, no matter what consequences may be in store, and no matter who they face...\n",
    "\n",
    "The grave course of events set in motion by Thanos, that wiped out half the universe and fractured the Avengers ranks, compels the remaining Avengers to take one final stand in Marvel Studios' grand conclusion to twenty-two films - Avengers: Endgame.\n",
    "\n",
    "After half of all life is snapped away by Thanos, the Avengers are left scattered and divided. Now with a way to reverse the damage, the Avengers and their allies must assemble once more and learn to put differences aside in order to work together and set things right. Along the way, the Avengers realize that sacrifices must be made as they prepare for the ultimate final showdown with Thanos, which will result in the heroes fighting the biggest battle they have ever faced.\n",
    "```"
   ]
  },
  {
   "cell_type": "markdown",
   "metadata": {
    "slideshow": {
     "slide_type": "subslide"
    }
   },
   "source": [
    "## 創建 `endgame_summaries.txt`"
   ]
  },
  {
   "cell_type": "code",
   "execution_count": 14,
   "metadata": {},
   "outputs": [],
   "source": [
    "endgame_summaries <- \"After the devastating events of Avengers: Infinity War (2018), the universe is in ruins. With the help of remaining allies, the Avengers assemble once more in order to reverse Thanos' actions and restore balance to the universe.\n",
    "After the devastating events of Avengers: Infinity War (2018), the universe is in ruins due to the efforts of the Mad Titan, Thanos. With the help of remaining allies, the Avengers must assemble once more in order to undo Thanos's actions and undo the chaos to the universe, no matter what consequences may be in store, and no matter who they face...\n",
    "The grave course of events set in motion by Thanos, that wiped out half the universe and fractured the Avengers ranks, compels the remaining Avengers to take one final stand in Marvel Studios' grand conclusion to twenty-two films - Avengers: Endgame.\n",
    "After half of all life is snapped away by Thanos, the Avengers are left scattered and divided. Now with a way to reverse the damage, the Avengers and their allies must assemble once more and learn to put differences aside in order to work together and set things right. Along the way, the Avengers realize that sacrifices must be made as they prepare for the ultimate final showdown with Thanos, which will result in the heroes fighting the biggest battle they have ever faced.\"\n",
    "writeLines(endgame_summaries, \"endgame_summaries.txt\")"
   ]
  },
  {
   "cell_type": "markdown",
   "metadata": {
    "slideshow": {
     "slide_type": "subslide"
    }
   },
   "source": [
    "## 使用 `readLines()` 函數「依列」載入為文字向量，長度同段落數量"
   ]
  },
  {
   "cell_type": "code",
   "execution_count": 15,
   "metadata": {},
   "outputs": [
    {
     "data": {
      "text/html": [
       "'character'"
      ],
      "text/latex": [
       "'character'"
      ],
      "text/markdown": [
       "'character'"
      ],
      "text/plain": [
       "[1] \"character\""
      ]
     },
     "metadata": {},
     "output_type": "display_data"
    },
    {
     "data": {
      "text/html": [
       "4"
      ],
      "text/latex": [
       "4"
      ],
      "text/markdown": [
       "4"
      ],
      "text/plain": [
       "[1] 4"
      ]
     },
     "metadata": {},
     "output_type": "display_data"
    },
    {
     "data": {
      "text/html": [
       "<ol class=list-inline>\n",
       "\t<li>'After the devastating events of Avengers: Infinity War (2018), the universe is in ruins. With the help of remaining allies, the Avengers assemble once more in order to reverse Thanos\\' actions and restore balance to the universe.'</li>\n",
       "\t<li>'After the devastating events of Avengers: Infinity War (2018), the universe is in ruins due to the efforts of the Mad Titan, Thanos. With the help of remaining allies, the Avengers must assemble once more in order to undo Thanos\\'s actions and undo the chaos to the universe, no matter what consequences may be in store, and no matter who they face...'</li>\n",
       "\t<li>'The grave course of events set in motion by Thanos, that wiped out half the universe and fractured the Avengers ranks, compels the remaining Avengers to take one final stand in Marvel Studios\\' grand conclusion to twenty-two films - Avengers: Endgame.'</li>\n",
       "\t<li>'After half of all life is snapped away by Thanos, the Avengers are left scattered and divided. Now with a way to reverse the damage, the Avengers and their allies must assemble once more and learn to put differences aside in order to work together and set things right. Along the way, the Avengers realize that sacrifices must be made as they prepare for the ultimate final showdown with Thanos, which will result in the heroes fighting the biggest battle they have ever faced.'</li>\n",
       "</ol>\n"
      ],
      "text/latex": [
       "\\begin{enumerate*}\n",
       "\\item 'After the devastating events of Avengers: Infinity War (2018), the universe is in ruins. With the help of remaining allies, the Avengers assemble once more in order to reverse Thanos\\textbackslash{}' actions and restore balance to the universe.'\n",
       "\\item 'After the devastating events of Avengers: Infinity War (2018), the universe is in ruins due to the efforts of the Mad Titan, Thanos. With the help of remaining allies, the Avengers must assemble once more in order to undo Thanos\\textbackslash{}'s actions and undo the chaos to the universe, no matter what consequences may be in store, and no matter who they face...'\n",
       "\\item 'The grave course of events set in motion by Thanos, that wiped out half the universe and fractured the Avengers ranks, compels the remaining Avengers to take one final stand in Marvel Studios\\textbackslash{}' grand conclusion to twenty-two films - Avengers: Endgame.'\n",
       "\\item 'After half of all life is snapped away by Thanos, the Avengers are left scattered and divided. Now with a way to reverse the damage, the Avengers and their allies must assemble once more and learn to put differences aside in order to work together and set things right. Along the way, the Avengers realize that sacrifices must be made as they prepare for the ultimate final showdown with Thanos, which will result in the heroes fighting the biggest battle they have ever faced.'\n",
       "\\end{enumerate*}\n"
      ],
      "text/markdown": [
       "1. 'After the devastating events of Avengers: Infinity War (2018), the universe is in ruins. With the help of remaining allies, the Avengers assemble once more in order to reverse Thanos\\' actions and restore balance to the universe.'\n",
       "2. 'After the devastating events of Avengers: Infinity War (2018), the universe is in ruins due to the efforts of the Mad Titan, Thanos. With the help of remaining allies, the Avengers must assemble once more in order to undo Thanos\\'s actions and undo the chaos to the universe, no matter what consequences may be in store, and no matter who they face...'\n",
       "3. 'The grave course of events set in motion by Thanos, that wiped out half the universe and fractured the Avengers ranks, compels the remaining Avengers to take one final stand in Marvel Studios\\' grand conclusion to twenty-two films - Avengers: Endgame.'\n",
       "4. 'After half of all life is snapped away by Thanos, the Avengers are left scattered and divided. Now with a way to reverse the damage, the Avengers and their allies must assemble once more and learn to put differences aside in order to work together and set things right. Along the way, the Avengers realize that sacrifices must be made as they prepare for the ultimate final showdown with Thanos, which will result in the heroes fighting the biggest battle they have ever faced.'\n",
       "\n",
       "\n"
      ],
      "text/plain": [
       "[1] \"After the devastating events of Avengers: Infinity War (2018), the universe is in ruins. With the help of remaining allies, the Avengers assemble once more in order to reverse Thanos' actions and restore balance to the universe.\"                                                                                                                                                                                                                                                         \n",
       "[2] \"After the devastating events of Avengers: Infinity War (2018), the universe is in ruins due to the efforts of the Mad Titan, Thanos. With the help of remaining allies, the Avengers must assemble once more in order to undo Thanos's actions and undo the chaos to the universe, no matter what consequences may be in store, and no matter who they face...\"                                                                                                                               \n",
       "[3] \"The grave course of events set in motion by Thanos, that wiped out half the universe and fractured the Avengers ranks, compels the remaining Avengers to take one final stand in Marvel Studios' grand conclusion to twenty-two films - Avengers: Endgame.\"                                                                                                                                                                                                                                   \n",
       "[4] \"After half of all life is snapped away by Thanos, the Avengers are left scattered and divided. Now with a way to reverse the damage, the Avengers and their allies must assemble once more and learn to put differences aside in order to work together and set things right. Along the way, the Avengers realize that sacrifices must be made as they prepare for the ultimate final showdown with Thanos, which will result in the heroes fighting the biggest battle they have ever faced.\""
      ]
     },
     "metadata": {},
     "output_type": "display_data"
    }
   ],
   "source": [
    "endgame_summary_char <- readLines(\"endgame_summaries.txt\")\n",
    "class(endgame_summary_char)\n",
    "length(endgame_summary_char)\n",
    "endgame_summary_char"
   ]
  },
  {
   "cell_type": "markdown",
   "metadata": {
    "slideshow": {
     "slide_type": "subslide"
    }
   },
   "source": [
    "## JSON\n",
    "\n",
    "`avengers_endgame.json`"
   ]
  },
  {
   "cell_type": "markdown",
   "metadata": {
    "slideshow": {
     "slide_type": "-"
    }
   },
   "source": [
    "```\n",
    "{\n",
    "    \"title\": \"Avengers: Endgame\",\n",
    "    \"rating\": 8.7,\n",
    "    \"genre\": [\"Action\", \"Adventure\", \"Sci-Fi\"]\n",
    "}\n",
    "```"
   ]
  },
  {
   "cell_type": "markdown",
   "metadata": {
    "slideshow": {
     "slide_type": "subslide"
    }
   },
   "source": [
    "## 創建 `avengers_endgame.json`"
   ]
  },
  {
   "cell_type": "code",
   "execution_count": 16,
   "metadata": {},
   "outputs": [],
   "source": [
    "avengers_endgame <- '\n",
    "{\n",
    "    \"title\": \"Avengers: Endgame\",\n",
    "    \"rating\": 8.7,\n",
    "    \"genre\": [\"Action\", \"Adventure\", \"Sci-Fi\"]\n",
    "}\n",
    "'\n",
    "writeLines(avengers_endgame, \"avengers_endgame.json\")"
   ]
  },
  {
   "cell_type": "markdown",
   "metadata": {
    "slideshow": {
     "slide_type": "subslide"
    }
   },
   "source": [
    "## 載入 `avengers_endgame.json`\n",
    "\n",
    "與 array of JSONs 不同的是載入後資料結構為 `list`"
   ]
  },
  {
   "cell_type": "code",
   "execution_count": 17,
   "metadata": {},
   "outputs": [
    {
     "data": {
      "text/html": [
       "'list'"
      ],
      "text/latex": [
       "'list'"
      ],
      "text/markdown": [
       "'list'"
      ],
      "text/plain": [
       "[1] \"list\""
      ]
     },
     "metadata": {},
     "output_type": "display_data"
    },
    {
     "data": {
      "text/html": [
       "3"
      ],
      "text/latex": [
       "3"
      ],
      "text/markdown": [
       "3"
      ],
      "text/plain": [
       "[1] 3"
      ]
     },
     "metadata": {},
     "output_type": "display_data"
    },
    {
     "data": {
      "text/html": [
       "<ol class=list-inline>\n",
       "\t<li>'title'</li>\n",
       "\t<li>'rating'</li>\n",
       "\t<li>'genre'</li>\n",
       "</ol>\n"
      ],
      "text/latex": [
       "\\begin{enumerate*}\n",
       "\\item 'title'\n",
       "\\item 'rating'\n",
       "\\item 'genre'\n",
       "\\end{enumerate*}\n"
      ],
      "text/markdown": [
       "1. 'title'\n",
       "2. 'rating'\n",
       "3. 'genre'\n",
       "\n",
       "\n"
      ],
      "text/plain": [
       "[1] \"title\"  \"rating\" \"genre\" "
      ]
     },
     "metadata": {},
     "output_type": "display_data"
    },
    {
     "data": {
      "text/html": [
       "<dl>\n",
       "\t<dt>$title</dt>\n",
       "\t\t<dd>'Avengers: Endgame'</dd>\n",
       "\t<dt>$rating</dt>\n",
       "\t\t<dd>8.7</dd>\n",
       "\t<dt>$genre</dt>\n",
       "\t\t<dd><ol class=list-inline>\n",
       "\t<li>'Action'</li>\n",
       "\t<li>'Adventure'</li>\n",
       "\t<li>'Sci-Fi'</li>\n",
       "</ol>\n",
       "</dd>\n",
       "</dl>\n"
      ],
      "text/latex": [
       "\\begin{description}\n",
       "\\item[\\$title] 'Avengers: Endgame'\n",
       "\\item[\\$rating] 8.7\n",
       "\\item[\\$genre] \\begin{enumerate*}\n",
       "\\item 'Action'\n",
       "\\item 'Adventure'\n",
       "\\item 'Sci-Fi'\n",
       "\\end{enumerate*}\n",
       "\n",
       "\\end{description}\n"
      ],
      "text/markdown": [
       "$title\n",
       ":   'Avengers: Endgame'\n",
       "$rating\n",
       ":   8.7\n",
       "$genre\n",
       ":   1. 'Action'\n",
       "2. 'Adventure'\n",
       "3. 'Sci-Fi'\n",
       "\n",
       "\n",
       "\n",
       "\n",
       "\n"
      ],
      "text/plain": [
       "$title\n",
       "[1] \"Avengers: Endgame\"\n",
       "\n",
       "$rating\n",
       "[1] 8.7\n",
       "\n",
       "$genre\n",
       "[1] \"Action\"    \"Adventure\" \"Sci-Fi\"   \n"
      ]
     },
     "metadata": {},
     "output_type": "display_data"
    }
   ],
   "source": [
    "library(jsonlite)\n",
    "\n",
    "avengers_endgame <- fromJSON(\"avengers_endgame.json\")\n",
    "class(avengers_endgame)\n",
    "length(avengers_endgame)\n",
    "names(avengers_endgame)\n",
    "avengers_endgame"
   ]
  },
  {
   "cell_type": "markdown",
   "metadata": {
    "slideshow": {
     "slide_type": "slide"
    }
   },
   "source": [
    "## 輸出表格式資料"
   ]
  },
  {
   "cell_type": "markdown",
   "metadata": {
    "slideshow": {
     "slide_type": "subslide"
    }
   },
   "source": [
    "## 常用作表格式資料輸出的檔案格式\n",
    "\n",
    "- 表格式文字檔 `.txt` 或 `.csv`\n",
    "- Array of JSONs `.json`"
   ]
  },
  {
   "cell_type": "markdown",
   "metadata": {
    "slideshow": {
     "slide_type": "subslide"
    }
   },
   "source": [
    "## 表格式文字檔 `.txt` 或 `.csv`\n",
    "\n",
    "使用 `write.table()` 函數"
   ]
  },
  {
   "cell_type": "code",
   "execution_count": 18,
   "metadata": {},
   "outputs": [],
   "source": [
    "write.table(iris, file = \"iris.txt\", row.names = FALSE) # 不輸出資料框的列索引\n",
    "write.table(iris, file = \"iris.csv\", sep = \",\", row.names = FALSE) # 指定分隔符號為 ,"
   ]
  },
  {
   "cell_type": "markdown",
   "metadata": {
    "slideshow": {
     "slide_type": "subslide"
    }
   },
   "source": [
    "## Array of JSONs `.json`\n",
    "\n",
    "使用 `jsonlite::toJSON()` 搭配 `writeLines()` 函數"
   ]
  },
  {
   "cell_type": "code",
   "execution_count": 19,
   "metadata": {},
   "outputs": [],
   "source": [
    "library(jsonlite)\n",
    "\n",
    "json_char <- toJSON(iris)\n",
    "writeLines(json_char, \"iris.json\")"
   ]
  },
  {
   "cell_type": "markdown",
   "metadata": {
    "slideshow": {
     "slide_type": "slide"
    }
   },
   "source": [
    "## 輸出非表格式資料"
   ]
  },
  {
   "cell_type": "markdown",
   "metadata": {
    "slideshow": {
     "slide_type": "subslide"
    }
   },
   "source": [
    "## 常用作非表格式資料輸出的檔案格式：`.json`\n",
    "\n",
    "使用 `jsonlite::toJSON()` 搭配 `writeLines()` 函數"
   ]
  },
  {
   "cell_type": "code",
   "execution_count": 20,
   "metadata": {},
   "outputs": [],
   "source": [
    "json_str <- toJSON(avengers_endgame)\n",
    "writeLines(json_str, \"avengers_endgame_out.json\")"
   ]
  }
 ],
 "metadata": {
  "celltoolbar": "Slideshow",
  "kernelspec": {
   "display_name": "R",
   "language": "R",
   "name": "ir"
  },
  "language_info": {
   "codemirror_mode": "r",
   "file_extension": ".r",
   "mimetype": "text/x-r-source",
   "name": "R",
   "pygments_lexer": "r",
   "version": "3.5.2"
  }
 },
 "nbformat": 4,
 "nbformat_minor": 2
}
