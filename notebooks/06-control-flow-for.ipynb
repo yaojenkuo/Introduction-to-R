{
 "cells": [
  {
   "cell_type": "markdown",
   "metadata": {
    "slideshow": {
     "slide_type": "slide"
    }
   },
   "source": [
    "# 成為初級資料分析師 | R 程式設計與資料科學應用\n",
    "\n",
    "> 流程控制：`for` 迴圈\n",
    "\n",
    "## 郭耀仁"
   ]
  },
  {
   "cell_type": "markdown",
   "metadata": {
    "slideshow": {
     "slide_type": "subslide"
    }
   },
   "source": [
    "> When you’ve given the same in-person advice 3 times, write a blog post.\n",
    ">\n",
    "> David Robinson"
   ]
  },
  {
   "cell_type": "markdown",
   "metadata": {
    "slideshow": {
     "slide_type": "subslide"
    }
   },
   "source": [
    "## 大綱\n",
    "\n",
    "- `for` 迴圈\n",
    "- `while` 或 `for` 迴圈？"
   ]
  },
  {
   "cell_type": "markdown",
   "metadata": {
    "slideshow": {
     "slide_type": "slide"
    }
   },
   "source": [
    "## `for` 迴圈"
   ]
  },
  {
   "cell_type": "markdown",
   "metadata": {
    "slideshow": {
     "slide_type": "subslide"
    }
   },
   "source": [
    "## 迴圈是用來解決需要反覆執行、大量手動複製貼上程式碼的任務"
   ]
  },
  {
   "cell_type": "markdown",
   "metadata": {
    "slideshow": {
     "slide_type": "subslide"
    }
   },
   "source": [
    "## `for` 迴圈的 Code Block\n",
    "\n",
    "- 保留字 `for` 與 `in`\n",
    "- ITERATOR 迭代子\n",
    "- ITERABLE 可迭代的物件（指派了 start、stop 與 step）\n",
    "- 重複任務"
   ]
  },
  {
   "cell_type": "markdown",
   "metadata": {
    "slideshow": {
     "slide_type": "-"
    }
   },
   "source": [
    "```r\n",
    "for (ITERATOR in ITERABLE) {\n",
    "  # do something iteratively until ITERATOR reaches the end of ITERABLE\n",
    "}\n",
    "```"
   ]
  },
  {
   "cell_type": "markdown",
   "metadata": {
    "slideshow": {
     "slide_type": "subslide"
    }
   },
   "source": [
    "## ITERABLE 指的是可迭代的物件\n",
    "\n",
    "- 向量\n",
    "- 其他資料結構"
   ]
  },
  {
   "cell_type": "markdown",
   "metadata": {
    "slideshow": {
     "slide_type": "subslide"
    }
   },
   "source": [
    "## 常見的迴圈任務\n",
    "\n",
    "- `print()`\n",
    "- 加總（Summation）\n",
    "- 計數（Counter）\n",
    "- 合併（Combine）"
   ]
  },
  {
   "cell_type": "markdown",
   "metadata": {
    "slideshow": {
     "slide_type": "subslide"
    }
   },
   "source": [
    "## 將介於 1 至 100 的偶數印出"
   ]
  },
  {
   "cell_type": "code",
   "execution_count": 1,
   "metadata": {},
   "outputs": [
    {
     "name": "stdout",
     "output_type": "stream",
     "text": [
      "[1] 2\n",
      "[1] 4\n",
      "[1] 6\n",
      "[1] 8\n",
      "[1] 10\n",
      "[1] 12\n",
      "[1] 14\n",
      "[1] 16\n",
      "[1] 18\n",
      "[1] 20\n",
      "[1] 22\n",
      "[1] 24\n",
      "[1] 26\n",
      "[1] 28\n",
      "[1] 30\n",
      "[1] 32\n",
      "[1] 34\n",
      "[1] 36\n",
      "[1] 38\n",
      "[1] 40\n",
      "[1] 42\n",
      "[1] 44\n",
      "[1] 46\n",
      "[1] 48\n",
      "[1] 50\n",
      "[1] 52\n",
      "[1] 54\n",
      "[1] 56\n",
      "[1] 58\n",
      "[1] 60\n",
      "[1] 62\n",
      "[1] 64\n",
      "[1] 66\n",
      "[1] 68\n",
      "[1] 70\n",
      "[1] 72\n",
      "[1] 74\n",
      "[1] 76\n",
      "[1] 78\n",
      "[1] 80\n",
      "[1] 82\n",
      "[1] 84\n",
      "[1] 86\n",
      "[1] 88\n",
      "[1] 90\n",
      "[1] 92\n",
      "[1] 94\n",
      "[1] 96\n",
      "[1] 98\n",
      "[1] 100\n"
     ]
    }
   ],
   "source": [
    "for (i in seq(2, to = 100, by = 2)) {\n",
    "    print(i)\n",
    "}"
   ]
  },
  {
   "cell_type": "markdown",
   "metadata": {
    "slideshow": {
     "slide_type": "subslide"
    }
   },
   "source": [
    "## 計算 1 到 100 之間的偶數總和：[The Story of Gauss](https://www.nctm.org/Publications/Teaching-Children-Mathematics/Blog/The-Story-of-Gauss/)"
   ]
  },
  {
   "cell_type": "code",
   "execution_count": 2,
   "metadata": {},
   "outputs": [
    {
     "data": {
      "text/html": [
       "2550"
      ],
      "text/latex": [
       "2550"
      ],
      "text/markdown": [
       "2550"
      ],
      "text/plain": [
       "[1] 2550"
      ]
     },
     "metadata": {},
     "output_type": "display_data"
    }
   ],
   "source": [
    "summation <- 0\n",
    "for (i in seq(2, to = 100, by = 2)) {\n",
    "    summation <- summation + i\n",
    "}\n",
    "summation"
   ]
  },
  {
   "cell_type": "markdown",
   "metadata": {
    "slideshow": {
     "slide_type": "subslide"
    }
   },
   "source": [
    "## 計算 x 到 y 之間的偶數個數（包含 x 或 y 如果它們為偶數）"
   ]
  },
  {
   "cell_type": "code",
   "execution_count": 3,
   "metadata": {},
   "outputs": [
    {
     "data": {
      "text/html": [
       "6"
      ],
      "text/latex": [
       "6"
      ],
      "text/markdown": [
       "6"
      ],
      "text/plain": [
       "[1] 6"
      ]
     },
     "metadata": {},
     "output_type": "display_data"
    }
   ],
   "source": [
    "x <- 55\n",
    "y <- 66\n",
    "even_counter <- 0\n",
    "\n",
    "for (i in x:y) {\n",
    "    if (i %% 2 == 0) {\n",
    "        even_counter <- even_counter + 1\n",
    "    }\n",
    "}\n",
    "even_counter"
   ]
  },
  {
   "cell_type": "markdown",
   "metadata": {
    "slideshow": {
     "slide_type": "subslide"
    }
   },
   "source": [
    "## 因數分解：x 的因數有哪些"
   ]
  },
  {
   "cell_type": "code",
   "execution_count": 4,
   "metadata": {},
   "outputs": [
    {
     "data": {
      "text/html": [
       "<ol class=list-inline>\n",
       "\t<li>1</li>\n",
       "\t<li>2</li>\n",
       "\t<li>4</li>\n",
       "\t<li>7</li>\n",
       "\t<li>8</li>\n",
       "\t<li>14</li>\n",
       "\t<li>28</li>\n",
       "\t<li>56</li>\n",
       "</ol>\n"
      ],
      "text/latex": [
       "\\begin{enumerate*}\n",
       "\\item 1\n",
       "\\item 2\n",
       "\\item 4\n",
       "\\item 7\n",
       "\\item 8\n",
       "\\item 14\n",
       "\\item 28\n",
       "\\item 56\n",
       "\\end{enumerate*}\n"
      ],
      "text/markdown": [
       "1. 1\n",
       "2. 2\n",
       "3. 4\n",
       "4. 7\n",
       "5. 8\n",
       "6. 14\n",
       "7. 28\n",
       "8. 56\n",
       "\n",
       "\n"
      ],
      "text/plain": [
       "[1]  1  2  4  7  8 14 28 56"
      ]
     },
     "metadata": {},
     "output_type": "display_data"
    }
   ],
   "source": [
    "x <- 56\n",
    "divisors <- c()\n",
    "for (i in 1:x) {\n",
    "    if (x %% i == 0) {\n",
    "        divisors <- c(divisors, i)\n",
    "    }\n",
    "}\n",
    "divisors"
   ]
  },
  {
   "cell_type": "markdown",
   "metadata": {
    "slideshow": {
     "slide_type": "subslide"
    }
   },
   "source": [
    "## 隨堂練習：判斷質數\n",
    "\n",
    "在超過 1 的正整數中，除了 1 和該數自身外，無法被其他正整數整除的數字"
   ]
  },
  {
   "cell_type": "code",
   "execution_count": 5,
   "metadata": {
    "slideshow": {
     "slide_type": "subslide"
    }
   },
   "outputs": [],
   "source": [
    "x <- 89"
   ]
  },
  {
   "cell_type": "code",
   "execution_count": 6,
   "metadata": {
    "slideshow": {
     "slide_type": "skip"
    }
   },
   "outputs": [],
   "source": [
    "divisors <- c()\n",
    "for (i in 1:x) {\n",
    "    if (x %% i == 0) {\n",
    "        divisors <- c(divisors, i)\n",
    "    }\n",
    "    if (length(divisors) > 2) {\n",
    "        break\n",
    "    }\n",
    "}\n",
    "if (length(divisors) == 2) {\n",
    "    msg <- sprintf(\"%s 是質數\", x)\n",
    "} else {\n",
    "    msg <- sprintf(\"%s 不是質數\", x)\n",
    "}"
   ]
  },
  {
   "cell_type": "code",
   "execution_count": 7,
   "metadata": {
    "slideshow": {
     "slide_type": "fragment"
    }
   },
   "outputs": [
    {
     "data": {
      "text/html": [
       "'89 是質數'"
      ],
      "text/latex": [
       "'89 是質數'"
      ],
      "text/markdown": [
       "'89 是質數'"
      ],
      "text/plain": [
       "[1] \"89 是質數\""
      ]
     },
     "metadata": {},
     "output_type": "display_data"
    }
   ],
   "source": [
    "msg"
   ]
  },
  {
   "cell_type": "code",
   "execution_count": 8,
   "metadata": {
    "slideshow": {
     "slide_type": "subslide"
    }
   },
   "outputs": [],
   "source": [
    "x <- 56"
   ]
  },
  {
   "cell_type": "code",
   "execution_count": 9,
   "metadata": {
    "slideshow": {
     "slide_type": "skip"
    }
   },
   "outputs": [],
   "source": [
    "divisors <- c()\n",
    "for (i in 1:x) {\n",
    "    if (x %% i == 0) {\n",
    "        divisors <- c(divisors, i)\n",
    "    }\n",
    "    if (length(divisors) > 2) {\n",
    "        break\n",
    "    }\n",
    "}\n",
    "if (length(divisors) == 2) {\n",
    "    msg <- sprintf(\"%s 是質數\", x)\n",
    "} else {\n",
    "    msg <- sprintf(\"%s 不是質數\", x)\n",
    "}"
   ]
  },
  {
   "cell_type": "code",
   "execution_count": 10,
   "metadata": {
    "slideshow": {
     "slide_type": "fragment"
    }
   },
   "outputs": [
    {
     "data": {
      "text/html": [
       "'56 不是質數'"
      ],
      "text/latex": [
       "'56 不是質數'"
      ],
      "text/markdown": [
       "'56 不是質數'"
      ],
      "text/plain": [
       "[1] \"56 不是質數\""
      ]
     },
     "metadata": {},
     "output_type": "display_data"
    }
   ],
   "source": [
    "msg"
   ]
  },
  {
   "cell_type": "markdown",
   "metadata": {
    "slideshow": {
     "slide_type": "subslide"
    }
   },
   "source": [
    "## 同樣可以搭配保留字\n",
    "\n",
    "- `break`\n",
    "- `next`"
   ]
  },
  {
   "cell_type": "code",
   "execution_count": 11,
   "metadata": {
    "slideshow": {
     "slide_type": "subslide"
    }
   },
   "outputs": [
    {
     "name": "stdout",
     "output_type": "stream",
     "text": [
      "[1] \"檢查第 1 次\"\n",
      "[1] \"檢查第 2 次\"\n",
      "[1] \"檢查第 3 次\"\n",
      "[1] \"檢查第 4 次\"\n",
      "[1] \"檢查第 5 次\"\n",
      "[1] \"檢查第 6 次\"\n",
      "[1] \"檢查第 7 次\"\n",
      "[1] \"檢查第 8 次\"\n",
      "[1] \"檢查第 9 次\"\n",
      "[1] \"檢查第 10 次\"\n",
      "[1] \"檢查第 11 次\"\n",
      "[1] \"檢查第 12 次\"\n",
      "[1] \"檢查第 13 次\"\n",
      "[1] \"檢查第 14 次\"\n",
      "[1] \"檢查第 15 次\"\n",
      "[1] \"檢查第 16 次\"\n",
      "[1] \"檢查第 17 次\"\n",
      "[1] \"檢查第 18 次\"\n",
      "[1] \"檢查第 19 次\"\n",
      "[1] \"檢查第 20 次\"\n",
      "[1] \"檢查第 21 次\"\n",
      "[1] \"檢查第 22 次\"\n",
      "[1] \"檢查第 23 次\"\n",
      "[1] \"檢查第 24 次\"\n",
      "[1] \"檢查第 25 次\"\n",
      "[1] \"檢查第 26 次\"\n",
      "[1] \"檢查第 27 次\"\n",
      "[1] \"檢查第 28 次\"\n",
      "[1] \"檢查第 29 次\"\n",
      "[1] \"檢查第 30 次\"\n",
      "[1] \"檢查第 31 次\"\n",
      "[1] \"檢查第 32 次\"\n",
      "[1] \"檢查第 33 次\"\n",
      "[1] \"檢查第 34 次\"\n",
      "[1] \"檢查第 35 次\"\n",
      "[1] \"檢查第 36 次\"\n",
      "[1] \"檢查第 37 次\"\n",
      "[1] \"檢查第 38 次\"\n",
      "[1] \"檢查第 39 次\"\n",
      "[1] \"檢查第 40 次\"\n",
      "[1] \"檢查第 41 次\"\n",
      "[1] \"檢查第 42 次\"\n",
      "[1] \"檢查第 43 次\"\n",
      "[1] \"檢查第 44 次\"\n",
      "[1] \"檢查第 45 次\"\n",
      "[1] \"檢查第 46 次\"\n",
      "[1] \"檢查第 47 次\"\n",
      "[1] \"檢查第 48 次\"\n",
      "[1] \"檢查第 49 次\"\n",
      "[1] \"檢查第 50 次\"\n",
      "[1] \"檢查第 51 次\"\n",
      "[1] \"檢查第 52 次\"\n",
      "[1] \"檢查第 53 次\"\n",
      "[1] \"檢查第 54 次\"\n",
      "[1] \"檢查第 55 次\"\n",
      "[1] \"檢查第 56 次\"\n"
     ]
    },
    {
     "data": {
      "text/html": [
       "'56 不是質數'"
      ],
      "text/latex": [
       "'56 不是質數'"
      ],
      "text/markdown": [
       "'56 不是質數'"
      ],
      "text/plain": [
       "[1] \"56 不是質數\""
      ]
     },
     "metadata": {},
     "output_type": "display_data"
    }
   ],
   "source": [
    "divisors <- c()\n",
    "for (i in 1:x) {\n",
    "    print(sprintf(\"檢查第 %s 次\", i))\n",
    "    if (x %% i == 0) {\n",
    "        divisors <- c(divisors, i)\n",
    "    }\n",
    "}\n",
    "if (length(divisors) == 2) {\n",
    "    msg <- sprintf(\"%s 是質數\", x)\n",
    "} else {\n",
    "    msg <- sprintf(\"%s 不是質數\", x)\n",
    "}\n",
    "msg"
   ]
  },
  {
   "cell_type": "code",
   "execution_count": 12,
   "metadata": {
    "slideshow": {
     "slide_type": "subslide"
    }
   },
   "outputs": [
    {
     "name": "stdout",
     "output_type": "stream",
     "text": [
      "[1] \"檢查第 1 次\"\n",
      "[1] \"檢查第 2 次\"\n",
      "[1] \"檢查第 3 次\"\n",
      "[1] \"檢查第 4 次\"\n"
     ]
    },
    {
     "data": {
      "text/html": [
       "'56 不是質數'"
      ],
      "text/latex": [
       "'56 不是質數'"
      ],
      "text/markdown": [
       "'56 不是質數'"
      ],
      "text/plain": [
       "[1] \"56 不是質數\""
      ]
     },
     "metadata": {},
     "output_type": "display_data"
    }
   ],
   "source": [
    "divisors <- c()\n",
    "for (i in 1:x) {\n",
    "    print(sprintf(\"檢查第 %s 次\", i))\n",
    "    if (x %% i == 0) {\n",
    "        divisors <- c(divisors, i)\n",
    "    }\n",
    "    if (length(divisors) > 2) {\n",
    "        break\n",
    "    }\n",
    "}\n",
    "if (length(divisors) == 2) {\n",
    "    msg <- sprintf(\"%s 是質數\", x)\n",
    "} else {\n",
    "    msg <- sprintf(\"%s 不是質數\", x)\n",
    "}\n",
    "msg"
   ]
  },
  {
   "cell_type": "markdown",
   "metadata": {
    "slideshow": {
     "slide_type": "subslide"
    }
   },
   "source": [
    "## 樓層的忌諱"
   ]
  },
  {
   "cell_type": "code",
   "execution_count": 13,
   "metadata": {},
   "outputs": [
    {
     "name": "stdout",
     "output_type": "stream",
     "text": [
      "[1] \"1 樓\"\n",
      "[1] \"2 樓\"\n",
      "[1] \"3 樓\"\n",
      "[1] \"5 樓\"\n",
      "[1] \"6 樓\"\n",
      "[1] \"7 樓\"\n",
      "[1] \"8 樓\"\n",
      "[1] \"9 樓\"\n",
      "[1] \"10 樓\"\n"
     ]
    }
   ],
   "source": [
    "for (i in 1:10) {\n",
    "    if (i == 4) {\n",
    "        next\n",
    "    } else {\n",
    "        print(sprintf(\"%s 樓\", i))\n",
    "    }\n",
    "}"
   ]
  },
  {
   "cell_type": "markdown",
   "metadata": {
    "slideshow": {
     "slide_type": "subslide"
    }
   },
   "source": [
    "## 隨堂練習：判斷介於 x 與 y 之間的質數（包含 x 與 y 如果他們也是質數）"
   ]
  },
  {
   "cell_type": "code",
   "execution_count": 14,
   "metadata": {},
   "outputs": [],
   "source": [
    "x <- 1\n",
    "y <- 5\n",
    "primes <- c()"
   ]
  },
  {
   "cell_type": "code",
   "execution_count": 15,
   "metadata": {
    "slideshow": {
     "slide_type": "skip"
    }
   },
   "outputs": [],
   "source": [
    "for (i in x:y) {\n",
    "    divisors <- c()\n",
    "    for (j in 1:i) {\n",
    "        if (i %% j == 0) {\n",
    "            divisors <- c(divisors, j)\n",
    "        }\n",
    "        if (length(divisors) > 2) {\n",
    "            break\n",
    "        }\n",
    "    }\n",
    "    if (length(divisors) == 2) {\n",
    "        primes <- c(primes, i)\n",
    "    }\n",
    "}"
   ]
  },
  {
   "cell_type": "code",
   "execution_count": 16,
   "metadata": {
    "slideshow": {
     "slide_type": "fragment"
    }
   },
   "outputs": [
    {
     "data": {
      "text/html": [
       "3"
      ],
      "text/latex": [
       "3"
      ],
      "text/markdown": [
       "3"
      ],
      "text/plain": [
       "[1] 3"
      ]
     },
     "metadata": {},
     "output_type": "display_data"
    },
    {
     "data": {
      "text/html": [
       "<ol class=list-inline>\n",
       "\t<li>2</li>\n",
       "\t<li>3</li>\n",
       "\t<li>5</li>\n",
       "</ol>\n"
      ],
      "text/latex": [
       "\\begin{enumerate*}\n",
       "\\item 2\n",
       "\\item 3\n",
       "\\item 5\n",
       "\\end{enumerate*}\n"
      ],
      "text/markdown": [
       "1. 2\n",
       "2. 3\n",
       "3. 5\n",
       "\n",
       "\n"
      ],
      "text/plain": [
       "[1] 2 3 5"
      ]
     },
     "metadata": {},
     "output_type": "display_data"
    }
   ],
   "source": [
    "length(primes)\n",
    "primes"
   ]
  },
  {
   "cell_type": "code",
   "execution_count": 17,
   "metadata": {
    "slideshow": {
     "slide_type": "subslide"
    }
   },
   "outputs": [],
   "source": [
    "x <- 5\n",
    "y <- 19\n",
    "primes <- c()"
   ]
  },
  {
   "cell_type": "code",
   "execution_count": 18,
   "metadata": {
    "slideshow": {
     "slide_type": "skip"
    }
   },
   "outputs": [],
   "source": [
    "for (i in x:y) {\n",
    "    divisors <- c()\n",
    "    for (j in 1:i) {\n",
    "        if (i %% j == 0) {\n",
    "            divisors <- c(divisors, j)\n",
    "        }\n",
    "        if (length(divisors) > 2) {\n",
    "            break\n",
    "        }\n",
    "    }\n",
    "    if (length(divisors) == 2) {\n",
    "        primes <- c(primes, i)\n",
    "    }\n",
    "}"
   ]
  },
  {
   "cell_type": "code",
   "execution_count": 19,
   "metadata": {
    "slideshow": {
     "slide_type": "fragment"
    }
   },
   "outputs": [
    {
     "data": {
      "text/html": [
       "6"
      ],
      "text/latex": [
       "6"
      ],
      "text/markdown": [
       "6"
      ],
      "text/plain": [
       "[1] 6"
      ]
     },
     "metadata": {},
     "output_type": "display_data"
    },
    {
     "data": {
      "text/html": [
       "<ol class=list-inline>\n",
       "\t<li>5</li>\n",
       "\t<li>7</li>\n",
       "\t<li>11</li>\n",
       "\t<li>13</li>\n",
       "\t<li>17</li>\n",
       "\t<li>19</li>\n",
       "</ol>\n"
      ],
      "text/latex": [
       "\\begin{enumerate*}\n",
       "\\item 5\n",
       "\\item 7\n",
       "\\item 11\n",
       "\\item 13\n",
       "\\item 17\n",
       "\\item 19\n",
       "\\end{enumerate*}\n"
      ],
      "text/markdown": [
       "1. 5\n",
       "2. 7\n",
       "3. 11\n",
       "4. 13\n",
       "5. 17\n",
       "6. 19\n",
       "\n",
       "\n"
      ],
      "text/plain": [
       "[1]  5  7 11 13 17 19"
      ]
     },
     "metadata": {},
     "output_type": "display_data"
    }
   ],
   "source": [
    "length(primes)\n",
    "primes"
   ]
  },
  {
   "cell_type": "markdown",
   "metadata": {
    "slideshow": {
     "slide_type": "slide"
    }
   },
   "source": [
    "## `while` 或 `for` 迴圈？"
   ]
  },
  {
   "cell_type": "markdown",
   "metadata": {
    "slideshow": {
     "slide_type": "subslide"
    }
   },
   "source": [
    "## 所有的 `for` 都可以用 `while` 重現，但反之不然\n",
    "\n",
    "- 確定重複運行次數的情境：可優先採用 `for`（使用 `while` 亦無不可）\n",
    "- 不確定重複運行次數的情境：僅能採用 `while`"
   ]
  },
  {
   "cell_type": "markdown",
   "metadata": {
    "slideshow": {
     "slide_type": "subslide"
    }
   },
   "source": [
    "## 確定重複運行次數：從 `random_numbers` 中找出奇數"
   ]
  },
  {
   "cell_type": "code",
   "execution_count": 20,
   "metadata": {},
   "outputs": [],
   "source": [
    "set.seed(87)\n",
    "random_numbers <- sample(1:1000, size = 100, replace = FALSE)"
   ]
  },
  {
   "cell_type": "code",
   "execution_count": 21,
   "metadata": {
    "slideshow": {
     "slide_type": "subslide"
    }
   },
   "outputs": [
    {
     "data": {
      "text/html": [
       "<ol class=list-inline>\n",
       "\t<li>17</li>\n",
       "\t<li>43</li>\n",
       "\t<li>31</li>\n",
       "\t<li>319</li>\n",
       "\t<li>401</li>\n",
       "\t<li>845</li>\n",
       "\t<li>753</li>\n",
       "\t<li>247</li>\n",
       "\t<li>471</li>\n",
       "\t<li>831</li>\n",
       "\t<li>33</li>\n",
       "\t<li>529</li>\n",
       "\t<li>839</li>\n",
       "\t<li>683</li>\n",
       "\t<li>365</li>\n",
       "\t<li>513</li>\n",
       "\t<li>629</li>\n",
       "\t<li>885</li>\n",
       "\t<li>527</li>\n",
       "\t<li>7</li>\n",
       "\t<li>101</li>\n",
       "\t<li>189</li>\n",
       "\t<li>595</li>\n",
       "\t<li>277</li>\n",
       "\t<li>719</li>\n",
       "\t<li>669</li>\n",
       "\t<li>269</li>\n",
       "\t<li>789</li>\n",
       "\t<li>487</li>\n",
       "\t<li>865</li>\n",
       "\t<li>149</li>\n",
       "\t<li>913</li>\n",
       "\t<li>307</li>\n",
       "\t<li>639</li>\n",
       "\t<li>693</li>\n",
       "\t<li>157</li>\n",
       "\t<li>613</li>\n",
       "\t<li>759</li>\n",
       "\t<li>773</li>\n",
       "\t<li>119</li>\n",
       "\t<li>843</li>\n",
       "\t<li>455</li>\n",
       "\t<li>501</li>\n",
       "\t<li>561</li>\n",
       "\t<li>521</li>\n",
       "\t<li>971</li>\n",
       "\t<li>833</li>\n",
       "\t<li>611</li>\n",
       "\t<li>97</li>\n",
       "\t<li>785</li>\n",
       "</ol>\n"
      ],
      "text/latex": [
       "\\begin{enumerate*}\n",
       "\\item 17\n",
       "\\item 43\n",
       "\\item 31\n",
       "\\item 319\n",
       "\\item 401\n",
       "\\item 845\n",
       "\\item 753\n",
       "\\item 247\n",
       "\\item 471\n",
       "\\item 831\n",
       "\\item 33\n",
       "\\item 529\n",
       "\\item 839\n",
       "\\item 683\n",
       "\\item 365\n",
       "\\item 513\n",
       "\\item 629\n",
       "\\item 885\n",
       "\\item 527\n",
       "\\item 7\n",
       "\\item 101\n",
       "\\item 189\n",
       "\\item 595\n",
       "\\item 277\n",
       "\\item 719\n",
       "\\item 669\n",
       "\\item 269\n",
       "\\item 789\n",
       "\\item 487\n",
       "\\item 865\n",
       "\\item 149\n",
       "\\item 913\n",
       "\\item 307\n",
       "\\item 639\n",
       "\\item 693\n",
       "\\item 157\n",
       "\\item 613\n",
       "\\item 759\n",
       "\\item 773\n",
       "\\item 119\n",
       "\\item 843\n",
       "\\item 455\n",
       "\\item 501\n",
       "\\item 561\n",
       "\\item 521\n",
       "\\item 971\n",
       "\\item 833\n",
       "\\item 611\n",
       "\\item 97\n",
       "\\item 785\n",
       "\\end{enumerate*}\n"
      ],
      "text/markdown": [
       "1. 17\n",
       "2. 43\n",
       "3. 31\n",
       "4. 319\n",
       "5. 401\n",
       "6. 845\n",
       "7. 753\n",
       "8. 247\n",
       "9. 471\n",
       "10. 831\n",
       "11. 33\n",
       "12. 529\n",
       "13. 839\n",
       "14. 683\n",
       "15. 365\n",
       "16. 513\n",
       "17. 629\n",
       "18. 885\n",
       "19. 527\n",
       "20. 7\n",
       "21. 101\n",
       "22. 189\n",
       "23. 595\n",
       "24. 277\n",
       "25. 719\n",
       "26. 669\n",
       "27. 269\n",
       "28. 789\n",
       "29. 487\n",
       "30. 865\n",
       "31. 149\n",
       "32. 913\n",
       "33. 307\n",
       "34. 639\n",
       "35. 693\n",
       "36. 157\n",
       "37. 613\n",
       "38. 759\n",
       "39. 773\n",
       "40. 119\n",
       "41. 843\n",
       "42. 455\n",
       "43. 501\n",
       "44. 561\n",
       "45. 521\n",
       "46. 971\n",
       "47. 833\n",
       "48. 611\n",
       "49. 97\n",
       "50. 785\n",
       "\n",
       "\n"
      ],
      "text/plain": [
       " [1]  17  43  31 319 401 845 753 247 471 831  33 529 839 683 365 513 629 885 527\n",
       "[20]   7 101 189 595 277 719 669 269 789 487 865 149 913 307 639 693 157 613 759\n",
       "[39] 773 119 843 455 501 561 521 971 833 611  97 785"
      ]
     },
     "metadata": {},
     "output_type": "display_data"
    }
   ],
   "source": [
    "# for\n",
    "odds <- c()\n",
    "for (i in random_numbers) {\n",
    "    if (i %% 2 == 1) {\n",
    "        odds <- c(odds, i)\n",
    "    }\n",
    "}\n",
    "odds"
   ]
  },
  {
   "cell_type": "code",
   "execution_count": 22,
   "metadata": {
    "slideshow": {
     "slide_type": "subslide"
    }
   },
   "outputs": [
    {
     "data": {
      "text/html": [
       "<ol class=list-inline>\n",
       "\t<li>17</li>\n",
       "\t<li>43</li>\n",
       "\t<li>31</li>\n",
       "\t<li>319</li>\n",
       "\t<li>401</li>\n",
       "\t<li>845</li>\n",
       "\t<li>753</li>\n",
       "\t<li>247</li>\n",
       "\t<li>471</li>\n",
       "\t<li>831</li>\n",
       "\t<li>33</li>\n",
       "\t<li>529</li>\n",
       "\t<li>839</li>\n",
       "\t<li>683</li>\n",
       "\t<li>365</li>\n",
       "\t<li>513</li>\n",
       "\t<li>629</li>\n",
       "\t<li>885</li>\n",
       "\t<li>527</li>\n",
       "\t<li>7</li>\n",
       "\t<li>101</li>\n",
       "\t<li>189</li>\n",
       "\t<li>595</li>\n",
       "\t<li>277</li>\n",
       "\t<li>719</li>\n",
       "\t<li>669</li>\n",
       "\t<li>269</li>\n",
       "\t<li>789</li>\n",
       "\t<li>487</li>\n",
       "\t<li>865</li>\n",
       "\t<li>149</li>\n",
       "\t<li>913</li>\n",
       "\t<li>307</li>\n",
       "\t<li>639</li>\n",
       "\t<li>693</li>\n",
       "\t<li>157</li>\n",
       "\t<li>613</li>\n",
       "\t<li>759</li>\n",
       "\t<li>773</li>\n",
       "\t<li>119</li>\n",
       "\t<li>843</li>\n",
       "\t<li>455</li>\n",
       "\t<li>501</li>\n",
       "\t<li>561</li>\n",
       "\t<li>521</li>\n",
       "\t<li>971</li>\n",
       "\t<li>833</li>\n",
       "\t<li>611</li>\n",
       "\t<li>97</li>\n",
       "\t<li>785</li>\n",
       "</ol>\n"
      ],
      "text/latex": [
       "\\begin{enumerate*}\n",
       "\\item 17\n",
       "\\item 43\n",
       "\\item 31\n",
       "\\item 319\n",
       "\\item 401\n",
       "\\item 845\n",
       "\\item 753\n",
       "\\item 247\n",
       "\\item 471\n",
       "\\item 831\n",
       "\\item 33\n",
       "\\item 529\n",
       "\\item 839\n",
       "\\item 683\n",
       "\\item 365\n",
       "\\item 513\n",
       "\\item 629\n",
       "\\item 885\n",
       "\\item 527\n",
       "\\item 7\n",
       "\\item 101\n",
       "\\item 189\n",
       "\\item 595\n",
       "\\item 277\n",
       "\\item 719\n",
       "\\item 669\n",
       "\\item 269\n",
       "\\item 789\n",
       "\\item 487\n",
       "\\item 865\n",
       "\\item 149\n",
       "\\item 913\n",
       "\\item 307\n",
       "\\item 639\n",
       "\\item 693\n",
       "\\item 157\n",
       "\\item 613\n",
       "\\item 759\n",
       "\\item 773\n",
       "\\item 119\n",
       "\\item 843\n",
       "\\item 455\n",
       "\\item 501\n",
       "\\item 561\n",
       "\\item 521\n",
       "\\item 971\n",
       "\\item 833\n",
       "\\item 611\n",
       "\\item 97\n",
       "\\item 785\n",
       "\\end{enumerate*}\n"
      ],
      "text/markdown": [
       "1. 17\n",
       "2. 43\n",
       "3. 31\n",
       "4. 319\n",
       "5. 401\n",
       "6. 845\n",
       "7. 753\n",
       "8. 247\n",
       "9. 471\n",
       "10. 831\n",
       "11. 33\n",
       "12. 529\n",
       "13. 839\n",
       "14. 683\n",
       "15. 365\n",
       "16. 513\n",
       "17. 629\n",
       "18. 885\n",
       "19. 527\n",
       "20. 7\n",
       "21. 101\n",
       "22. 189\n",
       "23. 595\n",
       "24. 277\n",
       "25. 719\n",
       "26. 669\n",
       "27. 269\n",
       "28. 789\n",
       "29. 487\n",
       "30. 865\n",
       "31. 149\n",
       "32. 913\n",
       "33. 307\n",
       "34. 639\n",
       "35. 693\n",
       "36. 157\n",
       "37. 613\n",
       "38. 759\n",
       "39. 773\n",
       "40. 119\n",
       "41. 843\n",
       "42. 455\n",
       "43. 501\n",
       "44. 561\n",
       "45. 521\n",
       "46. 971\n",
       "47. 833\n",
       "48. 611\n",
       "49. 97\n",
       "50. 785\n",
       "\n",
       "\n"
      ],
      "text/plain": [
       " [1]  17  43  31 319 401 845 753 247 471 831  33 529 839 683 365 513 629 885 527\n",
       "[20]   7 101 189 595 277 719 669 269 789 487 865 149 913 307 639 693 157 613 759\n",
       "[39] 773 119 843 455 501 561 521 971 833 611  97 785"
      ]
     },
     "metadata": {},
     "output_type": "display_data"
    }
   ],
   "source": [
    "# while\n",
    "odds <- c()\n",
    "i <- 1\n",
    "while (i <= length(random_numbers)) {\n",
    "    random_num <- random_numbers[i]\n",
    "    if (random_num %% 2 == 1) {\n",
    "        odds <- c(odds, random_num)\n",
    "    }\n",
    "    i <- i + 1\n",
    "}\n",
    "odds"
   ]
  },
  {
   "cell_type": "markdown",
   "metadata": {
    "slideshow": {
     "slide_type": "subslide"
    }
   },
   "source": [
    "## 確定重複運行次數：fizz-buzz\n",
    "\n",
    "- 印出介於 1 到 100 之間的整數\n",
    "- 如果遇到可以被 3 整除的，印出 `\"Fizz\"`\n",
    "- 如果遇到可以被 5 整除的，印出 `\"Buzz\"`\n",
    "- 如果遇到可以被 15 整除的，印出 `\"Fizz Buzz\"`\n",
    "- 其餘狀況印出整數本身"
   ]
  },
  {
   "cell_type": "code",
   "execution_count": 23,
   "metadata": {
    "slideshow": {
     "slide_type": "subslide"
    }
   },
   "outputs": [
    {
     "name": "stdout",
     "output_type": "stream",
     "text": [
      "[1] 1\n",
      "[1] 2\n",
      "[1] \"Fizz\"\n",
      "[1] 4\n",
      "[1] \"Buzz\"\n",
      "[1] \"Fizz\"\n",
      "[1] 7\n",
      "[1] 8\n",
      "[1] \"Fizz\"\n",
      "[1] \"Buzz\"\n",
      "[1] 11\n",
      "[1] \"Fizz\"\n",
      "[1] 13\n",
      "[1] 14\n",
      "[1] \"Fizz Buzz\"\n",
      "[1] 16\n",
      "[1] 17\n",
      "[1] \"Fizz\"\n",
      "[1] 19\n",
      "[1] \"Buzz\"\n",
      "[1] \"Fizz\"\n",
      "[1] 22\n",
      "[1] 23\n",
      "[1] \"Fizz\"\n",
      "[1] \"Buzz\"\n",
      "[1] 26\n",
      "[1] \"Fizz\"\n",
      "[1] 28\n",
      "[1] 29\n",
      "[1] \"Fizz Buzz\"\n",
      "[1] 31\n",
      "[1] 32\n",
      "[1] \"Fizz\"\n",
      "[1] 34\n",
      "[1] \"Buzz\"\n",
      "[1] \"Fizz\"\n",
      "[1] 37\n",
      "[1] 38\n",
      "[1] \"Fizz\"\n",
      "[1] \"Buzz\"\n",
      "[1] 41\n",
      "[1] \"Fizz\"\n",
      "[1] 43\n",
      "[1] 44\n",
      "[1] \"Fizz Buzz\"\n",
      "[1] 46\n",
      "[1] 47\n",
      "[1] \"Fizz\"\n",
      "[1] 49\n",
      "[1] \"Buzz\"\n",
      "[1] \"Fizz\"\n",
      "[1] 52\n",
      "[1] 53\n",
      "[1] \"Fizz\"\n",
      "[1] \"Buzz\"\n",
      "[1] 56\n",
      "[1] \"Fizz\"\n",
      "[1] 58\n",
      "[1] 59\n",
      "[1] \"Fizz Buzz\"\n",
      "[1] 61\n",
      "[1] 62\n",
      "[1] \"Fizz\"\n",
      "[1] 64\n",
      "[1] \"Buzz\"\n",
      "[1] \"Fizz\"\n",
      "[1] 67\n",
      "[1] 68\n",
      "[1] \"Fizz\"\n",
      "[1] \"Buzz\"\n",
      "[1] 71\n",
      "[1] \"Fizz\"\n",
      "[1] 73\n",
      "[1] 74\n",
      "[1] \"Fizz Buzz\"\n",
      "[1] 76\n",
      "[1] 77\n",
      "[1] \"Fizz\"\n",
      "[1] 79\n",
      "[1] \"Buzz\"\n",
      "[1] \"Fizz\"\n",
      "[1] 82\n",
      "[1] 83\n",
      "[1] \"Fizz\"\n",
      "[1] \"Buzz\"\n",
      "[1] 86\n",
      "[1] \"Fizz\"\n",
      "[1] 88\n",
      "[1] 89\n",
      "[1] \"Fizz Buzz\"\n",
      "[1] 91\n",
      "[1] 92\n",
      "[1] \"Fizz\"\n",
      "[1] 94\n",
      "[1] \"Buzz\"\n",
      "[1] \"Fizz\"\n",
      "[1] 97\n",
      "[1] 98\n",
      "[1] \"Fizz\"\n",
      "[1] \"Buzz\"\n"
     ]
    }
   ],
   "source": [
    "# for\n",
    "for (i in 1:100) {\n",
    "    if (i %% 15 == 0) {\n",
    "        ans <- \"Fizz Buzz\"\n",
    "    } else if (i %% 3 == 0) {\n",
    "        ans <- \"Fizz\"\n",
    "    } else if (i %% 5 == 0) {\n",
    "        ans <- \"Buzz\"\n",
    "    } else {\n",
    "        ans <- i\n",
    "    }\n",
    "    print(ans)\n",
    "}"
   ]
  },
  {
   "cell_type": "code",
   "execution_count": 24,
   "metadata": {
    "slideshow": {
     "slide_type": "subslide"
    }
   },
   "outputs": [
    {
     "name": "stdout",
     "output_type": "stream",
     "text": [
      "[1] 1\n",
      "[1] 2\n",
      "[1] \"Fizz\"\n",
      "[1] 4\n",
      "[1] \"Buzz\"\n",
      "[1] \"Fizz\"\n",
      "[1] 7\n",
      "[1] 8\n",
      "[1] \"Fizz\"\n",
      "[1] \"Buzz\"\n",
      "[1] 11\n",
      "[1] \"Fizz\"\n",
      "[1] 13\n",
      "[1] 14\n",
      "[1] \"Fizz Buzz\"\n",
      "[1] 16\n",
      "[1] 17\n",
      "[1] \"Fizz\"\n",
      "[1] 19\n",
      "[1] \"Buzz\"\n",
      "[1] \"Fizz\"\n",
      "[1] 22\n",
      "[1] 23\n",
      "[1] \"Fizz\"\n",
      "[1] \"Buzz\"\n",
      "[1] 26\n",
      "[1] \"Fizz\"\n",
      "[1] 28\n",
      "[1] 29\n",
      "[1] \"Fizz Buzz\"\n",
      "[1] 31\n",
      "[1] 32\n",
      "[1] \"Fizz\"\n",
      "[1] 34\n",
      "[1] \"Buzz\"\n",
      "[1] \"Fizz\"\n",
      "[1] 37\n",
      "[1] 38\n",
      "[1] \"Fizz\"\n",
      "[1] \"Buzz\"\n",
      "[1] 41\n",
      "[1] \"Fizz\"\n",
      "[1] 43\n",
      "[1] 44\n",
      "[1] \"Fizz Buzz\"\n",
      "[1] 46\n",
      "[1] 47\n",
      "[1] \"Fizz\"\n",
      "[1] 49\n",
      "[1] \"Buzz\"\n",
      "[1] \"Fizz\"\n",
      "[1] 52\n",
      "[1] 53\n",
      "[1] \"Fizz\"\n",
      "[1] \"Buzz\"\n",
      "[1] 56\n",
      "[1] \"Fizz\"\n",
      "[1] 58\n",
      "[1] 59\n",
      "[1] \"Fizz Buzz\"\n",
      "[1] 61\n",
      "[1] 62\n",
      "[1] \"Fizz\"\n",
      "[1] 64\n",
      "[1] \"Buzz\"\n",
      "[1] \"Fizz\"\n",
      "[1] 67\n",
      "[1] 68\n",
      "[1] \"Fizz\"\n",
      "[1] \"Buzz\"\n",
      "[1] 71\n",
      "[1] \"Fizz\"\n",
      "[1] 73\n",
      "[1] 74\n",
      "[1] \"Fizz Buzz\"\n",
      "[1] 76\n",
      "[1] 77\n",
      "[1] \"Fizz\"\n",
      "[1] 79\n",
      "[1] \"Buzz\"\n",
      "[1] \"Fizz\"\n",
      "[1] 82\n",
      "[1] 83\n",
      "[1] \"Fizz\"\n",
      "[1] \"Buzz\"\n",
      "[1] 86\n",
      "[1] \"Fizz\"\n",
      "[1] 88\n",
      "[1] 89\n",
      "[1] \"Fizz Buzz\"\n",
      "[1] 91\n",
      "[1] 92\n",
      "[1] \"Fizz\"\n",
      "[1] 94\n",
      "[1] \"Buzz\"\n",
      "[1] \"Fizz\"\n",
      "[1] 97\n",
      "[1] 98\n",
      "[1] \"Fizz\"\n",
      "[1] \"Buzz\"\n"
     ]
    }
   ],
   "source": [
    "# while\n",
    "i <- 1\n",
    "while (i <= 100) {\n",
    "    if (i %% 15 == 0) {\n",
    "        ans <- \"Fizz Buzz\"\n",
    "    } else if (i %% 3 == 0) {\n",
    "        ans <- \"Fizz\"\n",
    "    } else if (i %% 5 == 0) {\n",
    "        ans <- \"Buzz\"\n",
    "    } else {\n",
    "        ans <- i\n",
    "    }\n",
    "    print(ans)\n",
    "    i <- i + 1\n",
    "}"
   ]
  },
  {
   "cell_type": "markdown",
   "metadata": {
    "slideshow": {
     "slide_type": "subslide"
    }
   },
   "source": [
    "## 不確定重複運行次數：從介於 1 到 1000 的正整數中隨機抽樣，直到抽出 56 的倍數"
   ]
  },
  {
   "cell_type": "code",
   "execution_count": 25,
   "metadata": {},
   "outputs": [
    {
     "data": {
      "text/html": [
       "82"
      ],
      "text/latex": [
       "82"
      ],
      "text/markdown": [
       "82"
      ],
      "text/plain": [
       "[1] 82"
      ]
     },
     "metadata": {},
     "output_type": "display_data"
    },
    {
     "data": {
      "text/html": [
       "<ol class=list-inline>\n",
       "\t<li>290</li>\n",
       "\t<li>6</li>\n",
       "\t<li>933</li>\n",
       "\t<li>172</li>\n",
       "\t<li>922</li>\n",
       "\t<li>220</li>\n",
       "\t<li>737</li>\n",
       "\t<li>681</li>\n",
       "\t<li>656</li>\n",
       "\t<li>498</li>\n",
       "\t<li>645</li>\n",
       "\t<li>77</li>\n",
       "\t<li>838</li>\n",
       "\t<li>466</li>\n",
       "\t<li>651</li>\n",
       "\t<li>134</li>\n",
       "\t<li>225</li>\n",
       "\t<li>39</li>\n",
       "\t<li>227</li>\n",
       "\t<li>765</li>\n",
       "\t<li>135</li>\n",
       "\t<li>295</li>\n",
       "\t<li>35</li>\n",
       "\t<li>750</li>\n",
       "\t<li>403</li>\n",
       "\t<li>463</li>\n",
       "\t<li>585</li>\n",
       "\t<li>968</li>\n",
       "\t<li>858</li>\n",
       "\t<li>412</li>\n",
       "\t<li>711</li>\n",
       "\t<li>574</li>\n",
       "\t<li>251</li>\n",
       "\t<li>554</li>\n",
       "\t<li>200</li>\n",
       "\t<li>292</li>\n",
       "\t<li>604</li>\n",
       "\t<li>31</li>\n",
       "\t<li>34</li>\n",
       "\t<li>311</li>\n",
       "\t<li>902</li>\n",
       "\t<li>754</li>\n",
       "\t<li>47</li>\n",
       "\t<li>354</li>\n",
       "\t<li>339</li>\n",
       "\t<li>245</li>\n",
       "\t<li>619</li>\n",
       "\t<li>656</li>\n",
       "\t<li>634</li>\n",
       "\t<li>463</li>\n",
       "\t<li>609</li>\n",
       "\t<li>782</li>\n",
       "\t<li>807</li>\n",
       "\t<li>574</li>\n",
       "\t<li>111</li>\n",
       "\t<li>841</li>\n",
       "\t<li>426</li>\n",
       "\t<li>868</li>\n",
       "\t<li>630</li>\n",
       "\t<li>551</li>\n",
       "\t<li>582</li>\n",
       "\t<li>659</li>\n",
       "\t<li>881</li>\n",
       "\t<li>143</li>\n",
       "\t<li>436</li>\n",
       "\t<li>3</li>\n",
       "\t<li>40</li>\n",
       "\t<li>917</li>\n",
       "\t<li>735</li>\n",
       "\t<li>677</li>\n",
       "\t<li>78</li>\n",
       "\t<li>396</li>\n",
       "\t<li>787</li>\n",
       "\t<li>766</li>\n",
       "\t<li>801</li>\n",
       "\t<li>989</li>\n",
       "\t<li>890</li>\n",
       "\t<li>207</li>\n",
       "\t<li>688</li>\n",
       "\t<li>245</li>\n",
       "\t<li>717</li>\n",
       "\t<li>840</li>\n",
       "</ol>\n"
      ],
      "text/latex": [
       "\\begin{enumerate*}\n",
       "\\item 290\n",
       "\\item 6\n",
       "\\item 933\n",
       "\\item 172\n",
       "\\item 922\n",
       "\\item 220\n",
       "\\item 737\n",
       "\\item 681\n",
       "\\item 656\n",
       "\\item 498\n",
       "\\item 645\n",
       "\\item 77\n",
       "\\item 838\n",
       "\\item 466\n",
       "\\item 651\n",
       "\\item 134\n",
       "\\item 225\n",
       "\\item 39\n",
       "\\item 227\n",
       "\\item 765\n",
       "\\item 135\n",
       "\\item 295\n",
       "\\item 35\n",
       "\\item 750\n",
       "\\item 403\n",
       "\\item 463\n",
       "\\item 585\n",
       "\\item 968\n",
       "\\item 858\n",
       "\\item 412\n",
       "\\item 711\n",
       "\\item 574\n",
       "\\item 251\n",
       "\\item 554\n",
       "\\item 200\n",
       "\\item 292\n",
       "\\item 604\n",
       "\\item 31\n",
       "\\item 34\n",
       "\\item 311\n",
       "\\item 902\n",
       "\\item 754\n",
       "\\item 47\n",
       "\\item 354\n",
       "\\item 339\n",
       "\\item 245\n",
       "\\item 619\n",
       "\\item 656\n",
       "\\item 634\n",
       "\\item 463\n",
       "\\item 609\n",
       "\\item 782\n",
       "\\item 807\n",
       "\\item 574\n",
       "\\item 111\n",
       "\\item 841\n",
       "\\item 426\n",
       "\\item 868\n",
       "\\item 630\n",
       "\\item 551\n",
       "\\item 582\n",
       "\\item 659\n",
       "\\item 881\n",
       "\\item 143\n",
       "\\item 436\n",
       "\\item 3\n",
       "\\item 40\n",
       "\\item 917\n",
       "\\item 735\n",
       "\\item 677\n",
       "\\item 78\n",
       "\\item 396\n",
       "\\item 787\n",
       "\\item 766\n",
       "\\item 801\n",
       "\\item 989\n",
       "\\item 890\n",
       "\\item 207\n",
       "\\item 688\n",
       "\\item 245\n",
       "\\item 717\n",
       "\\item 840\n",
       "\\end{enumerate*}\n"
      ],
      "text/markdown": [
       "1. 290\n",
       "2. 6\n",
       "3. 933\n",
       "4. 172\n",
       "5. 922\n",
       "6. 220\n",
       "7. 737\n",
       "8. 681\n",
       "9. 656\n",
       "10. 498\n",
       "11. 645\n",
       "12. 77\n",
       "13. 838\n",
       "14. 466\n",
       "15. 651\n",
       "16. 134\n",
       "17. 225\n",
       "18. 39\n",
       "19. 227\n",
       "20. 765\n",
       "21. 135\n",
       "22. 295\n",
       "23. 35\n",
       "24. 750\n",
       "25. 403\n",
       "26. 463\n",
       "27. 585\n",
       "28. 968\n",
       "29. 858\n",
       "30. 412\n",
       "31. 711\n",
       "32. 574\n",
       "33. 251\n",
       "34. 554\n",
       "35. 200\n",
       "36. 292\n",
       "37. 604\n",
       "38. 31\n",
       "39. 34\n",
       "40. 311\n",
       "41. 902\n",
       "42. 754\n",
       "43. 47\n",
       "44. 354\n",
       "45. 339\n",
       "46. 245\n",
       "47. 619\n",
       "48. 656\n",
       "49. 634\n",
       "50. 463\n",
       "51. 609\n",
       "52. 782\n",
       "53. 807\n",
       "54. 574\n",
       "55. 111\n",
       "56. 841\n",
       "57. 426\n",
       "58. 868\n",
       "59. 630\n",
       "60. 551\n",
       "61. 582\n",
       "62. 659\n",
       "63. 881\n",
       "64. 143\n",
       "65. 436\n",
       "66. 3\n",
       "67. 40\n",
       "68. 917\n",
       "69. 735\n",
       "70. 677\n",
       "71. 78\n",
       "72. 396\n",
       "73. 787\n",
       "74. 766\n",
       "75. 801\n",
       "76. 989\n",
       "77. 890\n",
       "78. 207\n",
       "79. 688\n",
       "80. 245\n",
       "81. 717\n",
       "82. 840\n",
       "\n",
       "\n"
      ],
      "text/plain": [
       " [1] 290   6 933 172 922 220 737 681 656 498 645  77 838 466 651 134 225  39 227\n",
       "[20] 765 135 295  35 750 403 463 585 968 858 412 711 574 251 554 200 292 604  31\n",
       "[39]  34 311 902 754  47 354 339 245 619 656 634 463 609 782 807 574 111 841 426\n",
       "[58] 868 630 551 582 659 881 143 436   3  40 917 735 677  78 396 787 766 801 989\n",
       "[77] 890 207 688 245 717 840"
      ]
     },
     "metadata": {},
     "output_type": "display_data"
    }
   ],
   "source": [
    "sampled <- c()\n",
    "while (TRUE) {\n",
    "    sampled_num <- sample(1:1000, size = 1)\n",
    "    sampled <- c(sampled, sampled_num)\n",
    "    if (sampled_num %% 56 == 0) {\n",
    "        break\n",
    "    }\n",
    "}\n",
    "length(sampled)\n",
    "sampled"
   ]
  },
  {
   "cell_type": "markdown",
   "metadata": {
    "slideshow": {
     "slide_type": "subslide"
    }
   },
   "source": [
    "## 隨堂練習：投擲一個公正骰子，總共要投幾次才能得到三次 6 點？"
   ]
  },
  {
   "cell_type": "code",
   "execution_count": 26,
   "metadata": {},
   "outputs": [],
   "source": [
    "dice <- 1:6\n",
    "dice_rolls <- c()"
   ]
  },
  {
   "cell_type": "code",
   "execution_count": 27,
   "metadata": {
    "slideshow": {
     "slide_type": "skip"
    }
   },
   "outputs": [],
   "source": [
    "while (sum(dice_rolls == 6) < 3) {\n",
    "    roll_res <- sample(dice, size = 1)\n",
    "    dice_rolls <- c(dice_rolls, roll_res)\n",
    "}"
   ]
  },
  {
   "cell_type": "code",
   "execution_count": 28,
   "metadata": {
    "slideshow": {
     "slide_type": "fragment"
    }
   },
   "outputs": [
    {
     "data": {
      "text/html": [
       "17"
      ],
      "text/latex": [
       "17"
      ],
      "text/markdown": [
       "17"
      ],
      "text/plain": [
       "[1] 17"
      ]
     },
     "metadata": {},
     "output_type": "display_data"
    },
    {
     "data": {
      "text/html": [
       "<ol class=list-inline>\n",
       "\t<li>4</li>\n",
       "\t<li>3</li>\n",
       "\t<li>1</li>\n",
       "\t<li>6</li>\n",
       "\t<li>4</li>\n",
       "\t<li>5</li>\n",
       "\t<li>4</li>\n",
       "\t<li>5</li>\n",
       "\t<li>2</li>\n",
       "\t<li>1</li>\n",
       "\t<li>4</li>\n",
       "\t<li>3</li>\n",
       "\t<li>4</li>\n",
       "\t<li>2</li>\n",
       "\t<li>6</li>\n",
       "\t<li>1</li>\n",
       "\t<li>6</li>\n",
       "</ol>\n"
      ],
      "text/latex": [
       "\\begin{enumerate*}\n",
       "\\item 4\n",
       "\\item 3\n",
       "\\item 1\n",
       "\\item 6\n",
       "\\item 4\n",
       "\\item 5\n",
       "\\item 4\n",
       "\\item 5\n",
       "\\item 2\n",
       "\\item 1\n",
       "\\item 4\n",
       "\\item 3\n",
       "\\item 4\n",
       "\\item 2\n",
       "\\item 6\n",
       "\\item 1\n",
       "\\item 6\n",
       "\\end{enumerate*}\n"
      ],
      "text/markdown": [
       "1. 4\n",
       "2. 3\n",
       "3. 1\n",
       "4. 6\n",
       "5. 4\n",
       "6. 5\n",
       "7. 4\n",
       "8. 5\n",
       "9. 2\n",
       "10. 1\n",
       "11. 4\n",
       "12. 3\n",
       "13. 4\n",
       "14. 2\n",
       "15. 6\n",
       "16. 1\n",
       "17. 6\n",
       "\n",
       "\n"
      ],
      "text/plain": [
       " [1] 4 3 1 6 4 5 4 5 2 1 4 3 4 2 6 1 6"
      ]
     },
     "metadata": {},
     "output_type": "display_data"
    }
   ],
   "source": [
    "length(dice_rolls)\n",
    "dice_rolls"
   ]
  },
  {
   "cell_type": "markdown",
   "metadata": {
    "slideshow": {
     "slide_type": "subslide"
    }
   },
   "source": [
    "## 隨堂練習：投擲一個公正骰子，總共要投幾次才能「連續」得到三次 6 點？"
   ]
  },
  {
   "cell_type": "code",
   "execution_count": 29,
   "metadata": {},
   "outputs": [],
   "source": [
    "dice <- 1:6\n",
    "dice_rolls <- c()"
   ]
  },
  {
   "cell_type": "code",
   "execution_count": 30,
   "metadata": {
    "slideshow": {
     "slide_type": "skip"
    }
   },
   "outputs": [],
   "source": [
    "while (TRUE) {\n",
    "    roll_res <- sample(dice, size = 1)\n",
    "    dice_rolls <- c(dice_rolls, roll_res)\n",
    "    if (length(dice_rolls) < 3) {\n",
    "        next\n",
    "    } else if (sum(dice_rolls[(length(dice_rolls)-2):(length(dice_rolls))]) == 18) {\n",
    "        break\n",
    "    }\n",
    "}"
   ]
  },
  {
   "cell_type": "code",
   "execution_count": 31,
   "metadata": {
    "slideshow": {
     "slide_type": "fragment"
    }
   },
   "outputs": [
    {
     "data": {
      "text/html": [
       "104"
      ],
      "text/latex": [
       "104"
      ],
      "text/markdown": [
       "104"
      ],
      "text/plain": [
       "[1] 104"
      ]
     },
     "metadata": {},
     "output_type": "display_data"
    },
    {
     "data": {
      "text/html": [
       "<ol class=list-inline>\n",
       "\t<li>6</li>\n",
       "\t<li>6</li>\n",
       "\t<li>6</li>\n",
       "</ol>\n"
      ],
      "text/latex": [
       "\\begin{enumerate*}\n",
       "\\item 6\n",
       "\\item 6\n",
       "\\item 6\n",
       "\\end{enumerate*}\n"
      ],
      "text/markdown": [
       "1. 6\n",
       "2. 6\n",
       "3. 6\n",
       "\n",
       "\n"
      ],
      "text/plain": [
       "[1] 6 6 6"
      ]
     },
     "metadata": {},
     "output_type": "display_data"
    }
   ],
   "source": [
    "length(dice_rolls)\n",
    "dice_rolls[(length(dice_rolls) - 2):length(dice_rolls)]"
   ]
  },
  {
   "cell_type": "markdown",
   "metadata": {
    "slideshow": {
     "slide_type": "subslide"
    }
   },
   "source": [
    "## 隨堂練習：製作一個撲克牌向量"
   ]
  },
  {
   "cell_type": "code",
   "execution_count": 32,
   "metadata": {
    "slideshow": {
     "slide_type": "-"
    }
   },
   "outputs": [],
   "source": [
    "suits <- c(\"Spade\", \"Heart\", \"Diamond\", \"Club\")\n",
    "ranks <- c(\"Ace\", 2:10, \"Jack\", \"Queen\", \"King\")\n",
    "poker_card <- c()"
   ]
  },
  {
   "cell_type": "code",
   "execution_count": 33,
   "metadata": {
    "slideshow": {
     "slide_type": "skip"
    }
   },
   "outputs": [],
   "source": [
    "for (s in suits) {\n",
    "    for (r in ranks) {\n",
    "        card <- sprintf(\"%s %s\", s, r)\n",
    "        poker_card <- c(poker_card, card)\n",
    "    }\n",
    "}"
   ]
  },
  {
   "cell_type": "code",
   "execution_count": 34,
   "metadata": {
    "slideshow": {
     "slide_type": "fragment"
    }
   },
   "outputs": [
    {
     "data": {
      "text/html": [
       "<ol class=list-inline>\n",
       "\t<li>'Spade Ace'</li>\n",
       "\t<li>'Spade 2'</li>\n",
       "\t<li>'Spade 3'</li>\n",
       "\t<li>'Spade 4'</li>\n",
       "\t<li>'Spade 5'</li>\n",
       "\t<li>'Spade 6'</li>\n",
       "\t<li>'Spade 7'</li>\n",
       "\t<li>'Spade 8'</li>\n",
       "\t<li>'Spade 9'</li>\n",
       "\t<li>'Spade 10'</li>\n",
       "\t<li>'Spade Jack'</li>\n",
       "\t<li>'Spade Queen'</li>\n",
       "\t<li>'Spade King'</li>\n",
       "\t<li>'Heart Ace'</li>\n",
       "\t<li>'Heart 2'</li>\n",
       "\t<li>'Heart 3'</li>\n",
       "\t<li>'Heart 4'</li>\n",
       "\t<li>'Heart 5'</li>\n",
       "\t<li>'Heart 6'</li>\n",
       "\t<li>'Heart 7'</li>\n",
       "\t<li>'Heart 8'</li>\n",
       "\t<li>'Heart 9'</li>\n",
       "\t<li>'Heart 10'</li>\n",
       "\t<li>'Heart Jack'</li>\n",
       "\t<li>'Heart Queen'</li>\n",
       "\t<li>'Heart King'</li>\n",
       "\t<li>'Diamond Ace'</li>\n",
       "\t<li>'Diamond 2'</li>\n",
       "\t<li>'Diamond 3'</li>\n",
       "\t<li>'Diamond 4'</li>\n",
       "\t<li>'Diamond 5'</li>\n",
       "\t<li>'Diamond 6'</li>\n",
       "\t<li>'Diamond 7'</li>\n",
       "\t<li>'Diamond 8'</li>\n",
       "\t<li>'Diamond 9'</li>\n",
       "\t<li>'Diamond 10'</li>\n",
       "\t<li>'Diamond Jack'</li>\n",
       "\t<li>'Diamond Queen'</li>\n",
       "\t<li>'Diamond King'</li>\n",
       "\t<li>'Club Ace'</li>\n",
       "\t<li>'Club 2'</li>\n",
       "\t<li>'Club 3'</li>\n",
       "\t<li>'Club 4'</li>\n",
       "\t<li>'Club 5'</li>\n",
       "\t<li>'Club 6'</li>\n",
       "\t<li>'Club 7'</li>\n",
       "\t<li>'Club 8'</li>\n",
       "\t<li>'Club 9'</li>\n",
       "\t<li>'Club 10'</li>\n",
       "\t<li>'Club Jack'</li>\n",
       "\t<li>'Club Queen'</li>\n",
       "\t<li>'Club King'</li>\n",
       "</ol>\n"
      ],
      "text/latex": [
       "\\begin{enumerate*}\n",
       "\\item 'Spade Ace'\n",
       "\\item 'Spade 2'\n",
       "\\item 'Spade 3'\n",
       "\\item 'Spade 4'\n",
       "\\item 'Spade 5'\n",
       "\\item 'Spade 6'\n",
       "\\item 'Spade 7'\n",
       "\\item 'Spade 8'\n",
       "\\item 'Spade 9'\n",
       "\\item 'Spade 10'\n",
       "\\item 'Spade Jack'\n",
       "\\item 'Spade Queen'\n",
       "\\item 'Spade King'\n",
       "\\item 'Heart Ace'\n",
       "\\item 'Heart 2'\n",
       "\\item 'Heart 3'\n",
       "\\item 'Heart 4'\n",
       "\\item 'Heart 5'\n",
       "\\item 'Heart 6'\n",
       "\\item 'Heart 7'\n",
       "\\item 'Heart 8'\n",
       "\\item 'Heart 9'\n",
       "\\item 'Heart 10'\n",
       "\\item 'Heart Jack'\n",
       "\\item 'Heart Queen'\n",
       "\\item 'Heart King'\n",
       "\\item 'Diamond Ace'\n",
       "\\item 'Diamond 2'\n",
       "\\item 'Diamond 3'\n",
       "\\item 'Diamond 4'\n",
       "\\item 'Diamond 5'\n",
       "\\item 'Diamond 6'\n",
       "\\item 'Diamond 7'\n",
       "\\item 'Diamond 8'\n",
       "\\item 'Diamond 9'\n",
       "\\item 'Diamond 10'\n",
       "\\item 'Diamond Jack'\n",
       "\\item 'Diamond Queen'\n",
       "\\item 'Diamond King'\n",
       "\\item 'Club Ace'\n",
       "\\item 'Club 2'\n",
       "\\item 'Club 3'\n",
       "\\item 'Club 4'\n",
       "\\item 'Club 5'\n",
       "\\item 'Club 6'\n",
       "\\item 'Club 7'\n",
       "\\item 'Club 8'\n",
       "\\item 'Club 9'\n",
       "\\item 'Club 10'\n",
       "\\item 'Club Jack'\n",
       "\\item 'Club Queen'\n",
       "\\item 'Club King'\n",
       "\\end{enumerate*}\n"
      ],
      "text/markdown": [
       "1. 'Spade Ace'\n",
       "2. 'Spade 2'\n",
       "3. 'Spade 3'\n",
       "4. 'Spade 4'\n",
       "5. 'Spade 5'\n",
       "6. 'Spade 6'\n",
       "7. 'Spade 7'\n",
       "8. 'Spade 8'\n",
       "9. 'Spade 9'\n",
       "10. 'Spade 10'\n",
       "11. 'Spade Jack'\n",
       "12. 'Spade Queen'\n",
       "13. 'Spade King'\n",
       "14. 'Heart Ace'\n",
       "15. 'Heart 2'\n",
       "16. 'Heart 3'\n",
       "17. 'Heart 4'\n",
       "18. 'Heart 5'\n",
       "19. 'Heart 6'\n",
       "20. 'Heart 7'\n",
       "21. 'Heart 8'\n",
       "22. 'Heart 9'\n",
       "23. 'Heart 10'\n",
       "24. 'Heart Jack'\n",
       "25. 'Heart Queen'\n",
       "26. 'Heart King'\n",
       "27. 'Diamond Ace'\n",
       "28. 'Diamond 2'\n",
       "29. 'Diamond 3'\n",
       "30. 'Diamond 4'\n",
       "31. 'Diamond 5'\n",
       "32. 'Diamond 6'\n",
       "33. 'Diamond 7'\n",
       "34. 'Diamond 8'\n",
       "35. 'Diamond 9'\n",
       "36. 'Diamond 10'\n",
       "37. 'Diamond Jack'\n",
       "38. 'Diamond Queen'\n",
       "39. 'Diamond King'\n",
       "40. 'Club Ace'\n",
       "41. 'Club 2'\n",
       "42. 'Club 3'\n",
       "43. 'Club 4'\n",
       "44. 'Club 5'\n",
       "45. 'Club 6'\n",
       "46. 'Club 7'\n",
       "47. 'Club 8'\n",
       "48. 'Club 9'\n",
       "49. 'Club 10'\n",
       "50. 'Club Jack'\n",
       "51. 'Club Queen'\n",
       "52. 'Club King'\n",
       "\n",
       "\n"
      ],
      "text/plain": [
       " [1] \"Spade Ace\"     \"Spade 2\"       \"Spade 3\"       \"Spade 4\"      \n",
       " [5] \"Spade 5\"       \"Spade 6\"       \"Spade 7\"       \"Spade 8\"      \n",
       " [9] \"Spade 9\"       \"Spade 10\"      \"Spade Jack\"    \"Spade Queen\"  \n",
       "[13] \"Spade King\"    \"Heart Ace\"     \"Heart 2\"       \"Heart 3\"      \n",
       "[17] \"Heart 4\"       \"Heart 5\"       \"Heart 6\"       \"Heart 7\"      \n",
       "[21] \"Heart 8\"       \"Heart 9\"       \"Heart 10\"      \"Heart Jack\"   \n",
       "[25] \"Heart Queen\"   \"Heart King\"    \"Diamond Ace\"   \"Diamond 2\"    \n",
       "[29] \"Diamond 3\"     \"Diamond 4\"     \"Diamond 5\"     \"Diamond 6\"    \n",
       "[33] \"Diamond 7\"     \"Diamond 8\"     \"Diamond 9\"     \"Diamond 10\"   \n",
       "[37] \"Diamond Jack\"  \"Diamond Queen\" \"Diamond King\"  \"Club Ace\"     \n",
       "[41] \"Club 2\"        \"Club 3\"        \"Club 4\"        \"Club 5\"       \n",
       "[45] \"Club 6\"        \"Club 7\"        \"Club 8\"        \"Club 9\"       \n",
       "[49] \"Club 10\"       \"Club Jack\"     \"Club Queen\"    \"Club King\"    "
      ]
     },
     "metadata": {},
     "output_type": "display_data"
    }
   ],
   "source": [
    "poker_card"
   ]
  }
 ],
 "metadata": {
  "celltoolbar": "Slideshow",
  "kernelspec": {
   "display_name": "R",
   "language": "R",
   "name": "ir"
  },
  "language_info": {
   "codemirror_mode": "r",
   "file_extension": ".r",
   "mimetype": "text/x-r-source",
   "name": "R",
   "pygments_lexer": "r",
   "version": "3.5.2"
  }
 },
 "nbformat": 4,
 "nbformat_minor": 2
}
